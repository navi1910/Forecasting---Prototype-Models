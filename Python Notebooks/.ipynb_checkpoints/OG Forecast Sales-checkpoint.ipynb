{
 "cells": [
  {
   "cell_type": "code",
   "execution_count": 1,
   "id": "d61d5293",
   "metadata": {
    "scrolled": false
   },
   "outputs": [
    {
     "name": "stderr",
     "output_type": "stream",
     "text": [
      "C:\\Users\\FQ467WA\\AppData\\Local\\anaconda3\\Lib\\site-packages\\paramiko\\transport.py:219: CryptographyDeprecationWarning:\n",
      "\n",
      "Blowfish has been deprecated\n",
      "\n"
     ]
    }
   ],
   "source": [
    "import pandas as pd\n",
    "import numpy as np\n",
    "import seaborn as sns\n",
    "import matplotlib.pyplot as plt\n",
    "\n",
    "import plotly as py\n",
    "import plotly.offline as iplot\n",
    "import cufflinks as cf\n",
    "\n",
    "from warnings import filterwarnings\n",
    "filterwarnings('ignore')"
   ]
  },
  {
   "cell_type": "code",
   "execution_count": 2,
   "id": "230b68d6",
   "metadata": {},
   "outputs": [
    {
     "data": {
      "text/html": [
       "        <script type=\"text/javascript\">\n",
       "        window.PlotlyConfig = {MathJaxConfig: 'local'};\n",
       "        if (window.MathJax && window.MathJax.Hub && window.MathJax.Hub.Config) {window.MathJax.Hub.Config({SVG: {font: \"STIX-Web\"}});}\n",
       "        if (typeof require !== 'undefined') {\n",
       "        require.undef(\"plotly\");\n",
       "        requirejs.config({\n",
       "            paths: {\n",
       "                'plotly': ['https://cdn.plot.ly/plotly-2.12.1.min']\n",
       "            }\n",
       "        });\n",
       "        require(['plotly'], function(Plotly) {\n",
       "            window._Plotly = Plotly;\n",
       "        });\n",
       "        }\n",
       "        </script>\n",
       "        "
      ]
     },
     "metadata": {},
     "output_type": "display_data"
    },
    {
     "data": {
      "text/html": [
       "        <script type=\"text/javascript\">\n",
       "        window.PlotlyConfig = {MathJaxConfig: 'local'};\n",
       "        if (window.MathJax && window.MathJax.Hub && window.MathJax.Hub.Config) {window.MathJax.Hub.Config({SVG: {font: \"STIX-Web\"}});}\n",
       "        if (typeof require !== 'undefined') {\n",
       "        require.undef(\"plotly\");\n",
       "        requirejs.config({\n",
       "            paths: {\n",
       "                'plotly': ['https://cdn.plot.ly/plotly-2.12.1.min']\n",
       "            }\n",
       "        });\n",
       "        require(['plotly'], function(Plotly) {\n",
       "            window._Plotly = Plotly;\n",
       "        });\n",
       "        }\n",
       "        </script>\n",
       "        "
      ]
     },
     "metadata": {},
     "output_type": "display_data"
    }
   ],
   "source": [
    "py.offline.init_notebook_mode(connected=True)\n",
    "\n",
    "cf.go_offline()"
   ]
  },
  {
   "cell_type": "code",
   "execution_count": 3,
   "id": "f0c5c22f",
   "metadata": {},
   "outputs": [],
   "source": [
    "sales = pd.read_csv(\"Sales Data.txt\", parse_dates=[0])"
   ]
  },
  {
   "cell_type": "code",
   "execution_count": 4,
   "id": "ac98a0b5",
   "metadata": {},
   "outputs": [],
   "source": [
    "df = sales.copy()"
   ]
  },
  {
   "cell_type": "code",
   "execution_count": 5,
   "id": "530ba532",
   "metadata": {},
   "outputs": [
    {
     "data": {
      "text/html": [
       "<div>\n",
       "<style scoped>\n",
       "    .dataframe tbody tr th:only-of-type {\n",
       "        vertical-align: middle;\n",
       "    }\n",
       "\n",
       "    .dataframe tbody tr th {\n",
       "        vertical-align: top;\n",
       "    }\n",
       "\n",
       "    .dataframe thead th {\n",
       "        text-align: right;\n",
       "    }\n",
       "</style>\n",
       "<table border=\"1\" class=\"dataframe\">\n",
       "  <thead>\n",
       "    <tr style=\"text-align: right;\">\n",
       "      <th></th>\n",
       "      <th>Date</th>\n",
       "      <th>ProductCode</th>\n",
       "      <th>Plant</th>\n",
       "      <th>PlantCode</th>\n",
       "      <th>Sales_Channel</th>\n",
       "      <th>Sales_Qty</th>\n",
       "      <th>Sales_Value</th>\n",
       "    </tr>\n",
       "  </thead>\n",
       "  <tbody>\n",
       "    <tr>\n",
       "      <th>0</th>\n",
       "      <td>2021-07-10</td>\n",
       "      <td>7002030</td>\n",
       "      <td>7011</td>\n",
       "      <td>Hyderabad - CFA</td>\n",
       "      <td>CP-GT</td>\n",
       "      <td>-3</td>\n",
       "      <td>-392.19</td>\n",
       "    </tr>\n",
       "    <tr>\n",
       "      <th>1</th>\n",
       "      <td>2021-07-10</td>\n",
       "      <td>7002031</td>\n",
       "      <td>7001</td>\n",
       "      <td>Ahmedabad CFA</td>\n",
       "      <td>CP-GT</td>\n",
       "      <td>-17</td>\n",
       "      <td>-3971.90</td>\n",
       "    </tr>\n",
       "    <tr>\n",
       "      <th>2</th>\n",
       "      <td>2021-07-10</td>\n",
       "      <td>7002031</td>\n",
       "      <td>7012</td>\n",
       "      <td>Indore CFA</td>\n",
       "      <td>CP-GT</td>\n",
       "      <td>10</td>\n",
       "      <td>2179.89</td>\n",
       "    </tr>\n",
       "    <tr>\n",
       "      <th>3</th>\n",
       "      <td>2021-07-10</td>\n",
       "      <td>7002031</td>\n",
       "      <td>7017</td>\n",
       "      <td>Madurai CFA</td>\n",
       "      <td>CP-GT</td>\n",
       "      <td>2</td>\n",
       "      <td>39.60</td>\n",
       "    </tr>\n",
       "    <tr>\n",
       "      <th>4</th>\n",
       "      <td>2021-07-10</td>\n",
       "      <td>7002032</td>\n",
       "      <td>7006</td>\n",
       "      <td>Chennai - CFA</td>\n",
       "      <td>CP-GT</td>\n",
       "      <td>-5</td>\n",
       "      <td>-312.87</td>\n",
       "    </tr>\n",
       "    <tr>\n",
       "      <th>5</th>\n",
       "      <td>2021-07-10</td>\n",
       "      <td>7002033</td>\n",
       "      <td>7011</td>\n",
       "      <td>Hyderabad - CFA</td>\n",
       "      <td>CP-GT</td>\n",
       "      <td>-1</td>\n",
       "      <td>-116.83</td>\n",
       "    </tr>\n",
       "    <tr>\n",
       "      <th>6</th>\n",
       "      <td>2021-07-10</td>\n",
       "      <td>7002048</td>\n",
       "      <td>7007</td>\n",
       "      <td>Delhi CFA</td>\n",
       "      <td>CP-GT</td>\n",
       "      <td>-1</td>\n",
       "      <td>-489.31</td>\n",
       "    </tr>\n",
       "    <tr>\n",
       "      <th>7</th>\n",
       "      <td>2021-07-10</td>\n",
       "      <td>7002050</td>\n",
       "      <td>7025</td>\n",
       "      <td>Zirakpur CFA</td>\n",
       "      <td>CP-GT</td>\n",
       "      <td>-1</td>\n",
       "      <td>-526.20</td>\n",
       "    </tr>\n",
       "    <tr>\n",
       "      <th>8</th>\n",
       "      <td>2021-07-10</td>\n",
       "      <td>7002108</td>\n",
       "      <td>7025</td>\n",
       "      <td>Zirakpur CFA</td>\n",
       "      <td>CP-GT</td>\n",
       "      <td>-1</td>\n",
       "      <td>-59.47</td>\n",
       "    </tr>\n",
       "    <tr>\n",
       "      <th>9</th>\n",
       "      <td>2021-07-10</td>\n",
       "      <td>7002126</td>\n",
       "      <td>7006</td>\n",
       "      <td>Chennai - CFA</td>\n",
       "      <td>OTX-PHARMA</td>\n",
       "      <td>-10</td>\n",
       "      <td>-408.04</td>\n",
       "    </tr>\n",
       "    <tr>\n",
       "      <th>10</th>\n",
       "      <td>2021-07-10</td>\n",
       "      <td>7002126</td>\n",
       "      <td>7014</td>\n",
       "      <td>Kolkata CFA (CP)</td>\n",
       "      <td>OTX-TRADE</td>\n",
       "      <td>72</td>\n",
       "      <td>5024.88</td>\n",
       "    </tr>\n",
       "    <tr>\n",
       "      <th>11</th>\n",
       "      <td>2021-07-10</td>\n",
       "      <td>7002126</td>\n",
       "      <td>7025</td>\n",
       "      <td>Zirakpur CFA</td>\n",
       "      <td>OTX-PHARMA</td>\n",
       "      <td>-1</td>\n",
       "      <td>-68.26</td>\n",
       "    </tr>\n",
       "    <tr>\n",
       "      <th>12</th>\n",
       "      <td>2021-07-10</td>\n",
       "      <td>7002127</td>\n",
       "      <td>7025</td>\n",
       "      <td>Zirakpur CFA</td>\n",
       "      <td>RETAIL</td>\n",
       "      <td>-10</td>\n",
       "      <td>-951.80</td>\n",
       "    </tr>\n",
       "    <tr>\n",
       "      <th>13</th>\n",
       "      <td>2021-07-10</td>\n",
       "      <td>7002146</td>\n",
       "      <td>7013</td>\n",
       "      <td>Jaipur CFA</td>\n",
       "      <td>CP-GT</td>\n",
       "      <td>270</td>\n",
       "      <td>25968.94</td>\n",
       "    </tr>\n",
       "    <tr>\n",
       "      <th>14</th>\n",
       "      <td>2021-07-10</td>\n",
       "      <td>7002146</td>\n",
       "      <td>7014</td>\n",
       "      <td>Kolkata CFA (CP)</td>\n",
       "      <td>CP-GT</td>\n",
       "      <td>90</td>\n",
       "      <td>8748.90</td>\n",
       "    </tr>\n",
       "    <tr>\n",
       "      <th>15</th>\n",
       "      <td>2021-07-10</td>\n",
       "      <td>7002146</td>\n",
       "      <td>7016</td>\n",
       "      <td>Lucknow CFA</td>\n",
       "      <td>CP-GT</td>\n",
       "      <td>30</td>\n",
       "      <td>2916.35</td>\n",
       "    </tr>\n",
       "    <tr>\n",
       "      <th>16</th>\n",
       "      <td>2021-07-10</td>\n",
       "      <td>7002146</td>\n",
       "      <td>7017</td>\n",
       "      <td>Madurai CFA</td>\n",
       "      <td>CP-GT</td>\n",
       "      <td>240</td>\n",
       "      <td>23330.30</td>\n",
       "    </tr>\n",
       "    <tr>\n",
       "      <th>17</th>\n",
       "      <td>2021-07-10</td>\n",
       "      <td>7002146</td>\n",
       "      <td>7021</td>\n",
       "      <td>Pune CFA (CP)</td>\n",
       "      <td>RETAIL</td>\n",
       "      <td>27</td>\n",
       "      <td>2533.15</td>\n",
       "    </tr>\n",
       "    <tr>\n",
       "      <th>18</th>\n",
       "      <td>2021-07-10</td>\n",
       "      <td>7002146</td>\n",
       "      <td>7030</td>\n",
       "      <td>Vijayawada CFA</td>\n",
       "      <td>CP-NMT</td>\n",
       "      <td>0</td>\n",
       "      <td>0.00</td>\n",
       "    </tr>\n",
       "    <tr>\n",
       "      <th>19</th>\n",
       "      <td>2021-07-10</td>\n",
       "      <td>7002146</td>\n",
       "      <td>7030</td>\n",
       "      <td>Vijayawada CFA</td>\n",
       "      <td>RETAIL</td>\n",
       "      <td>30</td>\n",
       "      <td>2814.61</td>\n",
       "    </tr>\n",
       "    <tr>\n",
       "      <th>20</th>\n",
       "      <td>2021-07-10</td>\n",
       "      <td>7002147</td>\n",
       "      <td>7029</td>\n",
       "      <td>Bangalore New CFA</td>\n",
       "      <td>CP-GT</td>\n",
       "      <td>48</td>\n",
       "      <td>4484.16</td>\n",
       "    </tr>\n",
       "    <tr>\n",
       "      <th>21</th>\n",
       "      <td>2021-07-10</td>\n",
       "      <td>7002208</td>\n",
       "      <td>7023</td>\n",
       "      <td>Raipur CFA</td>\n",
       "      <td>CP-GT</td>\n",
       "      <td>-17</td>\n",
       "      <td>0.00</td>\n",
       "    </tr>\n",
       "    <tr>\n",
       "      <th>22</th>\n",
       "      <td>2021-07-10</td>\n",
       "      <td>7002239</td>\n",
       "      <td>7004</td>\n",
       "      <td>Bhiwandi.CFA (PH+AH)</td>\n",
       "      <td>ZANDRA</td>\n",
       "      <td>84</td>\n",
       "      <td>11518.94</td>\n",
       "    </tr>\n",
       "    <tr>\n",
       "      <th>23</th>\n",
       "      <td>2021-07-10</td>\n",
       "      <td>7002239</td>\n",
       "      <td>7012</td>\n",
       "      <td>Indore CFA</td>\n",
       "      <td>ZANDRA</td>\n",
       "      <td>56</td>\n",
       "      <td>7679.29</td>\n",
       "    </tr>\n",
       "    <tr>\n",
       "      <th>24</th>\n",
       "      <td>2021-07-10</td>\n",
       "      <td>7002239</td>\n",
       "      <td>7016</td>\n",
       "      <td>Lucknow CFA</td>\n",
       "      <td>ZANDRA</td>\n",
       "      <td>28</td>\n",
       "      <td>3839.63</td>\n",
       "    </tr>\n",
       "    <tr>\n",
       "      <th>25</th>\n",
       "      <td>2021-07-10</td>\n",
       "      <td>7002239</td>\n",
       "      <td>7022</td>\n",
       "      <td>Pune CFA (PH+AH)</td>\n",
       "      <td>ZANDRA</td>\n",
       "      <td>27</td>\n",
       "      <td>3716.78</td>\n",
       "    </tr>\n",
       "    <tr>\n",
       "      <th>26</th>\n",
       "      <td>2021-07-10</td>\n",
       "      <td>7002239</td>\n",
       "      <td>7026</td>\n",
       "      <td>Jabalpur CFA</td>\n",
       "      <td>ZANDRA</td>\n",
       "      <td>56</td>\n",
       "      <td>7679.22</td>\n",
       "    </tr>\n",
       "    <tr>\n",
       "      <th>27</th>\n",
       "      <td>2021-07-10</td>\n",
       "      <td>7002239</td>\n",
       "      <td>7030</td>\n",
       "      <td>Vijayawada CFA</td>\n",
       "      <td>RETAIL</td>\n",
       "      <td>4</td>\n",
       "      <td>578.55</td>\n",
       "    </tr>\n",
       "    <tr>\n",
       "      <th>28</th>\n",
       "      <td>2021-07-10</td>\n",
       "      <td>7002240</td>\n",
       "      <td>7017</td>\n",
       "      <td>Madurai CFA</td>\n",
       "      <td>OTX-TRADE</td>\n",
       "      <td>-13</td>\n",
       "      <td>0.00</td>\n",
       "    </tr>\n",
       "    <tr>\n",
       "      <th>29</th>\n",
       "      <td>2021-07-10</td>\n",
       "      <td>7002247</td>\n",
       "      <td>7029</td>\n",
       "      <td>Bangalore New CFA</td>\n",
       "      <td>CP-ECOM</td>\n",
       "      <td>36</td>\n",
       "      <td>11810.15</td>\n",
       "    </tr>\n",
       "  </tbody>\n",
       "</table>\n",
       "</div>"
      ],
      "text/plain": [
       "         Date  ProductCode  Plant             PlantCode Sales_Channel  \\\n",
       "0  2021-07-10      7002030   7011       Hyderabad - CFA         CP-GT   \n",
       "1  2021-07-10      7002031   7001         Ahmedabad CFA         CP-GT   \n",
       "2  2021-07-10      7002031   7012            Indore CFA         CP-GT   \n",
       "3  2021-07-10      7002031   7017           Madurai CFA         CP-GT   \n",
       "4  2021-07-10      7002032   7006         Chennai - CFA         CP-GT   \n",
       "5  2021-07-10      7002033   7011       Hyderabad - CFA         CP-GT   \n",
       "6  2021-07-10      7002048   7007             Delhi CFA         CP-GT   \n",
       "7  2021-07-10      7002050   7025          Zirakpur CFA         CP-GT   \n",
       "8  2021-07-10      7002108   7025          Zirakpur CFA         CP-GT   \n",
       "9  2021-07-10      7002126   7006         Chennai - CFA    OTX-PHARMA   \n",
       "10 2021-07-10      7002126   7014      Kolkata CFA (CP)     OTX-TRADE   \n",
       "11 2021-07-10      7002126   7025          Zirakpur CFA    OTX-PHARMA   \n",
       "12 2021-07-10      7002127   7025          Zirakpur CFA        RETAIL   \n",
       "13 2021-07-10      7002146   7013            Jaipur CFA         CP-GT   \n",
       "14 2021-07-10      7002146   7014      Kolkata CFA (CP)         CP-GT   \n",
       "15 2021-07-10      7002146   7016           Lucknow CFA         CP-GT   \n",
       "16 2021-07-10      7002146   7017           Madurai CFA         CP-GT   \n",
       "17 2021-07-10      7002146   7021         Pune CFA (CP)        RETAIL   \n",
       "18 2021-07-10      7002146   7030        Vijayawada CFA        CP-NMT   \n",
       "19 2021-07-10      7002146   7030        Vijayawada CFA        RETAIL   \n",
       "20 2021-07-10      7002147   7029     Bangalore New CFA         CP-GT   \n",
       "21 2021-07-10      7002208   7023            Raipur CFA         CP-GT   \n",
       "22 2021-07-10      7002239   7004  Bhiwandi.CFA (PH+AH)        ZANDRA   \n",
       "23 2021-07-10      7002239   7012            Indore CFA        ZANDRA   \n",
       "24 2021-07-10      7002239   7016           Lucknow CFA        ZANDRA   \n",
       "25 2021-07-10      7002239   7022      Pune CFA (PH+AH)        ZANDRA   \n",
       "26 2021-07-10      7002239   7026          Jabalpur CFA        ZANDRA   \n",
       "27 2021-07-10      7002239   7030        Vijayawada CFA        RETAIL   \n",
       "28 2021-07-10      7002240   7017           Madurai CFA     OTX-TRADE   \n",
       "29 2021-07-10      7002247   7029     Bangalore New CFA       CP-ECOM   \n",
       "\n",
       "    Sales_Qty  Sales_Value  \n",
       "0          -3      -392.19  \n",
       "1         -17     -3971.90  \n",
       "2          10      2179.89  \n",
       "3           2        39.60  \n",
       "4          -5      -312.87  \n",
       "5          -1      -116.83  \n",
       "6          -1      -489.31  \n",
       "7          -1      -526.20  \n",
       "8          -1       -59.47  \n",
       "9         -10      -408.04  \n",
       "10         72      5024.88  \n",
       "11         -1       -68.26  \n",
       "12        -10      -951.80  \n",
       "13        270     25968.94  \n",
       "14         90      8748.90  \n",
       "15         30      2916.35  \n",
       "16        240     23330.30  \n",
       "17         27      2533.15  \n",
       "18          0         0.00  \n",
       "19         30      2814.61  \n",
       "20         48      4484.16  \n",
       "21        -17         0.00  \n",
       "22         84     11518.94  \n",
       "23         56      7679.29  \n",
       "24         28      3839.63  \n",
       "25         27      3716.78  \n",
       "26         56      7679.22  \n",
       "27          4       578.55  \n",
       "28        -13         0.00  \n",
       "29         36     11810.15  "
      ]
     },
     "execution_count": 5,
     "metadata": {},
     "output_type": "execute_result"
    }
   ],
   "source": [
    "df.head(30)"
   ]
  },
  {
   "cell_type": "code",
   "execution_count": 6,
   "id": "76c12013",
   "metadata": {
    "scrolled": false
   },
   "outputs": [
    {
     "data": {
      "text/plain": [
       "1977"
      ]
     },
     "execution_count": 6,
     "metadata": {},
     "output_type": "execute_result"
    }
   ],
   "source": [
    "df['ProductCode'].nunique()"
   ]
  },
  {
   "cell_type": "markdown",
   "id": "b602e4c2",
   "metadata": {},
   "source": [
    "* There may be 1977 different products."
   ]
  },
  {
   "cell_type": "code",
   "execution_count": 8,
   "id": "0276b982",
   "metadata": {},
   "outputs": [
    {
     "data": {
      "text/plain": [
       "7000158    37263\n",
       "7000043    35298\n",
       "7000157    34412\n",
       "7000022    34118\n",
       "7003399    34094\n",
       "           ...  \n",
       "7001473        1\n",
       "7001650        1\n",
       "7000947        1\n",
       "7001134        1\n",
       "7001246        1\n",
       "Name: ProductCode, Length: 1977, dtype: int64"
      ]
     },
     "execution_count": 8,
     "metadata": {},
     "output_type": "execute_result"
    }
   ],
   "source": [
    "df['ProductCode'].value_counts()"
   ]
  },
  {
   "cell_type": "code",
   "execution_count": 9,
   "id": "d5b679ec",
   "metadata": {},
   "outputs": [
    {
     "data": {
      "text/plain": [
       "60"
      ]
     },
     "execution_count": 9,
     "metadata": {},
     "output_type": "execute_result"
    }
   ],
   "source": [
    "df['Plant'].nunique()"
   ]
  },
  {
   "cell_type": "code",
   "execution_count": 46,
   "id": "7b438f3f",
   "metadata": {},
   "outputs": [
    {
     "data": {
      "text/plain": [
       "Bangalore New CFA               420454\n",
       "Delhi CFA                       401805\n",
       "Zirakpur CFA                    387585\n",
       "Madurai CFA                     337835\n",
       "Lucknow CFA                     312960\n",
       "Chennai - CFA                   307616\n",
       "Jaipur CFA                      294701\n",
       "Ghaziabad CFA                   294165\n",
       "Ahmedabad CFA                   290799\n",
       "Hyderabad - CFA                 280891\n",
       "Bhiwandi.CFA (PH+AH)            273260\n",
       "Pune CFA (PH+AH)                267697\n",
       "Vijayawada CFA                  257514\n",
       "Kolkata CFA (PH+AH)             256687\n",
       "Ernakulam CFA                   247889\n",
       "Patna CFA                       241124\n",
       "Indore CFA                      213898\n",
       "Guwahati CFA                    199338\n",
       "Nagpur CFA                      160134\n",
       "Raipur CFA                      154401\n",
       "Bhubaneswar CFA                 149114\n",
       "Hubli CFA                       143881\n",
       "Dehradun CFA                    143650\n",
       "Ranchi CFA                      135279\n",
       "Jabalpur CFA                    111154\n",
       "Siliguri CFA                    108027\n",
       "Bhiwandi.CFA (CP)                81230\n",
       "Pune CFA (CP)                    61972\n",
       "Kolkata CFA (CP)                 60009\n",
       "GOA CFA                          52938\n",
       "KARNATAKA OWN STORE              26237\n",
       "MAHARASHTRA OWN STORE            25128\n",
       "TAMIL NADU OWN STORE             24808\n",
       "DELHI OWN STORE                  24484\n",
       "HARYANA OWN STORE                23020\n",
       "PUNJAB OWN STORE                 22896\n",
       "WEST BENGAL OWN STORE            21912\n",
       "GUJARAT OWN STORE                21379\n",
       "UTTAR PRADESH OWN STORE          21281\n",
       "MADHYA PRADESH OWN STORE         19873\n",
       "KERALA OWN STORE                 19727\n",
       "RAJASTHAN OWN STORE              17858\n",
       "TELANGANA OWN STORE              17367\n",
       "ANDHRA PRADESH OWN STORE         16600\n",
       "Bangalore CFA                    16070\n",
       "CHANDIGARH  OWN STORE            16059\n",
       "HIMACHAL PRADESH  OWN STORE      14536\n",
       "UTTARAKHAND OWN STORE            14097\n",
       "HDC PONDICHERRY                  11675\n",
       "GOA OWN STORE                     5205\n",
       "Bangalore Transfer Warehouse      4471\n",
       "ASSAM OWN STORE                   2499\n",
       "ODISHA OWN STORE                  2115\n",
       "Ghaziabad-Transfer Warehouse      1445\n",
       "Hyderabad-Transfer Warehouse      1413\n",
       "Jharkhand Own Store               1295\n",
       "Indore-Transfer Warehouse          696\n",
       "BIHAR OWN STORE                    555\n",
       "Ambala-Transfer Warehouse          141\n",
       "Kolkata-Transfer Warehouse           3\n",
       "Name: PlantCode, dtype: int64"
      ]
     },
     "execution_count": 46,
     "metadata": {},
     "output_type": "execute_result"
    }
   ],
   "source": [
    "df['PlantCode'].value_counts()"
   ]
  },
  {
   "cell_type": "code",
   "execution_count": 10,
   "id": "dc948075",
   "metadata": {
    "scrolled": false
   },
   "outputs": [
    {
     "data": {
      "application/vnd.plotly.v1+json": {
       "config": {
        "linkText": "Export to plot.ly",
        "plotlyServerURL": "https://plot.ly",
        "showLink": true
       },
       "data": [
        {
         "marker": {
          "color": "rgba(255, 153, 51, 0.6)",
          "line": {
           "color": "rgba(255, 153, 51, 1.0)",
           "width": 1
          }
         },
         "name": "PlantCode",
         "orientation": "v",
         "text": "",
         "type": "bar",
         "x": [
          "Bangalore New CFA",
          "Delhi CFA",
          "Zirakpur CFA",
          "Madurai CFA",
          "Lucknow CFA",
          "Chennai - CFA",
          "Jaipur CFA",
          "Ghaziabad CFA",
          "Ahmedabad CFA",
          "Hyderabad - CFA",
          "Bhiwandi.CFA (PH+AH)",
          "Pune CFA (PH+AH)",
          "Vijayawada CFA",
          "Kolkata CFA (PH+AH)",
          "Ernakulam CFA",
          "Patna CFA",
          "Indore CFA",
          "Guwahati CFA",
          "Nagpur CFA",
          "Raipur CFA",
          "Bhubaneswar CFA",
          "Hubli CFA",
          "Dehradun CFA",
          "Ranchi CFA",
          "Jabalpur CFA",
          "Siliguri CFA",
          "Bhiwandi.CFA (CP)",
          "Pune CFA (CP)",
          "Kolkata CFA (CP)",
          "GOA CFA",
          "KARNATAKA OWN STORE",
          "MAHARASHTRA OWN STORE",
          "TAMIL NADU OWN STORE",
          "DELHI OWN STORE",
          "HARYANA OWN STORE",
          "PUNJAB OWN STORE",
          "WEST BENGAL OWN STORE",
          "GUJARAT OWN STORE",
          "UTTAR PRADESH OWN STORE",
          "MADHYA PRADESH OWN STORE",
          "KERALA OWN STORE",
          "RAJASTHAN OWN STORE",
          "TELANGANA OWN STORE",
          "ANDHRA PRADESH OWN STORE",
          "Bangalore CFA",
          "CHANDIGARH  OWN STORE",
          "HIMACHAL PRADESH  OWN STORE",
          "UTTARAKHAND OWN STORE",
          "HDC PONDICHERRY",
          "GOA OWN STORE",
          "Bangalore Transfer Warehouse",
          "ASSAM OWN STORE",
          "ODISHA OWN STORE",
          "Ghaziabad-Transfer Warehouse",
          "Hyderabad-Transfer Warehouse",
          "Jharkhand Own Store",
          "Indore-Transfer Warehouse",
          "BIHAR OWN STORE",
          "Ambala-Transfer Warehouse",
          "Kolkata-Transfer Warehouse"
         ],
         "y": [
          420454,
          401805,
          387585,
          337835,
          312960,
          307616,
          294701,
          294165,
          290799,
          280891,
          273260,
          267697,
          257514,
          256687,
          247889,
          241124,
          213898,
          199338,
          160134,
          154401,
          149114,
          143881,
          143650,
          135279,
          111154,
          108027,
          81230,
          61972,
          60009,
          52938,
          26237,
          25128,
          24808,
          24484,
          23020,
          22896,
          21912,
          21379,
          21281,
          19873,
          19727,
          17858,
          17367,
          16600,
          16070,
          16059,
          14536,
          14097,
          11675,
          5205,
          4471,
          2499,
          2115,
          1445,
          1413,
          1295,
          696,
          555,
          141,
          3
         ]
        }
       ],
       "layout": {
        "legend": {
         "bgcolor": "#F5F6F9",
         "font": {
          "color": "#4D5663"
         }
        },
        "paper_bgcolor": "#F5F6F9",
        "plot_bgcolor": "#F5F6F9",
        "template": {
         "data": {
          "bar": [
           {
            "error_x": {
             "color": "#2a3f5f"
            },
            "error_y": {
             "color": "#2a3f5f"
            },
            "marker": {
             "line": {
              "color": "#E5ECF6",
              "width": 0.5
             },
             "pattern": {
              "fillmode": "overlay",
              "size": 10,
              "solidity": 0.2
             }
            },
            "type": "bar"
           }
          ],
          "barpolar": [
           {
            "marker": {
             "line": {
              "color": "#E5ECF6",
              "width": 0.5
             },
             "pattern": {
              "fillmode": "overlay",
              "size": 10,
              "solidity": 0.2
             }
            },
            "type": "barpolar"
           }
          ],
          "carpet": [
           {
            "aaxis": {
             "endlinecolor": "#2a3f5f",
             "gridcolor": "white",
             "linecolor": "white",
             "minorgridcolor": "white",
             "startlinecolor": "#2a3f5f"
            },
            "baxis": {
             "endlinecolor": "#2a3f5f",
             "gridcolor": "white",
             "linecolor": "white",
             "minorgridcolor": "white",
             "startlinecolor": "#2a3f5f"
            },
            "type": "carpet"
           }
          ],
          "choropleth": [
           {
            "colorbar": {
             "outlinewidth": 0,
             "ticks": ""
            },
            "type": "choropleth"
           }
          ],
          "contour": [
           {
            "colorbar": {
             "outlinewidth": 0,
             "ticks": ""
            },
            "colorscale": [
             [
              0,
              "#0d0887"
             ],
             [
              0.1111111111111111,
              "#46039f"
             ],
             [
              0.2222222222222222,
              "#7201a8"
             ],
             [
              0.3333333333333333,
              "#9c179e"
             ],
             [
              0.4444444444444444,
              "#bd3786"
             ],
             [
              0.5555555555555556,
              "#d8576b"
             ],
             [
              0.6666666666666666,
              "#ed7953"
             ],
             [
              0.7777777777777778,
              "#fb9f3a"
             ],
             [
              0.8888888888888888,
              "#fdca26"
             ],
             [
              1,
              "#f0f921"
             ]
            ],
            "type": "contour"
           }
          ],
          "contourcarpet": [
           {
            "colorbar": {
             "outlinewidth": 0,
             "ticks": ""
            },
            "type": "contourcarpet"
           }
          ],
          "heatmap": [
           {
            "colorbar": {
             "outlinewidth": 0,
             "ticks": ""
            },
            "colorscale": [
             [
              0,
              "#0d0887"
             ],
             [
              0.1111111111111111,
              "#46039f"
             ],
             [
              0.2222222222222222,
              "#7201a8"
             ],
             [
              0.3333333333333333,
              "#9c179e"
             ],
             [
              0.4444444444444444,
              "#bd3786"
             ],
             [
              0.5555555555555556,
              "#d8576b"
             ],
             [
              0.6666666666666666,
              "#ed7953"
             ],
             [
              0.7777777777777778,
              "#fb9f3a"
             ],
             [
              0.8888888888888888,
              "#fdca26"
             ],
             [
              1,
              "#f0f921"
             ]
            ],
            "type": "heatmap"
           }
          ],
          "heatmapgl": [
           {
            "colorbar": {
             "outlinewidth": 0,
             "ticks": ""
            },
            "colorscale": [
             [
              0,
              "#0d0887"
             ],
             [
              0.1111111111111111,
              "#46039f"
             ],
             [
              0.2222222222222222,
              "#7201a8"
             ],
             [
              0.3333333333333333,
              "#9c179e"
             ],
             [
              0.4444444444444444,
              "#bd3786"
             ],
             [
              0.5555555555555556,
              "#d8576b"
             ],
             [
              0.6666666666666666,
              "#ed7953"
             ],
             [
              0.7777777777777778,
              "#fb9f3a"
             ],
             [
              0.8888888888888888,
              "#fdca26"
             ],
             [
              1,
              "#f0f921"
             ]
            ],
            "type": "heatmapgl"
           }
          ],
          "histogram": [
           {
            "marker": {
             "pattern": {
              "fillmode": "overlay",
              "size": 10,
              "solidity": 0.2
             }
            },
            "type": "histogram"
           }
          ],
          "histogram2d": [
           {
            "colorbar": {
             "outlinewidth": 0,
             "ticks": ""
            },
            "colorscale": [
             [
              0,
              "#0d0887"
             ],
             [
              0.1111111111111111,
              "#46039f"
             ],
             [
              0.2222222222222222,
              "#7201a8"
             ],
             [
              0.3333333333333333,
              "#9c179e"
             ],
             [
              0.4444444444444444,
              "#bd3786"
             ],
             [
              0.5555555555555556,
              "#d8576b"
             ],
             [
              0.6666666666666666,
              "#ed7953"
             ],
             [
              0.7777777777777778,
              "#fb9f3a"
             ],
             [
              0.8888888888888888,
              "#fdca26"
             ],
             [
              1,
              "#f0f921"
             ]
            ],
            "type": "histogram2d"
           }
          ],
          "histogram2dcontour": [
           {
            "colorbar": {
             "outlinewidth": 0,
             "ticks": ""
            },
            "colorscale": [
             [
              0,
              "#0d0887"
             ],
             [
              0.1111111111111111,
              "#46039f"
             ],
             [
              0.2222222222222222,
              "#7201a8"
             ],
             [
              0.3333333333333333,
              "#9c179e"
             ],
             [
              0.4444444444444444,
              "#bd3786"
             ],
             [
              0.5555555555555556,
              "#d8576b"
             ],
             [
              0.6666666666666666,
              "#ed7953"
             ],
             [
              0.7777777777777778,
              "#fb9f3a"
             ],
             [
              0.8888888888888888,
              "#fdca26"
             ],
             [
              1,
              "#f0f921"
             ]
            ],
            "type": "histogram2dcontour"
           }
          ],
          "mesh3d": [
           {
            "colorbar": {
             "outlinewidth": 0,
             "ticks": ""
            },
            "type": "mesh3d"
           }
          ],
          "parcoords": [
           {
            "line": {
             "colorbar": {
              "outlinewidth": 0,
              "ticks": ""
             }
            },
            "type": "parcoords"
           }
          ],
          "pie": [
           {
            "automargin": true,
            "type": "pie"
           }
          ],
          "scatter": [
           {
            "fillpattern": {
             "fillmode": "overlay",
             "size": 10,
             "solidity": 0.2
            },
            "type": "scatter"
           }
          ],
          "scatter3d": [
           {
            "line": {
             "colorbar": {
              "outlinewidth": 0,
              "ticks": ""
             }
            },
            "marker": {
             "colorbar": {
              "outlinewidth": 0,
              "ticks": ""
             }
            },
            "type": "scatter3d"
           }
          ],
          "scattercarpet": [
           {
            "marker": {
             "colorbar": {
              "outlinewidth": 0,
              "ticks": ""
             }
            },
            "type": "scattercarpet"
           }
          ],
          "scattergeo": [
           {
            "marker": {
             "colorbar": {
              "outlinewidth": 0,
              "ticks": ""
             }
            },
            "type": "scattergeo"
           }
          ],
          "scattergl": [
           {
            "marker": {
             "colorbar": {
              "outlinewidth": 0,
              "ticks": ""
             }
            },
            "type": "scattergl"
           }
          ],
          "scattermapbox": [
           {
            "marker": {
             "colorbar": {
              "outlinewidth": 0,
              "ticks": ""
             }
            },
            "type": "scattermapbox"
           }
          ],
          "scatterpolar": [
           {
            "marker": {
             "colorbar": {
              "outlinewidth": 0,
              "ticks": ""
             }
            },
            "type": "scatterpolar"
           }
          ],
          "scatterpolargl": [
           {
            "marker": {
             "colorbar": {
              "outlinewidth": 0,
              "ticks": ""
             }
            },
            "type": "scatterpolargl"
           }
          ],
          "scatterternary": [
           {
            "marker": {
             "colorbar": {
              "outlinewidth": 0,
              "ticks": ""
             }
            },
            "type": "scatterternary"
           }
          ],
          "surface": [
           {
            "colorbar": {
             "outlinewidth": 0,
             "ticks": ""
            },
            "colorscale": [
             [
              0,
              "#0d0887"
             ],
             [
              0.1111111111111111,
              "#46039f"
             ],
             [
              0.2222222222222222,
              "#7201a8"
             ],
             [
              0.3333333333333333,
              "#9c179e"
             ],
             [
              0.4444444444444444,
              "#bd3786"
             ],
             [
              0.5555555555555556,
              "#d8576b"
             ],
             [
              0.6666666666666666,
              "#ed7953"
             ],
             [
              0.7777777777777778,
              "#fb9f3a"
             ],
             [
              0.8888888888888888,
              "#fdca26"
             ],
             [
              1,
              "#f0f921"
             ]
            ],
            "type": "surface"
           }
          ],
          "table": [
           {
            "cells": {
             "fill": {
              "color": "#EBF0F8"
             },
             "line": {
              "color": "white"
             }
            },
            "header": {
             "fill": {
              "color": "#C8D4E3"
             },
             "line": {
              "color": "white"
             }
            },
            "type": "table"
           }
          ]
         },
         "layout": {
          "annotationdefaults": {
           "arrowcolor": "#2a3f5f",
           "arrowhead": 0,
           "arrowwidth": 1
          },
          "autotypenumbers": "strict",
          "coloraxis": {
           "colorbar": {
            "outlinewidth": 0,
            "ticks": ""
           }
          },
          "colorscale": {
           "diverging": [
            [
             0,
             "#8e0152"
            ],
            [
             0.1,
             "#c51b7d"
            ],
            [
             0.2,
             "#de77ae"
            ],
            [
             0.3,
             "#f1b6da"
            ],
            [
             0.4,
             "#fde0ef"
            ],
            [
             0.5,
             "#f7f7f7"
            ],
            [
             0.6,
             "#e6f5d0"
            ],
            [
             0.7,
             "#b8e186"
            ],
            [
             0.8,
             "#7fbc41"
            ],
            [
             0.9,
             "#4d9221"
            ],
            [
             1,
             "#276419"
            ]
           ],
           "sequential": [
            [
             0,
             "#0d0887"
            ],
            [
             0.1111111111111111,
             "#46039f"
            ],
            [
             0.2222222222222222,
             "#7201a8"
            ],
            [
             0.3333333333333333,
             "#9c179e"
            ],
            [
             0.4444444444444444,
             "#bd3786"
            ],
            [
             0.5555555555555556,
             "#d8576b"
            ],
            [
             0.6666666666666666,
             "#ed7953"
            ],
            [
             0.7777777777777778,
             "#fb9f3a"
            ],
            [
             0.8888888888888888,
             "#fdca26"
            ],
            [
             1,
             "#f0f921"
            ]
           ],
           "sequentialminus": [
            [
             0,
             "#0d0887"
            ],
            [
             0.1111111111111111,
             "#46039f"
            ],
            [
             0.2222222222222222,
             "#7201a8"
            ],
            [
             0.3333333333333333,
             "#9c179e"
            ],
            [
             0.4444444444444444,
             "#bd3786"
            ],
            [
             0.5555555555555556,
             "#d8576b"
            ],
            [
             0.6666666666666666,
             "#ed7953"
            ],
            [
             0.7777777777777778,
             "#fb9f3a"
            ],
            [
             0.8888888888888888,
             "#fdca26"
            ],
            [
             1,
             "#f0f921"
            ]
           ]
          },
          "colorway": [
           "#636efa",
           "#EF553B",
           "#00cc96",
           "#ab63fa",
           "#FFA15A",
           "#19d3f3",
           "#FF6692",
           "#B6E880",
           "#FF97FF",
           "#FECB52"
          ],
          "font": {
           "color": "#2a3f5f"
          },
          "geo": {
           "bgcolor": "white",
           "lakecolor": "white",
           "landcolor": "#E5ECF6",
           "showlakes": true,
           "showland": true,
           "subunitcolor": "white"
          },
          "hoverlabel": {
           "align": "left"
          },
          "hovermode": "closest",
          "mapbox": {
           "style": "light"
          },
          "paper_bgcolor": "white",
          "plot_bgcolor": "#E5ECF6",
          "polar": {
           "angularaxis": {
            "gridcolor": "white",
            "linecolor": "white",
            "ticks": ""
           },
           "bgcolor": "#E5ECF6",
           "radialaxis": {
            "gridcolor": "white",
            "linecolor": "white",
            "ticks": ""
           }
          },
          "scene": {
           "xaxis": {
            "backgroundcolor": "#E5ECF6",
            "gridcolor": "white",
            "gridwidth": 2,
            "linecolor": "white",
            "showbackground": true,
            "ticks": "",
            "zerolinecolor": "white"
           },
           "yaxis": {
            "backgroundcolor": "#E5ECF6",
            "gridcolor": "white",
            "gridwidth": 2,
            "linecolor": "white",
            "showbackground": true,
            "ticks": "",
            "zerolinecolor": "white"
           },
           "zaxis": {
            "backgroundcolor": "#E5ECF6",
            "gridcolor": "white",
            "gridwidth": 2,
            "linecolor": "white",
            "showbackground": true,
            "ticks": "",
            "zerolinecolor": "white"
           }
          },
          "shapedefaults": {
           "line": {
            "color": "#2a3f5f"
           }
          },
          "ternary": {
           "aaxis": {
            "gridcolor": "white",
            "linecolor": "white",
            "ticks": ""
           },
           "baxis": {
            "gridcolor": "white",
            "linecolor": "white",
            "ticks": ""
           },
           "bgcolor": "#E5ECF6",
           "caxis": {
            "gridcolor": "white",
            "linecolor": "white",
            "ticks": ""
           }
          },
          "title": {
           "x": 0.05
          },
          "xaxis": {
           "automargin": true,
           "gridcolor": "white",
           "linecolor": "white",
           "ticks": "",
           "title": {
            "standoff": 15
           },
           "zerolinecolor": "white",
           "zerolinewidth": 2
          },
          "yaxis": {
           "automargin": true,
           "gridcolor": "white",
           "linecolor": "white",
           "ticks": "",
           "title": {
            "standoff": 15
           },
           "zerolinecolor": "white",
           "zerolinewidth": 2
          }
         }
        },
        "title": {
         "font": {
          "color": "#4D5663"
         }
        },
        "xaxis": {
         "gridcolor": "#E1E5ED",
         "showgrid": true,
         "tickfont": {
          "color": "#4D5663"
         },
         "title": {
          "font": {
           "color": "#4D5663"
          },
          "text": ""
         },
         "zerolinecolor": "#E1E5ED"
        },
        "yaxis": {
         "gridcolor": "#E1E5ED",
         "showgrid": true,
         "tickfont": {
          "color": "#4D5663"
         },
         "title": {
          "font": {
           "color": "#4D5663"
          },
          "text": ""
         },
         "zerolinecolor": "#E1E5ED"
        }
       }
      },
      "text/html": [
       "<div>                            <div id=\"49e12fe8-2bbc-44f4-8388-20f5e0994fb4\" class=\"plotly-graph-div\" style=\"height:525px; width:100%;\"></div>            <script type=\"text/javascript\">                require([\"plotly\"], function(Plotly) {                    window.PLOTLYENV=window.PLOTLYENV || {};\n",
       "                    window.PLOTLYENV.BASE_URL='https://plot.ly';                                    if (document.getElementById(\"49e12fe8-2bbc-44f4-8388-20f5e0994fb4\")) {                    Plotly.newPlot(                        \"49e12fe8-2bbc-44f4-8388-20f5e0994fb4\",                        [{\"marker\":{\"color\":\"rgba(255, 153, 51, 0.6)\",\"line\":{\"color\":\"rgba(255, 153, 51, 1.0)\",\"width\":1}},\"name\":\"PlantCode\",\"orientation\":\"v\",\"text\":\"\",\"x\":[\"Bangalore New CFA\",\"Delhi CFA\",\"Zirakpur CFA\",\"Madurai CFA\",\"Lucknow CFA\",\"Chennai - CFA\",\"Jaipur CFA\",\"Ghaziabad CFA\",\"Ahmedabad CFA\",\"Hyderabad - CFA\",\"Bhiwandi.CFA (PH+AH)\",\"Pune CFA (PH+AH)\",\"Vijayawada CFA\",\"Kolkata CFA (PH+AH)\",\"Ernakulam CFA\",\"Patna CFA\",\"Indore CFA\",\"Guwahati CFA\",\"Nagpur CFA\",\"Raipur CFA\",\"Bhubaneswar CFA\",\"Hubli CFA\",\"Dehradun CFA\",\"Ranchi CFA\",\"Jabalpur CFA\",\"Siliguri CFA\",\"Bhiwandi.CFA (CP)\",\"Pune CFA (CP)\",\"Kolkata CFA (CP)\",\"GOA CFA\",\"KARNATAKA OWN STORE\",\"MAHARASHTRA OWN STORE\",\"TAMIL NADU OWN STORE\",\"DELHI OWN STORE\",\"HARYANA OWN STORE\",\"PUNJAB OWN STORE\",\"WEST BENGAL OWN STORE\",\"GUJARAT OWN STORE\",\"UTTAR PRADESH OWN STORE\",\"MADHYA PRADESH OWN STORE\",\"KERALA OWN STORE\",\"RAJASTHAN OWN STORE\",\"TELANGANA OWN STORE\",\"ANDHRA PRADESH OWN STORE\",\"Bangalore CFA\",\"CHANDIGARH  OWN STORE\",\"HIMACHAL PRADESH  OWN STORE\",\"UTTARAKHAND OWN STORE\",\"HDC PONDICHERRY\",\"GOA OWN STORE\",\"Bangalore Transfer Warehouse\",\"ASSAM OWN STORE\",\"ODISHA OWN STORE\",\"Ghaziabad-Transfer Warehouse\",\"Hyderabad-Transfer Warehouse\",\"Jharkhand Own Store\",\"Indore-Transfer Warehouse\",\"BIHAR OWN STORE\",\"Ambala-Transfer Warehouse\",\"Kolkata-Transfer Warehouse\"],\"y\":[420454,401805,387585,337835,312960,307616,294701,294165,290799,280891,273260,267697,257514,256687,247889,241124,213898,199338,160134,154401,149114,143881,143650,135279,111154,108027,81230,61972,60009,52938,26237,25128,24808,24484,23020,22896,21912,21379,21281,19873,19727,17858,17367,16600,16070,16059,14536,14097,11675,5205,4471,2499,2115,1445,1413,1295,696,555,141,3],\"type\":\"bar\"}],                        {\"legend\":{\"bgcolor\":\"#F5F6F9\",\"font\":{\"color\":\"#4D5663\"}},\"paper_bgcolor\":\"#F5F6F9\",\"plot_bgcolor\":\"#F5F6F9\",\"template\":{\"data\":{\"barpolar\":[{\"marker\":{\"line\":{\"color\":\"#E5ECF6\",\"width\":0.5},\"pattern\":{\"fillmode\":\"overlay\",\"size\":10,\"solidity\":0.2}},\"type\":\"barpolar\"}],\"bar\":[{\"error_x\":{\"color\":\"#2a3f5f\"},\"error_y\":{\"color\":\"#2a3f5f\"},\"marker\":{\"line\":{\"color\":\"#E5ECF6\",\"width\":0.5},\"pattern\":{\"fillmode\":\"overlay\",\"size\":10,\"solidity\":0.2}},\"type\":\"bar\"}],\"carpet\":[{\"aaxis\":{\"endlinecolor\":\"#2a3f5f\",\"gridcolor\":\"white\",\"linecolor\":\"white\",\"minorgridcolor\":\"white\",\"startlinecolor\":\"#2a3f5f\"},\"baxis\":{\"endlinecolor\":\"#2a3f5f\",\"gridcolor\":\"white\",\"linecolor\":\"white\",\"minorgridcolor\":\"white\",\"startlinecolor\":\"#2a3f5f\"},\"type\":\"carpet\"}],\"choropleth\":[{\"colorbar\":{\"outlinewidth\":0,\"ticks\":\"\"},\"type\":\"choropleth\"}],\"contourcarpet\":[{\"colorbar\":{\"outlinewidth\":0,\"ticks\":\"\"},\"type\":\"contourcarpet\"}],\"contour\":[{\"colorbar\":{\"outlinewidth\":0,\"ticks\":\"\"},\"colorscale\":[[0.0,\"#0d0887\"],[0.1111111111111111,\"#46039f\"],[0.2222222222222222,\"#7201a8\"],[0.3333333333333333,\"#9c179e\"],[0.4444444444444444,\"#bd3786\"],[0.5555555555555556,\"#d8576b\"],[0.6666666666666666,\"#ed7953\"],[0.7777777777777778,\"#fb9f3a\"],[0.8888888888888888,\"#fdca26\"],[1.0,\"#f0f921\"]],\"type\":\"contour\"}],\"heatmapgl\":[{\"colorbar\":{\"outlinewidth\":0,\"ticks\":\"\"},\"colorscale\":[[0.0,\"#0d0887\"],[0.1111111111111111,\"#46039f\"],[0.2222222222222222,\"#7201a8\"],[0.3333333333333333,\"#9c179e\"],[0.4444444444444444,\"#bd3786\"],[0.5555555555555556,\"#d8576b\"],[0.6666666666666666,\"#ed7953\"],[0.7777777777777778,\"#fb9f3a\"],[0.8888888888888888,\"#fdca26\"],[1.0,\"#f0f921\"]],\"type\":\"heatmapgl\"}],\"heatmap\":[{\"colorbar\":{\"outlinewidth\":0,\"ticks\":\"\"},\"colorscale\":[[0.0,\"#0d0887\"],[0.1111111111111111,\"#46039f\"],[0.2222222222222222,\"#7201a8\"],[0.3333333333333333,\"#9c179e\"],[0.4444444444444444,\"#bd3786\"],[0.5555555555555556,\"#d8576b\"],[0.6666666666666666,\"#ed7953\"],[0.7777777777777778,\"#fb9f3a\"],[0.8888888888888888,\"#fdca26\"],[1.0,\"#f0f921\"]],\"type\":\"heatmap\"}],\"histogram2dcontour\":[{\"colorbar\":{\"outlinewidth\":0,\"ticks\":\"\"},\"colorscale\":[[0.0,\"#0d0887\"],[0.1111111111111111,\"#46039f\"],[0.2222222222222222,\"#7201a8\"],[0.3333333333333333,\"#9c179e\"],[0.4444444444444444,\"#bd3786\"],[0.5555555555555556,\"#d8576b\"],[0.6666666666666666,\"#ed7953\"],[0.7777777777777778,\"#fb9f3a\"],[0.8888888888888888,\"#fdca26\"],[1.0,\"#f0f921\"]],\"type\":\"histogram2dcontour\"}],\"histogram2d\":[{\"colorbar\":{\"outlinewidth\":0,\"ticks\":\"\"},\"colorscale\":[[0.0,\"#0d0887\"],[0.1111111111111111,\"#46039f\"],[0.2222222222222222,\"#7201a8\"],[0.3333333333333333,\"#9c179e\"],[0.4444444444444444,\"#bd3786\"],[0.5555555555555556,\"#d8576b\"],[0.6666666666666666,\"#ed7953\"],[0.7777777777777778,\"#fb9f3a\"],[0.8888888888888888,\"#fdca26\"],[1.0,\"#f0f921\"]],\"type\":\"histogram2d\"}],\"histogram\":[{\"marker\":{\"pattern\":{\"fillmode\":\"overlay\",\"size\":10,\"solidity\":0.2}},\"type\":\"histogram\"}],\"mesh3d\":[{\"colorbar\":{\"outlinewidth\":0,\"ticks\":\"\"},\"type\":\"mesh3d\"}],\"parcoords\":[{\"line\":{\"colorbar\":{\"outlinewidth\":0,\"ticks\":\"\"}},\"type\":\"parcoords\"}],\"pie\":[{\"automargin\":true,\"type\":\"pie\"}],\"scatter3d\":[{\"line\":{\"colorbar\":{\"outlinewidth\":0,\"ticks\":\"\"}},\"marker\":{\"colorbar\":{\"outlinewidth\":0,\"ticks\":\"\"}},\"type\":\"scatter3d\"}],\"scattercarpet\":[{\"marker\":{\"colorbar\":{\"outlinewidth\":0,\"ticks\":\"\"}},\"type\":\"scattercarpet\"}],\"scattergeo\":[{\"marker\":{\"colorbar\":{\"outlinewidth\":0,\"ticks\":\"\"}},\"type\":\"scattergeo\"}],\"scattergl\":[{\"marker\":{\"colorbar\":{\"outlinewidth\":0,\"ticks\":\"\"}},\"type\":\"scattergl\"}],\"scattermapbox\":[{\"marker\":{\"colorbar\":{\"outlinewidth\":0,\"ticks\":\"\"}},\"type\":\"scattermapbox\"}],\"scatterpolargl\":[{\"marker\":{\"colorbar\":{\"outlinewidth\":0,\"ticks\":\"\"}},\"type\":\"scatterpolargl\"}],\"scatterpolar\":[{\"marker\":{\"colorbar\":{\"outlinewidth\":0,\"ticks\":\"\"}},\"type\":\"scatterpolar\"}],\"scatter\":[{\"fillpattern\":{\"fillmode\":\"overlay\",\"size\":10,\"solidity\":0.2},\"type\":\"scatter\"}],\"scatterternary\":[{\"marker\":{\"colorbar\":{\"outlinewidth\":0,\"ticks\":\"\"}},\"type\":\"scatterternary\"}],\"surface\":[{\"colorbar\":{\"outlinewidth\":0,\"ticks\":\"\"},\"colorscale\":[[0.0,\"#0d0887\"],[0.1111111111111111,\"#46039f\"],[0.2222222222222222,\"#7201a8\"],[0.3333333333333333,\"#9c179e\"],[0.4444444444444444,\"#bd3786\"],[0.5555555555555556,\"#d8576b\"],[0.6666666666666666,\"#ed7953\"],[0.7777777777777778,\"#fb9f3a\"],[0.8888888888888888,\"#fdca26\"],[1.0,\"#f0f921\"]],\"type\":\"surface\"}],\"table\":[{\"cells\":{\"fill\":{\"color\":\"#EBF0F8\"},\"line\":{\"color\":\"white\"}},\"header\":{\"fill\":{\"color\":\"#C8D4E3\"},\"line\":{\"color\":\"white\"}},\"type\":\"table\"}]},\"layout\":{\"annotationdefaults\":{\"arrowcolor\":\"#2a3f5f\",\"arrowhead\":0,\"arrowwidth\":1},\"autotypenumbers\":\"strict\",\"coloraxis\":{\"colorbar\":{\"outlinewidth\":0,\"ticks\":\"\"}},\"colorscale\":{\"diverging\":[[0,\"#8e0152\"],[0.1,\"#c51b7d\"],[0.2,\"#de77ae\"],[0.3,\"#f1b6da\"],[0.4,\"#fde0ef\"],[0.5,\"#f7f7f7\"],[0.6,\"#e6f5d0\"],[0.7,\"#b8e186\"],[0.8,\"#7fbc41\"],[0.9,\"#4d9221\"],[1,\"#276419\"]],\"sequential\":[[0.0,\"#0d0887\"],[0.1111111111111111,\"#46039f\"],[0.2222222222222222,\"#7201a8\"],[0.3333333333333333,\"#9c179e\"],[0.4444444444444444,\"#bd3786\"],[0.5555555555555556,\"#d8576b\"],[0.6666666666666666,\"#ed7953\"],[0.7777777777777778,\"#fb9f3a\"],[0.8888888888888888,\"#fdca26\"],[1.0,\"#f0f921\"]],\"sequentialminus\":[[0.0,\"#0d0887\"],[0.1111111111111111,\"#46039f\"],[0.2222222222222222,\"#7201a8\"],[0.3333333333333333,\"#9c179e\"],[0.4444444444444444,\"#bd3786\"],[0.5555555555555556,\"#d8576b\"],[0.6666666666666666,\"#ed7953\"],[0.7777777777777778,\"#fb9f3a\"],[0.8888888888888888,\"#fdca26\"],[1.0,\"#f0f921\"]]},\"colorway\":[\"#636efa\",\"#EF553B\",\"#00cc96\",\"#ab63fa\",\"#FFA15A\",\"#19d3f3\",\"#FF6692\",\"#B6E880\",\"#FF97FF\",\"#FECB52\"],\"font\":{\"color\":\"#2a3f5f\"},\"geo\":{\"bgcolor\":\"white\",\"lakecolor\":\"white\",\"landcolor\":\"#E5ECF6\",\"showlakes\":true,\"showland\":true,\"subunitcolor\":\"white\"},\"hoverlabel\":{\"align\":\"left\"},\"hovermode\":\"closest\",\"mapbox\":{\"style\":\"light\"},\"paper_bgcolor\":\"white\",\"plot_bgcolor\":\"#E5ECF6\",\"polar\":{\"angularaxis\":{\"gridcolor\":\"white\",\"linecolor\":\"white\",\"ticks\":\"\"},\"bgcolor\":\"#E5ECF6\",\"radialaxis\":{\"gridcolor\":\"white\",\"linecolor\":\"white\",\"ticks\":\"\"}},\"scene\":{\"xaxis\":{\"backgroundcolor\":\"#E5ECF6\",\"gridcolor\":\"white\",\"gridwidth\":2,\"linecolor\":\"white\",\"showbackground\":true,\"ticks\":\"\",\"zerolinecolor\":\"white\"},\"yaxis\":{\"backgroundcolor\":\"#E5ECF6\",\"gridcolor\":\"white\",\"gridwidth\":2,\"linecolor\":\"white\",\"showbackground\":true,\"ticks\":\"\",\"zerolinecolor\":\"white\"},\"zaxis\":{\"backgroundcolor\":\"#E5ECF6\",\"gridcolor\":\"white\",\"gridwidth\":2,\"linecolor\":\"white\",\"showbackground\":true,\"ticks\":\"\",\"zerolinecolor\":\"white\"}},\"shapedefaults\":{\"line\":{\"color\":\"#2a3f5f\"}},\"ternary\":{\"aaxis\":{\"gridcolor\":\"white\",\"linecolor\":\"white\",\"ticks\":\"\"},\"baxis\":{\"gridcolor\":\"white\",\"linecolor\":\"white\",\"ticks\":\"\"},\"bgcolor\":\"#E5ECF6\",\"caxis\":{\"gridcolor\":\"white\",\"linecolor\":\"white\",\"ticks\":\"\"}},\"title\":{\"x\":0.05},\"xaxis\":{\"automargin\":true,\"gridcolor\":\"white\",\"linecolor\":\"white\",\"ticks\":\"\",\"title\":{\"standoff\":15},\"zerolinecolor\":\"white\",\"zerolinewidth\":2},\"yaxis\":{\"automargin\":true,\"gridcolor\":\"white\",\"linecolor\":\"white\",\"ticks\":\"\",\"title\":{\"standoff\":15},\"zerolinecolor\":\"white\",\"zerolinewidth\":2}}},\"title\":{\"font\":{\"color\":\"#4D5663\"}},\"xaxis\":{\"gridcolor\":\"#E1E5ED\",\"showgrid\":true,\"tickfont\":{\"color\":\"#4D5663\"},\"title\":{\"font\":{\"color\":\"#4D5663\"},\"text\":\"\"},\"zerolinecolor\":\"#E1E5ED\"},\"yaxis\":{\"gridcolor\":\"#E1E5ED\",\"showgrid\":true,\"tickfont\":{\"color\":\"#4D5663\"},\"title\":{\"font\":{\"color\":\"#4D5663\"},\"text\":\"\"},\"zerolinecolor\":\"#E1E5ED\"}},                        {\"showLink\": true, \"linkText\": \"Export to plot.ly\", \"plotlyServerURL\": \"https://plot.ly\", \"responsive\": true}                    ).then(function(){\n",
       "                            \n",
       "var gd = document.getElementById('49e12fe8-2bbc-44f4-8388-20f5e0994fb4');\n",
       "var x = new MutationObserver(function (mutations, observer) {{\n",
       "        var display = window.getComputedStyle(gd).display;\n",
       "        if (!display || display === 'none') {{\n",
       "            console.log([gd, 'removed!']);\n",
       "            Plotly.purge(gd);\n",
       "            observer.disconnect();\n",
       "        }}\n",
       "}});\n",
       "\n",
       "// Listen for the removal of the full notebook cells\n",
       "var notebookContainer = gd.closest('#notebook-container');\n",
       "if (notebookContainer) {{\n",
       "    x.observe(notebookContainer, {childList: true});\n",
       "}}\n",
       "\n",
       "// Listen for the clearing of the current output cell\n",
       "var outputEl = gd.closest('.output');\n",
       "if (outputEl) {{\n",
       "    x.observe(outputEl, {childList: true});\n",
       "}}\n",
       "\n",
       "                        })                };                });            </script>        </div>"
      ]
     },
     "metadata": {},
     "output_type": "display_data"
    }
   ],
   "source": [
    "df['PlantCode'].nunique()\n",
    "plt.figure\n",
    "df['PlantCode'].value_counts().iplot(kind = 'bar')"
   ]
  },
  {
   "cell_type": "markdown",
   "id": "bd158ada",
   "metadata": {},
   "source": [
    "* The products are produced at 60 unique plants."
   ]
  },
  {
   "cell_type": "code",
   "execution_count": 11,
   "id": "a2881648",
   "metadata": {},
   "outputs": [
    {
     "data": {
      "text/plain": [
       "29"
      ]
     },
     "execution_count": 11,
     "metadata": {},
     "output_type": "execute_result"
    }
   ],
   "source": [
    "df['Sales_Channel'].nunique()"
   ]
  },
  {
   "cell_type": "code",
   "execution_count": 45,
   "id": "759f694b",
   "metadata": {},
   "outputs": [
    {
     "data": {
      "text/plain": [
       "CP-GT         2961955\n",
       "RETAIL        1031138\n",
       "CP-NMT         716545\n",
       "ZANDRA         645520\n",
       "ZEAL           453179\n",
       "CP-ECOM        368266\n",
       "OTX-PHARMA     337175\n",
       "AH-GT          146419\n",
       "CP-INST        139078\n",
       "OTX-TRADE      100007\n",
       "SIH             54256\n",
       "PH-ECOM         24449\n",
       "OTX-NMT         18874\n",
       "OTX-ECOM        13996\n",
       "AH-NMT           5877\n",
       "CP-BARTER        4930\n",
       "PH-NMT           4010\n",
       "OTX-INST         3475\n",
       "CP-NEPAL         3281\n",
       "CP-BUTAN         3035\n",
       "AH-INST          2170\n",
       "AH-ECOM          1923\n",
       "PH-NEPAL         1287\n",
       "PH-INST          1099\n",
       "AH-NEPAL          424\n",
       "OTX-BUTAN         346\n",
       "PH-BUTAN          103\n",
       "ZENITH             31\n",
       "ZEUS                4\n",
       "Name: Sales_Channel, dtype: int64"
      ]
     },
     "execution_count": 45,
     "metadata": {},
     "output_type": "execute_result"
    }
   ],
   "source": [
    "df['Sales_Channel'].value_counts()"
   ]
  },
  {
   "cell_type": "code",
   "execution_count": 12,
   "id": "5fcf5edf",
   "metadata": {},
   "outputs": [
    {
     "data": {
      "application/vnd.plotly.v1+json": {
       "config": {
        "linkText": "Export to plot.ly",
        "plotlyServerURL": "https://plot.ly",
        "showLink": true
       },
       "data": [
        {
         "marker": {
          "color": "rgba(255, 153, 51, 0.6)",
          "line": {
           "color": "rgba(255, 153, 51, 1.0)",
           "width": 1
          }
         },
         "name": "Sales_Channel",
         "orientation": "v",
         "text": "",
         "type": "bar",
         "x": [
          "CP-GT",
          "RETAIL",
          "CP-NMT",
          "ZANDRA",
          "ZEAL",
          "CP-ECOM",
          "OTX-PHARMA",
          "AH-GT",
          "CP-INST",
          "OTX-TRADE",
          "SIH",
          "PH-ECOM",
          "OTX-NMT",
          "OTX-ECOM",
          "AH-NMT",
          "CP-BARTER",
          "PH-NMT",
          "OTX-INST",
          "CP-NEPAL",
          "CP-BUTAN",
          "AH-INST",
          "AH-ECOM",
          "PH-NEPAL",
          "PH-INST",
          "AH-NEPAL",
          "OTX-BUTAN",
          "PH-BUTAN",
          "ZENITH",
          "ZEUS"
         ],
         "y": [
          2961955,
          1031138,
          716545,
          645520,
          453179,
          368266,
          337175,
          146419,
          139078,
          100007,
          54256,
          24449,
          18874,
          13996,
          5877,
          4930,
          4010,
          3475,
          3281,
          3035,
          2170,
          1923,
          1287,
          1099,
          424,
          346,
          103,
          31,
          4
         ]
        }
       ],
       "layout": {
        "legend": {
         "bgcolor": "#F5F6F9",
         "font": {
          "color": "#4D5663"
         }
        },
        "paper_bgcolor": "#F5F6F9",
        "plot_bgcolor": "#F5F6F9",
        "template": {
         "data": {
          "bar": [
           {
            "error_x": {
             "color": "#2a3f5f"
            },
            "error_y": {
             "color": "#2a3f5f"
            },
            "marker": {
             "line": {
              "color": "#E5ECF6",
              "width": 0.5
             },
             "pattern": {
              "fillmode": "overlay",
              "size": 10,
              "solidity": 0.2
             }
            },
            "type": "bar"
           }
          ],
          "barpolar": [
           {
            "marker": {
             "line": {
              "color": "#E5ECF6",
              "width": 0.5
             },
             "pattern": {
              "fillmode": "overlay",
              "size": 10,
              "solidity": 0.2
             }
            },
            "type": "barpolar"
           }
          ],
          "carpet": [
           {
            "aaxis": {
             "endlinecolor": "#2a3f5f",
             "gridcolor": "white",
             "linecolor": "white",
             "minorgridcolor": "white",
             "startlinecolor": "#2a3f5f"
            },
            "baxis": {
             "endlinecolor": "#2a3f5f",
             "gridcolor": "white",
             "linecolor": "white",
             "minorgridcolor": "white",
             "startlinecolor": "#2a3f5f"
            },
            "type": "carpet"
           }
          ],
          "choropleth": [
           {
            "colorbar": {
             "outlinewidth": 0,
             "ticks": ""
            },
            "type": "choropleth"
           }
          ],
          "contour": [
           {
            "colorbar": {
             "outlinewidth": 0,
             "ticks": ""
            },
            "colorscale": [
             [
              0,
              "#0d0887"
             ],
             [
              0.1111111111111111,
              "#46039f"
             ],
             [
              0.2222222222222222,
              "#7201a8"
             ],
             [
              0.3333333333333333,
              "#9c179e"
             ],
             [
              0.4444444444444444,
              "#bd3786"
             ],
             [
              0.5555555555555556,
              "#d8576b"
             ],
             [
              0.6666666666666666,
              "#ed7953"
             ],
             [
              0.7777777777777778,
              "#fb9f3a"
             ],
             [
              0.8888888888888888,
              "#fdca26"
             ],
             [
              1,
              "#f0f921"
             ]
            ],
            "type": "contour"
           }
          ],
          "contourcarpet": [
           {
            "colorbar": {
             "outlinewidth": 0,
             "ticks": ""
            },
            "type": "contourcarpet"
           }
          ],
          "heatmap": [
           {
            "colorbar": {
             "outlinewidth": 0,
             "ticks": ""
            },
            "colorscale": [
             [
              0,
              "#0d0887"
             ],
             [
              0.1111111111111111,
              "#46039f"
             ],
             [
              0.2222222222222222,
              "#7201a8"
             ],
             [
              0.3333333333333333,
              "#9c179e"
             ],
             [
              0.4444444444444444,
              "#bd3786"
             ],
             [
              0.5555555555555556,
              "#d8576b"
             ],
             [
              0.6666666666666666,
              "#ed7953"
             ],
             [
              0.7777777777777778,
              "#fb9f3a"
             ],
             [
              0.8888888888888888,
              "#fdca26"
             ],
             [
              1,
              "#f0f921"
             ]
            ],
            "type": "heatmap"
           }
          ],
          "heatmapgl": [
           {
            "colorbar": {
             "outlinewidth": 0,
             "ticks": ""
            },
            "colorscale": [
             [
              0,
              "#0d0887"
             ],
             [
              0.1111111111111111,
              "#46039f"
             ],
             [
              0.2222222222222222,
              "#7201a8"
             ],
             [
              0.3333333333333333,
              "#9c179e"
             ],
             [
              0.4444444444444444,
              "#bd3786"
             ],
             [
              0.5555555555555556,
              "#d8576b"
             ],
             [
              0.6666666666666666,
              "#ed7953"
             ],
             [
              0.7777777777777778,
              "#fb9f3a"
             ],
             [
              0.8888888888888888,
              "#fdca26"
             ],
             [
              1,
              "#f0f921"
             ]
            ],
            "type": "heatmapgl"
           }
          ],
          "histogram": [
           {
            "marker": {
             "pattern": {
              "fillmode": "overlay",
              "size": 10,
              "solidity": 0.2
             }
            },
            "type": "histogram"
           }
          ],
          "histogram2d": [
           {
            "colorbar": {
             "outlinewidth": 0,
             "ticks": ""
            },
            "colorscale": [
             [
              0,
              "#0d0887"
             ],
             [
              0.1111111111111111,
              "#46039f"
             ],
             [
              0.2222222222222222,
              "#7201a8"
             ],
             [
              0.3333333333333333,
              "#9c179e"
             ],
             [
              0.4444444444444444,
              "#bd3786"
             ],
             [
              0.5555555555555556,
              "#d8576b"
             ],
             [
              0.6666666666666666,
              "#ed7953"
             ],
             [
              0.7777777777777778,
              "#fb9f3a"
             ],
             [
              0.8888888888888888,
              "#fdca26"
             ],
             [
              1,
              "#f0f921"
             ]
            ],
            "type": "histogram2d"
           }
          ],
          "histogram2dcontour": [
           {
            "colorbar": {
             "outlinewidth": 0,
             "ticks": ""
            },
            "colorscale": [
             [
              0,
              "#0d0887"
             ],
             [
              0.1111111111111111,
              "#46039f"
             ],
             [
              0.2222222222222222,
              "#7201a8"
             ],
             [
              0.3333333333333333,
              "#9c179e"
             ],
             [
              0.4444444444444444,
              "#bd3786"
             ],
             [
              0.5555555555555556,
              "#d8576b"
             ],
             [
              0.6666666666666666,
              "#ed7953"
             ],
             [
              0.7777777777777778,
              "#fb9f3a"
             ],
             [
              0.8888888888888888,
              "#fdca26"
             ],
             [
              1,
              "#f0f921"
             ]
            ],
            "type": "histogram2dcontour"
           }
          ],
          "mesh3d": [
           {
            "colorbar": {
             "outlinewidth": 0,
             "ticks": ""
            },
            "type": "mesh3d"
           }
          ],
          "parcoords": [
           {
            "line": {
             "colorbar": {
              "outlinewidth": 0,
              "ticks": ""
             }
            },
            "type": "parcoords"
           }
          ],
          "pie": [
           {
            "automargin": true,
            "type": "pie"
           }
          ],
          "scatter": [
           {
            "fillpattern": {
             "fillmode": "overlay",
             "size": 10,
             "solidity": 0.2
            },
            "type": "scatter"
           }
          ],
          "scatter3d": [
           {
            "line": {
             "colorbar": {
              "outlinewidth": 0,
              "ticks": ""
             }
            },
            "marker": {
             "colorbar": {
              "outlinewidth": 0,
              "ticks": ""
             }
            },
            "type": "scatter3d"
           }
          ],
          "scattercarpet": [
           {
            "marker": {
             "colorbar": {
              "outlinewidth": 0,
              "ticks": ""
             }
            },
            "type": "scattercarpet"
           }
          ],
          "scattergeo": [
           {
            "marker": {
             "colorbar": {
              "outlinewidth": 0,
              "ticks": ""
             }
            },
            "type": "scattergeo"
           }
          ],
          "scattergl": [
           {
            "marker": {
             "colorbar": {
              "outlinewidth": 0,
              "ticks": ""
             }
            },
            "type": "scattergl"
           }
          ],
          "scattermapbox": [
           {
            "marker": {
             "colorbar": {
              "outlinewidth": 0,
              "ticks": ""
             }
            },
            "type": "scattermapbox"
           }
          ],
          "scatterpolar": [
           {
            "marker": {
             "colorbar": {
              "outlinewidth": 0,
              "ticks": ""
             }
            },
            "type": "scatterpolar"
           }
          ],
          "scatterpolargl": [
           {
            "marker": {
             "colorbar": {
              "outlinewidth": 0,
              "ticks": ""
             }
            },
            "type": "scatterpolargl"
           }
          ],
          "scatterternary": [
           {
            "marker": {
             "colorbar": {
              "outlinewidth": 0,
              "ticks": ""
             }
            },
            "type": "scatterternary"
           }
          ],
          "surface": [
           {
            "colorbar": {
             "outlinewidth": 0,
             "ticks": ""
            },
            "colorscale": [
             [
              0,
              "#0d0887"
             ],
             [
              0.1111111111111111,
              "#46039f"
             ],
             [
              0.2222222222222222,
              "#7201a8"
             ],
             [
              0.3333333333333333,
              "#9c179e"
             ],
             [
              0.4444444444444444,
              "#bd3786"
             ],
             [
              0.5555555555555556,
              "#d8576b"
             ],
             [
              0.6666666666666666,
              "#ed7953"
             ],
             [
              0.7777777777777778,
              "#fb9f3a"
             ],
             [
              0.8888888888888888,
              "#fdca26"
             ],
             [
              1,
              "#f0f921"
             ]
            ],
            "type": "surface"
           }
          ],
          "table": [
           {
            "cells": {
             "fill": {
              "color": "#EBF0F8"
             },
             "line": {
              "color": "white"
             }
            },
            "header": {
             "fill": {
              "color": "#C8D4E3"
             },
             "line": {
              "color": "white"
             }
            },
            "type": "table"
           }
          ]
         },
         "layout": {
          "annotationdefaults": {
           "arrowcolor": "#2a3f5f",
           "arrowhead": 0,
           "arrowwidth": 1
          },
          "autotypenumbers": "strict",
          "coloraxis": {
           "colorbar": {
            "outlinewidth": 0,
            "ticks": ""
           }
          },
          "colorscale": {
           "diverging": [
            [
             0,
             "#8e0152"
            ],
            [
             0.1,
             "#c51b7d"
            ],
            [
             0.2,
             "#de77ae"
            ],
            [
             0.3,
             "#f1b6da"
            ],
            [
             0.4,
             "#fde0ef"
            ],
            [
             0.5,
             "#f7f7f7"
            ],
            [
             0.6,
             "#e6f5d0"
            ],
            [
             0.7,
             "#b8e186"
            ],
            [
             0.8,
             "#7fbc41"
            ],
            [
             0.9,
             "#4d9221"
            ],
            [
             1,
             "#276419"
            ]
           ],
           "sequential": [
            [
             0,
             "#0d0887"
            ],
            [
             0.1111111111111111,
             "#46039f"
            ],
            [
             0.2222222222222222,
             "#7201a8"
            ],
            [
             0.3333333333333333,
             "#9c179e"
            ],
            [
             0.4444444444444444,
             "#bd3786"
            ],
            [
             0.5555555555555556,
             "#d8576b"
            ],
            [
             0.6666666666666666,
             "#ed7953"
            ],
            [
             0.7777777777777778,
             "#fb9f3a"
            ],
            [
             0.8888888888888888,
             "#fdca26"
            ],
            [
             1,
             "#f0f921"
            ]
           ],
           "sequentialminus": [
            [
             0,
             "#0d0887"
            ],
            [
             0.1111111111111111,
             "#46039f"
            ],
            [
             0.2222222222222222,
             "#7201a8"
            ],
            [
             0.3333333333333333,
             "#9c179e"
            ],
            [
             0.4444444444444444,
             "#bd3786"
            ],
            [
             0.5555555555555556,
             "#d8576b"
            ],
            [
             0.6666666666666666,
             "#ed7953"
            ],
            [
             0.7777777777777778,
             "#fb9f3a"
            ],
            [
             0.8888888888888888,
             "#fdca26"
            ],
            [
             1,
             "#f0f921"
            ]
           ]
          },
          "colorway": [
           "#636efa",
           "#EF553B",
           "#00cc96",
           "#ab63fa",
           "#FFA15A",
           "#19d3f3",
           "#FF6692",
           "#B6E880",
           "#FF97FF",
           "#FECB52"
          ],
          "font": {
           "color": "#2a3f5f"
          },
          "geo": {
           "bgcolor": "white",
           "lakecolor": "white",
           "landcolor": "#E5ECF6",
           "showlakes": true,
           "showland": true,
           "subunitcolor": "white"
          },
          "hoverlabel": {
           "align": "left"
          },
          "hovermode": "closest",
          "mapbox": {
           "style": "light"
          },
          "paper_bgcolor": "white",
          "plot_bgcolor": "#E5ECF6",
          "polar": {
           "angularaxis": {
            "gridcolor": "white",
            "linecolor": "white",
            "ticks": ""
           },
           "bgcolor": "#E5ECF6",
           "radialaxis": {
            "gridcolor": "white",
            "linecolor": "white",
            "ticks": ""
           }
          },
          "scene": {
           "xaxis": {
            "backgroundcolor": "#E5ECF6",
            "gridcolor": "white",
            "gridwidth": 2,
            "linecolor": "white",
            "showbackground": true,
            "ticks": "",
            "zerolinecolor": "white"
           },
           "yaxis": {
            "backgroundcolor": "#E5ECF6",
            "gridcolor": "white",
            "gridwidth": 2,
            "linecolor": "white",
            "showbackground": true,
            "ticks": "",
            "zerolinecolor": "white"
           },
           "zaxis": {
            "backgroundcolor": "#E5ECF6",
            "gridcolor": "white",
            "gridwidth": 2,
            "linecolor": "white",
            "showbackground": true,
            "ticks": "",
            "zerolinecolor": "white"
           }
          },
          "shapedefaults": {
           "line": {
            "color": "#2a3f5f"
           }
          },
          "ternary": {
           "aaxis": {
            "gridcolor": "white",
            "linecolor": "white",
            "ticks": ""
           },
           "baxis": {
            "gridcolor": "white",
            "linecolor": "white",
            "ticks": ""
           },
           "bgcolor": "#E5ECF6",
           "caxis": {
            "gridcolor": "white",
            "linecolor": "white",
            "ticks": ""
           }
          },
          "title": {
           "x": 0.05
          },
          "xaxis": {
           "automargin": true,
           "gridcolor": "white",
           "linecolor": "white",
           "ticks": "",
           "title": {
            "standoff": 15
           },
           "zerolinecolor": "white",
           "zerolinewidth": 2
          },
          "yaxis": {
           "automargin": true,
           "gridcolor": "white",
           "linecolor": "white",
           "ticks": "",
           "title": {
            "standoff": 15
           },
           "zerolinecolor": "white",
           "zerolinewidth": 2
          }
         }
        },
        "title": {
         "font": {
          "color": "#4D5663"
         }
        },
        "xaxis": {
         "gridcolor": "#E1E5ED",
         "showgrid": true,
         "tickfont": {
          "color": "#4D5663"
         },
         "title": {
          "font": {
           "color": "#4D5663"
          },
          "text": ""
         },
         "zerolinecolor": "#E1E5ED"
        },
        "yaxis": {
         "gridcolor": "#E1E5ED",
         "showgrid": true,
         "tickfont": {
          "color": "#4D5663"
         },
         "title": {
          "font": {
           "color": "#4D5663"
          },
          "text": ""
         },
         "zerolinecolor": "#E1E5ED"
        }
       }
      },
      "text/html": [
       "<div>                            <div id=\"f85be8ed-ddbe-479a-848d-5481d2fbd46d\" class=\"plotly-graph-div\" style=\"height:525px; width:100%;\"></div>            <script type=\"text/javascript\">                require([\"plotly\"], function(Plotly) {                    window.PLOTLYENV=window.PLOTLYENV || {};\n",
       "                    window.PLOTLYENV.BASE_URL='https://plot.ly';                                    if (document.getElementById(\"f85be8ed-ddbe-479a-848d-5481d2fbd46d\")) {                    Plotly.newPlot(                        \"f85be8ed-ddbe-479a-848d-5481d2fbd46d\",                        [{\"marker\":{\"color\":\"rgba(255, 153, 51, 0.6)\",\"line\":{\"color\":\"rgba(255, 153, 51, 1.0)\",\"width\":1}},\"name\":\"Sales_Channel\",\"orientation\":\"v\",\"text\":\"\",\"x\":[\"CP-GT\",\"RETAIL\",\"CP-NMT\",\"ZANDRA\",\"ZEAL\",\"CP-ECOM\",\"OTX-PHARMA\",\"AH-GT\",\"CP-INST\",\"OTX-TRADE\",\"SIH\",\"PH-ECOM\",\"OTX-NMT\",\"OTX-ECOM\",\"AH-NMT\",\"CP-BARTER\",\"PH-NMT\",\"OTX-INST\",\"CP-NEPAL\",\"CP-BUTAN\",\"AH-INST\",\"AH-ECOM\",\"PH-NEPAL\",\"PH-INST\",\"AH-NEPAL\",\"OTX-BUTAN\",\"PH-BUTAN\",\"ZENITH\",\"ZEUS\"],\"y\":[2961955,1031138,716545,645520,453179,368266,337175,146419,139078,100007,54256,24449,18874,13996,5877,4930,4010,3475,3281,3035,2170,1923,1287,1099,424,346,103,31,4],\"type\":\"bar\"}],                        {\"legend\":{\"bgcolor\":\"#F5F6F9\",\"font\":{\"color\":\"#4D5663\"}},\"paper_bgcolor\":\"#F5F6F9\",\"plot_bgcolor\":\"#F5F6F9\",\"template\":{\"data\":{\"barpolar\":[{\"marker\":{\"line\":{\"color\":\"#E5ECF6\",\"width\":0.5},\"pattern\":{\"fillmode\":\"overlay\",\"size\":10,\"solidity\":0.2}},\"type\":\"barpolar\"}],\"bar\":[{\"error_x\":{\"color\":\"#2a3f5f\"},\"error_y\":{\"color\":\"#2a3f5f\"},\"marker\":{\"line\":{\"color\":\"#E5ECF6\",\"width\":0.5},\"pattern\":{\"fillmode\":\"overlay\",\"size\":10,\"solidity\":0.2}},\"type\":\"bar\"}],\"carpet\":[{\"aaxis\":{\"endlinecolor\":\"#2a3f5f\",\"gridcolor\":\"white\",\"linecolor\":\"white\",\"minorgridcolor\":\"white\",\"startlinecolor\":\"#2a3f5f\"},\"baxis\":{\"endlinecolor\":\"#2a3f5f\",\"gridcolor\":\"white\",\"linecolor\":\"white\",\"minorgridcolor\":\"white\",\"startlinecolor\":\"#2a3f5f\"},\"type\":\"carpet\"}],\"choropleth\":[{\"colorbar\":{\"outlinewidth\":0,\"ticks\":\"\"},\"type\":\"choropleth\"}],\"contourcarpet\":[{\"colorbar\":{\"outlinewidth\":0,\"ticks\":\"\"},\"type\":\"contourcarpet\"}],\"contour\":[{\"colorbar\":{\"outlinewidth\":0,\"ticks\":\"\"},\"colorscale\":[[0.0,\"#0d0887\"],[0.1111111111111111,\"#46039f\"],[0.2222222222222222,\"#7201a8\"],[0.3333333333333333,\"#9c179e\"],[0.4444444444444444,\"#bd3786\"],[0.5555555555555556,\"#d8576b\"],[0.6666666666666666,\"#ed7953\"],[0.7777777777777778,\"#fb9f3a\"],[0.8888888888888888,\"#fdca26\"],[1.0,\"#f0f921\"]],\"type\":\"contour\"}],\"heatmapgl\":[{\"colorbar\":{\"outlinewidth\":0,\"ticks\":\"\"},\"colorscale\":[[0.0,\"#0d0887\"],[0.1111111111111111,\"#46039f\"],[0.2222222222222222,\"#7201a8\"],[0.3333333333333333,\"#9c179e\"],[0.4444444444444444,\"#bd3786\"],[0.5555555555555556,\"#d8576b\"],[0.6666666666666666,\"#ed7953\"],[0.7777777777777778,\"#fb9f3a\"],[0.8888888888888888,\"#fdca26\"],[1.0,\"#f0f921\"]],\"type\":\"heatmapgl\"}],\"heatmap\":[{\"colorbar\":{\"outlinewidth\":0,\"ticks\":\"\"},\"colorscale\":[[0.0,\"#0d0887\"],[0.1111111111111111,\"#46039f\"],[0.2222222222222222,\"#7201a8\"],[0.3333333333333333,\"#9c179e\"],[0.4444444444444444,\"#bd3786\"],[0.5555555555555556,\"#d8576b\"],[0.6666666666666666,\"#ed7953\"],[0.7777777777777778,\"#fb9f3a\"],[0.8888888888888888,\"#fdca26\"],[1.0,\"#f0f921\"]],\"type\":\"heatmap\"}],\"histogram2dcontour\":[{\"colorbar\":{\"outlinewidth\":0,\"ticks\":\"\"},\"colorscale\":[[0.0,\"#0d0887\"],[0.1111111111111111,\"#46039f\"],[0.2222222222222222,\"#7201a8\"],[0.3333333333333333,\"#9c179e\"],[0.4444444444444444,\"#bd3786\"],[0.5555555555555556,\"#d8576b\"],[0.6666666666666666,\"#ed7953\"],[0.7777777777777778,\"#fb9f3a\"],[0.8888888888888888,\"#fdca26\"],[1.0,\"#f0f921\"]],\"type\":\"histogram2dcontour\"}],\"histogram2d\":[{\"colorbar\":{\"outlinewidth\":0,\"ticks\":\"\"},\"colorscale\":[[0.0,\"#0d0887\"],[0.1111111111111111,\"#46039f\"],[0.2222222222222222,\"#7201a8\"],[0.3333333333333333,\"#9c179e\"],[0.4444444444444444,\"#bd3786\"],[0.5555555555555556,\"#d8576b\"],[0.6666666666666666,\"#ed7953\"],[0.7777777777777778,\"#fb9f3a\"],[0.8888888888888888,\"#fdca26\"],[1.0,\"#f0f921\"]],\"type\":\"histogram2d\"}],\"histogram\":[{\"marker\":{\"pattern\":{\"fillmode\":\"overlay\",\"size\":10,\"solidity\":0.2}},\"type\":\"histogram\"}],\"mesh3d\":[{\"colorbar\":{\"outlinewidth\":0,\"ticks\":\"\"},\"type\":\"mesh3d\"}],\"parcoords\":[{\"line\":{\"colorbar\":{\"outlinewidth\":0,\"ticks\":\"\"}},\"type\":\"parcoords\"}],\"pie\":[{\"automargin\":true,\"type\":\"pie\"}],\"scatter3d\":[{\"line\":{\"colorbar\":{\"outlinewidth\":0,\"ticks\":\"\"}},\"marker\":{\"colorbar\":{\"outlinewidth\":0,\"ticks\":\"\"}},\"type\":\"scatter3d\"}],\"scattercarpet\":[{\"marker\":{\"colorbar\":{\"outlinewidth\":0,\"ticks\":\"\"}},\"type\":\"scattercarpet\"}],\"scattergeo\":[{\"marker\":{\"colorbar\":{\"outlinewidth\":0,\"ticks\":\"\"}},\"type\":\"scattergeo\"}],\"scattergl\":[{\"marker\":{\"colorbar\":{\"outlinewidth\":0,\"ticks\":\"\"}},\"type\":\"scattergl\"}],\"scattermapbox\":[{\"marker\":{\"colorbar\":{\"outlinewidth\":0,\"ticks\":\"\"}},\"type\":\"scattermapbox\"}],\"scatterpolargl\":[{\"marker\":{\"colorbar\":{\"outlinewidth\":0,\"ticks\":\"\"}},\"type\":\"scatterpolargl\"}],\"scatterpolar\":[{\"marker\":{\"colorbar\":{\"outlinewidth\":0,\"ticks\":\"\"}},\"type\":\"scatterpolar\"}],\"scatter\":[{\"fillpattern\":{\"fillmode\":\"overlay\",\"size\":10,\"solidity\":0.2},\"type\":\"scatter\"}],\"scatterternary\":[{\"marker\":{\"colorbar\":{\"outlinewidth\":0,\"ticks\":\"\"}},\"type\":\"scatterternary\"}],\"surface\":[{\"colorbar\":{\"outlinewidth\":0,\"ticks\":\"\"},\"colorscale\":[[0.0,\"#0d0887\"],[0.1111111111111111,\"#46039f\"],[0.2222222222222222,\"#7201a8\"],[0.3333333333333333,\"#9c179e\"],[0.4444444444444444,\"#bd3786\"],[0.5555555555555556,\"#d8576b\"],[0.6666666666666666,\"#ed7953\"],[0.7777777777777778,\"#fb9f3a\"],[0.8888888888888888,\"#fdca26\"],[1.0,\"#f0f921\"]],\"type\":\"surface\"}],\"table\":[{\"cells\":{\"fill\":{\"color\":\"#EBF0F8\"},\"line\":{\"color\":\"white\"}},\"header\":{\"fill\":{\"color\":\"#C8D4E3\"},\"line\":{\"color\":\"white\"}},\"type\":\"table\"}]},\"layout\":{\"annotationdefaults\":{\"arrowcolor\":\"#2a3f5f\",\"arrowhead\":0,\"arrowwidth\":1},\"autotypenumbers\":\"strict\",\"coloraxis\":{\"colorbar\":{\"outlinewidth\":0,\"ticks\":\"\"}},\"colorscale\":{\"diverging\":[[0,\"#8e0152\"],[0.1,\"#c51b7d\"],[0.2,\"#de77ae\"],[0.3,\"#f1b6da\"],[0.4,\"#fde0ef\"],[0.5,\"#f7f7f7\"],[0.6,\"#e6f5d0\"],[0.7,\"#b8e186\"],[0.8,\"#7fbc41\"],[0.9,\"#4d9221\"],[1,\"#276419\"]],\"sequential\":[[0.0,\"#0d0887\"],[0.1111111111111111,\"#46039f\"],[0.2222222222222222,\"#7201a8\"],[0.3333333333333333,\"#9c179e\"],[0.4444444444444444,\"#bd3786\"],[0.5555555555555556,\"#d8576b\"],[0.6666666666666666,\"#ed7953\"],[0.7777777777777778,\"#fb9f3a\"],[0.8888888888888888,\"#fdca26\"],[1.0,\"#f0f921\"]],\"sequentialminus\":[[0.0,\"#0d0887\"],[0.1111111111111111,\"#46039f\"],[0.2222222222222222,\"#7201a8\"],[0.3333333333333333,\"#9c179e\"],[0.4444444444444444,\"#bd3786\"],[0.5555555555555556,\"#d8576b\"],[0.6666666666666666,\"#ed7953\"],[0.7777777777777778,\"#fb9f3a\"],[0.8888888888888888,\"#fdca26\"],[1.0,\"#f0f921\"]]},\"colorway\":[\"#636efa\",\"#EF553B\",\"#00cc96\",\"#ab63fa\",\"#FFA15A\",\"#19d3f3\",\"#FF6692\",\"#B6E880\",\"#FF97FF\",\"#FECB52\"],\"font\":{\"color\":\"#2a3f5f\"},\"geo\":{\"bgcolor\":\"white\",\"lakecolor\":\"white\",\"landcolor\":\"#E5ECF6\",\"showlakes\":true,\"showland\":true,\"subunitcolor\":\"white\"},\"hoverlabel\":{\"align\":\"left\"},\"hovermode\":\"closest\",\"mapbox\":{\"style\":\"light\"},\"paper_bgcolor\":\"white\",\"plot_bgcolor\":\"#E5ECF6\",\"polar\":{\"angularaxis\":{\"gridcolor\":\"white\",\"linecolor\":\"white\",\"ticks\":\"\"},\"bgcolor\":\"#E5ECF6\",\"radialaxis\":{\"gridcolor\":\"white\",\"linecolor\":\"white\",\"ticks\":\"\"}},\"scene\":{\"xaxis\":{\"backgroundcolor\":\"#E5ECF6\",\"gridcolor\":\"white\",\"gridwidth\":2,\"linecolor\":\"white\",\"showbackground\":true,\"ticks\":\"\",\"zerolinecolor\":\"white\"},\"yaxis\":{\"backgroundcolor\":\"#E5ECF6\",\"gridcolor\":\"white\",\"gridwidth\":2,\"linecolor\":\"white\",\"showbackground\":true,\"ticks\":\"\",\"zerolinecolor\":\"white\"},\"zaxis\":{\"backgroundcolor\":\"#E5ECF6\",\"gridcolor\":\"white\",\"gridwidth\":2,\"linecolor\":\"white\",\"showbackground\":true,\"ticks\":\"\",\"zerolinecolor\":\"white\"}},\"shapedefaults\":{\"line\":{\"color\":\"#2a3f5f\"}},\"ternary\":{\"aaxis\":{\"gridcolor\":\"white\",\"linecolor\":\"white\",\"ticks\":\"\"},\"baxis\":{\"gridcolor\":\"white\",\"linecolor\":\"white\",\"ticks\":\"\"},\"bgcolor\":\"#E5ECF6\",\"caxis\":{\"gridcolor\":\"white\",\"linecolor\":\"white\",\"ticks\":\"\"}},\"title\":{\"x\":0.05},\"xaxis\":{\"automargin\":true,\"gridcolor\":\"white\",\"linecolor\":\"white\",\"ticks\":\"\",\"title\":{\"standoff\":15},\"zerolinecolor\":\"white\",\"zerolinewidth\":2},\"yaxis\":{\"automargin\":true,\"gridcolor\":\"white\",\"linecolor\":\"white\",\"ticks\":\"\",\"title\":{\"standoff\":15},\"zerolinecolor\":\"white\",\"zerolinewidth\":2}}},\"title\":{\"font\":{\"color\":\"#4D5663\"}},\"xaxis\":{\"gridcolor\":\"#E1E5ED\",\"showgrid\":true,\"tickfont\":{\"color\":\"#4D5663\"},\"title\":{\"font\":{\"color\":\"#4D5663\"},\"text\":\"\"},\"zerolinecolor\":\"#E1E5ED\"},\"yaxis\":{\"gridcolor\":\"#E1E5ED\",\"showgrid\":true,\"tickfont\":{\"color\":\"#4D5663\"},\"title\":{\"font\":{\"color\":\"#4D5663\"},\"text\":\"\"},\"zerolinecolor\":\"#E1E5ED\"}},                        {\"showLink\": true, \"linkText\": \"Export to plot.ly\", \"plotlyServerURL\": \"https://plot.ly\", \"responsive\": true}                    ).then(function(){\n",
       "                            \n",
       "var gd = document.getElementById('f85be8ed-ddbe-479a-848d-5481d2fbd46d');\n",
       "var x = new MutationObserver(function (mutations, observer) {{\n",
       "        var display = window.getComputedStyle(gd).display;\n",
       "        if (!display || display === 'none') {{\n",
       "            console.log([gd, 'removed!']);\n",
       "            Plotly.purge(gd);\n",
       "            observer.disconnect();\n",
       "        }}\n",
       "}});\n",
       "\n",
       "// Listen for the removal of the full notebook cells\n",
       "var notebookContainer = gd.closest('#notebook-container');\n",
       "if (notebookContainer) {{\n",
       "    x.observe(notebookContainer, {childList: true});\n",
       "}}\n",
       "\n",
       "// Listen for the clearing of the current output cell\n",
       "var outputEl = gd.closest('.output');\n",
       "if (outputEl) {{\n",
       "    x.observe(outputEl, {childList: true});\n",
       "}}\n",
       "\n",
       "                        })                };                });            </script>        </div>"
      ]
     },
     "metadata": {},
     "output_type": "display_data"
    }
   ],
   "source": [
    "df['Sales_Channel'].value_counts().iplot(kind = 'bar')"
   ]
  },
  {
   "cell_type": "code",
   "execution_count": 13,
   "id": "ce954eb8",
   "metadata": {},
   "outputs": [
    {
     "data": {
      "text/plain": [
       "Index(['Date', 'ProductCode', 'Plant', 'PlantCode', 'Sales_Channel',\n",
       "       'Sales_Qty', 'Sales_Value'],\n",
       "      dtype='object')"
      ]
     },
     "execution_count": 13,
     "metadata": {},
     "output_type": "execute_result"
    }
   ],
   "source": [
    "sales.columns"
   ]
  },
  {
   "cell_type": "code",
   "execution_count": 14,
   "id": "44b2327f",
   "metadata": {},
   "outputs": [],
   "source": [
    "df1 = df[(df['ProductCode'] == 7000158) & (df['PlantCode'] == 'Bangalore New CFA')& (df['Sales_Channel']== 'CP-GT')]"
   ]
  },
  {
   "cell_type": "code",
   "execution_count": 15,
   "id": "22f973e9",
   "metadata": {},
   "outputs": [],
   "source": [
    "df1.index = df1['Date']\n",
    "df1 = df1.sort_index()"
   ]
  },
  {
   "cell_type": "code",
   "execution_count": 16,
   "id": "5aaf77e9",
   "metadata": {},
   "outputs": [],
   "source": [
    "df2 = df1.drop(['ProductCode', 'Plant', 'PlantCode', 'Sales_Channel'], axis = 1)"
   ]
  },
  {
   "cell_type": "code",
   "execution_count": 17,
   "id": "53cde579",
   "metadata": {},
   "outputs": [],
   "source": [
    "df3 = df2.resample('D').mean()"
   ]
  },
  {
   "cell_type": "code",
   "execution_count": 18,
   "id": "14fcf420",
   "metadata": {},
   "outputs": [],
   "source": [
    "data = df3.interpolate(method = 'spline', order = 2)"
   ]
  },
  {
   "cell_type": "code",
   "execution_count": 19,
   "id": "b3f65d83",
   "metadata": {
    "scrolled": true
   },
   "outputs": [
    {
     "name": "stdout",
     "output_type": "stream",
     "text": [
      "<class 'pandas.core.frame.DataFrame'>\n",
      "DatetimeIndex: 939 entries, 2020-12-02 to 2023-06-28\n",
      "Freq: D\n",
      "Data columns (total 2 columns):\n",
      " #   Column       Non-Null Count  Dtype  \n",
      "---  ------       --------------  -----  \n",
      " 0   Sales_Qty    939 non-null    float64\n",
      " 1   Sales_Value  939 non-null    float64\n",
      "dtypes: float64(2)\n",
      "memory usage: 22.0 KB\n"
     ]
    }
   ],
   "source": [
    "data.info()"
   ]
  },
  {
   "cell_type": "code",
   "execution_count": 20,
   "id": "116745bd",
   "metadata": {},
   "outputs": [
    {
     "data": {
      "text/html": [
       "<div>\n",
       "<style scoped>\n",
       "    .dataframe tbody tr th:only-of-type {\n",
       "        vertical-align: middle;\n",
       "    }\n",
       "\n",
       "    .dataframe tbody tr th {\n",
       "        vertical-align: top;\n",
       "    }\n",
       "\n",
       "    .dataframe thead th {\n",
       "        text-align: right;\n",
       "    }\n",
       "</style>\n",
       "<table border=\"1\" class=\"dataframe\">\n",
       "  <thead>\n",
       "    <tr style=\"text-align: right;\">\n",
       "      <th></th>\n",
       "      <th>Sales_Qty</th>\n",
       "      <th>Sales_Value</th>\n",
       "    </tr>\n",
       "  </thead>\n",
       "  <tbody>\n",
       "    <tr>\n",
       "      <th>count</th>\n",
       "      <td>939.000000</td>\n",
       "      <td>939.000000</td>\n",
       "    </tr>\n",
       "    <tr>\n",
       "      <th>mean</th>\n",
       "      <td>660.826417</td>\n",
       "      <td>71282.081086</td>\n",
       "    </tr>\n",
       "    <tr>\n",
       "      <th>std</th>\n",
       "      <td>1067.572186</td>\n",
       "      <td>116059.113193</td>\n",
       "    </tr>\n",
       "    <tr>\n",
       "      <th>min</th>\n",
       "      <td>-4302.806322</td>\n",
       "      <td>-471481.391193</td>\n",
       "    </tr>\n",
       "    <tr>\n",
       "      <th>25%</th>\n",
       "      <td>132.075286</td>\n",
       "      <td>15058.240571</td>\n",
       "    </tr>\n",
       "    <tr>\n",
       "      <th>50%</th>\n",
       "      <td>400.000000</td>\n",
       "      <td>42078.050000</td>\n",
       "    </tr>\n",
       "    <tr>\n",
       "      <th>75%</th>\n",
       "      <td>875.000000</td>\n",
       "      <td>93502.170000</td>\n",
       "    </tr>\n",
       "    <tr>\n",
       "      <th>max</th>\n",
       "      <td>8795.395032</td>\n",
       "      <td>952050.265524</td>\n",
       "    </tr>\n",
       "  </tbody>\n",
       "</table>\n",
       "</div>"
      ],
      "text/plain": [
       "         Sales_Qty    Sales_Value\n",
       "count   939.000000     939.000000\n",
       "mean    660.826417   71282.081086\n",
       "std    1067.572186  116059.113193\n",
       "min   -4302.806322 -471481.391193\n",
       "25%     132.075286   15058.240571\n",
       "50%     400.000000   42078.050000\n",
       "75%     875.000000   93502.170000\n",
       "max    8795.395032  952050.265524"
      ]
     },
     "execution_count": 20,
     "metadata": {},
     "output_type": "execute_result"
    }
   ],
   "source": [
    "data.describe()"
   ]
  },
  {
   "cell_type": "code",
   "execution_count": 21,
   "id": "6c58ab7a",
   "metadata": {},
   "outputs": [],
   "source": [
    "data['Lag1'] = data['Sales_Value'].shift(1)"
   ]
  },
  {
   "cell_type": "code",
   "execution_count": null,
   "id": "32424670",
   "metadata": {},
   "outputs": [],
   "source": []
  },
  {
   "cell_type": "code",
   "execution_count": 22,
   "id": "e23354aa",
   "metadata": {},
   "outputs": [],
   "source": [
    "from statsmodels.tsa.seasonal import seasonal_decompose\n",
    "from pandas.plotting import autocorrelation_plot"
   ]
  },
  {
   "cell_type": "code",
   "execution_count": 23,
   "id": "872aef5b",
   "metadata": {},
   "outputs": [
    {
     "data": {
      "image/png": "[encoded data removed]",
      "text/plain": [
       "<Figure size 640x480 with 4 Axes>"
      ]
     },
     "execution_count": 23,
     "metadata": {},
     "output_type": "execute_result"
    },
    {
     "data": {
      "image/png": "[encoded data removed]",
      "text/plain": [
       "<Figure size 640x480 with 4 Axes>"
      ]
     },
     "metadata": {},
     "output_type": "display_data"
    }
   ],
   "source": [
    "seasonal_decompose(data['Sales_Qty'], model = 'additive').plot()"
   ]
  },
  {
   "cell_type": "code",
   "execution_count": 24,
   "id": "5c974798",
   "metadata": {},
   "outputs": [
    {
     "data": {
      "text/plain": [
       "0.010330180103246708"
      ]
     },
     "execution_count": 24,
     "metadata": {},
     "output_type": "execute_result"
    }
   ],
   "source": [
    "data['Sales_Qty'][0]/data['Sales_Value'][0]"
   ]
  },
  {
   "cell_type": "code",
   "execution_count": 25,
   "id": "254d21b6",
   "metadata": {},
   "outputs": [
    {
     "data": {
      "text/plain": [
       "0.01055806602903357"
      ]
     },
     "execution_count": 25,
     "metadata": {},
     "output_type": "execute_result"
    }
   ],
   "source": [
    "data['Sales_Qty'][1]/data['Sales_Value'][1]"
   ]
  },
  {
   "cell_type": "code",
   "execution_count": 26,
   "id": "d13a84d9",
   "metadata": {},
   "outputs": [
    {
     "data": {
      "text/plain": [
       "0.00999149533432852"
      ]
     },
     "execution_count": 26,
     "metadata": {},
     "output_type": "execute_result"
    }
   ],
   "source": [
    "data['Sales_Qty'][2]/data['Sales_Value'][2]"
   ]
  },
  {
   "cell_type": "code",
   "execution_count": 27,
   "id": "bb674984",
   "metadata": {},
   "outputs": [
    {
     "data": {
      "text/plain": [
       "0.010116343002702581"
      ]
     },
     "execution_count": 27,
     "metadata": {},
     "output_type": "execute_result"
    }
   ],
   "source": [
    "data['Sales_Qty'][3]/data['Sales_Value'][3]"
   ]
  },
  {
   "cell_type": "code",
   "execution_count": 28,
   "id": "be61e84f",
   "metadata": {},
   "outputs": [
    {
     "data": {
      "text/plain": [
       "<Axes: xlabel='Date'>"
      ]
     },
     "execution_count": 28,
     "metadata": {},
     "output_type": "execute_result"
    },
    {
     "data": {
      "image/png": "[encoded data removed]",
      "text/plain": [
       "<Figure size 640x480 with 1 Axes>"
      ]
     },
     "metadata": {},
     "output_type": "display_data"
    }
   ],
   "source": [
    "data['Sales_Value'].plot()"
   ]
  },
  {
   "cell_type": "code",
   "execution_count": 29,
   "id": "9aeadce7",
   "metadata": {},
   "outputs": [],
   "source": [
    "from statsmodels.tsa.statespace.sarimax import SARIMAX\n",
    "from statsmodels.graphics.tsaplots import plot_acf, plot_pacf"
   ]
  },
  {
   "cell_type": "code",
   "execution_count": 30,
   "id": "83eeb11a",
   "metadata": {},
   "outputs": [
    {
     "data": {
      "image/png": "[encoded data removed]",
      "text/plain": [
       "<Figure size 640x480 with 1 Axes>"
      ]
     },
     "execution_count": 30,
     "metadata": {},
     "output_type": "execute_result"
    },
    {
     "data": {
      "image/png": "[encoded data removed]",
      "text/plain": [
       "<Figure size 640x480 with 1 Axes>"
      ]
     },
     "metadata": {},
     "output_type": "display_data"
    }
   ],
   "source": [
    "plot_acf(data['Sales_Value'], lags = 5) # q = 2"
   ]
  },
  {
   "cell_type": "code",
   "execution_count": 31,
   "id": "14fb4b05",
   "metadata": {},
   "outputs": [
    {
     "data": {
      "image/png": "[encoded data removed]",
      "text/plain": [
       "<Figure size 640x480 with 1 Axes>"
      ]
     },
     "execution_count": 31,
     "metadata": {},
     "output_type": "execute_result"
    },
    {
     "data": {
      "image/png": "[encoded data removed]",
      "text/plain": [
       "<Figure size 640x480 with 1 Axes>"
      ]
     },
     "metadata": {},
     "output_type": "display_data"
    }
   ],
   "source": [
    "plot_pacf(data['Sales_Value'], lags = 5) # MA = 1"
   ]
  },
  {
   "cell_type": "code",
   "execution_count": 32,
   "id": "23585e75",
   "metadata": {},
   "outputs": [
    {
     "data": {
      "text/plain": [
       "<Axes: xlabel='Lag', ylabel='Autocorrelation'>"
      ]
     },
     "execution_count": 32,
     "metadata": {},
     "output_type": "execute_result"
    },
    {
     "data": {
      "image/png": "[encoded data removed]",
      "text/plain": [
       "<Figure size 640x480 with 1 Axes>"
      ]
     },
     "metadata": {},
     "output_type": "display_data"
    }
   ],
   "source": [
    "autocorrelation_plot(data['Sales_Value'])"
   ]
  },
  {
   "cell_type": "code",
   "execution_count": 33,
   "id": "8fd8abff",
   "metadata": {},
   "outputs": [
    {
     "data": {
      "application/vnd.plotly.v1+json": {
       "config": {
        "linkText": "Export to plot.ly",
        "plotlyServerURL": "https://plot.ly",
        "showLink": true
       },
       "data": [
        {
         "line": {
          "color": "rgba(255, 153, 51, 1.0)",
          "dash": "solid",
          "shape": "linear",
          "width": 1.3
         },
         "mode": "lines",
         "name": "Sales_Value",
         "text": "",
         "type": "scatter",
         "x": [
          "2020-12-02",
          "2020-12-03",
          "2020-12-04",
          "2020-12-05",
          "2020-12-06",
          "2020-12-07",
          "2020-12-08",
          "2020-12-09",
          "2020-12-10",
          "2020-12-11",
          "2020-12-12",
          "2020-12-13",
          "2020-12-14",
          "2020-12-15",
          "2020-12-16",
          "2020-12-17",
          "2020-12-18",
          "2020-12-19",
          "2020-12-20",
          "2020-12-21",
          "2020-12-22",
          "2020-12-23",
          "2020-12-24",
          "2020-12-25",
          "2020-12-26",
          "2020-12-27",
          "2020-12-28",
          "2020-12-29",
          "2020-12-30",
          "2020-12-31",
          "2021-01-01",
          "2021-01-02",
          "2021-01-03",
          "2021-01-04",
          "2021-01-05",
          "2021-01-06",
          "2021-01-07",
          "2021-01-08",
          "2021-01-09",
          "2021-01-10",
          "2021-01-11",
          "2021-01-12",
          "2021-01-13",
          "2021-01-14",
          "2021-01-15",
          "2021-01-16",
          "2021-01-17",
          "2021-01-18",
          "2021-01-19",
          "2021-01-20",
          "2021-01-21",
          "2021-01-22",
          "2021-01-23",
          "2021-01-24",
          "2021-01-25",
          "2021-01-26",
          "2021-01-27",
          "2021-01-28",
          "2021-01-29",
          "2021-01-30",
          "2021-01-31",
          "2021-02-01",
          "2021-02-02",
          "2021-02-03",
          "2021-02-04",
          "2021-02-05",
          "2021-02-06",
          "2021-02-07",
          "2021-02-08",
          "2021-02-09",
          "2021-02-10",
          "2021-02-11",
          "2021-02-12",
          "2021-02-13",
          "2021-02-14",
          "2021-02-15",
          "2021-02-16",
          "2021-02-17",
          "2021-02-18",
          "2021-02-19",
          "2021-02-20",
          "2021-02-21",
          "2021-02-22",
          "2021-02-23",
          "2021-02-24",
          "2021-02-25",
          "2021-02-26",
          "2021-02-27",
          "2021-02-28",
          "2021-03-01",
          "2021-03-02",
          "2021-03-03",
          "2021-03-04",
          "2021-03-05",
          "2021-03-06",
          "2021-03-07",
          "2021-03-08",
          "2021-03-09",
          "2021-03-10",
          "2021-03-11",
          "2021-03-12",
          "2021-03-13",
          "2021-03-14",
          "2021-03-15",
          "2021-03-16",
          "2021-03-17",
          "2021-03-18",
          "2021-03-19",
          "2021-03-20",
          "2021-03-21",
          "2021-03-22",
          "2021-03-23",
          "2021-03-24",
          "2021-03-25",
          "2021-03-26",
          "2021-03-27",
          "2021-03-28",
          "2021-03-29",
          "2021-03-30",
          "2021-03-31",
          "2021-04-01",
          "2021-04-02",
          "2021-04-03",
          "2021-04-04",
          "2021-04-05",
          "2021-04-06",
          "2021-04-07",
          "2021-04-08",
          "2021-04-09",
          "2021-04-10",
          "2021-04-11",
          "2021-04-12",
          "2021-04-13",
          "2021-04-14",
          "2021-04-15",
          "2021-04-16",
          "2021-04-17",
          "2021-04-18",
          "2021-04-19",
          "2021-04-20",
          "2021-04-21",
          "2021-04-22",
          "2021-04-23",
          "2021-04-24",
          "2021-04-25",
          "2021-04-26",
          "2021-04-27",
          "2021-04-28",
          "2021-04-29",
          "2021-04-30",
          "2021-05-01",
          "2021-05-02",
          "2021-05-03",
          "2021-05-04",
          "2021-05-05",
          "2021-05-06",
          "2021-05-07",
          "2021-05-08",
          "2021-05-09",
          "2021-05-10",
          "2021-05-11",
          "2021-05-12",
          "2021-05-13",
          "2021-05-14",
          "2021-05-15",
          "2021-05-16",
          "2021-05-17",
          "2021-05-18",
          "2021-05-19",
          "2021-05-20",
          "2021-05-21",
          "2021-05-22",
          "2021-05-23",
          "2021-05-24",
          "2021-05-25",
          "2021-05-26",
          "2021-05-27",
          "2021-05-28",
          "2021-05-29",
          "2021-05-30",
          "2021-05-31",
          "2021-06-01",
          "2021-06-02",
          "2021-06-03",
          "2021-06-04",
          "2021-06-05",
          "2021-06-06",
          "2021-06-07",
          "2021-06-08",
          "2021-06-09",
          "2021-06-10",
          "2021-06-11",
          "2021-06-12",
          "2021-06-13",
          "2021-06-14",
          "2021-06-15",
          "2021-06-16",
          "2021-06-17",
          "2021-06-18",
          "2021-06-19",
          "2021-06-20",
          "2021-06-21",
          "2021-06-22",
          "2021-06-23",
          "2021-06-24",
          "2021-06-25",
          "2021-06-26",
          "2021-06-27",
          "2021-06-28",
          "2021-06-29",
          "2021-06-30",
          "2021-07-01",
          "2021-07-02",
          "2021-07-03",
          "2021-07-04",
          "2021-07-05",
          "2021-07-06",
          "2021-07-07",
          "2021-07-08",
          "2021-07-09",
          "2021-07-10",
          "2021-07-11",
          "2021-07-12",
          "2021-07-13",
          "2021-07-14",
          "2021-07-15",
          "2021-07-16",
          "2021-07-17",
          "2021-07-18",
          "2021-07-19",
          "2021-07-20",
          "2021-07-21",
          "2021-07-22",
          "2021-07-23",
          "2021-07-24",
          "2021-07-25",
          "2021-07-26",
          "2021-07-27",
          "2021-07-28",
          "2021-07-29",
          "2021-07-30",
          "2021-07-31",
          "2021-08-01",
          "2021-08-02",
          "2021-08-03",
          "2021-08-04",
          "2021-08-05",
          "2021-08-06",
          "2021-08-07",
          "2021-08-08",
          "2021-08-09",
          "2021-08-10",
          "2021-08-11",
          "2021-08-12",
          "2021-08-13",
          "2021-08-14",
          "2021-08-15",
          "2021-08-16",
          "2021-08-17",
          "2021-08-18",
          "2021-08-19",
          "2021-08-20",
          "2021-08-21",
          "2021-08-22",
          "2021-08-23",
          "2021-08-24",
          "2021-08-25",
          "2021-08-26",
          "2021-08-27",
          "2021-08-28",
          "2021-08-29",
          "2021-08-30",
          "2021-08-31",
          "2021-09-01",
          "2021-09-02",
          "2021-09-03",
          "2021-09-04",
          "2021-09-05",
          "2021-09-06",
          "2021-09-07",
          "2021-09-08",
          "2021-09-09",
          "2021-09-10",
          "2021-09-11",
          "2021-09-12",
          "2021-09-13",
          "2021-09-14",
          "2021-09-15",
          "2021-09-16",
          "2021-09-17",
          "2021-09-18",
          "2021-09-19",
          "2021-09-20",
          "2021-09-21",
          "2021-09-22",
          "2021-09-23",
          "2021-09-24",
          "2021-09-25",
          "2021-09-26",
          "2021-09-27",
          "2021-09-28",
          "2021-09-29",
          "2021-09-30",
          "2021-10-01",
          "2021-10-02",
          "2021-10-03",
          "2021-10-04",
          "2021-10-05",
          "2021-10-06",
          "2021-10-07",
          "2021-10-08",
          "2021-10-09",
          "2021-10-10",
          "2021-10-11",
          "2021-10-12",
          "2021-10-13",
          "2021-10-14",
          "2021-10-15",
          "2021-10-16",
          "2021-10-17",
          "2021-10-18",
          "2021-10-19",
          "2021-10-20",
          "2021-10-21",
          "2021-10-22",
          "2021-10-23",
          "2021-10-24",
          "2021-10-25",
          "2021-10-26",
          "2021-10-27",
          "2021-10-28",
          "2021-10-29",
          "2021-10-30",
          "2021-10-31",
          "2021-11-01",
          "2021-11-02",
          "2021-11-03",
          "2021-11-04",
          "2021-11-05",
          "2021-11-06",
          "2021-11-07",
          "2021-11-08",
          "2021-11-09",
          "2021-11-10",
          "2021-11-11",
          "2021-11-12",
          "2021-11-13",
          "2021-11-14",
          "2021-11-15",
          "2021-11-16",
          "2021-11-17",
          "2021-11-18",
          "2021-11-19",
          "2021-11-20",
          "2021-11-21",
          "2021-11-22",
          "2021-11-23",
          "2021-11-24",
          "2021-11-25",
          "2021-11-26",
          "2021-11-27",
          "2021-11-28",
          "2021-11-29",
          "2021-11-30",
          "2021-12-01",
          "2021-12-02",
          "2021-12-03",
          "2021-12-04",
          "2021-12-05",
          "2021-12-06",
          "2021-12-07",
          "2021-12-08",
          "2021-12-09",
          "2021-12-10",
          "2021-12-11",
          "2021-12-12",
          "2021-12-13",
          "2021-12-14",
          "2021-12-15",
          "2021-12-16",
          "2021-12-17",
          "2021-12-18",
          "2021-12-19",
          "2021-12-20",
          "2021-12-21",
          "2021-12-22",
          "2021-12-23",
          "2021-12-24",
          "2021-12-25",
          "2021-12-26",
          "2021-12-27",
          "2021-12-28",
          "2021-12-29",
          "2021-12-30",
          "2021-12-31",
          "2022-01-01",
          "2022-01-02",
          "2022-01-03",
          "2022-01-04",
          "2022-01-05",
          "2022-01-06",
          "2022-01-07",
          "2022-01-08",
          "2022-01-09",
          "2022-01-10",
          "2022-01-11",
          "2022-01-12",
          "2022-01-13",
          "2022-01-14",
          "2022-01-15",
          "2022-01-16",
          "2022-01-17",
          "2022-01-18",
          "2022-01-19",
          "2022-01-20",
          "2022-01-21",
          "2022-01-22",
          "2022-01-23",
          "2022-01-24",
          "2022-01-25",
          "2022-01-26",
          "2022-01-27",
          "2022-01-28",
          "2022-01-29",
          "2022-01-30",
          "2022-01-31",
          "2022-02-01",
          "2022-02-02",
          "2022-02-03",
          "2022-02-04",
          "2022-02-05",
          "2022-02-06",
          "2022-02-07",
          "2022-02-08",
          "2022-02-09",
          "2022-02-10",
          "2022-02-11",
          "2022-02-12",
          "2022-02-13",
          "2022-02-14",
          "2022-02-15",
          "2022-02-16",
          "2022-02-17",
          "2022-02-18",
          "2022-02-19",
          "2022-02-20",
          "2022-02-21",
          "2022-02-22",
          "2022-02-23",
          "2022-02-24",
          "2022-02-25",
          "2022-02-26",
          "2022-02-27",
          "2022-02-28",
          "2022-03-01",
          "2022-03-02",
          "2022-03-03",
          "2022-03-04",
          "2022-03-05",
          "2022-03-06",
          "2022-03-07",
          "2022-03-08",
          "2022-03-09",
          "2022-03-10",
          "2022-03-11",
          "2022-03-12",
          "2022-03-13",
          "2022-03-14",
          "2022-03-15",
          "2022-03-16",
          "2022-03-17",
          "2022-03-18",
          "2022-03-19",
          "2022-03-20",
          "2022-03-21",
          "2022-03-22",
          "2022-03-23",
          "2022-03-24",
          "2022-03-25",
          "2022-03-26",
          "2022-03-27",
          "2022-03-28",
          "2022-03-29",
          "2022-03-30",
          "2022-03-31",
          "2022-04-01",
          "2022-04-02",
          "2022-04-03",
          "2022-04-04",
          "2022-04-05",
          "2022-04-06",
          "2022-04-07",
          "2022-04-08",
          "2022-04-09",
          "2022-04-10",
          "2022-04-11",
          "2022-04-12",
          "2022-04-13",
          "2022-04-14",
          "2022-04-15",
          "2022-04-16",
          "2022-04-17",
          "2022-04-18",
          "2022-04-19",
          "2022-04-20",
          "2022-04-21",
          "2022-04-22",
          "2022-04-23",
          "2022-04-24",
          "2022-04-25",
          "2022-04-26",
          "2022-04-27",
          "2022-04-28",
          "2022-04-29",
          "2022-04-30",
          "2022-05-01",
          "2022-05-02",
          "2022-05-03",
          "2022-05-04",
          "2022-05-05",
          "2022-05-06",
          "2022-05-07",
          "2022-05-08",
          "2022-05-09",
          "2022-05-10",
          "2022-05-11",
          "2022-05-12",
          "2022-05-13",
          "2022-05-14",
          "2022-05-15",
          "2022-05-16",
          "2022-05-17",
          "2022-05-18",
          "2022-05-19",
          "2022-05-20",
          "2022-05-21",
          "2022-05-22",
          "2022-05-23",
          "2022-05-24",
          "2022-05-25",
          "2022-05-26",
          "2022-05-27",
          "2022-05-28",
          "2022-05-29",
          "2022-05-30",
          "2022-05-31",
          "2022-06-01",
          "2022-06-02",
          "2022-06-03",
          "2022-06-04",
          "2022-06-05",
          "2022-06-06",
          "2022-06-07",
          "2022-06-08",
          "2022-06-09",
          "2022-06-10",
          "2022-06-11",
          "2022-06-12",
          "2022-06-13",
          "2022-06-14",
          "2022-06-15",
          "2022-06-16",
          "2022-06-17",
          "2022-06-18",
          "2022-06-19",
          "2022-06-20",
          "2022-06-21",
          "2022-06-22",
          "2022-06-23",
          "2022-06-24",
          "2022-06-25",
          "2022-06-26",
          "2022-06-27",
          "2022-06-28",
          "2022-06-29",
          "2022-06-30",
          "2022-07-01",
          "2022-07-02",
          "2022-07-03",
          "2022-07-04",
          "2022-07-05",
          "2022-07-06",
          "2022-07-07",
          "2022-07-08",
          "2022-07-09",
          "2022-07-10",
          "2022-07-11",
          "2022-07-12",
          "2022-07-13",
          "2022-07-14",
          "2022-07-15",
          "2022-07-16",
          "2022-07-17",
          "2022-07-18",
          "2022-07-19",
          "2022-07-20",
          "2022-07-21",
          "2022-07-22",
          "2022-07-23",
          "2022-07-24",
          "2022-07-25",
          "2022-07-26",
          "2022-07-27",
          "2022-07-28",
          "2022-07-29",
          "2022-07-30",
          "2022-07-31",
          "2022-08-01",
          "2022-08-02",
          "2022-08-03",
          "2022-08-04",
          "2022-08-05",
          "2022-08-06",
          "2022-08-07",
          "2022-08-08",
          "2022-08-09",
          "2022-08-10",
          "2022-08-11",
          "2022-08-12",
          "2022-08-13",
          "2022-08-14",
          "2022-08-15",
          "2022-08-16",
          "2022-08-17",
          "2022-08-18",
          "2022-08-19",
          "2022-08-20",
          "2022-08-21",
          "2022-08-22",
          "2022-08-23",
          "2022-08-24",
          "2022-08-25",
          "2022-08-26",
          "2022-08-27",
          "2022-08-28",
          "2022-08-29",
          "2022-08-30",
          "2022-08-31",
          "2022-09-01",
          "2022-09-02",
          "2022-09-03",
          "2022-09-04",
          "2022-09-05",
          "2022-09-06",
          "2022-09-07",
          "2022-09-08",
          "2022-09-09",
          "2022-09-10",
          "2022-09-11",
          "2022-09-12",
          "2022-09-13",
          "2022-09-14",
          "2022-09-15",
          "2022-09-16",
          "2022-09-17",
          "2022-09-18",
          "2022-09-19",
          "2022-09-20",
          "2022-09-21",
          "2022-09-22",
          "2022-09-23",
          "2022-09-24",
          "2022-09-25",
          "2022-09-26",
          "2022-09-27",
          "2022-09-28",
          "2022-09-29",
          "2022-09-30",
          "2022-10-01",
          "2022-10-02",
          "2022-10-03",
          "2022-10-04",
          "2022-10-05",
          "2022-10-06",
          "2022-10-07",
          "2022-10-08",
          "2022-10-09",
          "2022-10-10",
          "2022-10-11",
          "2022-10-12",
          "2022-10-13",
          "2022-10-14",
          "2022-10-15",
          "2022-10-16",
          "2022-10-17",
          "2022-10-18",
          "2022-10-19",
          "2022-10-20",
          "2022-10-21",
          "2022-10-22",
          "2022-10-23",
          "2022-10-24",
          "2022-10-25",
          "2022-10-26",
          "2022-10-27",
          "2022-10-28",
          "2022-10-29",
          "2022-10-30",
          "2022-10-31",
          "2022-11-01",
          "2022-11-02",
          "2022-11-03",
          "2022-11-04",
          "2022-11-05",
          "2022-11-06",
          "2022-11-07",
          "2022-11-08",
          "2022-11-09",
          "2022-11-10",
          "2022-11-11",
          "2022-11-12",
          "2022-11-13",
          "2022-11-14",
          "2022-11-15",
          "2022-11-16",
          "2022-11-17",
          "2022-11-18",
          "2022-11-19",
          "2022-11-20",
          "2022-11-21",
          "2022-11-22",
          "2022-11-23",
          "2022-11-24",
          "2022-11-25",
          "2022-11-26",
          "2022-11-27",
          "2022-11-28",
          "2022-11-29",
          "2022-11-30",
          "2022-12-01",
          "2022-12-02",
          "2022-12-03",
          "2022-12-04",
          "2022-12-05",
          "2022-12-06",
          "2022-12-07",
          "2022-12-08",
          "2022-12-09",
          "2022-12-10",
          "2022-12-11",
          "2022-12-12",
          "2022-12-13",
          "2022-12-14",
          "2022-12-15",
          "2022-12-16",
          "2022-12-17",
          "2022-12-18",
          "2022-12-19",
          "2022-12-20",
          "2022-12-21",
          "2022-12-22",
          "2022-12-23",
          "2022-12-24",
          "2022-12-25",
          "2022-12-26",
          "2022-12-27",
          "2022-12-28",
          "2022-12-29",
          "2022-12-30",
          "2022-12-31",
          "2023-01-01",
          "2023-01-02",
          "2023-01-03",
          "2023-01-04",
          "2023-01-05",
          "2023-01-06",
          "2023-01-07",
          "2023-01-08",
          "2023-01-09",
          "2023-01-10",
          "2023-01-11",
          "2023-01-12",
          "2023-01-13",
          "2023-01-14",
          "2023-01-15",
          "2023-01-16",
          "2023-01-17",
          "2023-01-18",
          "2023-01-19",
          "2023-01-20",
          "2023-01-21",
          "2023-01-22",
          "2023-01-23",
          "2023-01-24",
          "2023-01-25",
          "2023-01-26",
          "2023-01-27",
          "2023-01-28",
          "2023-01-29",
          "2023-01-30",
          "2023-01-31",
          "2023-02-01",
          "2023-02-02",
          "2023-02-03",
          "2023-02-04",
          "2023-02-05",
          "2023-02-06",
          "2023-02-07",
          "2023-02-08",
          "2023-02-09",
          "2023-02-10",
          "2023-02-11",
          "2023-02-12",
          "2023-02-13",
          "2023-02-14",
          "2023-02-15",
          "2023-02-16",
          "2023-02-17",
          "2023-02-18",
          "2023-02-19",
          "2023-02-20",
          "2023-02-21",
          "2023-02-22",
          "2023-02-23",
          "2023-02-24",
          "2023-02-25",
          "2023-02-26",
          "2023-02-27",
          "2023-02-28",
          "2023-03-01",
          "2023-03-02",
          "2023-03-03",
          "2023-03-04",
          "2023-03-05",
          "2023-03-06",
          "2023-03-07",
          "2023-03-08",
          "2023-03-09",
          "2023-03-10",
          "2023-03-11",
          "2023-03-12",
          "2023-03-13",
          "2023-03-14",
          "2023-03-15",
          "2023-03-16",
          "2023-03-17",
          "2023-03-18",
          "2023-03-19",
          "2023-03-20",
          "2023-03-21",
          "2023-03-22",
          "2023-03-23",
          "2023-03-24",
          "2023-03-25",
          "2023-03-26",
          "2023-03-27",
          "2023-03-28",
          "2023-03-29",
          "2023-03-30",
          "2023-03-31",
          "2023-04-01",
          "2023-04-02",
          "2023-04-03",
          "2023-04-04",
          "2023-04-05",
          "2023-04-06",
          "2023-04-07",
          "2023-04-08",
          "2023-04-09",
          "2023-04-10",
          "2023-04-11",
          "2023-04-12",
          "2023-04-13",
          "2023-04-14",
          "2023-04-15",
          "2023-04-16",
          "2023-04-17",
          "2023-04-18",
          "2023-04-19",
          "2023-04-20",
          "2023-04-21",
          "2023-04-22",
          "2023-04-23",
          "2023-04-24",
          "2023-04-25",
          "2023-04-26",
          "2023-04-27",
          "2023-04-28",
          "2023-04-29",
          "2023-04-30",
          "2023-05-01",
          "2023-05-02",
          "2023-05-03",
          "2023-05-04",
          "2023-05-05",
          "2023-05-06",
          "2023-05-07",
          "2023-05-08",
          "2023-05-09",
          "2023-05-10",
          "2023-05-11",
          "2023-05-12",
          "2023-05-13",
          "2023-05-14",
          "2023-05-15",
          "2023-05-16",
          "2023-05-17",
          "2023-05-18",
          "2023-05-19",
          "2023-05-20",
          "2023-05-21",
          "2023-05-22",
          "2023-05-23",
          "2023-05-24",
          "2023-05-25",
          "2023-05-26",
          "2023-05-27",
          "2023-05-28",
          "2023-05-29",
          "2023-05-30",
          "2023-05-31",
          "2023-06-01",
          "2023-06-02",
          "2023-06-03",
          "2023-06-04",
          "2023-06-05",
          "2023-06-06",
          "2023-06-07",
          "2023-06-08",
          "2023-06-09",
          "2023-06-10",
          "2023-06-11",
          "2023-06-12",
          "2023-06-13",
          "2023-06-14",
          "2023-06-15",
          "2023-06-16",
          "2023-06-17",
          "2023-06-18",
          "2023-06-19",
          "2023-06-20",
          "2023-06-21",
          "2023-06-22",
          "2023-06-23",
          "2023-06-24",
          "2023-06-25",
          "2023-06-26",
          "2023-06-27",
          "2023-06-28"
         ],
         "y": [
          -7260.28,
          44989.3,
          8407.15,
          19769.99,
          22706.384253716482,
          12024.79,
          2471.28,
          21069.01,
          22241.23,
          66381.74,
          53369.3,
          -408.89,
          65827.66,
          84701.68,
          52832.53,
          35716.51,
          1709.38,
          31920.7,
          37600.48293795508,
          39089.46,
          58825.83,
          35608.97,
          103789,
          39394.48,
          7413.78,
          2033.2193296603928,
          61445.35,
          191540.03,
          153109.71,
          9437.03,
          272740.57,
          14603.39,
          -53884.60111840063,
          12356.24,
          17298.66,
          24712.56,
          33331.48,
          12356.26,
          62539.05,
          42143.74153159393,
          -4942.48,
          -7404.707439441008,
          4942.5,
          2284.7603746211244,
          -15377.802043543245,
          -40482.61997680803,
          -27654.041214994024,
          30670.3,
          102784.68,
          49425.06,
          99499.96,
          59310.02,
          38539.88,
          21261.300362640897,
          47744.99,
          165419.23478534966,
          171827.66,
          40219.28,
          516209.97,
          147953.7,
          -25373.04988537234,
          4942.49,
          16429.09,
          -1331.13,
          72113.3,
          39440.57,
          119304.61,
          75817.58529475518,
          24571.97,
          85180.22,
          36966.26,
          77374.84,
          119580.14,
          47340.97,
          12491.460209925159,
          21647.87,
          73564.34,
          216556.91,
          76973.8,
          -9872.12,
          -32433.759105135476,
          -9525.500801962256,
          4845.49,
          18874.04,
          109089.24,
          211675.77,
          580135.89,
          286927.07,
          66180.52444691578,
          -2471.25,
          -3196,
          6352.71,
          2093,
          -12012.59,
          2471.24,
          7813.457607309671,
          1835.8,
          -10067.883694655926,
          -21664.129783750013,
          4447.98,
          73394.59,
          153629.27,
          94609.8104782368,
          5422.48,
          5422.47,
          6789.874778786651,
          2711.26,
          2440.01,
          13556.23,
          31459.083641648656,
          37956.17,
          29822.5,
          61338.41,
          6506.12,
          29010.04,
          4879.98,
          -13944.851319105472,
          -13955.914865795407,
          4879.97,
          42568.31567703893,
          99109.11868962516,
          174502.3801963241,
          230009.2382959819,
          226890.83108744462,
          165147.3,
          67781.28,
          51513.8,
          50868.77,
          187315.48,
          24401.25,
          -27888.310931745084,
          2711.25,
          4592.062774224673,
          5422.94,
          27112.57,
          54122.74,
          159026.19,
          145902.4688919098,
          84048.73,
          67781.28,
          74787.06,
          233167.51,
          24401.26,
          80892.06,
          118585.47108975389,
          97492.77,
          51513.79,
          75915.31,
          414821.3,
          138405.01,
          32804.10568494853,
          171564.91197614957,
          15616.49,
          -304527.96,
          219394.14,
          97061.29,
          26008.01,
          13556.26,
          30586.721055457183,
          36868.9,
          21039.04,
          103677.24,
          61688.26,
          173293.0066436685,
          277173.82,
          157129.44949070615,
          31992.4,
          75545.73,
          48849.51,
          81770.24,
          111052.75,
          56393.83,
          34631.01148980048,
          39583.73,
          42078.05,
          55308.55,
          161698.59,
          197595.72,
          226334.28,
          196995.42613960488,
          110451.24394704054,
          40907.73,
          732.5539173090838,
          5422.51,
          48802.48,
          27112.49,
          76356.6728291788,
          117360.05,
          63338.25,
          43271.53,
          119762.6,
          23858.78,
          40234.73,
          76333.57162212984,
          113027.19,
          136432.26,
          58996.45,
          56827.86,
          85253.1,
          112895.88,
          111679.07809550621,
          126669.33,
          196387.44,
          214244.81,
          24292.74,
          130789.74,
          157611.52,
          80498.3908167829,
          83831.87,
          287065.65,
          358065.6769733593,
          241477.66987129414,
          77272.8218789081,
          5422.49,
          25926.97091484563,
          55646.07,
          26707.75,
          20593.23,
          17603.13,
          117948.72,
          100316.31,
          45973.116303806884,
          33594.39,
          84916.32,
          21455.99,
          17798.8,
          42728.96,
          114448.48,
          134738.2178106716,
          110103.52,
          89471.23,
          155985.95,
          21216.81,
          48694.05,
          102192.02,
          134515.58049236558,
          131022.67,
          106507.14,
          146229.96,
          34899.17,
          678530.48,
          113872.51,
          -212290.12456336673,
          -72739.29871355635,
          31173.44,
          15887.67961354031,
          15445.31,
          109549.27,
          25427.96,
          28401.55327135432,
          57067.48,
          25421.49,
          67448.45,
          15814.24,
          11725.39,
          5299.69,
          25087.720983528696,
          67672.66,
          98258.89,
          16309.16,
          29137.02,
          8133.74,
          78010.7,
          46438.44985645411,
          16267.51,
          84961.82,
          34812.29,
          50862.75,
          90229.47,
          77975.28,
          375794.668693488,
          574795.88,
          294020.54,
          84192.5970708469,
          20415.2932444877,
          2602.77,
          7808.31,
          -1560.871354654474,
          10519.51,
          58326.51,
          5305.74,
          2711.27,
          22505.86791615979,
          36547.01,
          26619.205149112968,
          31992.48,
          71922.67,
          41735.91,
          16150.83,
          18870.25,
          28195.07,
          79010.89991093849,
          120835.64,
          96398.08,
          21472.96,
          2617.58,
          76128.21,
          99477.07,
          58742.90856301956,
          29281.26,
          143407.27,
          518932.44,
          8025.24,
          -390667.4462057498,
          -471481.39119277,
          -282153.7231650139,
          -109114.51411951284,
          -102,
          44883.49102620871,
          43380.15,
          18627,
          5422.57,
          13023.764187583261,
          27112.54,
          35735.96,
          55851.31,
          85678.31847958102,
          124427.3346301654,
          165952.08992321102,
          173374.96445237228,
          140549.71,
          75555.78,
          26870.538986944182,
          2573.4424105421513,
          2664.5110296338135,
          22485.0485516603,
          34082.8772212684,
          32799.300745899265,
          18634.34,
          -3199,
          -1422.032860272062,
          13556.26,
          26113.9151719355,
          36250.938556780085,
          38089.30366193946,
          25751,
          -764.0145433346843,
          -41455.697853768215,
          -96324.06396939937,
          -125166.53494454952,
          -87780.53283354006,
          15833.58,
          135304.76,
          48802.61,
          118101.48,
          78968.45,
          232857.48,
          99745.18968666391,
          -32750.77,
          175027.05,
          361499.61,
          -7374.2,
          68922.04,
          115732.49,
          51564.75452628418,
          -2718.58,
          43129.21,
          42728.96,
          2602.78,
          31116.42,
          441031.5,
          278931.15537648136,
          189570.15,
          746759.21,
          491231.72685407323,
          -2690.66,
          -2417.76,
          -1129.1,
          14933.651142690796,
          53193.86256920341,
          59516.26,
          29823.68,
          10376.76,
          73335.03,
          56936.26,
          22456.239879431392,
          8133.76,
          32149.5,
          57201.98,
          32084.12,
          53791.19,
          147057.23,
          70215.23823520739,
          21581.56,
          154997.13,
          37052.88,
          47609.04,
          72364.51,
          121305.36,
          108890.9023666395,
          85132.36,
          87496.28,
          83614.77,
          692778.09,
          952050.265523992,
          677856.2125405855,
          238579.04536999605,
          2602.76,
          -30072.090748973806,
          34255.06,
          71250.78,
          5314.02,
          -489.32,
          -920.116644922359,
          5531.04,
          32317.98,
          47900.74,
          5422.49,
          115847.07,
          20198.11,
          -953.0554876292736,
          29606.71,
          29715.28,
          16267.53,
          62266.79,
          105087.76,
          137559.76,
          77120.59862159318,
          30149.23,
          93053.55,
          120022.00537414468,
          77324.28,
          24292.81,
          314904.83,
          666283.7388872948,
          771975.61,
          384130.33460972935,
          -5422.51,
          18870.27,
          15941.95,
          9184.171210441877,
          14084.17715399997,
          23908.89,
          36291,
          43817.07,
          42735.01,
          28724.43,
          55959.8,
          21630.57618966136,
          -2602.51,
          51633.22,
          59213.3,
          56719.3,
          50288.88,
          62260,
          31627.502685788837,
          13083.33,
          52816.57,
          55357.75,
          103044.2,
          58644.64,
          115630.01,
          395057.04643911886,
          571639.62,
          305794.4287506137,
          2602.81,
          10845.01,
          2602.74,
          -19018.79546498586,
          -36047.22346405803,
          -46.93,
          68797.48,
          26467.5,
          5205.5,
          45440.31,
          2548.48,
          -20522.95081779021,
          15941.99,
          95728.14,
          48802.44,
          36492.76,
          48157.46,
          50428.73,
          57930.808149491655,
          76970.72,
          104399.27,
          110002.56,
          119701.05,
          111105.74,
          204047.8,
          262889.00590459845,
          206186.28,
          36004.48,
          43380.07,
          12911.25,
          6746.779067274423,
          43309.44274961937,
          76167.23523948102,
          58888.08,
          10845.01,
          27004.03,
          17121.61,
          43380.02,
          5422.5,
          64169.677318590264,
          104992.35,
          21581.49,
          25934.72,
          27043.01,
          53357.11,
          16050.55,
          35243.65344346037,
          48824.53,
          2269.36,
          49144.73,
          34161.28,
          -466.76,
          15942,
          45485.16858792724,
          55249.2,
          33630.77,
          44246.8,
          31233.02,
          83940.3,
          102833.23,
          92453.9978497825,
          57020.1233312089,
          22688.655821173248,
          15616.52,
          25751.02,
          5205.63,
          10411.02,
          5113.14784628738,
          4216.24,
          20450.73,
          7443.16,
          31558.54,
          23671.72,
          19113.626759914576,
          23294.58308880036,
          17857.88,
          5088.78,
          14438.19,
          27365.8,
          4763.5,
          7808.3,
          13020.564479459928,
          40112.87,
          96617.16,
          88312.42,
          90468.4,
          114648.44,
          42042.93,
          100502.39559068542,
          243881.47,
          363330.22,
          338027.9357695746,
          177275.61988269258,
          57698.68,
          5205.57,
          -1380.2178415963836,
          7425.8,
          10411.06,
          29281.23,
          24292.78,
          138561.22,
          178617.38,
          77597.95085810761,
          4703.57,
          75144.49,
          21364.46,
          190752.03,
          74571.97,
          31873.02,
          57743.52479142142,
          71722.59,
          26401.82,
          26559.02,
          53465.64,
          113634.23,
          37295.5,
          16572.19638830084,
          55091.93,
          92181.24,
          16050.48,
          44250.97,
          33587.702428636956,
          -604.9,
          -11480.301098381282,
          -8389.67,
          -1637.42,
          12887.5,
          70965.54,
          67704,
          94253.39639104318,
          149529.94787407474,
          113618.56,
          33173.57,
          194222.65,
          73407.27,
          74410.15,
          55872.25,
          41674.15470085897,
          54544.26,
          80151.43,
          14238.97,
          84387.27,
          40190.54,
          272691.18,
          208257.04603818266,
          39050.16,
          39268.55,
          58803.47,
          160755.98,
          165357.91,
          702916.65,
          0,
          -371719.02172716876,
          -181097.08020264946,
          7553.44,
          100179.15280605621,
          106754.1793144543,
          87117.58,
          51242.79839254087,
          24954.75,
          34078.740826682915,
          34028.09,
          -255.94,
          25067.02,
          2756.03,
          -11073.591107676693,
          -5720.411876684474,
          3579.12,
          8267.96,
          5389,
          115999.64,
          5512,
          -17089.520574453854,
          10670.16,
          -246.82,
          11024.06,
          5512.02,
          38846.99,
          13779.96,
          -35195.42978576483,
          22851.3,
          250547.75,
          292691.18324149575,
          132456.06239298722,
          24081.75,
          -255.94,
          -1746.4145084640209,
          2627.99,
          5511.95,
          10538.91,
          40170.63,
          5526.11,
          2756.01,
          24889.407869811963,
          35947.49,
          10488.54,
          2756.02,
          79652.83,
          22048.02,
          30316.07,
          5592.316327274792,
          19034.09,
          60946.22,
          -276241.28,
          27443.31,
          36127.89,
          -8885.46012930718,
          -29086.29776268979,
          0,
          55415.99,
          15182.83,
          68154.01,
          103984.21,
          114936.30607876772,
          103985.65108809882,
          71132.32306663506,
          34604.01007046348,
          12628.40015567106,
          5205.48,
          10257.02,
          17636.11,
          39202.98786990535,
          62098.76,
          65991.67,
          16303.28,
          -59647.48,
          79630.79,
          38921.46,
          -2404.1426996554565,
          18986.5,
          85304.68,
          13556.25,
          16816.47,
          82493.27,
          -122.85,
          -63484.41223692817,
          -72918.14516733166,
          -37212.376183189735,
          -9098.434266609482,
          2635.57,
          33628.84,
          193562.95,
          45524.04,
          264791.26,
          189586.46534729336,
          14353.75,
          28592.85,
          13779.99,
          56535.25,
          31022.346037130374,
          19521.5,
          87144.58,
          25721.98,
          44006.78,
          40820.76,
          31463.55,
          73009.18352412505,
          118371.06,
          97966.62,
          11368.23,
          207830.79,
          79145.97,
          111665.96,
          84008.6020605005,
          25722.04,
          24881.71,
          70544.48,
          33889.65,
          73279.7,
          36682.21,
          18153.02168999154,
          55082.24,
          156572.26,
          262248.38,
          246690.53712080632,
          115721.70435072803,
          22929.74,
          -6087.2669607737525,
          17586.56,
          64942.48,
          43099.74,
          29389.51,
          68644.8,
          88865.20450456336,
          79381.88282446189,
          55408.46,
          36326.72,
          100692.02,
          119367.54,
          46910.24,
          85937.49,
          44484.27216846628,
          22582.74,
          125574.5,
          140935.02,
          31707.42,
          86835,
          65230.69,
          51158.69898902112,
          31356.35,
          66744.01,
          501191.77,
          189288.49,
          17586.52,
          -33022.00325701556,
          2025.0377073151467,
          102331.69804283376,
          145525.99173769742,
          111212.69,
          23605.99,
          11449,
          2950.75,
          1215.4338781249085,
          17350.43,
          45953.04,
          23606.02,
          25314.79,
          34384.02,
          126354.72201156293,
          277798.9961561256,
          264852.21,
          88167.56,
          2691.3,
          124910.31,
          56866.98,
          143288.18,
          102361.22884280774,
          51931.08,
          115236.74,
          24943.48,
          108269.24920169525,
          216959.72,
          184894.01,
          287259.8015139978,
          344800.87,
          180354.26,
          70935.98,
          11070.84,
          35409.02,
          32816.70443022199,
          -2462.5137406888343,
          17114.44,
          80534.78,
          47819.21,
          11501.26,
          127381.53,
          34625.21,
          -7892.619065473433,
          51056.64,
          147998.69,
          20065.21,
          93607.22,
          109792.96,
          102505.99040046167,
          88071.40168169815,
          69624.52,
          52928.75,
          65523.66,
          90945.52,
          113394.45,
          40117.02,
          86535.96064596408,
          235891.89,
          342269,
          2950.72,
          -64685.84556764091,
          23002.48,
          28783.62,
          34284.88103316478,
          108639.91,
          223500.66,
          2649,
          50955.02,
          60011.97,
          5665.5,
          -64786.791115322856,
          31375.38,
          312041.83,
          14497.82,
          17704.5,
          41686.44,
          79473.49,
          98826.76593245883,
          105677.41,
          104999.11,
          45386.364675844816,
          25664.95,
          107344.08,
          52255.32,
          37397.31326111923,
          43237.98,
          56641.49,
          227456.48,
          88888.28,
          367268.12,
          550111.6882820836,
          525635.1179329011,
          328735.2177812062,
          168797.56588487918,
          80719.62,
          54391.63,
          31146.71,
          19380.35,
          60281.5992986477,
          74739.55,
          -4396.24,
          -66172.04565848302,
          8616.26,
          224864.73,
          92873.3,
          28162.795044090028,
          37520.24,
          78136.27,
          257806.12,
          88253.77,
          91233.8,
          109115.3,
          56846.77479916327,
          40130.49,
          119735.06,
          51472.54,
          120453.14,
          146046.59,
          567017.79,
          2950.78,
          -249227.37330174405,
          -24303.237702402632,
          75651.4,
          5067.48,
          45612.25,
          -5124.37,
          -44577.28260773137,
          1753.21,
          140209.35,
          111410.44222178806,
          40130.49,
          80966.69,
          151095.5,
          222817.50048571662,
          182464.74,
          40536.64,
          319032.4,
          59487.72,
          24292.09,
          21792.41,
          69363.33738780463,
          105890.99,
          66722.42,
          28108.33,
          82548.82,
          125743.77,
          144492.29,
          74859.15585944023,
          121202.07,
          412166.39,
          426410.200699641,
          148032.3496946227,
          2950.78,
          31913.83,
          53483.625952003276,
          61073.95,
          70240.58,
          32402.74348470667,
          5665.52,
          37821.05,
          28327.52,
          18286.372064378695,
          15954.84,
          17350.47,
          8541.828707151924,
          -767.82,
          -1151.73,
          -5684.77,
          -1865.8026488608575,
          -1023.76,
          -12534.31,
          -9578.286153290177,
          -1500.4,
          1497.46,
          33325.28,
          171022.23862972323,
          229721.75,
          93397.12,
          248522.89
         ]
        }
       ],
       "layout": {
        "legend": {
         "bgcolor": "#F5F6F9",
         "font": {
          "color": "#4D5663"
         }
        },
        "paper_bgcolor": "#F5F6F9",
        "plot_bgcolor": "#F5F6F9",
        "template": {
         "data": {
          "bar": [
           {
            "error_x": {
             "color": "#2a3f5f"
            },
            "error_y": {
             "color": "#2a3f5f"
            },
            "marker": {
             "line": {
              "color": "#E5ECF6",
              "width": 0.5
             },
             "pattern": {
              "fillmode": "overlay",
              "size": 10,
              "solidity": 0.2
             }
            },
            "type": "bar"
           }
          ],
          "barpolar": [
           {
            "marker": {
             "line": {
              "color": "#E5ECF6",
              "width": 0.5
             },
             "pattern": {
              "fillmode": "overlay",
              "size": 10,
              "solidity": 0.2
             }
            },
            "type": "barpolar"
           }
          ],
          "carpet": [
           {
            "aaxis": {
             "endlinecolor": "#2a3f5f",
             "gridcolor": "white",
             "linecolor": "white",
             "minorgridcolor": "white",
             "startlinecolor": "#2a3f5f"
            },
            "baxis": {
             "endlinecolor": "#2a3f5f",
             "gridcolor": "white",
             "linecolor": "white",
             "minorgridcolor": "white",
             "startlinecolor": "#2a3f5f"
            },
            "type": "carpet"
           }
          ],
          "choropleth": [
           {
            "colorbar": {
             "outlinewidth": 0,
             "ticks": ""
            },
            "type": "choropleth"
           }
          ],
          "contour": [
           {
            "colorbar": {
             "outlinewidth": 0,
             "ticks": ""
            },
            "colorscale": [
             [
              0,
              "#0d0887"
             ],
             [
              0.1111111111111111,
              "#46039f"
             ],
             [
              0.2222222222222222,
              "#7201a8"
             ],
             [
              0.3333333333333333,
              "#9c179e"
             ],
             [
              0.4444444444444444,
              "#bd3786"
             ],
             [
              0.5555555555555556,
              "#d8576b"
             ],
             [
              0.6666666666666666,
              "#ed7953"
             ],
             [
              0.7777777777777778,
              "#fb9f3a"
             ],
             [
              0.8888888888888888,
              "#fdca26"
             ],
             [
              1,
              "#f0f921"
             ]
            ],
            "type": "contour"
           }
          ],
          "contourcarpet": [
           {
            "colorbar": {
             "outlinewidth": 0,
             "ticks": ""
            },
            "type": "contourcarpet"
           }
          ],
          "heatmap": [
           {
            "colorbar": {
             "outlinewidth": 0,
             "ticks": ""
            },
            "colorscale": [
             [
              0,
              "#0d0887"
             ],
             [
              0.1111111111111111,
              "#46039f"
             ],
             [
              0.2222222222222222,
              "#7201a8"
             ],
             [
              0.3333333333333333,
              "#9c179e"
             ],
             [
              0.4444444444444444,
              "#bd3786"
             ],
             [
              0.5555555555555556,
              "#d8576b"
             ],
             [
              0.6666666666666666,
              "#ed7953"
             ],
             [
              0.7777777777777778,
              "#fb9f3a"
             ],
             [
              0.8888888888888888,
              "#fdca26"
             ],
             [
              1,
              "#f0f921"
             ]
            ],
            "type": "heatmap"
           }
          ],
          "heatmapgl": [
           {
            "colorbar": {
             "outlinewidth": 0,
             "ticks": ""
            },
            "colorscale": [
             [
              0,
              "#0d0887"
             ],
             [
              0.1111111111111111,
              "#46039f"
             ],
             [
              0.2222222222222222,
              "#7201a8"
             ],
             [
              0.3333333333333333,
              "#9c179e"
             ],
             [
              0.4444444444444444,
              "#bd3786"
             ],
             [
              0.5555555555555556,
              "#d8576b"
             ],
             [
              0.6666666666666666,
              "#ed7953"
             ],
             [
              0.7777777777777778,
              "#fb9f3a"
             ],
             [
              0.8888888888888888,
              "#fdca26"
             ],
             [
              1,
              "#f0f921"
             ]
            ],
            "type": "heatmapgl"
           }
          ],
          "histogram": [
           {
            "marker": {
             "pattern": {
              "fillmode": "overlay",
              "size": 10,
              "solidity": 0.2
             }
            },
            "type": "histogram"
           }
          ],
          "histogram2d": [
           {
            "colorbar": {
             "outlinewidth": 0,
             "ticks": ""
            },
            "colorscale": [
             [
              0,
              "#0d0887"
             ],
             [
              0.1111111111111111,
              "#46039f"
             ],
             [
              0.2222222222222222,
              "#7201a8"
             ],
             [
              0.3333333333333333,
              "#9c179e"
             ],
             [
              0.4444444444444444,
              "#bd3786"
             ],
             [
              0.5555555555555556,
              "#d8576b"
             ],
             [
              0.6666666666666666,
              "#ed7953"
             ],
             [
              0.7777777777777778,
              "#fb9f3a"
             ],
             [
              0.8888888888888888,
              "#fdca26"
             ],
             [
              1,
              "#f0f921"
             ]
            ],
            "type": "histogram2d"
           }
          ],
          "histogram2dcontour": [
           {
            "colorbar": {
             "outlinewidth": 0,
             "ticks": ""
            },
            "colorscale": [
             [
              0,
              "#0d0887"
             ],
             [
              0.1111111111111111,
              "#46039f"
             ],
             [
              0.2222222222222222,
              "#7201a8"
             ],
             [
              0.3333333333333333,
              "#9c179e"
             ],
             [
              0.4444444444444444,
              "#bd3786"
             ],
             [
              0.5555555555555556,
              "#d8576b"
             ],
             [
              0.6666666666666666,
              "#ed7953"
             ],
             [
              0.7777777777777778,
              "#fb9f3a"
             ],
             [
              0.8888888888888888,
              "#fdca26"
             ],
             [
              1,
              "#f0f921"
             ]
            ],
            "type": "histogram2dcontour"
           }
          ],
          "mesh3d": [
           {
            "colorbar": {
             "outlinewidth": 0,
             "ticks": ""
            },
            "type": "mesh3d"
           }
          ],
          "parcoords": [
           {
            "line": {
             "colorbar": {
              "outlinewidth": 0,
              "ticks": ""
             }
            },
            "type": "parcoords"
           }
          ],
          "pie": [
           {
            "automargin": true,
            "type": "pie"
           }
          ],
          "scatter": [
           {
            "fillpattern": {
             "fillmode": "overlay",
             "size": 10,
             "solidity": 0.2
            },
            "type": "scatter"
           }
          ],
          "scatter3d": [
           {
            "line": {
             "colorbar": {
              "outlinewidth": 0,
              "ticks": ""
             }
            },
            "marker": {
             "colorbar": {
              "outlinewidth": 0,
              "ticks": ""
             }
            },
            "type": "scatter3d"
           }
          ],
          "scattercarpet": [
           {
            "marker": {
             "colorbar": {
              "outlinewidth": 0,
              "ticks": ""
             }
            },
            "type": "scattercarpet"
           }
          ],
          "scattergeo": [
           {
            "marker": {
             "colorbar": {
              "outlinewidth": 0,
              "ticks": ""
             }
            },
            "type": "scattergeo"
           }
          ],
          "scattergl": [
           {
            "marker": {
             "colorbar": {
              "outlinewidth": 0,
              "ticks": ""
             }
            },
            "type": "scattergl"
           }
          ],
          "scattermapbox": [
           {
            "marker": {
             "colorbar": {
              "outlinewidth": 0,
              "ticks": ""
             }
            },
            "type": "scattermapbox"
           }
          ],
          "scatterpolar": [
           {
            "marker": {
             "colorbar": {
              "outlinewidth": 0,
              "ticks": ""
             }
            },
            "type": "scatterpolar"
           }
          ],
          "scatterpolargl": [
           {
            "marker": {
             "colorbar": {
              "outlinewidth": 0,
              "ticks": ""
             }
            },
            "type": "scatterpolargl"
           }
          ],
          "scatterternary": [
           {
            "marker": {
             "colorbar": {
              "outlinewidth": 0,
              "ticks": ""
             }
            },
            "type": "scatterternary"
           }
          ],
          "surface": [
           {
            "colorbar": {
             "outlinewidth": 0,
             "ticks": ""
            },
            "colorscale": [
             [
              0,
              "#0d0887"
             ],
             [
              0.1111111111111111,
              "#46039f"
             ],
             [
              0.2222222222222222,
              "#7201a8"
             ],
             [
              0.3333333333333333,
              "#9c179e"
             ],
             [
              0.4444444444444444,
              "#bd3786"
             ],
             [
              0.5555555555555556,
              "#d8576b"
             ],
             [
              0.6666666666666666,
              "#ed7953"
             ],
             [
              0.7777777777777778,
              "#fb9f3a"
             ],
             [
              0.8888888888888888,
              "#fdca26"
             ],
             [
              1,
              "#f0f921"
             ]
            ],
            "type": "surface"
           }
          ],
          "table": [
           {
            "cells": {
             "fill": {
              "color": "#EBF0F8"
             },
             "line": {
              "color": "white"
             }
            },
            "header": {
             "fill": {
              "color": "#C8D4E3"
             },
             "line": {
              "color": "white"
             }
            },
            "type": "table"
           }
          ]
         },
         "layout": {
          "annotationdefaults": {
           "arrowcolor": "#2a3f5f",
           "arrowhead": 0,
           "arrowwidth": 1
          },
          "autotypenumbers": "strict",
          "coloraxis": {
           "colorbar": {
            "outlinewidth": 0,
            "ticks": ""
           }
          },
          "colorscale": {
           "diverging": [
            [
             0,
             "#8e0152"
            ],
            [
             0.1,
             "#c51b7d"
            ],
            [
             0.2,
             "#de77ae"
            ],
            [
             0.3,
             "#f1b6da"
            ],
            [
             0.4,
             "#fde0ef"
            ],
            [
             0.5,
             "#f7f7f7"
            ],
            [
             0.6,
             "#e6f5d0"
            ],
            [
             0.7,
             "#b8e186"
            ],
            [
             0.8,
             "#7fbc41"
            ],
            [
             0.9,
             "#4d9221"
            ],
            [
             1,
             "#276419"
            ]
           ],
           "sequential": [
            [
             0,
             "#0d0887"
            ],
            [
             0.1111111111111111,
             "#46039f"
            ],
            [
             0.2222222222222222,
             "#7201a8"
            ],
            [
             0.3333333333333333,
             "#9c179e"
            ],
            [
             0.4444444444444444,
             "#bd3786"
            ],
            [
             0.5555555555555556,
             "#d8576b"
            ],
            [
             0.6666666666666666,
             "#ed7953"
            ],
            [
             0.7777777777777778,
             "#fb9f3a"
            ],
            [
             0.8888888888888888,
             "#fdca26"
            ],
            [
             1,
             "#f0f921"
            ]
           ],
           "sequentialminus": [
            [
             0,
             "#0d0887"
            ],
            [
             0.1111111111111111,
             "#46039f"
            ],
            [
             0.2222222222222222,
             "#7201a8"
            ],
            [
             0.3333333333333333,
             "#9c179e"
            ],
            [
             0.4444444444444444,
             "#bd3786"
            ],
            [
             0.5555555555555556,
             "#d8576b"
            ],
            [
             0.6666666666666666,
             "#ed7953"
            ],
            [
             0.7777777777777778,
             "#fb9f3a"
            ],
            [
             0.8888888888888888,
             "#fdca26"
            ],
            [
             1,
             "#f0f921"
            ]
           ]
          },
          "colorway": [
           "#636efa",
           "#EF553B",
           "#00cc96",
           "#ab63fa",
           "#FFA15A",
           "#19d3f3",
           "#FF6692",
           "#B6E880",
           "#FF97FF",
           "#FECB52"
          ],
          "font": {
           "color": "#2a3f5f"
          },
          "geo": {
           "bgcolor": "white",
           "lakecolor": "white",
           "landcolor": "#E5ECF6",
           "showlakes": true,
           "showland": true,
           "subunitcolor": "white"
          },
          "hoverlabel": {
           "align": "left"
          },
          "hovermode": "closest",
          "mapbox": {
           "style": "light"
          },
          "paper_bgcolor": "white",
          "plot_bgcolor": "#E5ECF6",
          "polar": {
           "angularaxis": {
            "gridcolor": "white",
            "linecolor": "white",
            "ticks": ""
           },
           "bgcolor": "#E5ECF6",
           "radialaxis": {
            "gridcolor": "white",
            "linecolor": "white",
            "ticks": ""
           }
          },
          "scene": {
           "xaxis": {
            "backgroundcolor": "#E5ECF6",
            "gridcolor": "white",
            "gridwidth": 2,
            "linecolor": "white",
            "showbackground": true,
            "ticks": "",
            "zerolinecolor": "white"
           },
           "yaxis": {
            "backgroundcolor": "#E5ECF6",
            "gridcolor": "white",
            "gridwidth": 2,
            "linecolor": "white",
            "showbackground": true,
            "ticks": "",
            "zerolinecolor": "white"
           },
           "zaxis": {
            "backgroundcolor": "#E5ECF6",
            "gridcolor": "white",
            "gridwidth": 2,
            "linecolor": "white",
            "showbackground": true,
            "ticks": "",
            "zerolinecolor": "white"
           }
          },
          "shapedefaults": {
           "line": {
            "color": "#2a3f5f"
           }
          },
          "ternary": {
           "aaxis": {
            "gridcolor": "white",
            "linecolor": "white",
            "ticks": ""
           },
           "baxis": {
            "gridcolor": "white",
            "linecolor": "white",
            "ticks": ""
           },
           "bgcolor": "#E5ECF6",
           "caxis": {
            "gridcolor": "white",
            "linecolor": "white",
            "ticks": ""
           }
          },
          "title": {
           "x": 0.05
          },
          "xaxis": {
           "automargin": true,
           "gridcolor": "white",
           "linecolor": "white",
           "ticks": "",
           "title": {
            "standoff": 15
           },
           "zerolinecolor": "white",
           "zerolinewidth": 2
          },
          "yaxis": {
           "automargin": true,
           "gridcolor": "white",
           "linecolor": "white",
           "ticks": "",
           "title": {
            "standoff": 15
           },
           "zerolinecolor": "white",
           "zerolinewidth": 2
          }
         }
        },
        "title": {
         "font": {
          "color": "#4D5663"
         }
        },
        "xaxis": {
         "gridcolor": "#E1E5ED",
         "showgrid": true,
         "tickfont": {
          "color": "#4D5663"
         },
         "title": {
          "font": {
           "color": "#4D5663"
          },
          "text": ""
         },
         "zerolinecolor": "#E1E5ED"
        },
        "yaxis": {
         "gridcolor": "#E1E5ED",
         "showgrid": true,
         "tickfont": {
          "color": "#4D5663"
         },
         "title": {
          "font": {
           "color": "#4D5663"
          },
          "text": ""
         },
         "zerolinecolor": "#E1E5ED"
        }
       }
      },
      "text/html": [
       "<div>                            <div id=\"411deff5-e4f2-4268-9b53-fbd5592ba6f4\" class=\"plotly-graph-div\" style=\"height:525px; width:100%;\"></div>            <script type=\"text/javascript\">                require([\"plotly\"], function(Plotly) {                    window.PLOTLYENV=window.PLOTLYENV || {};\n",
       "                    window.PLOTLYENV.BASE_URL='https://plot.ly';                                    if (document.getElementById(\"411deff5-e4f2-4268-9b53-fbd5592ba6f4\")) {                    Plotly.newPlot(                        \"411deff5-e4f2-4268-9b53-fbd5592ba6f4\",                        [{\"line\":{\"color\":\"rgba(255, 153, 51, 1.0)\",\"dash\":\"solid\",\"shape\":\"linear\",\"width\":1.3},\"mode\":\"lines\",\"name\":\"Sales_Value\",\"text\":\"\",\"x\":[\"2020-12-02\",\"2020-12-03\",\"2020-12-04\",\"2020-12-05\",\"2020-12-06\",\"2020-12-07\",\"2020-12-08\",\"2020-12-09\",\"2020-12-10\",\"2020-12-11\",\"2020-12-12\",\"2020-12-13\",\"2020-12-14\",\"2020-12-15\",\"2020-12-16\",\"2020-12-17\",\"2020-12-18\",\"2020-12-19\",\"2020-12-20\",\"2020-12-21\",\"2020-12-22\",\"2020-12-23\",\"2020-12-24\",\"2020-12-25\",\"2020-12-26\",\"2020-12-27\",\"2020-12-28\",\"2020-12-29\",\"2020-12-30\",\"2020-12-31\",\"2021-01-01\",\"2021-01-02\",\"2021-01-03\",\"2021-01-04\",\"2021-01-05\",\"2021-01-06\",\"2021-01-07\",\"2021-01-08\",\"2021-01-09\",\"2021-01-10\",\"2021-01-11\",\"2021-01-12\",\"2021-01-13\",\"2021-01-14\",\"2021-01-15\",\"2021-01-16\",\"2021-01-17\",\"2021-01-18\",\"2021-01-19\",\"2021-01-20\",\"2021-01-21\",\"2021-01-22\",\"2021-01-23\",\"2021-01-24\",\"2021-01-25\",\"2021-01-26\",\"2021-01-27\",\"2021-01-28\",\"2021-01-29\",\"2021-01-30\",\"2021-01-31\",\"2021-02-01\",\"2021-02-02\",\"2021-02-03\",\"2021-02-04\",\"2021-02-05\",\"2021-02-06\",\"2021-02-07\",\"2021-02-08\",\"2021-02-09\",\"2021-02-10\",\"2021-02-11\",\"2021-02-12\",\"2021-02-13\",\"2021-02-14\",\"2021-02-15\",\"2021-02-16\",\"2021-02-17\",\"2021-02-18\",\"2021-02-19\",\"2021-02-20\",\"2021-02-21\",\"2021-02-22\",\"2021-02-23\",\"2021-02-24\",\"2021-02-25\",\"2021-02-26\",\"2021-02-27\",\"2021-02-28\",\"2021-03-01\",\"2021-03-02\",\"2021-03-03\",\"2021-03-04\",\"2021-03-05\",\"2021-03-06\",\"2021-03-07\",\"2021-03-08\",\"2021-03-09\",\"2021-03-10\",\"2021-03-11\",\"2021-03-12\",\"2021-03-13\",\"2021-03-14\",\"2021-03-15\",\"2021-03-16\",\"2021-03-17\",\"2021-03-18\",\"2021-03-19\",\"2021-03-20\",\"2021-03-21\",\"2021-03-22\",\"2021-03-23\",\"2021-03-24\",\"2021-03-25\",\"2021-03-26\",\"2021-03-27\",\"2021-03-28\",\"2021-03-29\",\"2021-03-30\",\"2021-03-31\",\"2021-04-01\",\"2021-04-02\",\"2021-04-03\",\"2021-04-04\",\"2021-04-05\",\"2021-04-06\",\"2021-04-07\",\"2021-04-08\",\"2021-04-09\",\"2021-04-10\",\"2021-04-11\",\"2021-04-12\",\"2021-04-13\",\"2021-04-14\",\"2021-04-15\",\"2021-04-16\",\"2021-04-17\",\"2021-04-18\",\"2021-04-19\",\"2021-04-20\",\"2021-04-21\",\"2021-04-22\",\"2021-04-23\",\"2021-04-24\",\"2021-04-25\",\"2021-04-26\",\"2021-04-27\",\"2021-04-28\",\"2021-04-29\",\"2021-04-30\",\"2021-05-01\",\"2021-05-02\",\"2021-05-03\",\"2021-05-04\",\"2021-05-05\",\"2021-05-06\",\"2021-05-07\",\"2021-05-08\",\"2021-05-09\",\"2021-05-10\",\"2021-05-11\",\"2021-05-12\",\"2021-05-13\",\"2021-05-14\",\"2021-05-15\",\"2021-05-16\",\"2021-05-17\",\"2021-05-18\",\"2021-05-19\",\"2021-05-20\",\"2021-05-21\",\"2021-05-22\",\"2021-05-23\",\"2021-05-24\",\"2021-05-25\",\"2021-05-26\",\"2021-05-27\",\"2021-05-28\",\"2021-05-29\",\"2021-05-30\",\"2021-05-31\",\"2021-06-01\",\"2021-06-02\",\"2021-06-03\",\"2021-06-04\",\"2021-06-05\",\"2021-06-06\",\"2021-06-07\",\"2021-06-08\",\"2021-06-09\",\"2021-06-10\",\"2021-06-11\",\"2021-06-12\",\"2021-06-13\",\"2021-06-14\",\"2021-06-15\",\"2021-06-16\",\"2021-06-17\",\"2021-06-18\",\"2021-06-19\",\"2021-06-20\",\"2021-06-21\",\"2021-06-22\",\"2021-06-23\",\"2021-06-24\",\"2021-06-25\",\"2021-06-26\",\"2021-06-27\",\"2021-06-28\",\"2021-06-29\",\"2021-06-30\",\"2021-07-01\",\"2021-07-02\",\"2021-07-03\",\"2021-07-04\",\"2021-07-05\",\"2021-07-06\",\"2021-07-07\",\"2021-07-08\",\"2021-07-09\",\"2021-07-10\",\"2021-07-11\",\"2021-07-12\",\"2021-07-13\",\"2021-07-14\",\"2021-07-15\",\"2021-07-16\",\"2021-07-17\",\"2021-07-18\",\"2021-07-19\",\"2021-07-20\",\"2021-07-21\",\"2021-07-22\",\"2021-07-23\",\"2021-07-24\",\"2021-07-25\",\"2021-07-26\",\"2021-07-27\",\"2021-07-28\",\"2021-07-29\",\"2021-07-30\",\"2021-07-31\",\"2021-08-01\",\"2021-08-02\",\"2021-08-03\",\"2021-08-04\",\"2021-08-05\",\"2021-08-06\",\"2021-08-07\",\"2021-08-08\",\"2021-08-09\",\"2021-08-10\",\"2021-08-11\",\"2021-08-12\",\"2021-08-13\",\"2021-08-14\",\"2021-08-15\",\"2021-08-16\",\"2021-08-17\",\"2021-08-18\",\"2021-08-19\",\"2021-08-20\",\"2021-08-21\",\"2021-08-22\",\"2021-08-23\",\"2021-08-24\",\"2021-08-25\",\"2021-08-26\",\"2021-08-27\",\"2021-08-28\",\"2021-08-29\",\"2021-08-30\",\"2021-08-31\",\"2021-09-01\",\"2021-09-02\",\"2021-09-03\",\"2021-09-04\",\"2021-09-05\",\"2021-09-06\",\"2021-09-07\",\"2021-09-08\",\"2021-09-09\",\"2021-09-10\",\"2021-09-11\",\"2021-09-12\",\"2021-09-13\",\"2021-09-14\",\"2021-09-15\",\"2021-09-16\",\"2021-09-17\",\"2021-09-18\",\"2021-09-19\",\"2021-09-20\",\"2021-09-21\",\"2021-09-22\",\"2021-09-23\",\"2021-09-24\",\"2021-09-25\",\"2021-09-26\",\"2021-09-27\",\"2021-09-28\",\"2021-09-29\",\"2021-09-30\",\"2021-10-01\",\"2021-10-02\",\"2021-10-03\",\"2021-10-04\",\"2021-10-05\",\"2021-10-06\",\"2021-10-07\",\"2021-10-08\",\"2021-10-09\",\"2021-10-10\",\"2021-10-11\",\"2021-10-12\",\"2021-10-13\",\"2021-10-14\",\"2021-10-15\",\"2021-10-16\",\"2021-10-17\",\"2021-10-18\",\"2021-10-19\",\"2021-10-20\",\"2021-10-21\",\"2021-10-22\",\"2021-10-23\",\"2021-10-24\",\"2021-10-25\",\"2021-10-26\",\"2021-10-27\",\"2021-10-28\",\"2021-10-29\",\"2021-10-30\",\"2021-10-31\",\"2021-11-01\",\"2021-11-02\",\"2021-11-03\",\"2021-11-04\",\"2021-11-05\",\"2021-11-06\",\"2021-11-07\",\"2021-11-08\",\"2021-11-09\",\"2021-11-10\",\"2021-11-11\",\"2021-11-12\",\"2021-11-13\",\"2021-11-14\",\"2021-11-15\",\"2021-11-16\",\"2021-11-17\",\"2021-11-18\",\"2021-11-19\",\"2021-11-20\",\"2021-11-21\",\"2021-11-22\",\"2021-11-23\",\"2021-11-24\",\"2021-11-25\",\"2021-11-26\",\"2021-11-27\",\"2021-11-28\",\"2021-11-29\",\"2021-11-30\",\"2021-12-01\",\"2021-12-02\",\"2021-12-03\",\"2021-12-04\",\"2021-12-05\",\"2021-12-06\",\"2021-12-07\",\"2021-12-08\",\"2021-12-09\",\"2021-12-10\",\"2021-12-11\",\"2021-12-12\",\"2021-12-13\",\"2021-12-14\",\"2021-12-15\",\"2021-12-16\",\"2021-12-17\",\"2021-12-18\",\"2021-12-19\",\"2021-12-20\",\"2021-12-21\",\"2021-12-22\",\"2021-12-23\",\"2021-12-24\",\"2021-12-25\",\"2021-12-26\",\"2021-12-27\",\"2021-12-28\",\"2021-12-29\",\"2021-12-30\",\"2021-12-31\",\"2022-01-01\",\"2022-01-02\",\"2022-01-03\",\"2022-01-04\",\"2022-01-05\",\"2022-01-06\",\"2022-01-07\",\"2022-01-08\",\"2022-01-09\",\"2022-01-10\",\"2022-01-11\",\"2022-01-12\",\"2022-01-13\",\"2022-01-14\",\"2022-01-15\",\"2022-01-16\",\"2022-01-17\",\"2022-01-18\",\"2022-01-19\",\"2022-01-20\",\"2022-01-21\",\"2022-01-22\",\"2022-01-23\",\"2022-01-24\",\"2022-01-25\",\"2022-01-26\",\"2022-01-27\",\"2022-01-28\",\"2022-01-29\",\"2022-01-30\",\"2022-01-31\",\"2022-02-01\",\"2022-02-02\",\"2022-02-03\",\"2022-02-04\",\"2022-02-05\",\"2022-02-06\",\"2022-02-07\",\"2022-02-08\",\"2022-02-09\",\"2022-02-10\",\"2022-02-11\",\"2022-02-12\",\"2022-02-13\",\"2022-02-14\",\"2022-02-15\",\"2022-02-16\",\"2022-02-17\",\"2022-02-18\",\"2022-02-19\",\"2022-02-20\",\"2022-02-21\",\"2022-02-22\",\"2022-02-23\",\"2022-02-24\",\"2022-02-25\",\"2022-02-26\",\"2022-02-27\",\"2022-02-28\",\"2022-03-01\",\"2022-03-02\",\"2022-03-03\",\"2022-03-04\",\"2022-03-05\",\"2022-03-06\",\"2022-03-07\",\"2022-03-08\",\"2022-03-09\",\"2022-03-10\",\"2022-03-11\",\"2022-03-12\",\"2022-03-13\",\"2022-03-14\",\"2022-03-15\",\"2022-03-16\",\"2022-03-17\",\"2022-03-18\",\"2022-03-19\",\"2022-03-20\",\"2022-03-21\",\"2022-03-22\",\"2022-03-23\",\"2022-03-24\",\"2022-03-25\",\"2022-03-26\",\"2022-03-27\",\"2022-03-28\",\"2022-03-29\",\"2022-03-30\",\"2022-03-31\",\"2022-04-01\",\"2022-04-02\",\"2022-04-03\",\"2022-04-04\",\"2022-04-05\",\"2022-04-06\",\"2022-04-07\",\"2022-04-08\",\"2022-04-09\",\"2022-04-10\",\"2022-04-11\",\"2022-04-12\",\"2022-04-13\",\"2022-04-14\",\"2022-04-15\",\"2022-04-16\",\"2022-04-17\",\"2022-04-18\",\"2022-04-19\",\"2022-04-20\",\"2022-04-21\",\"2022-04-22\",\"2022-04-23\",\"2022-04-24\",\"2022-04-25\",\"2022-04-26\",\"2022-04-27\",\"2022-04-28\",\"2022-04-29\",\"2022-04-30\",\"2022-05-01\",\"2022-05-02\",\"2022-05-03\",\"2022-05-04\",\"2022-05-05\",\"2022-05-06\",\"2022-05-07\",\"2022-05-08\",\"2022-05-09\",\"2022-05-10\",\"2022-05-11\",\"2022-05-12\",\"2022-05-13\",\"2022-05-14\",\"2022-05-15\",\"2022-05-16\",\"2022-05-17\",\"2022-05-18\",\"2022-05-19\",\"2022-05-20\",\"2022-05-21\",\"2022-05-22\",\"2022-05-23\",\"2022-05-24\",\"2022-05-25\",\"2022-05-26\",\"2022-05-27\",\"2022-05-28\",\"2022-05-29\",\"2022-05-30\",\"2022-05-31\",\"2022-06-01\",\"2022-06-02\",\"2022-06-03\",\"2022-06-04\",\"2022-06-05\",\"2022-06-06\",\"2022-06-07\",\"2022-06-08\",\"2022-06-09\",\"2022-06-10\",\"2022-06-11\",\"2022-06-12\",\"2022-06-13\",\"2022-06-14\",\"2022-06-15\",\"2022-06-16\",\"2022-06-17\",\"2022-06-18\",\"2022-06-19\",\"2022-06-20\",\"2022-06-21\",\"2022-06-22\",\"2022-06-23\",\"2022-06-24\",\"2022-06-25\",\"2022-06-26\",\"2022-06-27\",\"2022-06-28\",\"2022-06-29\",\"2022-06-30\",\"2022-07-01\",\"2022-07-02\",\"2022-07-03\",\"2022-07-04\",\"2022-07-05\",\"2022-07-06\",\"2022-07-07\",\"2022-07-08\",\"2022-07-09\",\"2022-07-10\",\"2022-07-11\",\"2022-07-12\",\"2022-07-13\",\"2022-07-14\",\"2022-07-15\",\"2022-07-16\",\"2022-07-17\",\"2022-07-18\",\"2022-07-19\",\"2022-07-20\",\"2022-07-21\",\"2022-07-22\",\"2022-07-23\",\"2022-07-24\",\"2022-07-25\",\"2022-07-26\",\"2022-07-27\",\"2022-07-28\",\"2022-07-29\",\"2022-07-30\",\"2022-07-31\",\"2022-08-01\",\"2022-08-02\",\"2022-08-03\",\"2022-08-04\",\"2022-08-05\",\"2022-08-06\",\"2022-08-07\",\"2022-08-08\",\"2022-08-09\",\"2022-08-10\",\"2022-08-11\",\"2022-08-12\",\"2022-08-13\",\"2022-08-14\",\"2022-08-15\",\"2022-08-16\",\"2022-08-17\",\"2022-08-18\",\"2022-08-19\",\"2022-08-20\",\"2022-08-21\",\"2022-08-22\",\"2022-08-23\",\"2022-08-24\",\"2022-08-25\",\"2022-08-26\",\"2022-08-27\",\"2022-08-28\",\"2022-08-29\",\"2022-08-30\",\"2022-08-31\",\"2022-09-01\",\"2022-09-02\",\"2022-09-03\",\"2022-09-04\",\"2022-09-05\",\"2022-09-06\",\"2022-09-07\",\"2022-09-08\",\"2022-09-09\",\"2022-09-10\",\"2022-09-11\",\"2022-09-12\",\"2022-09-13\",\"2022-09-14\",\"2022-09-15\",\"2022-09-16\",\"2022-09-17\",\"2022-09-18\",\"2022-09-19\",\"2022-09-20\",\"2022-09-21\",\"2022-09-22\",\"2022-09-23\",\"2022-09-24\",\"2022-09-25\",\"2022-09-26\",\"2022-09-27\",\"2022-09-28\",\"2022-09-29\",\"2022-09-30\",\"2022-10-01\",\"2022-10-02\",\"2022-10-03\",\"2022-10-04\",\"2022-10-05\",\"2022-10-06\",\"2022-10-07\",\"2022-10-08\",\"2022-10-09\",\"2022-10-10\",\"2022-10-11\",\"2022-10-12\",\"2022-10-13\",\"2022-10-14\",\"2022-10-15\",\"2022-10-16\",\"2022-10-17\",\"2022-10-18\",\"2022-10-19\",\"2022-10-20\",\"2022-10-21\",\"2022-10-22\",\"2022-10-23\",\"2022-10-24\",\"2022-10-25\",\"2022-10-26\",\"2022-10-27\",\"2022-10-28\",\"2022-10-29\",\"2022-10-30\",\"2022-10-31\",\"2022-11-01\",\"2022-11-02\",\"2022-11-03\",\"2022-11-04\",\"2022-11-05\",\"2022-11-06\",\"2022-11-07\",\"2022-11-08\",\"2022-11-09\",\"2022-11-10\",\"2022-11-11\",\"2022-11-12\",\"2022-11-13\",\"2022-11-14\",\"2022-11-15\",\"2022-11-16\",\"2022-11-17\",\"2022-11-18\",\"2022-11-19\",\"2022-11-20\",\"2022-11-21\",\"2022-11-22\",\"2022-11-23\",\"2022-11-24\",\"2022-11-25\",\"2022-11-26\",\"2022-11-27\",\"2022-11-28\",\"2022-11-29\",\"2022-11-30\",\"2022-12-01\",\"2022-12-02\",\"2022-12-03\",\"2022-12-04\",\"2022-12-05\",\"2022-12-06\",\"2022-12-07\",\"2022-12-08\",\"2022-12-09\",\"2022-12-10\",\"2022-12-11\",\"2022-12-12\",\"2022-12-13\",\"2022-12-14\",\"2022-12-15\",\"2022-12-16\",\"2022-12-17\",\"2022-12-18\",\"2022-12-19\",\"2022-12-20\",\"2022-12-21\",\"2022-12-22\",\"2022-12-23\",\"2022-12-24\",\"2022-12-25\",\"2022-12-26\",\"2022-12-27\",\"2022-12-28\",\"2022-12-29\",\"2022-12-30\",\"2022-12-31\",\"2023-01-01\",\"2023-01-02\",\"2023-01-03\",\"2023-01-04\",\"2023-01-05\",\"2023-01-06\",\"2023-01-07\",\"2023-01-08\",\"2023-01-09\",\"2023-01-10\",\"2023-01-11\",\"2023-01-12\",\"2023-01-13\",\"2023-01-14\",\"2023-01-15\",\"2023-01-16\",\"2023-01-17\",\"2023-01-18\",\"2023-01-19\",\"2023-01-20\",\"2023-01-21\",\"2023-01-22\",\"2023-01-23\",\"2023-01-24\",\"2023-01-25\",\"2023-01-26\",\"2023-01-27\",\"2023-01-28\",\"2023-01-29\",\"2023-01-30\",\"2023-01-31\",\"2023-02-01\",\"2023-02-02\",\"2023-02-03\",\"2023-02-04\",\"2023-02-05\",\"2023-02-06\",\"2023-02-07\",\"2023-02-08\",\"2023-02-09\",\"2023-02-10\",\"2023-02-11\",\"2023-02-12\",\"2023-02-13\",\"2023-02-14\",\"2023-02-15\",\"2023-02-16\",\"2023-02-17\",\"2023-02-18\",\"2023-02-19\",\"2023-02-20\",\"2023-02-21\",\"2023-02-22\",\"2023-02-23\",\"2023-02-24\",\"2023-02-25\",\"2023-02-26\",\"2023-02-27\",\"2023-02-28\",\"2023-03-01\",\"2023-03-02\",\"2023-03-03\",\"2023-03-04\",\"2023-03-05\",\"2023-03-06\",\"2023-03-07\",\"2023-03-08\",\"2023-03-09\",\"2023-03-10\",\"2023-03-11\",\"2023-03-12\",\"2023-03-13\",\"2023-03-14\",\"2023-03-15\",\"2023-03-16\",\"2023-03-17\",\"2023-03-18\",\"2023-03-19\",\"2023-03-20\",\"2023-03-21\",\"2023-03-22\",\"2023-03-23\",\"2023-03-24\",\"2023-03-25\",\"2023-03-26\",\"2023-03-27\",\"2023-03-28\",\"2023-03-29\",\"2023-03-30\",\"2023-03-31\",\"2023-04-01\",\"2023-04-02\",\"2023-04-03\",\"2023-04-04\",\"2023-04-05\",\"2023-04-06\",\"2023-04-07\",\"2023-04-08\",\"2023-04-09\",\"2023-04-10\",\"2023-04-11\",\"2023-04-12\",\"2023-04-13\",\"2023-04-14\",\"2023-04-15\",\"2023-04-16\",\"2023-04-17\",\"2023-04-18\",\"2023-04-19\",\"2023-04-20\",\"2023-04-21\",\"2023-04-22\",\"2023-04-23\",\"2023-04-24\",\"2023-04-25\",\"2023-04-26\",\"2023-04-27\",\"2023-04-28\",\"2023-04-29\",\"2023-04-30\",\"2023-05-01\",\"2023-05-02\",\"2023-05-03\",\"2023-05-04\",\"2023-05-05\",\"2023-05-06\",\"2023-05-07\",\"2023-05-08\",\"2023-05-09\",\"2023-05-10\",\"2023-05-11\",\"2023-05-12\",\"2023-05-13\",\"2023-05-14\",\"2023-05-15\",\"2023-05-16\",\"2023-05-17\",\"2023-05-18\",\"2023-05-19\",\"2023-05-20\",\"2023-05-21\",\"2023-05-22\",\"2023-05-23\",\"2023-05-24\",\"2023-05-25\",\"2023-05-26\",\"2023-05-27\",\"2023-05-28\",\"2023-05-29\",\"2023-05-30\",\"2023-05-31\",\"2023-06-01\",\"2023-06-02\",\"2023-06-03\",\"2023-06-04\",\"2023-06-05\",\"2023-06-06\",\"2023-06-07\",\"2023-06-08\",\"2023-06-09\",\"2023-06-10\",\"2023-06-11\",\"2023-06-12\",\"2023-06-13\",\"2023-06-14\",\"2023-06-15\",\"2023-06-16\",\"2023-06-17\",\"2023-06-18\",\"2023-06-19\",\"2023-06-20\",\"2023-06-21\",\"2023-06-22\",\"2023-06-23\",\"2023-06-24\",\"2023-06-25\",\"2023-06-26\",\"2023-06-27\",\"2023-06-28\"],\"y\":[-7260.28,44989.3,8407.15,19769.99,22706.384253716482,12024.79,2471.28,21069.01,22241.23,66381.74,53369.3,-408.89,65827.66,84701.68,52832.53,35716.51,1709.38,31920.7,37600.48293795508,39089.46,58825.83,35608.97,103789.0,39394.48,7413.78,2033.2193296603928,61445.35,191540.03,153109.71,9437.03,272740.57,14603.39,-53884.60111840063,12356.24,17298.66,24712.56,33331.48,12356.26,62539.05,42143.74153159393,-4942.48,-7404.707439441008,4942.5,2284.7603746211244,-15377.802043543245,-40482.61997680803,-27654.041214994024,30670.3,102784.68,49425.06,99499.96,59310.02,38539.88,21261.300362640897,47744.99,165419.23478534966,171827.66,40219.28,516209.97,147953.7,-25373.04988537234,4942.49,16429.09,-1331.13,72113.3,39440.57,119304.61,75817.58529475518,24571.97,85180.22,36966.26,77374.84,119580.14,47340.97,12491.460209925159,21647.87,73564.34,216556.91,76973.8,-9872.12,-32433.759105135476,-9525.500801962256,4845.49,18874.04,109089.24,211675.77,580135.89,286927.07,66180.52444691578,-2471.25,-3196.0,6352.71,2093.0,-12012.59,2471.24,7813.457607309671,1835.8,-10067.883694655926,-21664.129783750013,4447.98,73394.59,153629.27,94609.8104782368,5422.48,5422.47,6789.874778786651,2711.26,2440.01,13556.23,31459.083641648656,37956.17,29822.5,61338.41,6506.12,29010.04,4879.98,-13944.851319105472,-13955.914865795407,4879.97,42568.31567703893,99109.11868962516,174502.3801963241,230009.2382959819,226890.83108744462,165147.3,67781.28,51513.8,50868.77,187315.48,24401.25,-27888.310931745084,2711.25,4592.062774224673,5422.94,27112.57,54122.74,159026.19,145902.4688919098,84048.73,67781.28,74787.06,233167.51,24401.26,80892.06,118585.47108975389,97492.77,51513.79,75915.31,414821.3,138405.01,32804.10568494853,171564.91197614957,15616.49,-304527.96,219394.14,97061.29,26008.01,13556.26,30586.721055457183,36868.9,21039.04,103677.24,61688.26,173293.0066436685,277173.82,157129.44949070615,31992.4,75545.73,48849.51,81770.24,111052.75,56393.83,34631.01148980048,39583.73,42078.05,55308.55,161698.59,197595.72,226334.28,196995.42613960488,110451.24394704054,40907.73,732.5539173090838,5422.51,48802.48,27112.49,76356.6728291788,117360.05,63338.25,43271.53,119762.6,23858.78,40234.73,76333.57162212984,113027.19,136432.26,58996.45,56827.86,85253.1,112895.88,111679.07809550621,126669.33,196387.44,214244.81,24292.74,130789.74,157611.52,80498.3908167829,83831.87,287065.65,358065.6769733593,241477.66987129414,77272.8218789081,5422.49,25926.97091484563,55646.07,26707.75,20593.23,17603.13,117948.72,100316.31,45973.116303806884,33594.39,84916.32,21455.99,17798.8,42728.96,114448.48,134738.2178106716,110103.52,89471.23,155985.95,21216.81,48694.05,102192.02,134515.58049236558,131022.67,106507.14,146229.96,34899.17,678530.48,113872.51,-212290.12456336673,-72739.29871355635,31173.44,15887.67961354031,15445.31,109549.27,25427.96,28401.55327135432,57067.48,25421.49,67448.45,15814.24,11725.39,5299.69,25087.720983528696,67672.66,98258.89,16309.16,29137.02,8133.74,78010.7,46438.44985645411,16267.51,84961.82,34812.29,50862.75,90229.47,77975.28,375794.668693488,574795.88,294020.54,84192.5970708469,20415.2932444877,2602.77,7808.31,-1560.871354654474,10519.51,58326.51,5305.74,2711.27,22505.86791615979,36547.01,26619.205149112968,31992.48,71922.67,41735.91,16150.83,18870.25,28195.07,79010.89991093849,120835.64,96398.08,21472.96,2617.58,76128.21,99477.07,58742.90856301956,29281.26,143407.27,518932.44,8025.24,-390667.4462057498,-471481.39119277,-282153.7231650139,-109114.51411951284,-102.0,44883.49102620871,43380.15,18627.0,5422.57,13023.764187583261,27112.54,35735.96,55851.31,85678.31847958102,124427.3346301654,165952.08992321102,173374.96445237228,140549.71,75555.78,26870.538986944182,2573.4424105421513,2664.5110296338135,22485.0485516603,34082.8772212684,32799.300745899265,18634.34,-3199.0,-1422.032860272062,13556.26,26113.9151719355,36250.938556780085,38089.30366193946,25751.0,-764.0145433346843,-41455.697853768215,-96324.06396939937,-125166.53494454952,-87780.53283354006,15833.58,135304.76,48802.61,118101.48,78968.45,232857.48,99745.18968666391,-32750.77,175027.05,361499.61,-7374.2,68922.04,115732.49,51564.75452628418,-2718.58,43129.21,42728.96,2602.78,31116.42,441031.5,278931.15537648136,189570.15,746759.21,491231.72685407323,-2690.66,-2417.76,-1129.1,14933.651142690796,53193.86256920341,59516.26,29823.68,10376.76,73335.03,56936.26,22456.239879431392,8133.76,32149.5,57201.98,32084.12,53791.19,147057.23,70215.23823520739,21581.56,154997.13,37052.88,47609.04,72364.51,121305.36,108890.9023666395,85132.36,87496.28,83614.77,692778.09,952050.265523992,677856.2125405855,238579.04536999605,2602.76,-30072.090748973806,34255.06,71250.78,5314.02,-489.32,-920.116644922359,5531.04,32317.98,47900.74,5422.49,115847.07,20198.11,-953.0554876292736,29606.71,29715.28,16267.53,62266.79,105087.76,137559.76,77120.59862159318,30149.23,93053.55,120022.00537414468,77324.28,24292.81,314904.83,666283.7388872948,771975.61,384130.33460972935,-5422.51,18870.27,15941.95,9184.171210441877,14084.17715399997,23908.89,36291.0,43817.07,42735.01,28724.43,55959.8,21630.57618966136,-2602.51,51633.22,59213.3,56719.3,50288.88,62260.0,31627.502685788837,13083.33,52816.57,55357.75,103044.2,58644.64,115630.01,395057.04643911886,571639.62,305794.4287506137,2602.81,10845.01,2602.74,-19018.79546498586,-36047.22346405803,-46.93,68797.48,26467.5,5205.5,45440.31,2548.48,-20522.95081779021,15941.99,95728.14,48802.44,36492.76,48157.46,50428.73,57930.808149491655,76970.72,104399.27,110002.56,119701.05,111105.74,204047.8,262889.00590459845,206186.28,36004.48,43380.07,12911.25,6746.779067274423,43309.44274961937,76167.23523948102,58888.08,10845.01,27004.03,17121.61,43380.02,5422.5,64169.677318590264,104992.35,21581.49,25934.72,27043.01,53357.11,16050.55,35243.65344346037,48824.53,2269.36,49144.73,34161.28,-466.76,15942.0,45485.16858792724,55249.2,33630.77,44246.8,31233.02,83940.3,102833.23,92453.9978497825,57020.1233312089,22688.655821173248,15616.52,25751.02,5205.63,10411.02,5113.14784628738,4216.24,20450.73,7443.16,31558.54,23671.72,19113.626759914576,23294.58308880036,17857.88,5088.78,14438.19,27365.8,4763.5,7808.3,13020.564479459928,40112.87,96617.16,88312.42,90468.4,114648.44,42042.93,100502.39559068542,243881.47,363330.22,338027.9357695746,177275.61988269258,57698.68,5205.57,-1380.2178415963836,7425.8,10411.06,29281.23,24292.78,138561.22,178617.38,77597.95085810761,4703.57,75144.49,21364.46,190752.03,74571.97,31873.02,57743.52479142142,71722.59,26401.82,26559.02,53465.64,113634.23,37295.5,16572.19638830084,55091.93,92181.24,16050.48,44250.97,33587.702428636956,-604.9,-11480.301098381282,-8389.67,-1637.42,12887.5,70965.54,67704.0,94253.39639104318,149529.94787407474,113618.56,33173.57,194222.65,73407.27,74410.15,55872.25,41674.15470085897,54544.26,80151.43,14238.97,84387.27,40190.54,272691.18,208257.04603818266,39050.16,39268.55,58803.47,160755.98,165357.91,702916.65,0.0,-371719.02172716876,-181097.08020264946,7553.44,100179.15280605621,106754.1793144543,87117.58,51242.79839254087,24954.75,34078.740826682915,34028.09,-255.94,25067.02,2756.03,-11073.591107676693,-5720.411876684474,3579.12,8267.96,5389.0,115999.64,5512.0,-17089.520574453854,10670.16,-246.82,11024.06,5512.02,38846.99,13779.96,-35195.42978576483,22851.3,250547.75,292691.18324149575,132456.06239298722,24081.75,-255.94,-1746.4145084640209,2627.99,5511.95,10538.91,40170.63,5526.11,2756.01,24889.407869811963,35947.49,10488.54,2756.02,79652.83,22048.02,30316.07,5592.316327274792,19034.09,60946.22,-276241.28,27443.31,36127.89,-8885.46012930718,-29086.29776268979,0.0,55415.99,15182.83,68154.01,103984.21,114936.30607876772,103985.65108809882,71132.32306663506,34604.01007046348,12628.40015567106,5205.48,10257.02,17636.11,39202.98786990535,62098.76,65991.67,16303.28,-59647.48,79630.79,38921.46,-2404.1426996554565,18986.5,85304.68,13556.25,16816.47,82493.27,-122.85,-63484.41223692817,-72918.14516733166,-37212.376183189735,-9098.434266609482,2635.57,33628.84,193562.95,45524.04,264791.26,189586.46534729336,14353.75,28592.85,13779.99,56535.25,31022.346037130374,19521.5,87144.58,25721.98,44006.78,40820.76,31463.55,73009.18352412505,118371.06,97966.62,11368.23,207830.79,79145.97,111665.96,84008.6020605005,25722.04,24881.71,70544.48,33889.65,73279.7,36682.21,18153.02168999154,55082.24,156572.26,262248.38,246690.53712080632,115721.70435072803,22929.74,-6087.2669607737525,17586.56,64942.48,43099.74,29389.51,68644.8,88865.20450456336,79381.88282446189,55408.46,36326.72,100692.02,119367.54,46910.24,85937.49,44484.27216846628,22582.74,125574.5,140935.02,31707.42,86835.0,65230.69,51158.69898902112,31356.35,66744.01,501191.77,189288.49,17586.52,-33022.00325701556,2025.0377073151467,102331.69804283376,145525.99173769742,111212.69,23605.99,11449.0,2950.75,1215.4338781249085,17350.43,45953.04,23606.02,25314.79,34384.02,126354.72201156293,277798.9961561256,264852.21,88167.56,2691.3,124910.31,56866.98,143288.18,102361.22884280774,51931.08,115236.74,24943.48,108269.24920169525,216959.72,184894.01,287259.8015139978,344800.87,180354.26,70935.98,11070.84,35409.02,32816.70443022199,-2462.5137406888343,17114.44,80534.78,47819.21,11501.26,127381.53,34625.21,-7892.619065473433,51056.64,147998.69,20065.21,93607.22,109792.96,102505.99040046167,88071.40168169815,69624.52,52928.75,65523.66,90945.52,113394.45,40117.02,86535.96064596408,235891.89,342269.0,2950.72,-64685.84556764091,23002.48,28783.62,34284.88103316478,108639.91,223500.66,2649.0,50955.02,60011.97,5665.5,-64786.791115322856,31375.38,312041.83,14497.82,17704.5,41686.44,79473.49,98826.76593245883,105677.41,104999.11,45386.364675844816,25664.95,107344.08,52255.32,37397.31326111923,43237.98,56641.49,227456.48,88888.28,367268.12,550111.6882820836,525635.1179329011,328735.2177812062,168797.56588487918,80719.62,54391.63,31146.71,19380.35,60281.5992986477,74739.55,-4396.24,-66172.04565848302,8616.26,224864.73,92873.3,28162.795044090028,37520.24,78136.27,257806.12,88253.77,91233.8,109115.3,56846.77479916327,40130.49,119735.06,51472.54,120453.14,146046.59,567017.79,2950.78,-249227.37330174405,-24303.237702402632,75651.4,5067.48,45612.25,-5124.37,-44577.28260773137,1753.21,140209.35,111410.44222178806,40130.49,80966.69,151095.5,222817.50048571662,182464.74,40536.64,319032.4,59487.72,24292.09,21792.41,69363.33738780463,105890.99,66722.42,28108.33,82548.82,125743.77,144492.29,74859.15585944023,121202.07,412166.39,426410.200699641,148032.3496946227,2950.78,31913.83,53483.625952003276,61073.95,70240.58,32402.74348470667,5665.52,37821.05,28327.52,18286.372064378695,15954.84,17350.47,8541.828707151924,-767.82,-1151.73,-5684.77,-1865.8026488608575,-1023.76,-12534.31,-9578.286153290177,-1500.4,1497.46,33325.28,171022.23862972323,229721.75,93397.12,248522.89],\"type\":\"scatter\"}],                        {\"legend\":{\"bgcolor\":\"#F5F6F9\",\"font\":{\"color\":\"#4D5663\"}},\"paper_bgcolor\":\"#F5F6F9\",\"plot_bgcolor\":\"#F5F6F9\",\"template\":{\"data\":{\"barpolar\":[{\"marker\":{\"line\":{\"color\":\"#E5ECF6\",\"width\":0.5},\"pattern\":{\"fillmode\":\"overlay\",\"size\":10,\"solidity\":0.2}},\"type\":\"barpolar\"}],\"bar\":[{\"error_x\":{\"color\":\"#2a3f5f\"},\"error_y\":{\"color\":\"#2a3f5f\"},\"marker\":{\"line\":{\"color\":\"#E5ECF6\",\"width\":0.5},\"pattern\":{\"fillmode\":\"overlay\",\"size\":10,\"solidity\":0.2}},\"type\":\"bar\"}],\"carpet\":[{\"aaxis\":{\"endlinecolor\":\"#2a3f5f\",\"gridcolor\":\"white\",\"linecolor\":\"white\",\"minorgridcolor\":\"white\",\"startlinecolor\":\"#2a3f5f\"},\"baxis\":{\"endlinecolor\":\"#2a3f5f\",\"gridcolor\":\"white\",\"linecolor\":\"white\",\"minorgridcolor\":\"white\",\"startlinecolor\":\"#2a3f5f\"},\"type\":\"carpet\"}],\"choropleth\":[{\"colorbar\":{\"outlinewidth\":0,\"ticks\":\"\"},\"type\":\"choropleth\"}],\"contourcarpet\":[{\"colorbar\":{\"outlinewidth\":0,\"ticks\":\"\"},\"type\":\"contourcarpet\"}],\"contour\":[{\"colorbar\":{\"outlinewidth\":0,\"ticks\":\"\"},\"colorscale\":[[0.0,\"#0d0887\"],[0.1111111111111111,\"#46039f\"],[0.2222222222222222,\"#7201a8\"],[0.3333333333333333,\"#9c179e\"],[0.4444444444444444,\"#bd3786\"],[0.5555555555555556,\"#d8576b\"],[0.6666666666666666,\"#ed7953\"],[0.7777777777777778,\"#fb9f3a\"],[0.8888888888888888,\"#fdca26\"],[1.0,\"#f0f921\"]],\"type\":\"contour\"}],\"heatmapgl\":[{\"colorbar\":{\"outlinewidth\":0,\"ticks\":\"\"},\"colorscale\":[[0.0,\"#0d0887\"],[0.1111111111111111,\"#46039f\"],[0.2222222222222222,\"#7201a8\"],[0.3333333333333333,\"#9c179e\"],[0.4444444444444444,\"#bd3786\"],[0.5555555555555556,\"#d8576b\"],[0.6666666666666666,\"#ed7953\"],[0.7777777777777778,\"#fb9f3a\"],[0.8888888888888888,\"#fdca26\"],[1.0,\"#f0f921\"]],\"type\":\"heatmapgl\"}],\"heatmap\":[{\"colorbar\":{\"outlinewidth\":0,\"ticks\":\"\"},\"colorscale\":[[0.0,\"#0d0887\"],[0.1111111111111111,\"#46039f\"],[0.2222222222222222,\"#7201a8\"],[0.3333333333333333,\"#9c179e\"],[0.4444444444444444,\"#bd3786\"],[0.5555555555555556,\"#d8576b\"],[0.6666666666666666,\"#ed7953\"],[0.7777777777777778,\"#fb9f3a\"],[0.8888888888888888,\"#fdca26\"],[1.0,\"#f0f921\"]],\"type\":\"heatmap\"}],\"histogram2dcontour\":[{\"colorbar\":{\"outlinewidth\":0,\"ticks\":\"\"},\"colorscale\":[[0.0,\"#0d0887\"],[0.1111111111111111,\"#46039f\"],[0.2222222222222222,\"#7201a8\"],[0.3333333333333333,\"#9c179e\"],[0.4444444444444444,\"#bd3786\"],[0.5555555555555556,\"#d8576b\"],[0.6666666666666666,\"#ed7953\"],[0.7777777777777778,\"#fb9f3a\"],[0.8888888888888888,\"#fdca26\"],[1.0,\"#f0f921\"]],\"type\":\"histogram2dcontour\"}],\"histogram2d\":[{\"colorbar\":{\"outlinewidth\":0,\"ticks\":\"\"},\"colorscale\":[[0.0,\"#0d0887\"],[0.1111111111111111,\"#46039f\"],[0.2222222222222222,\"#7201a8\"],[0.3333333333333333,\"#9c179e\"],[0.4444444444444444,\"#bd3786\"],[0.5555555555555556,\"#d8576b\"],[0.6666666666666666,\"#ed7953\"],[0.7777777777777778,\"#fb9f3a\"],[0.8888888888888888,\"#fdca26\"],[1.0,\"#f0f921\"]],\"type\":\"histogram2d\"}],\"histogram\":[{\"marker\":{\"pattern\":{\"fillmode\":\"overlay\",\"size\":10,\"solidity\":0.2}},\"type\":\"histogram\"}],\"mesh3d\":[{\"colorbar\":{\"outlinewidth\":0,\"ticks\":\"\"},\"type\":\"mesh3d\"}],\"parcoords\":[{\"line\":{\"colorbar\":{\"outlinewidth\":0,\"ticks\":\"\"}},\"type\":\"parcoords\"}],\"pie\":[{\"automargin\":true,\"type\":\"pie\"}],\"scatter3d\":[{\"line\":{\"colorbar\":{\"outlinewidth\":0,\"ticks\":\"\"}},\"marker\":{\"colorbar\":{\"outlinewidth\":0,\"ticks\":\"\"}},\"type\":\"scatter3d\"}],\"scattercarpet\":[{\"marker\":{\"colorbar\":{\"outlinewidth\":0,\"ticks\":\"\"}},\"type\":\"scattercarpet\"}],\"scattergeo\":[{\"marker\":{\"colorbar\":{\"outlinewidth\":0,\"ticks\":\"\"}},\"type\":\"scattergeo\"}],\"scattergl\":[{\"marker\":{\"colorbar\":{\"outlinewidth\":0,\"ticks\":\"\"}},\"type\":\"scattergl\"}],\"scattermapbox\":[{\"marker\":{\"colorbar\":{\"outlinewidth\":0,\"ticks\":\"\"}},\"type\":\"scattermapbox\"}],\"scatterpolargl\":[{\"marker\":{\"colorbar\":{\"outlinewidth\":0,\"ticks\":\"\"}},\"type\":\"scatterpolargl\"}],\"scatterpolar\":[{\"marker\":{\"colorbar\":{\"outlinewidth\":0,\"ticks\":\"\"}},\"type\":\"scatterpolar\"}],\"scatter\":[{\"fillpattern\":{\"fillmode\":\"overlay\",\"size\":10,\"solidity\":0.2},\"type\":\"scatter\"}],\"scatterternary\":[{\"marker\":{\"colorbar\":{\"outlinewidth\":0,\"ticks\":\"\"}},\"type\":\"scatterternary\"}],\"surface\":[{\"colorbar\":{\"outlinewidth\":0,\"ticks\":\"\"},\"colorscale\":[[0.0,\"#0d0887\"],[0.1111111111111111,\"#46039f\"],[0.2222222222222222,\"#7201a8\"],[0.3333333333333333,\"#9c179e\"],[0.4444444444444444,\"#bd3786\"],[0.5555555555555556,\"#d8576b\"],[0.6666666666666666,\"#ed7953\"],[0.7777777777777778,\"#fb9f3a\"],[0.8888888888888888,\"#fdca26\"],[1.0,\"#f0f921\"]],\"type\":\"surface\"}],\"table\":[{\"cells\":{\"fill\":{\"color\":\"#EBF0F8\"},\"line\":{\"color\":\"white\"}},\"header\":{\"fill\":{\"color\":\"#C8D4E3\"},\"line\":{\"color\":\"white\"}},\"type\":\"table\"}]},\"layout\":{\"annotationdefaults\":{\"arrowcolor\":\"#2a3f5f\",\"arrowhead\":0,\"arrowwidth\":1},\"autotypenumbers\":\"strict\",\"coloraxis\":{\"colorbar\":{\"outlinewidth\":0,\"ticks\":\"\"}},\"colorscale\":{\"diverging\":[[0,\"#8e0152\"],[0.1,\"#c51b7d\"],[0.2,\"#de77ae\"],[0.3,\"#f1b6da\"],[0.4,\"#fde0ef\"],[0.5,\"#f7f7f7\"],[0.6,\"#e6f5d0\"],[0.7,\"#b8e186\"],[0.8,\"#7fbc41\"],[0.9,\"#4d9221\"],[1,\"#276419\"]],\"sequential\":[[0.0,\"#0d0887\"],[0.1111111111111111,\"#46039f\"],[0.2222222222222222,\"#7201a8\"],[0.3333333333333333,\"#9c179e\"],[0.4444444444444444,\"#bd3786\"],[0.5555555555555556,\"#d8576b\"],[0.6666666666666666,\"#ed7953\"],[0.7777777777777778,\"#fb9f3a\"],[0.8888888888888888,\"#fdca26\"],[1.0,\"#f0f921\"]],\"sequentialminus\":[[0.0,\"#0d0887\"],[0.1111111111111111,\"#46039f\"],[0.2222222222222222,\"#7201a8\"],[0.3333333333333333,\"#9c179e\"],[0.4444444444444444,\"#bd3786\"],[0.5555555555555556,\"#d8576b\"],[0.6666666666666666,\"#ed7953\"],[0.7777777777777778,\"#fb9f3a\"],[0.8888888888888888,\"#fdca26\"],[1.0,\"#f0f921\"]]},\"colorway\":[\"#636efa\",\"#EF553B\",\"#00cc96\",\"#ab63fa\",\"#FFA15A\",\"#19d3f3\",\"#FF6692\",\"#B6E880\",\"#FF97FF\",\"#FECB52\"],\"font\":{\"color\":\"#2a3f5f\"},\"geo\":{\"bgcolor\":\"white\",\"lakecolor\":\"white\",\"landcolor\":\"#E5ECF6\",\"showlakes\":true,\"showland\":true,\"subunitcolor\":\"white\"},\"hoverlabel\":{\"align\":\"left\"},\"hovermode\":\"closest\",\"mapbox\":{\"style\":\"light\"},\"paper_bgcolor\":\"white\",\"plot_bgcolor\":\"#E5ECF6\",\"polar\":{\"angularaxis\":{\"gridcolor\":\"white\",\"linecolor\":\"white\",\"ticks\":\"\"},\"bgcolor\":\"#E5ECF6\",\"radialaxis\":{\"gridcolor\":\"white\",\"linecolor\":\"white\",\"ticks\":\"\"}},\"scene\":{\"xaxis\":{\"backgroundcolor\":\"#E5ECF6\",\"gridcolor\":\"white\",\"gridwidth\":2,\"linecolor\":\"white\",\"showbackground\":true,\"ticks\":\"\",\"zerolinecolor\":\"white\"},\"yaxis\":{\"backgroundcolor\":\"#E5ECF6\",\"gridcolor\":\"white\",\"gridwidth\":2,\"linecolor\":\"white\",\"showbackground\":true,\"ticks\":\"\",\"zerolinecolor\":\"white\"},\"zaxis\":{\"backgroundcolor\":\"#E5ECF6\",\"gridcolor\":\"white\",\"gridwidth\":2,\"linecolor\":\"white\",\"showbackground\":true,\"ticks\":\"\",\"zerolinecolor\":\"white\"}},\"shapedefaults\":{\"line\":{\"color\":\"#2a3f5f\"}},\"ternary\":{\"aaxis\":{\"gridcolor\":\"white\",\"linecolor\":\"white\",\"ticks\":\"\"},\"baxis\":{\"gridcolor\":\"white\",\"linecolor\":\"white\",\"ticks\":\"\"},\"bgcolor\":\"#E5ECF6\",\"caxis\":{\"gridcolor\":\"white\",\"linecolor\":\"white\",\"ticks\":\"\"}},\"title\":{\"x\":0.05},\"xaxis\":{\"automargin\":true,\"gridcolor\":\"white\",\"linecolor\":\"white\",\"ticks\":\"\",\"title\":{\"standoff\":15},\"zerolinecolor\":\"white\",\"zerolinewidth\":2},\"yaxis\":{\"automargin\":true,\"gridcolor\":\"white\",\"linecolor\":\"white\",\"ticks\":\"\",\"title\":{\"standoff\":15},\"zerolinecolor\":\"white\",\"zerolinewidth\":2}}},\"title\":{\"font\":{\"color\":\"#4D5663\"}},\"xaxis\":{\"gridcolor\":\"#E1E5ED\",\"showgrid\":true,\"tickfont\":{\"color\":\"#4D5663\"},\"title\":{\"font\":{\"color\":\"#4D5663\"},\"text\":\"\"},\"zerolinecolor\":\"#E1E5ED\"},\"yaxis\":{\"gridcolor\":\"#E1E5ED\",\"showgrid\":true,\"tickfont\":{\"color\":\"#4D5663\"},\"title\":{\"font\":{\"color\":\"#4D5663\"},\"text\":\"\"},\"zerolinecolor\":\"#E1E5ED\"}},                        {\"showLink\": true, \"linkText\": \"Export to plot.ly\", \"plotlyServerURL\": \"https://plot.ly\", \"responsive\": true}                    ).then(function(){\n",
       "                            \n",
       "var gd = document.getElementById('411deff5-e4f2-4268-9b53-fbd5592ba6f4');\n",
       "var x = new MutationObserver(function (mutations, observer) {{\n",
       "        var display = window.getComputedStyle(gd).display;\n",
       "        if (!display || display === 'none') {{\n",
       "            console.log([gd, 'removed!']);\n",
       "            Plotly.purge(gd);\n",
       "            observer.disconnect();\n",
       "        }}\n",
       "}});\n",
       "\n",
       "// Listen for the removal of the full notebook cells\n",
       "var notebookContainer = gd.closest('#notebook-container');\n",
       "if (notebookContainer) {{\n",
       "    x.observe(notebookContainer, {childList: true});\n",
       "}}\n",
       "\n",
       "// Listen for the clearing of the current output cell\n",
       "var outputEl = gd.closest('.output');\n",
       "if (outputEl) {{\n",
       "    x.observe(outputEl, {childList: true});\n",
       "}}\n",
       "\n",
       "                        })                };                });            </script>        </div>"
      ]
     },
     "metadata": {},
     "output_type": "display_data"
    }
   ],
   "source": [
    "data['Sales_Value'].iplot()"
   ]
  },
  {
   "cell_type": "code",
   "execution_count": 34,
   "id": "f3ae5847",
   "metadata": {},
   "outputs": [
    {
     "data": {
      "text/html": [
       "<div>\n",
       "<style scoped>\n",
       "    .dataframe tbody tr th:only-of-type {\n",
       "        vertical-align: middle;\n",
       "    }\n",
       "\n",
       "    .dataframe tbody tr th {\n",
       "        vertical-align: top;\n",
       "    }\n",
       "\n",
       "    .dataframe thead th {\n",
       "        text-align: right;\n",
       "    }\n",
       "</style>\n",
       "<table border=\"1\" class=\"dataframe\">\n",
       "  <thead>\n",
       "    <tr style=\"text-align: right;\">\n",
       "      <th></th>\n",
       "      <th>Sales_Qty</th>\n",
       "      <th>Sales_Value</th>\n",
       "      <th>Lag1</th>\n",
       "    </tr>\n",
       "    <tr>\n",
       "      <th>Date</th>\n",
       "      <th></th>\n",
       "      <th></th>\n",
       "      <th></th>\n",
       "    </tr>\n",
       "  </thead>\n",
       "  <tbody>\n",
       "    <tr>\n",
       "      <th>2023-06-24</th>\n",
       "      <td>313.000000</td>\n",
       "      <td>33325.28000</td>\n",
       "      <td>1497.46000</td>\n",
       "    </tr>\n",
       "    <tr>\n",
       "      <th>2023-06-25</th>\n",
       "      <td>1519.710168</td>\n",
       "      <td>171022.23863</td>\n",
       "      <td>33325.28000</td>\n",
       "    </tr>\n",
       "    <tr>\n",
       "      <th>2023-06-26</th>\n",
       "      <td>2025.000000</td>\n",
       "      <td>229721.75000</td>\n",
       "      <td>171022.23863</td>\n",
       "    </tr>\n",
       "    <tr>\n",
       "      <th>2023-06-27</th>\n",
       "      <td>825.000000</td>\n",
       "      <td>93397.12000</td>\n",
       "      <td>229721.75000</td>\n",
       "    </tr>\n",
       "    <tr>\n",
       "      <th>2023-06-28</th>\n",
       "      <td>2200.000000</td>\n",
       "      <td>248522.89000</td>\n",
       "      <td>93397.12000</td>\n",
       "    </tr>\n",
       "  </tbody>\n",
       "</table>\n",
       "</div>"
      ],
      "text/plain": [
       "              Sales_Qty   Sales_Value          Lag1\n",
       "Date                                               \n",
       "2023-06-24   313.000000   33325.28000    1497.46000\n",
       "2023-06-25  1519.710168  171022.23863   33325.28000\n",
       "2023-06-26  2025.000000  229721.75000  171022.23863\n",
       "2023-06-27   825.000000   93397.12000  229721.75000\n",
       "2023-06-28  2200.000000  248522.89000   93397.12000"
      ]
     },
     "execution_count": 34,
     "metadata": {},
     "output_type": "execute_result"
    }
   ],
   "source": [
    "data.tail()"
   ]
  },
  {
   "cell_type": "code",
   "execution_count": 35,
   "id": "e0e6a507",
   "metadata": {},
   "outputs": [
    {
     "data": {
      "image/png": "[encoded data removed]",
      "text/plain": [
       "<Figure size 640x480 with 4 Axes>"
      ]
     },
     "execution_count": 35,
     "metadata": {},
     "output_type": "execute_result"
    },
    {
     "data": {
      "image/png": "[encoded data removed]",
      "text/plain": [
       "<Figure size 640x480 with 4 Axes>"
      ]
     },
     "metadata": {},
     "output_type": "display_data"
    }
   ],
   "source": [
    "seasonal_decompose(data['Sales_Qty'].iloc[:30], model = 'additive').plot()"
   ]
  },
  {
   "cell_type": "code",
   "execution_count": 36,
   "id": "bd2ef1aa",
   "metadata": {},
   "outputs": [],
   "source": [
    "model = SARIMAX(data['Sales_Value'], order = (1, 0, 2), seasonal_order=(1,1,1,7)).fit()"
   ]
  },
  {
   "cell_type": "code",
   "execution_count": 37,
   "id": "906b135c",
   "metadata": {},
   "outputs": [
    {
     "data": {
      "text/html": [
       "<table class=\"simpletable\">\n",
       "<caption>SARIMAX Results</caption>\n",
       "<tr>\n",
       "  <th>Dep. Variable:</th>             <td>Sales_Value</td>           <th>  No. Observations:  </th>     <td>939</td>   \n",
       "</tr>\n",
       "<tr>\n",
       "  <th>Model:</th>           <td>SARIMAX(1, 0, 2)x(1, 1, [1], 7)</td> <th>  Log Likelihood     </th> <td>-12111.609</td>\n",
       "</tr>\n",
       "<tr>\n",
       "  <th>Date:</th>                   <td>Mon, 21 Aug 2023</td>         <th>  AIC                </th>  <td>24235.217</td>\n",
       "</tr>\n",
       "<tr>\n",
       "  <th>Time:</th>                       <td>16:46:47</td>             <th>  BIC                </th>  <td>24264.241</td>\n",
       "</tr>\n",
       "<tr>\n",
       "  <th>Sample:</th>                    <td>12-02-2020</td>            <th>  HQIC               </th>  <td>24246.286</td>\n",
       "</tr>\n",
       "<tr>\n",
       "  <th></th>                          <td>- 06-28-2023</td>           <th>                     </th>      <td> </td>    \n",
       "</tr>\n",
       "<tr>\n",
       "  <th>Covariance Type:</th>               <td>opg</td>               <th>                     </th>      <td> </td>    \n",
       "</tr>\n",
       "</table>\n",
       "<table class=\"simpletable\">\n",
       "<tr>\n",
       "     <td></td>        <th>coef</th>     <th>std err</th>      <th>z</th>      <th>P>|z|</th>  <th>[0.025</th>    <th>0.975]</th>  \n",
       "</tr>\n",
       "<tr>\n",
       "  <th>ar.L1</th>   <td>    0.3031</td> <td>    0.301</td> <td>    1.008</td> <td> 0.313</td> <td>   -0.286</td> <td>    0.892</td>\n",
       "</tr>\n",
       "<tr>\n",
       "  <th>ma.L1</th>   <td>    0.3590</td> <td>    0.302</td> <td>    1.188</td> <td> 0.235</td> <td>   -0.233</td> <td>    0.951</td>\n",
       "</tr>\n",
       "<tr>\n",
       "  <th>ma.L2</th>   <td>   -0.0121</td> <td>    0.189</td> <td>   -0.064</td> <td> 0.949</td> <td>   -0.383</td> <td>    0.358</td>\n",
       "</tr>\n",
       "<tr>\n",
       "  <th>ar.S.L7</th> <td>    0.0154</td> <td>    0.078</td> <td>    0.199</td> <td> 0.842</td> <td>   -0.136</td> <td>    0.167</td>\n",
       "</tr>\n",
       "<tr>\n",
       "  <th>ma.S.L7</th> <td>   -0.9745</td> <td>    0.027</td> <td>  -36.440</td> <td> 0.000</td> <td>   -1.027</td> <td>   -0.922</td>\n",
       "</tr>\n",
       "<tr>\n",
       "  <th>sigma2</th>  <td>  1.81e+10</td> <td> 8.58e-11</td> <td> 2.11e+20</td> <td> 0.000</td> <td> 1.81e+10</td> <td> 1.81e+10</td>\n",
       "</tr>\n",
       "</table>\n",
       "<table class=\"simpletable\">\n",
       "<tr>\n",
       "  <th>Ljung-Box (L1) (Q):</th>     <td>0.00</td> <th>  Jarque-Bera (JB):  </th> <td>5737.67</td>\n",
       "</tr>\n",
       "<tr>\n",
       "  <th>Prob(Q):</th>                <td>0.97</td> <th>  Prob(JB):          </th>  <td>0.00</td>  \n",
       "</tr>\n",
       "<tr>\n",
       "  <th>Heteroskedasticity (H):</th> <td>0.82</td> <th>  Skew:              </th>  <td>1.93</td>  \n",
       "</tr>\n",
       "<tr>\n",
       "  <th>Prob(H) (two-sided):</th>    <td>0.09</td> <th>  Kurtosis:          </th>  <td>14.53</td> \n",
       "</tr>\n",
       "</table><br/><br/>Warnings:<br/>[1] Covariance matrix calculated using the outer product of gradients (complex-step).<br/>[2] Covariance matrix is singular or near-singular, with condition number 1.7e+35. Standard errors may be unstable."
      ],
      "text/latex": [
       "\\begin{center}\n",
       "\\begin{tabular}{lclc}\n",
       "\\toprule\n",
       "\\textbf{Dep. Variable:}          &           Sales\\_Value          & \\textbf{  No. Observations:  } &    939      \\\\\n",
       "\\textbf{Model:}                  & SARIMAX(1, 0, 2)x(1, 1, [1], 7) & \\textbf{  Log Likelihood     } & -12111.609  \\\\\n",
       "\\textbf{Date:}                   &         Mon, 21 Aug 2023        & \\textbf{  AIC                } & 24235.217   \\\\\n",
       "\\textbf{Time:}                   &             16:46:47            & \\textbf{  BIC                } & 24264.241   \\\\\n",
       "\\textbf{Sample:}                 &            12-02-2020           & \\textbf{  HQIC               } & 24246.286   \\\\\n",
       "\\textbf{}                        &           - 06-28-2023          & \\textbf{                     } &             \\\\\n",
       "\\textbf{Covariance Type:}        &               opg               & \\textbf{                     } &             \\\\\n",
       "\\bottomrule\n",
       "\\end{tabular}\n",
       "\\begin{tabular}{lcccccc}\n",
       "                 & \\textbf{coef} & \\textbf{std err} & \\textbf{z} & \\textbf{P$> |$z$|$} & \\textbf{[0.025} & \\textbf{0.975]}  \\\\\n",
       "\\midrule\n",
       "\\textbf{ar.L1}   &       0.3031  &        0.301     &     1.008  &         0.313        &       -0.286    &        0.892     \\\\\n",
       "\\textbf{ma.L1}   &       0.3590  &        0.302     &     1.188  &         0.235        &       -0.233    &        0.951     \\\\\n",
       "\\textbf{ma.L2}   &      -0.0121  &        0.189     &    -0.064  &         0.949        &       -0.383    &        0.358     \\\\\n",
       "\\textbf{ar.S.L7} &       0.0154  &        0.078     &     0.199  &         0.842        &       -0.136    &        0.167     \\\\\n",
       "\\textbf{ma.S.L7} &      -0.9745  &        0.027     &   -36.440  &         0.000        &       -1.027    &       -0.922     \\\\\n",
       "\\textbf{sigma2}  &     1.81e+10  &     8.58e-11     &  2.11e+20  &         0.000        &     1.81e+10    &     1.81e+10     \\\\\n",
       "\\bottomrule\n",
       "\\end{tabular}\n",
       "\\begin{tabular}{lclc}\n",
       "\\textbf{Ljung-Box (L1) (Q):}     & 0.00 & \\textbf{  Jarque-Bera (JB):  } & 5737.67  \\\\\n",
       "\\textbf{Prob(Q):}                & 0.97 & \\textbf{  Prob(JB):          } &   0.00   \\\\\n",
       "\\textbf{Heteroskedasticity (H):} & 0.82 & \\textbf{  Skew:              } &   1.93   \\\\\n",
       "\\textbf{Prob(H) (two-sided):}    & 0.09 & \\textbf{  Kurtosis:          } &  14.53   \\\\\n",
       "\\bottomrule\n",
       "\\end{tabular}\n",
       "%\\caption{SARIMAX Results}\n",
       "\\end{center}\n",
       "\n",
       "Warnings: \\newline\n",
       " [1] Covariance matrix calculated using the outer product of gradients (complex-step). \\newline\n",
       " [2] Covariance matrix is singular or near-singular, with condition number 1.7e+35. Standard errors may be unstable."
      ],
      "text/plain": [
       "<class 'statsmodels.iolib.summary.Summary'>\n",
       "\"\"\"\n",
       "                                      SARIMAX Results                                      \n",
       "===========================================================================================\n",
       "Dep. Variable:                         Sales_Value   No. Observations:                  939\n",
       "Model:             SARIMAX(1, 0, 2)x(1, 1, [1], 7)   Log Likelihood              -12111.609\n",
       "Date:                             Mon, 21 Aug 2023   AIC                          24235.217\n",
       "Time:                                     16:46:47   BIC                          24264.241\n",
       "Sample:                                 12-02-2020   HQIC                         24246.286\n",
       "                                      - 06-28-2023                                         \n",
       "Covariance Type:                               opg                                         \n",
       "==============================================================================\n",
       "                 coef    std err          z      P>|z|      [0.025      0.975]\n",
       "------------------------------------------------------------------------------\n",
       "ar.L1          0.3031      0.301      1.008      0.313      -0.286       0.892\n",
       "ma.L1          0.3590      0.302      1.188      0.235      -0.233       0.951\n",
       "ma.L2         -0.0121      0.189     -0.064      0.949      -0.383       0.358\n",
       "ar.S.L7        0.0154      0.078      0.199      0.842      -0.136       0.167\n",
       "ma.S.L7       -0.9745      0.027    -36.440      0.000      -1.027      -0.922\n",
       "sigma2       1.81e+10   8.58e-11   2.11e+20      0.000    1.81e+10    1.81e+10\n",
       "===================================================================================\n",
       "Ljung-Box (L1) (Q):                   0.00   Jarque-Bera (JB):              5737.67\n",
       "Prob(Q):                              0.97   Prob(JB):                         0.00\n",
       "Heteroskedasticity (H):               0.82   Skew:                             1.93\n",
       "Prob(H) (two-sided):                  0.09   Kurtosis:                        14.53\n",
       "===================================================================================\n",
       "\n",
       "Warnings:\n",
       "[1] Covariance matrix calculated using the outer product of gradients (complex-step).\n",
       "[2] Covariance matrix is singular or near-singular, with condition number 1.7e+35. Standard errors may be unstable.\n",
       "\"\"\""
      ]
     },
     "execution_count": 37,
     "metadata": {},
     "output_type": "execute_result"
    }
   ],
   "source": [
    "model.summary()"
   ]
  },
  {
   "cell_type": "code",
   "execution_count": 38,
   "id": "5a645934",
   "metadata": {},
   "outputs": [],
   "source": [
    "yhat = model.predict()"
   ]
  },
  {
   "cell_type": "code",
   "execution_count": 39,
   "id": "3322ee5f",
   "metadata": {},
   "outputs": [],
   "source": [
    "import matplotlib.pyplot as plt"
   ]
  },
  {
   "cell_type": "code",
   "execution_count": 40,
   "id": "715437fc",
   "metadata": {},
   "outputs": [
    {
     "data": {
      "application/vnd.plotly.v1+json": {
       "config": {
        "linkText": "Export to plot.ly",
        "plotlyServerURL": "https://plot.ly",
        "showLink": true
       },
       "data": [
        {
         "line": {
          "color": "rgba(255, 153, 51, 1.0)",
          "dash": "solid",
          "shape": "linear",
          "width": 1.3
         },
         "mode": "lines",
         "name": "Predictions",
         "text": "",
         "type": "scatter",
         "x": [
          "2020-12-02",
          "2020-12-03",
          "2020-12-04",
          "2020-12-05",
          "2020-12-06",
          "2020-12-07",
          "2020-12-08",
          "2020-12-09",
          "2020-12-10",
          "2020-12-11",
          "2020-12-12",
          "2020-12-13",
          "2020-12-14",
          "2020-12-15",
          "2020-12-16",
          "2020-12-17",
          "2020-12-18",
          "2020-12-19",
          "2020-12-20",
          "2020-12-21",
          "2020-12-22",
          "2020-12-23",
          "2020-12-24",
          "2020-12-25",
          "2020-12-26",
          "2020-12-27",
          "2020-12-28",
          "2020-12-29",
          "2020-12-30",
          "2020-12-31",
          "2021-01-01",
          "2021-01-02",
          "2021-01-03",
          "2021-01-04",
          "2021-01-05",
          "2021-01-06",
          "2021-01-07",
          "2021-01-08",
          "2021-01-09",
          "2021-01-10",
          "2021-01-11",
          "2021-01-12",
          "2021-01-13",
          "2021-01-14",
          "2021-01-15",
          "2021-01-16",
          "2021-01-17",
          "2021-01-18",
          "2021-01-19",
          "2021-01-20",
          "2021-01-21",
          "2021-01-22",
          "2021-01-23",
          "2021-01-24",
          "2021-01-25",
          "2021-01-26",
          "2021-01-27",
          "2021-01-28",
          "2021-01-29",
          "2021-01-30",
          "2021-01-31",
          "2021-02-01",
          "2021-02-02",
          "2021-02-03",
          "2021-02-04",
          "2021-02-05",
          "2021-02-06",
          "2021-02-07",
          "2021-02-08",
          "2021-02-09",
          "2021-02-10",
          "2021-02-11",
          "2021-02-12",
          "2021-02-13",
          "2021-02-14",
          "2021-02-15",
          "2021-02-16",
          "2021-02-17",
          "2021-02-18",
          "2021-02-19",
          "2021-02-20",
          "2021-02-21",
          "2021-02-22",
          "2021-02-23",
          "2021-02-24",
          "2021-02-25",
          "2021-02-26",
          "2021-02-27",
          "2021-02-28",
          "2021-03-01",
          "2021-03-02",
          "2021-03-03",
          "2021-03-04",
          "2021-03-05",
          "2021-03-06",
          "2021-03-07",
          "2021-03-08",
          "2021-03-09",
          "2021-03-10",
          "2021-03-11",
          "2021-03-12",
          "2021-03-13",
          "2021-03-14",
          "2021-03-15",
          "2021-03-16",
          "2021-03-17",
          "2021-03-18",
          "2021-03-19",
          "2021-03-20",
          "2021-03-21",
          "2021-03-22",
          "2021-03-23",
          "2021-03-24",
          "2021-03-25",
          "2021-03-26",
          "2021-03-27",
          "2021-03-28",
          "2021-03-29",
          "2021-03-30",
          "2021-03-31",
          "2021-04-01",
          "2021-04-02",
          "2021-04-03",
          "2021-04-04",
          "2021-04-05",
          "2021-04-06",
          "2021-04-07",
          "2021-04-08",
          "2021-04-09",
          "2021-04-10",
          "2021-04-11",
          "2021-04-12",
          "2021-04-13",
          "2021-04-14",
          "2021-04-15",
          "2021-04-16",
          "2021-04-17",
          "2021-04-18",
          "2021-04-19",
          "2021-04-20",
          "2021-04-21",
          "2021-04-22",
          "2021-04-23",
          "2021-04-24",
          "2021-04-25",
          "2021-04-26",
          "2021-04-27",
          "2021-04-28",
          "2021-04-29",
          "2021-04-30",
          "2021-05-01",
          "2021-05-02",
          "2021-05-03",
          "2021-05-04",
          "2021-05-05",
          "2021-05-06",
          "2021-05-07",
          "2021-05-08",
          "2021-05-09",
          "2021-05-10",
          "2021-05-11",
          "2021-05-12",
          "2021-05-13",
          "2021-05-14",
          "2021-05-15",
          "2021-05-16",
          "2021-05-17",
          "2021-05-18",
          "2021-05-19",
          "2021-05-20",
          "2021-05-21",
          "2021-05-22",
          "2021-05-23",
          "2021-05-24",
          "2021-05-25",
          "2021-05-26",
          "2021-05-27",
          "2021-05-28",
          "2021-05-29",
          "2021-05-30",
          "2021-05-31",
          "2021-06-01",
          "2021-06-02",
          "2021-06-03",
          "2021-06-04",
          "2021-06-05",
          "2021-06-06",
          "2021-06-07",
          "2021-06-08",
          "2021-06-09",
          "2021-06-10",
          "2021-06-11",
          "2021-06-12",
          "2021-06-13",
          "2021-06-14",
          "2021-06-15",
          "2021-06-16",
          "2021-06-17",
          "2021-06-18",
          "2021-06-19",
          "2021-06-20",
          "2021-06-21",
          "2021-06-22",
          "2021-06-23",
          "2021-06-24",
          "2021-06-25",
          "2021-06-26",
          "2021-06-27",
          "2021-06-28",
          "2021-06-29",
          "2021-06-30",
          "2021-07-01",
          "2021-07-02",
          "2021-07-03",
          "2021-07-04",
          "2021-07-05",
          "2021-07-06",
          "2021-07-07",
          "2021-07-08",
          "2021-07-09",
          "2021-07-10",
          "2021-07-11",
          "2021-07-12",
          "2021-07-13",
          "2021-07-14",
          "2021-07-15",
          "2021-07-16",
          "2021-07-17",
          "2021-07-18",
          "2021-07-19",
          "2021-07-20",
          "2021-07-21",
          "2021-07-22",
          "2021-07-23",
          "2021-07-24",
          "2021-07-25",
          "2021-07-26",
          "2021-07-27",
          "2021-07-28",
          "2021-07-29",
          "2021-07-30",
          "2021-07-31",
          "2021-08-01",
          "2021-08-02",
          "2021-08-03",
          "2021-08-04",
          "2021-08-05",
          "2021-08-06",
          "2021-08-07",
          "2021-08-08",
          "2021-08-09",
          "2021-08-10",
          "2021-08-11",
          "2021-08-12",
          "2021-08-13",
          "2021-08-14",
          "2021-08-15",
          "2021-08-16",
          "2021-08-17",
          "2021-08-18",
          "2021-08-19",
          "2021-08-20",
          "2021-08-21",
          "2021-08-22",
          "2021-08-23",
          "2021-08-24",
          "2021-08-25",
          "2021-08-26",
          "2021-08-27",
          "2021-08-28",
          "2021-08-29",
          "2021-08-30",
          "2021-08-31",
          "2021-09-01",
          "2021-09-02",
          "2021-09-03",
          "2021-09-04",
          "2021-09-05",
          "2021-09-06",
          "2021-09-07",
          "2021-09-08",
          "2021-09-09",
          "2021-09-10",
          "2021-09-11",
          "2021-09-12",
          "2021-09-13",
          "2021-09-14",
          "2021-09-15",
          "2021-09-16",
          "2021-09-17",
          "2021-09-18",
          "2021-09-19",
          "2021-09-20",
          "2021-09-21",
          "2021-09-22",
          "2021-09-23",
          "2021-09-24",
          "2021-09-25",
          "2021-09-26",
          "2021-09-27",
          "2021-09-28",
          "2021-09-29",
          "2021-09-30",
          "2021-10-01",
          "2021-10-02",
          "2021-10-03",
          "2021-10-04",
          "2021-10-05",
          "2021-10-06",
          "2021-10-07",
          "2021-10-08",
          "2021-10-09",
          "2021-10-10",
          "2021-10-11",
          "2021-10-12",
          "2021-10-13",
          "2021-10-14",
          "2021-10-15",
          "2021-10-16",
          "2021-10-17",
          "2021-10-18",
          "2021-10-19",
          "2021-10-20",
          "2021-10-21",
          "2021-10-22",
          "2021-10-23",
          "2021-10-24",
          "2021-10-25",
          "2021-10-26",
          "2021-10-27",
          "2021-10-28",
          "2021-10-29",
          "2021-10-30",
          "2021-10-31",
          "2021-11-01",
          "2021-11-02",
          "2021-11-03",
          "2021-11-04",
          "2021-11-05",
          "2021-11-06",
          "2021-11-07",
          "2021-11-08",
          "2021-11-09",
          "2021-11-10",
          "2021-11-11",
          "2021-11-12",
          "2021-11-13",
          "2021-11-14",
          "2021-11-15",
          "2021-11-16",
          "2021-11-17",
          "2021-11-18",
          "2021-11-19",
          "2021-11-20",
          "2021-11-21",
          "2021-11-22",
          "2021-11-23",
          "2021-11-24",
          "2021-11-25",
          "2021-11-26",
          "2021-11-27",
          "2021-11-28",
          "2021-11-29",
          "2021-11-30",
          "2021-12-01",
          "2021-12-02",
          "2021-12-03",
          "2021-12-04",
          "2021-12-05",
          "2021-12-06",
          "2021-12-07",
          "2021-12-08",
          "2021-12-09",
          "2021-12-10",
          "2021-12-11",
          "2021-12-12",
          "2021-12-13",
          "2021-12-14",
          "2021-12-15",
          "2021-12-16",
          "2021-12-17",
          "2021-12-18",
          "2021-12-19",
          "2021-12-20",
          "2021-12-21",
          "2021-12-22",
          "2021-12-23",
          "2021-12-24",
          "2021-12-25",
          "2021-12-26",
          "2021-12-27",
          "2021-12-28",
          "2021-12-29",
          "2021-12-30",
          "2021-12-31",
          "2022-01-01",
          "2022-01-02",
          "2022-01-03",
          "2022-01-04",
          "2022-01-05",
          "2022-01-06",
          "2022-01-07",
          "2022-01-08",
          "2022-01-09",
          "2022-01-10",
          "2022-01-11",
          "2022-01-12",
          "2022-01-13",
          "2022-01-14",
          "2022-01-15",
          "2022-01-16",
          "2022-01-17",
          "2022-01-18",
          "2022-01-19",
          "2022-01-20",
          "2022-01-21",
          "2022-01-22",
          "2022-01-23",
          "2022-01-24",
          "2022-01-25",
          "2022-01-26",
          "2022-01-27",
          "2022-01-28",
          "2022-01-29",
          "2022-01-30",
          "2022-01-31",
          "2022-02-01",
          "2022-02-02",
          "2022-02-03",
          "2022-02-04",
          "2022-02-05",
          "2022-02-06",
          "2022-02-07",
          "2022-02-08",
          "2022-02-09",
          "2022-02-10",
          "2022-02-11",
          "2022-02-12",
          "2022-02-13",
          "2022-02-14",
          "2022-02-15",
          "2022-02-16",
          "2022-02-17",
          "2022-02-18",
          "2022-02-19",
          "2022-02-20",
          "2022-02-21",
          "2022-02-22",
          "2022-02-23",
          "2022-02-24",
          "2022-02-25",
          "2022-02-26",
          "2022-02-27",
          "2022-02-28",
          "2022-03-01",
          "2022-03-02",
          "2022-03-03",
          "2022-03-04",
          "2022-03-05",
          "2022-03-06",
          "2022-03-07",
          "2022-03-08",
          "2022-03-09",
          "2022-03-10",
          "2022-03-11",
          "2022-03-12",
          "2022-03-13",
          "2022-03-14",
          "2022-03-15",
          "2022-03-16",
          "2022-03-17",
          "2022-03-18",
          "2022-03-19",
          "2022-03-20",
          "2022-03-21",
          "2022-03-22",
          "2022-03-23",
          "2022-03-24",
          "2022-03-25",
          "2022-03-26",
          "2022-03-27",
          "2022-03-28",
          "2022-03-29",
          "2022-03-30",
          "2022-03-31",
          "2022-04-01",
          "2022-04-02",
          "2022-04-03",
          "2022-04-04",
          "2022-04-05",
          "2022-04-06",
          "2022-04-07",
          "2022-04-08",
          "2022-04-09",
          "2022-04-10",
          "2022-04-11",
          "2022-04-12",
          "2022-04-13",
          "2022-04-14",
          "2022-04-15",
          "2022-04-16",
          "2022-04-17",
          "2022-04-18",
          "2022-04-19",
          "2022-04-20",
          "2022-04-21",
          "2022-04-22",
          "2022-04-23",
          "2022-04-24",
          "2022-04-25",
          "2022-04-26",
          "2022-04-27",
          "2022-04-28",
          "2022-04-29",
          "2022-04-30",
          "2022-05-01",
          "2022-05-02",
          "2022-05-03",
          "2022-05-04",
          "2022-05-05",
          "2022-05-06",
          "2022-05-07",
          "2022-05-08",
          "2022-05-09",
          "2022-05-10",
          "2022-05-11",
          "2022-05-12",
          "2022-05-13",
          "2022-05-14",
          "2022-05-15",
          "2022-05-16",
          "2022-05-17",
          "2022-05-18",
          "2022-05-19",
          "2022-05-20",
          "2022-05-21",
          "2022-05-22",
          "2022-05-23",
          "2022-05-24",
          "2022-05-25",
          "2022-05-26",
          "2022-05-27",
          "2022-05-28",
          "2022-05-29",
          "2022-05-30",
          "2022-05-31",
          "2022-06-01",
          "2022-06-02",
          "2022-06-03",
          "2022-06-04",
          "2022-06-05",
          "2022-06-06",
          "2022-06-07",
          "2022-06-08",
          "2022-06-09",
          "2022-06-10",
          "2022-06-11",
          "2022-06-12",
          "2022-06-13",
          "2022-06-14",
          "2022-06-15",
          "2022-06-16",
          "2022-06-17",
          "2022-06-18",
          "2022-06-19",
          "2022-06-20",
          "2022-06-21",
          "2022-06-22",
          "2022-06-23",
          "2022-06-24",
          "2022-06-25",
          "2022-06-26",
          "2022-06-27",
          "2022-06-28",
          "2022-06-29",
          "2022-06-30",
          "2022-07-01",
          "2022-07-02",
          "2022-07-03",
          "2022-07-04",
          "2022-07-05",
          "2022-07-06",
          "2022-07-07",
          "2022-07-08",
          "2022-07-09",
          "2022-07-10",
          "2022-07-11",
          "2022-07-12",
          "2022-07-13",
          "2022-07-14",
          "2022-07-15",
          "2022-07-16",
          "2022-07-17",
          "2022-07-18",
          "2022-07-19",
          "2022-07-20",
          "2022-07-21",
          "2022-07-22",
          "2022-07-23",
          "2022-07-24",
          "2022-07-25",
          "2022-07-26",
          "2022-07-27",
          "2022-07-28",
          "2022-07-29",
          "2022-07-30",
          "2022-07-31",
          "2022-08-01",
          "2022-08-02",
          "2022-08-03",
          "2022-08-04",
          "2022-08-05",
          "2022-08-06",
          "2022-08-07",
          "2022-08-08",
          "2022-08-09",
          "2022-08-10",
          "2022-08-11",
          "2022-08-12",
          "2022-08-13",
          "2022-08-14",
          "2022-08-15",
          "2022-08-16",
          "2022-08-17",
          "2022-08-18",
          "2022-08-19",
          "2022-08-20",
          "2022-08-21",
          "2022-08-22",
          "2022-08-23",
          "2022-08-24",
          "2022-08-25",
          "2022-08-26",
          "2022-08-27",
          "2022-08-28",
          "2022-08-29",
          "2022-08-30",
          "2022-08-31",
          "2022-09-01",
          "2022-09-02",
          "2022-09-03",
          "2022-09-04",
          "2022-09-05",
          "2022-09-06",
          "2022-09-07",
          "2022-09-08",
          "2022-09-09",
          "2022-09-10",
          "2022-09-11",
          "2022-09-12",
          "2022-09-13",
          "2022-09-14",
          "2022-09-15",
          "2022-09-16",
          "2022-09-17",
          "2022-09-18",
          "2022-09-19",
          "2022-09-20",
          "2022-09-21",
          "2022-09-22",
          "2022-09-23",
          "2022-09-24",
          "2022-09-25",
          "2022-09-26",
          "2022-09-27",
          "2022-09-28",
          "2022-09-29",
          "2022-09-30",
          "2022-10-01",
          "2022-10-02",
          "2022-10-03",
          "2022-10-04",
          "2022-10-05",
          "2022-10-06",
          "2022-10-07",
          "2022-10-08",
          "2022-10-09",
          "2022-10-10",
          "2022-10-11",
          "2022-10-12",
          "2022-10-13",
          "2022-10-14",
          "2022-10-15",
          "2022-10-16",
          "2022-10-17",
          "2022-10-18",
          "2022-10-19",
          "2022-10-20",
          "2022-10-21",
          "2022-10-22",
          "2022-10-23",
          "2022-10-24",
          "2022-10-25",
          "2022-10-26",
          "2022-10-27",
          "2022-10-28",
          "2022-10-29",
          "2022-10-30",
          "2022-10-31",
          "2022-11-01",
          "2022-11-02",
          "2022-11-03",
          "2022-11-04",
          "2022-11-05",
          "2022-11-06",
          "2022-11-07",
          "2022-11-08",
          "2022-11-09",
          "2022-11-10",
          "2022-11-11",
          "2022-11-12",
          "2022-11-13",
          "2022-11-14",
          "2022-11-15",
          "2022-11-16",
          "2022-11-17",
          "2022-11-18",
          "2022-11-19",
          "2022-11-20",
          "2022-11-21",
          "2022-11-22",
          "2022-11-23",
          "2022-11-24",
          "2022-11-25",
          "2022-11-26",
          "2022-11-27",
          "2022-11-28",
          "2022-11-29",
          "2022-11-30",
          "2022-12-01",
          "2022-12-02",
          "2022-12-03",
          "2022-12-04",
          "2022-12-05",
          "2022-12-06",
          "2022-12-07",
          "2022-12-08",
          "2022-12-09",
          "2022-12-10",
          "2022-12-11",
          "2022-12-12",
          "2022-12-13",
          "2022-12-14",
          "2022-12-15",
          "2022-12-16",
          "2022-12-17",
          "2022-12-18",
          "2022-12-19",
          "2022-12-20",
          "2022-12-21",
          "2022-12-22",
          "2022-12-23",
          "2022-12-24",
          "2022-12-25",
          "2022-12-26",
          "2022-12-27",
          "2022-12-28",
          "2022-12-29",
          "2022-12-30",
          "2022-12-31",
          "2023-01-01",
          "2023-01-02",
          "2023-01-03",
          "2023-01-04",
          "2023-01-05",
          "2023-01-06",
          "2023-01-07",
          "2023-01-08",
          "2023-01-09",
          "2023-01-10",
          "2023-01-11",
          "2023-01-12",
          "2023-01-13",
          "2023-01-14",
          "2023-01-15",
          "2023-01-16",
          "2023-01-17",
          "2023-01-18",
          "2023-01-19",
          "2023-01-20",
          "2023-01-21",
          "2023-01-22",
          "2023-01-23",
          "2023-01-24",
          "2023-01-25",
          "2023-01-26",
          "2023-01-27",
          "2023-01-28",
          "2023-01-29",
          "2023-01-30",
          "2023-01-31",
          "2023-02-01",
          "2023-02-02",
          "2023-02-03",
          "2023-02-04",
          "2023-02-05",
          "2023-02-06",
          "2023-02-07",
          "2023-02-08",
          "2023-02-09",
          "2023-02-10",
          "2023-02-11",
          "2023-02-12",
          "2023-02-13",
          "2023-02-14",
          "2023-02-15",
          "2023-02-16",
          "2023-02-17",
          "2023-02-18",
          "2023-02-19",
          "2023-02-20",
          "2023-02-21",
          "2023-02-22",
          "2023-02-23",
          "2023-02-24",
          "2023-02-25",
          "2023-02-26",
          "2023-02-27",
          "2023-02-28",
          "2023-03-01",
          "2023-03-02",
          "2023-03-03",
          "2023-03-04",
          "2023-03-05",
          "2023-03-06",
          "2023-03-07",
          "2023-03-08",
          "2023-03-09",
          "2023-03-10",
          "2023-03-11",
          "2023-03-12",
          "2023-03-13",
          "2023-03-14",
          "2023-03-15",
          "2023-03-16",
          "2023-03-17",
          "2023-03-18",
          "2023-03-19",
          "2023-03-20",
          "2023-03-21",
          "2023-03-22",
          "2023-03-23",
          "2023-03-24",
          "2023-03-25",
          "2023-03-26",
          "2023-03-27",
          "2023-03-28",
          "2023-03-29",
          "2023-03-30",
          "2023-03-31",
          "2023-04-01",
          "2023-04-02",
          "2023-04-03",
          "2023-04-04",
          "2023-04-05",
          "2023-04-06",
          "2023-04-07",
          "2023-04-08",
          "2023-04-09",
          "2023-04-10",
          "2023-04-11",
          "2023-04-12",
          "2023-04-13",
          "2023-04-14",
          "2023-04-15",
          "2023-04-16",
          "2023-04-17",
          "2023-04-18",
          "2023-04-19",
          "2023-04-20",
          "2023-04-21",
          "2023-04-22",
          "2023-04-23",
          "2023-04-24",
          "2023-04-25",
          "2023-04-26",
          "2023-04-27",
          "2023-04-28",
          "2023-04-29",
          "2023-04-30",
          "2023-05-01",
          "2023-05-02",
          "2023-05-03",
          "2023-05-04",
          "2023-05-05",
          "2023-05-06",
          "2023-05-07",
          "2023-05-08",
          "2023-05-09",
          "2023-05-10",
          "2023-05-11",
          "2023-05-12",
          "2023-05-13",
          "2023-05-14",
          "2023-05-15",
          "2023-05-16",
          "2023-05-17",
          "2023-05-18",
          "2023-05-19",
          "2023-05-20",
          "2023-05-21",
          "2023-05-22",
          "2023-05-23",
          "2023-05-24",
          "2023-05-25",
          "2023-05-26",
          "2023-05-27",
          "2023-05-28",
          "2023-05-29",
          "2023-05-30",
          "2023-05-31",
          "2023-06-01",
          "2023-06-02",
          "2023-06-03",
          "2023-06-04",
          "2023-06-05",
          "2023-06-06",
          "2023-06-07",
          "2023-06-08",
          "2023-06-09",
          "2023-06-10",
          "2023-06-11",
          "2023-06-12",
          "2023-06-13",
          "2023-06-14",
          "2023-06-15",
          "2023-06-16",
          "2023-06-17",
          "2023-06-18",
          "2023-06-19",
          "2023-06-20",
          "2023-06-21",
          "2023-06-22",
          "2023-06-23",
          "2023-06-24",
          "2023-06-25",
          "2023-06-26",
          "2023-06-27",
          "2023-06-28"
         ],
         "y": [
          0,
          -3921.6573007575316,
          30459.542262549603,
          -5712.989478897811,
          15975.246657426267,
          10893.714415829956,
          10921.525236397441,
          -7576.8947197099305,
          39922.761956529896,
          -2503.3411685969913,
          53782.389578124814,
          23712.59944396369,
          -6037.483626457557,
          45334.84665713081,
          40295.91998962176,
          40716.279290110586,
          27798.398762263663,
          8260.802298726092,
          18035.182453336216,
          42121.104337269484,
          30916.962184927317,
          35840.553289910546,
          30973.051373482478,
          68406.41374259173,
          21237.241128693902,
          4944.721703841766,
          24115.78882565711,
          58908.01320693827,
          112641.32955905455,
          95352.35693074287,
          -17881.339653806543,
          202962.35909678627,
          -61651.22111868461,
          19908.206628736443,
          55432.8125622182,
          17066.04631860496,
          32619.541694447747,
          68107.52819863768,
          -16164.35900595762,
          41520.425384870985,
          42405.39269879426,
          27146.659212642968,
          9517.779862849788,
          23762.095397469453,
          38779.05269116665,
          -13342.502897124745,
          -22197.945098368742,
          12831.102143376276,
          53956.01254393271,
          69314.34996998697,
          27524.556048043836,
          93889.52162358294,
          7894.911787610421,
          19841.075840594414,
          32362.477924190578,
          66747.74306359982,
          105611.39554110589,
          103330.55117995062,
          26145.700186268405,
          339165.8010877236,
          -31293.315337248914,
          23959.36535089631,
          52722.32788765883,
          25043.18888649353,
          13732.379460582182,
          135265.20764170127,
          -19074.75711734139,
          77292.07478505689,
          46168.176497557004,
          51761.58169801068,
          65061.26171010552,
          29762.500221973605,
          118588.60573188987,
          51477.01651590293,
          9421.030576605699,
          27978.91771043622,
          59725.26884026424,
          53217.85477275367,
          156089.5732115159,
          73446.55122552643,
          -18366.293292000293,
          -17856.092443714246,
          22966.50944850873,
          50610.104191465856,
          36887.54686889026,
          88929.32172452673,
          176822.91835844057,
          328691.82038807555,
          63454.568550695934,
          42851.72027762964,
          34748.12491374143,
          31550.845151988324,
          36570.22809265758,
          99579.55999355525,
          -24057.09450155648,
          6418.909906209832,
          20182.54799421812,
          41567.64004763627,
          20125.72506554655,
          16544.743985696194,
          91768.29784725148,
          32497.52317146091,
          86367.93398154863,
          46924.72631825614,
          30253.005430428755,
          30363.070281551074,
          29808.47559372926,
          85489.03730250982,
          -2590.7645965002303,
          11049.675044192598,
          30476.044959384868,
          55234.536902252265,
          35331.543319583136,
          61781.454476878265,
          69089.1329311703,
          18570.941640224184,
          -1446.7016414034297,
          6958.085747658228,
          28478.244847337897,
          30529.030072569305,
          48168.156104008856,
          132291.8692826427,
          89049.3929488586,
          119660.32640722595,
          118994.13505359052,
          103430.36171928616,
          44480.45079225197,
          53879.83257816433,
          103578.42211383425,
          120059.06527726134,
          -16585.61577196495,
          8395.36562540353,
          36011.03059677589,
          27001.09294306988,
          28803.231865261598,
          102078.19315268684,
          25617.23749299455,
          102575.86306185083,
          76143.00129480704,
          62920.99320635526,
          56858.165790429586,
          62942.95205714149,
          221325.9870899158,
          -30238.834780081932,
          79516.71693272181,
          68195.71838536306,
          75756.26848233938,
          42953.61097117176,
          80693.1705825197,
          326843.6590752932,
          6221.00624223362,
          38489.85572634898,
          121486.84477376551,
          367.9009554981167,
          -162655.90937001051,
          272303.23340582737,
          41023.8507756537,
          37148.615996823544,
          20534.089349959075,
          30832.781003818138,
          26642.98438909586,
          58734.984253129194,
          105449.33397125236,
          77507.72885141216,
          118956.94184030648,
          162360.12969933255,
          62932.16047848809,
          16798.539841107908,
          97408.5871095762,
          53249.819386363735,
          116700.54582078071,
          74874.97919299075,
          36221.374087844975,
          27025.37615467119,
          37692.96895066081,
          64935.192710823714,
          70859.18745313172,
          161999.61473846258,
          111128.44159793723,
          134016.20116741353,
          99028.78371094892,
          57836.59955758402,
          56843.229398763295,
          42805.603691335404,
          73025.98452779539,
          53716.770176673046,
          29569.73971504619,
          60098.32714330883,
          75680.77043529044,
          61299.43915355828,
          64782.86339941565,
          137285.94307253472,
          9186.507221759504,
          55952.29690631146,
          53665.47472636506,
          76097.86601211918,
          109093.34595910637,
          60686.500851653946,
          92785.21001780752,
          66432.06063686163,
          83490.66070154296,
          69600.35263150759,
          83742.61062315632,
          144780.23639043095,
          148088.21129060263,
          39328.14575487012,
          119789.8150468607,
          94708.08966921174,
          47673.98927835142,
          69764.76466552404,
          216374.80862216532,
          211248.83853433476,
          162212.62079382525,
          41617.38840730445,
          23376.90985034997,
          38678.729722924865,
          64490.691491068224,
          56235.613392666855,
          54038.68775769626,
          67871.92219862872,
          98604.20435428922,
          63627.34663746989,
          37555.56862329594,
          45468.170731726255,
          96022.5855388944,
          35711.4246000858,
          78112.87896225261,
          46915.80388505773,
          91795.06921248914,
          84607.15832631827,
          80926.45134665008,
          83495.3072613266,
          128013.16010015932,
          42807.13079948335,
          67184.56170843907,
          79653.55546240842,
          91422.02892882907,
          92481.3122259709,
          95193.71137610986,
          113832.92844889163,
          56107.56293588434,
          480261.75968389586,
          -65959.11120933414,
          -78657.55800616437,
          22161.479761104318,
          72704.8645424502,
          33800.55716979413,
          103697.55333737028,
          77957.76540014881,
          12006.15046228902,
          45917.35075950969,
          61661.92301217902,
          51147.34442594398,
          75197.52712768638,
          79491.32854038647,
          21942.801826021994,
          23728.401061705386,
          40565.35091530939,
          68973.45194708303,
          97477.45804402522,
          21876.906809766875,
          104099.77635399165,
          8703.48300695578,
          76885.15029952364,
          35700.68643810688,
          39485.3426723156,
          96310.79009643232,
          34052.25632134121,
          110671.29538101959,
          62889.094377298745,
          56333.61666945761,
          259883.43912417177,
          325898.4445644873,
          126692.26040474922,
          56835.566299463855,
          82816.79398614899,
          15377.857186272246,
          43457.627907881746,
          36153.55112291942,
          40192.34885951775,
          75238.41643356481,
          20099.760042334437,
          80388.22991128873,
          27355.78157866269,
          50894.49258764261,
          43636.2612242273,
          50793.44846005563,
          78117.88163598487,
          41873.80407561425,
          79420.23141568847,
          25382.523496916,
          45755.10684807025,
          79793.04493707597,
          96605.6272979207,
          76823.0011888544,
          27978.971979085065,
          73357.82268737734,
          64765.00676017388,
          80005.90646538186,
          56498.12316401071,
          45428.03176781858,
          124954.51464759756,
          337344.86963001866,
          -38817.34558248782,
          -198395.54943930445,
          -200194.0597155662,
          -67336.99939340103,
          2837.655403574783,
          66242.53083374439,
          37657.60413020983,
          75243.47470339842,
          8681.260075196566,
          29602.808883979742,
          39683.84316688836,
          51731.88553723428,
          64739.349198586504,
          48324.74219655073,
          103757.19560005708,
          72838.56132223216,
          113726.3779912091,
          114641.53920509414,
          98300.65757426474,
          73477.66159799512,
          27729.551790682308,
          59060.049384754835,
          14053.730032365478,
          45325.34724478744,
          50407.14078273857,
          50538.44482210362,
          51168.04177151262,
          13536.310186315959,
          58154.85880886416,
          19473.486546179643,
          43932.622418329214,
          50698.6742299726,
          52378.93460151261,
          52996.71175655467,
          13486.856699881278,
          30368.71975452487,
          -43091.36772087168,
          -32902.51855758321,
          -3152.84744554224,
          56713.77442795078,
          121715.76643521755,
          17533.963381759677,
          128960.62758720723,
          30102.969620213742,
          173285.58731564344,
          43777.23790201184,
          12281.30095258003,
          164046.44218098233,
          212753.97107696926,
          -25916.154593418847,
          93065.90792725448,
          72581.15305199727,
          45472.87673224468,
          35731.260283453215,
          80120.54558024398,
          25881.32337331759,
          51458.22172207662,
          37837.953981562445,
          308597.4015091393,
          105718.51526282598,
          139071.05715359628,
          501966.0938187353,
          164689.62302613223,
          -3658.7523634728495,
          53875.45744496898,
          15137.089984532504,
          45713.81148053537,
          98407.65592156071,
          72058.87373245938,
          14037.187165479776,
          57278.68113684686,
          71980.35811641368,
          44321.22652075762,
          39095.559579460736,
          60194.31205081061,
          62601.68298242247,
          37265.123427020575,
          64411.685418251385,
          56774.6241243404,
          108835.05075061914,
          44440.0505452794,
          66059.59470180565,
          141854.54674510745,
          -5935.051490584032,
          90650.84453359863,
          62888.624146142494,
          89824.58906496926,
          76169.10511658464,
          100200.08128712271,
          81572.74172518184,
          48525.14714074029,
          497271.7672057097,
          493172.3548743988,
          299971.7556319969,
          86289.96922308953,
          41295.21804858947,
          26961.5455090232,
          64089.11286437686,
          109981.43548527046,
          27143.735076572397,
          24301.699350199808,
          24336.887032657516,
          60777.233723509504,
          59793.02711159235,
          51744.299964360995,
          56478.7578902541,
          112314.29606360884,
          3956.3914548492266,
          32797.607137739404,
          73406.49711235458,
          52656.12641318312,
          31063.51029857877,
          105052.42786471047,
          84651.96523623605,
          91142.01742652497,
          51697.144477138165,
          65693.80458582866,
          95662.19217140393,
          85004.77856366427,
          94810.45106399884,
          38625.67686896508,
          226746.2240445181,
          389296.34815151326,
          431692.50502195006,
          154335.6798556642,
          -18445.05930851864,
          92129.46640117464,
          43572.34101497283,
          45798.49570459651,
          49738.116879230016,
          67369.10133340489,
          51478.99716830056,
          50034.6558002005,
          79968.0238266843,
          50547.78360538422,
          64132.06223207197,
          38154.30369861456,
          51135.92678179954,
          69529.03224179703,
          53238.18953295291,
          86720.64481519771,
          62580.341950731614,
          62606.1681579586,
          43408.52022096711,
          59484.76751654055,
          67091.66081496264,
          51785.03376875149,
          117243.12703247086,
          56203.57560039877,
          99791.02289291662,
          269039.1877286392,
          343834.28823251795,
          128021.88646504388,
          -2624.0362753879745,
          75930.3224184709,
          36200.91661969066,
          31998.546015552012,
          27350.872103603208,
          59604.60887683692,
          71274.38372215477,
          30957.255997865992,
          56909.74168166715,
          67835.88681848404,
          25780.83839372889,
          31784.0177600979,
          67358.09793510303,
          86546.34310865264,
          38696.669500207754,
          74904.5470599529,
          61152.26781241211,
          58325.88924335736,
          70702.49488911321,
          94208.08972601815,
          81860.04165942481,
          81067.20590342101,
          113153.42845305952,
          88784.23427673461,
          150705.27419406603,
          172461.57920578838,
          142048.34070557664,
          20823.641508109475,
          62584.49794355754,
          50038.579026879626,
          48561.04287214557,
          65792.12095107234,
          83763.37911155306,
          73375.15161725855,
          28396.640874009954,
          46076.32583730454,
          56285.690328352626,
          67787.28103867237,
          31543.661587327122,
          86842.71826370727,
          100909.8938826035,
          24333.947180528463,
          46405.09759565836,
          62624.239127497276,
          69462.21858401356,
          38205.523022641966,
          66776.70640256492,
          69348.93277679727,
          22527.408328308426,
          61956.06024390572,
          61125.06616759823,
          33073.76693237956,
          50749.39504379342,
          67392.03253680642,
          71415.01449119177,
          43003.52858987769,
          50543.42191369198,
          60813.42817355734,
          88187.26042712017,
          87342.79505279755,
          84651.59868518298,
          65599.96009390398,
          37489.07866309729,
          33117.257290697045,
          65468.04534201839,
          35800.139606385346,
          46553.72716990704,
          41068.2632421294,
          45269.20811698986,
          42048.919631589015,
          25508.552217928187,
          69349.27056941974,
          44168.2552528418,
          46898.00732412409,
          51210.48483750161,
          49663.56531026338,
          29002.814588579928,
          35031.34847725433,
          62029.52242957053,
          33392.618989817434,
          42814.60267735875,
          44908.100829543575,
          64949.85239404866,
          83155.57330316778,
          63154.87633663694,
          91623.83990986663,
          93800.72056635398,
          41703.28431816191,
          103541.41999079203,
          179855.81197893558,
          217886.3998259253,
          179673.35149191448,
          108138.01244388707,
          49382.6742611734,
          36393.78082238921,
          44901.37077178393,
          54817.33328848786,
          38714.76232106885,
          43518.70237414638,
          54624.778301863575,
          120403.1886516316,
          121291.69625588162,
          60968.23201415723,
          41464.25698685052,
          82827.87018343338,
          19993.686420205173,
          177913.8992977181,
          36088.1083239904,
          56453.95834961026,
          69539.64505941751,
          83600.01745023264,
          33014.026029732195,
          48917.01271220544,
          73107.9598968621,
          98494.65900471792,
          36299.543013398885,
          51405.29140818861,
          76808.72501514363,
          78590.1226224304,
          22646.152350101707,
          79471.39409794669,
          41678.837577716185,
          30885.951592774858,
          34411.34194979771,
          42689.646352360025,
          27321.46746996731,
          39563.33890814803,
          88332.31138781343,
          59214.97041985883,
          85347.65724435374,
          118179.1082726963,
          89409.66227082822,
          32744.88572733494,
          158956.1583105473,
          45109.91728093145,
          82610.26775148195,
          54981.478798789,
          60016.96064484747,
          70549.75555609238,
          76957.60278978734,
          21596.143439088075,
          104422.83656805073,
          35835.942283617056,
          214383.0794102433,
          109222.61646132628,
          43743.78660994303,
          55754.41481237247,
          60945.81111844638,
          138417.91778588918,
          115117.4554706827,
          473316.6811405491,
          -128878.67050475001,
          -138415.18900172913,
          -21720.593259801535,
          58888.259889460474,
          101935.7890476984,
          111691.9558307709,
          55004.43602101721,
          46380.89392675931,
          50907.55174904998,
          50774.908453899065,
          50739.546359266904,
          38796.92518596836,
          71547.18363261316,
          17130.14676495984,
          24557.459552336142,
          39559.22944479433,
          33578.80992555624,
          36939.15026213045,
          45975.502671612536,
          126126.1680516927,
          -3593.913379231927,
          27434.666717790664,
          47666.267853825724,
          26734.226561067022,
          40531.72177145154,
          47558.94250275547,
          71664.53150751174,
          20789.345726298216,
          5689.221489828403,
          62525.402113182085,
          186260.8165367422,
          165846.94996172359,
          83399.90917933939,
          47918.99293755784,
          18330.544172002563,
          28816.529985126443,
          49258.231623268715,
          36976.898980952305,
          36141.00842314356,
          67773.93871775993,
          38853.27621949977,
          23249.17938070522,
          43222.60820250956,
          60825.24877869586,
          31596.543231848722,
          32767.31846335413,
          93738.63405250084,
          38571.3434546619,
          41837.98844435418,
          23661.825272574937,
          55660.93595198678,
          65474.91536862023,
          -163201.13121530315,
          131987.57522837888,
          31872.060277533757,
          17161.923471358823,
          9330.568483858562,
          49292.10989221979,
          50835.87265887426,
          37261.9555433449,
          83116.78927911246,
          93615.60333485689,
          73670.74146794007,
          75612.71590371765,
          71755.09328619864,
          32599.170592400325,
          42372.60477436274,
          41103.98255196077,
          49793.76146097078,
          28054.49135399991,
          50378.67851036312,
          73402.25562954483,
          51794.67487563794,
          35460.91704970508,
          -1454.5936124743766,
          109545.20059564903,
          18791.17191322593,
          27200.703883556584,
          54011.09127634082,
          70709.6325955079,
          22585.097995612625,
          56657.45938976327,
          88455.87090452613,
          -786.8049142695836,
          -6852.940019710921,
          7124.738262337647,
          5809.386766276706,
          32311.239067513936,
          43578.96328029282,
          58429.29449804681,
          135473.78934033844,
          10301.492155450003,
          221713.52608705236,
          74497.42169977941,
          22029.442859972663,
          63792.82522801419,
          44205.50162799729,
          50048.52649862339,
          43244.073897340364,
          50096.94395516731,
          69036.07327125431,
          30592.76669115523,
          69084.96000983893,
          57956.46880331481,
          28304.030254762263,
          74812.81652963301,
          103747.65558487414,
          56013.61301050054,
          26402.212731680112,
          178837.13310567837,
          40428.7898986082,
          90249.34560688355,
          61540.68663025751,
          47728.733466166654,
          27210.409208896792,
          82984.12585043152,
          41231.083111085114,
          90661.85701417482,
          21287.138688588093,
          41731.4097786722,
          72632.89958385294,
          107039.90711718862,
          176143.39147766735,
          148411.31862686144,
          76624.1483290796,
          16752.109859205237,
          28398.098268078105,
          57007.66723280346,
          59370.700908540486,
          54678.469162614696,
          49640.19913840755,
          79965.18670039397,
          57202.829898746524,
          68770.90649926444,
          65880.67122692104,
          33970.735250795246,
          99255.17878110817,
          92756.72758392782,
          51192.64916811274,
          68038.62791313152,
          41502.214006389644,
          52983.10058799669,
          100230.8312528792,
          103132.28589509949,
          31868.04629144649,
          101120.2493460193,
          34382.8868235362,
          57805.65391044208,
          55676.532739465896,
          62322.8654830108,
          353009.1664477952,
          43428.2967945577,
          51338.30192678564,
          -11537.751133663682,
          41938.6602163989,
          107491.2250051658,
          112031.43349727953,
          77198.73328064068,
          33971.94200853609,
          45790.21749669908,
          13513.450558955079,
          34929.88283182247,
          56462.62767758229,
          59284.08714771179,
          36591.895695602136,
          49717.00326691228,
          54106.112080616105,
          91268.61247250416,
          186895.16400624719,
          161802.72064877342,
          46363.314545988615,
          27971.360275325627,
          118716.72556593842,
          46418.345909533,
          114947.98534825863,
          68147.7744751336,
          64136.115303946506,
          98155.36360194611,
          26336.627713273745,
          107845.35696707843,
          158546.43234228555,
          97961.86408209831,
          194503.10164100822,
          212820.34025422495,
          84685.67060531804,
          63687.94448395976,
          35473.897455813916,
          67495.66430248879,
          38996.22142680417,
          33814.360401059326,
          56464.623245422816,
          76463.8806992503,
          47467.37270208793,
          38933.06540952151,
          124579.73440815136,
          13480.76337100943,
          35547.50432118368,
          78540.96803305048,
          112421.15205783563,
          14553.433813188652,
          109250.00428918478,
          84410.56083706333,
          72423.8334393217,
          77393.66734396452,
          78171.57459060609,
          47412.3092294684,
          71694.18253324185,
          85743.56875490081,
          97535.0806271343,
          27802.99739594356,
          93090.90192181236,
          179828.2768104302,
          202052.08044456437,
          -27125.073782934094,
          21755.45165377429,
          59145.12657057725,
          35637.196887830265,
          62136.6170935017,
          116550.37713012527,
          141332.8621154634,
          -9800.475912670678,
          90454.23612635916,
          57287.08678857461,
          20313.553497466844,
          1761.4135031378537,
          90006.41977063252,
          207668.4275715514,
          -25133.6224816303,
          74456.73126586297,
          48965.951137942866,
          68139.216305343,
          91191.58718930517,
          113394.30132651859,
          59222.59304691949,
          50097.66250378886,
          50028.436980855775,
          103719.6413556344,
          32621.13038178376,
          65287.6093535946,
          78027.79506027326,
          41355.89549157986,
          176456.62590160643,
          46318.818873970195,
          276415.6346198848,
          295880.684304691,
          288924.4117275446,
          182838.11605564784,
          84841.67888240324,
          63194.07076521768,
          77508.68401898723,
          58136.90932171157,
          40779.28836054361,
          81340.04617123428,
          92069.82652119728,
          276.67250249489734,
          -2811.0855447290887,
          65358.98170420443,
          182485.6363064331,
          37751.023933406075,
          60054.69376756017,
          71404.1458524687,
          58500.625562337824,
          189245.34205723502,
          53315.18784694944,
          99089.83312349571,
          77967.26503524004,
          62338.92513004374,
          73869.42784835666,
          94932.0898082733,
          38027.10297014379,
          129418.60597568945,
          107345.31694045395,
          378367.42064701294,
          -87518.14595225174,
          -58018.49454764812,
          44539.34028441238,
          75432.71440544171,
          40570.95668570712,
          93276.29058508901,
          -3634.253839560546,
          13008.339024558663,
          66639.38938386655,
          109088.70473035054,
          72033.79476271909,
          63820.402798996765,
          97059.67102344516,
          98297.06106557502,
          155082.90035018243,
          136431.71046430524,
          18082.95234726605,
          243799.2779620592,
          11869.533892983774,
          83828.75658498038,
          24554.506239761016,
          84721.72671479578,
          107337.08836635729,
          56410.19552605337,
          34144.16679882758,
          103978.49022498315,
          111965.20491091126,
          94390.183745656,
          62644.95969562366,
          126089.34459030691,
          272239.5045596675,
          219128.6302929122,
          81173.69718497034,
          42731.291789357914,
          45221.28679301273,
          68186.5942755704,
          97054.93749022693,
          68127.91778884933,
          33976.31685370233,
          50789.5961055636,
          74075.6785643552,
          31133.69691897769,
          49431.615680359595,
          68417.0908033621,
          38068.66320490499,
          27868.22761208492,
          49273.899237073914,
          47322.50051154569,
          17403.00135590668,
          39616.26314357057,
          58565.82508173019,
          20573.21647199874,
          21422.113574271967,
          48999.59094192497,
          46957.90418655744,
          42215.39000055152,
          143342.209193419,
          169752.24850652978,
          47705.894246468604
         ]
        },
        {
         "line": {
          "color": "rgba(55, 128, 191, 1.0)",
          "dash": "solid",
          "shape": "linear",
          "width": 1.3
         },
         "mode": "lines",
         "name": "Actual Values",
         "text": "",
         "type": "scatter",
         "x": [
          "2020-12-02",
          "2020-12-03",
          "2020-12-04",
          "2020-12-05",
          "2020-12-06",
          "2020-12-07",
          "2020-12-08",
          "2020-12-09",
          "2020-12-10",
          "2020-12-11",
          "2020-12-12",
          "2020-12-13",
          "2020-12-14",
          "2020-12-15",
          "2020-12-16",
          "2020-12-17",
          "2020-12-18",
          "2020-12-19",
          "2020-12-20",
          "2020-12-21",
          "2020-12-22",
          "2020-12-23",
          "2020-12-24",
          "2020-12-25",
          "2020-12-26",
          "2020-12-27",
          "2020-12-28",
          "2020-12-29",
          "2020-12-30",
          "2020-12-31",
          "2021-01-01",
          "2021-01-02",
          "2021-01-03",
          "2021-01-04",
          "2021-01-05",
          "2021-01-06",
          "2021-01-07",
          "2021-01-08",
          "2021-01-09",
          "2021-01-10",
          "2021-01-11",
          "2021-01-12",
          "2021-01-13",
          "2021-01-14",
          "2021-01-15",
          "2021-01-16",
          "2021-01-17",
          "2021-01-18",
          "2021-01-19",
          "2021-01-20",
          "2021-01-21",
          "2021-01-22",
          "2021-01-23",
          "2021-01-24",
          "2021-01-25",
          "2021-01-26",
          "2021-01-27",
          "2021-01-28",
          "2021-01-29",
          "2021-01-30",
          "2021-01-31",
          "2021-02-01",
          "2021-02-02",
          "2021-02-03",
          "2021-02-04",
          "2021-02-05",
          "2021-02-06",
          "2021-02-07",
          "2021-02-08",
          "2021-02-09",
          "2021-02-10",
          "2021-02-11",
          "2021-02-12",
          "2021-02-13",
          "2021-02-14",
          "2021-02-15",
          "2021-02-16",
          "2021-02-17",
          "2021-02-18",
          "2021-02-19",
          "2021-02-20",
          "2021-02-21",
          "2021-02-22",
          "2021-02-23",
          "2021-02-24",
          "2021-02-25",
          "2021-02-26",
          "2021-02-27",
          "2021-02-28",
          "2021-03-01",
          "2021-03-02",
          "2021-03-03",
          "2021-03-04",
          "2021-03-05",
          "2021-03-06",
          "2021-03-07",
          "2021-03-08",
          "2021-03-09",
          "2021-03-10",
          "2021-03-11",
          "2021-03-12",
          "2021-03-13",
          "2021-03-14",
          "2021-03-15",
          "2021-03-16",
          "2021-03-17",
          "2021-03-18",
          "2021-03-19",
          "2021-03-20",
          "2021-03-21",
          "2021-03-22",
          "2021-03-23",
          "2021-03-24",
          "2021-03-25",
          "2021-03-26",
          "2021-03-27",
          "2021-03-28",
          "2021-03-29",
          "2021-03-30",
          "2021-03-31",
          "2021-04-01",
          "2021-04-02",
          "2021-04-03",
          "2021-04-04",
          "2021-04-05",
          "2021-04-06",
          "2021-04-07",
          "2021-04-08",
          "2021-04-09",
          "2021-04-10",
          "2021-04-11",
          "2021-04-12",
          "2021-04-13",
          "2021-04-14",
          "2021-04-15",
          "2021-04-16",
          "2021-04-17",
          "2021-04-18",
          "2021-04-19",
          "2021-04-20",
          "2021-04-21",
          "2021-04-22",
          "2021-04-23",
          "2021-04-24",
          "2021-04-25",
          "2021-04-26",
          "2021-04-27",
          "2021-04-28",
          "2021-04-29",
          "2021-04-30",
          "2021-05-01",
          "2021-05-02",
          "2021-05-03",
          "2021-05-04",
          "2021-05-05",
          "2021-05-06",
          "2021-05-07",
          "2021-05-08",
          "2021-05-09",
          "2021-05-10",
          "2021-05-11",
          "2021-05-12",
          "2021-05-13",
          "2021-05-14",
          "2021-05-15",
          "2021-05-16",
          "2021-05-17",
          "2021-05-18",
          "2021-05-19",
          "2021-05-20",
          "2021-05-21",
          "2021-05-22",
          "2021-05-23",
          "2021-05-24",
          "2021-05-25",
          "2021-05-26",
          "2021-05-27",
          "2021-05-28",
          "2021-05-29",
          "2021-05-30",
          "2021-05-31",
          "2021-06-01",
          "2021-06-02",
          "2021-06-03",
          "2021-06-04",
          "2021-06-05",
          "2021-06-06",
          "2021-06-07",
          "2021-06-08",
          "2021-06-09",
          "2021-06-10",
          "2021-06-11",
          "2021-06-12",
          "2021-06-13",
          "2021-06-14",
          "2021-06-15",
          "2021-06-16",
          "2021-06-17",
          "2021-06-18",
          "2021-06-19",
          "2021-06-20",
          "2021-06-21",
          "2021-06-22",
          "2021-06-23",
          "2021-06-24",
          "2021-06-25",
          "2021-06-26",
          "2021-06-27",
          "2021-06-28",
          "2021-06-29",
          "2021-06-30",
          "2021-07-01",
          "2021-07-02",
          "2021-07-03",
          "2021-07-04",
          "2021-07-05",
          "2021-07-06",
          "2021-07-07",
          "2021-07-08",
          "2021-07-09",
          "2021-07-10",
          "2021-07-11",
          "2021-07-12",
          "2021-07-13",
          "2021-07-14",
          "2021-07-15",
          "2021-07-16",
          "2021-07-17",
          "2021-07-18",
          "2021-07-19",
          "2021-07-20",
          "2021-07-21",
          "2021-07-22",
          "2021-07-23",
          "2021-07-24",
          "2021-07-25",
          "2021-07-26",
          "2021-07-27",
          "2021-07-28",
          "2021-07-29",
          "2021-07-30",
          "2021-07-31",
          "2021-08-01",
          "2021-08-02",
          "2021-08-03",
          "2021-08-04",
          "2021-08-05",
          "2021-08-06",
          "2021-08-07",
          "2021-08-08",
          "2021-08-09",
          "2021-08-10",
          "2021-08-11",
          "2021-08-12",
          "2021-08-13",
          "2021-08-14",
          "2021-08-15",
          "2021-08-16",
          "2021-08-17",
          "2021-08-18",
          "2021-08-19",
          "2021-08-20",
          "2021-08-21",
          "2021-08-22",
          "2021-08-23",
          "2021-08-24",
          "2021-08-25",
          "2021-08-26",
          "2021-08-27",
          "2021-08-28",
          "2021-08-29",
          "2021-08-30",
          "2021-08-31",
          "2021-09-01",
          "2021-09-02",
          "2021-09-03",
          "2021-09-04",
          "2021-09-05",
          "2021-09-06",
          "2021-09-07",
          "2021-09-08",
          "2021-09-09",
          "2021-09-10",
          "2021-09-11",
          "2021-09-12",
          "2021-09-13",
          "2021-09-14",
          "2021-09-15",
          "2021-09-16",
          "2021-09-17",
          "2021-09-18",
          "2021-09-19",
          "2021-09-20",
          "2021-09-21",
          "2021-09-22",
          "2021-09-23",
          "2021-09-24",
          "2021-09-25",
          "2021-09-26",
          "2021-09-27",
          "2021-09-28",
          "2021-09-29",
          "2021-09-30",
          "2021-10-01",
          "2021-10-02",
          "2021-10-03",
          "2021-10-04",
          "2021-10-05",
          "2021-10-06",
          "2021-10-07",
          "2021-10-08",
          "2021-10-09",
          "2021-10-10",
          "2021-10-11",
          "2021-10-12",
          "2021-10-13",
          "2021-10-14",
          "2021-10-15",
          "2021-10-16",
          "2021-10-17",
          "2021-10-18",
          "2021-10-19",
          "2021-10-20",
          "2021-10-21",
          "2021-10-22",
          "2021-10-23",
          "2021-10-24",
          "2021-10-25",
          "2021-10-26",
          "2021-10-27",
          "2021-10-28",
          "2021-10-29",
          "2021-10-30",
          "2021-10-31",
          "2021-11-01",
          "2021-11-02",
          "2021-11-03",
          "2021-11-04",
          "2021-11-05",
          "2021-11-06",
          "2021-11-07",
          "2021-11-08",
          "2021-11-09",
          "2021-11-10",
          "2021-11-11",
          "2021-11-12",
          "2021-11-13",
          "2021-11-14",
          "2021-11-15",
          "2021-11-16",
          "2021-11-17",
          "2021-11-18",
          "2021-11-19",
          "2021-11-20",
          "2021-11-21",
          "2021-11-22",
          "2021-11-23",
          "2021-11-24",
          "2021-11-25",
          "2021-11-26",
          "2021-11-27",
          "2021-11-28",
          "2021-11-29",
          "2021-11-30",
          "2021-12-01",
          "2021-12-02",
          "2021-12-03",
          "2021-12-04",
          "2021-12-05",
          "2021-12-06",
          "2021-12-07",
          "2021-12-08",
          "2021-12-09",
          "2021-12-10",
          "2021-12-11",
          "2021-12-12",
          "2021-12-13",
          "2021-12-14",
          "2021-12-15",
          "2021-12-16",
          "2021-12-17",
          "2021-12-18",
          "2021-12-19",
          "2021-12-20",
          "2021-12-21",
          "2021-12-22",
          "2021-12-23",
          "2021-12-24",
          "2021-12-25",
          "2021-12-26",
          "2021-12-27",
          "2021-12-28",
          "2021-12-29",
          "2021-12-30",
          "2021-12-31",
          "2022-01-01",
          "2022-01-02",
          "2022-01-03",
          "2022-01-04",
          "2022-01-05",
          "2022-01-06",
          "2022-01-07",
          "2022-01-08",
          "2022-01-09",
          "2022-01-10",
          "2022-01-11",
          "2022-01-12",
          "2022-01-13",
          "2022-01-14",
          "2022-01-15",
          "2022-01-16",
          "2022-01-17",
          "2022-01-18",
          "2022-01-19",
          "2022-01-20",
          "2022-01-21",
          "2022-01-22",
          "2022-01-23",
          "2022-01-24",
          "2022-01-25",
          "2022-01-26",
          "2022-01-27",
          "2022-01-28",
          "2022-01-29",
          "2022-01-30",
          "2022-01-31",
          "2022-02-01",
          "2022-02-02",
          "2022-02-03",
          "2022-02-04",
          "2022-02-05",
          "2022-02-06",
          "2022-02-07",
          "2022-02-08",
          "2022-02-09",
          "2022-02-10",
          "2022-02-11",
          "2022-02-12",
          "2022-02-13",
          "2022-02-14",
          "2022-02-15",
          "2022-02-16",
          "2022-02-17",
          "2022-02-18",
          "2022-02-19",
          "2022-02-20",
          "2022-02-21",
          "2022-02-22",
          "2022-02-23",
          "2022-02-24",
          "2022-02-25",
          "2022-02-26",
          "2022-02-27",
          "2022-02-28",
          "2022-03-01",
          "2022-03-02",
          "2022-03-03",
          "2022-03-04",
          "2022-03-05",
          "2022-03-06",
          "2022-03-07",
          "2022-03-08",
          "2022-03-09",
          "2022-03-10",
          "2022-03-11",
          "2022-03-12",
          "2022-03-13",
          "2022-03-14",
          "2022-03-15",
          "2022-03-16",
          "2022-03-17",
          "2022-03-18",
          "2022-03-19",
          "2022-03-20",
          "2022-03-21",
          "2022-03-22",
          "2022-03-23",
          "2022-03-24",
          "2022-03-25",
          "2022-03-26",
          "2022-03-27",
          "2022-03-28",
          "2022-03-29",
          "2022-03-30",
          "2022-03-31",
          "2022-04-01",
          "2022-04-02",
          "2022-04-03",
          "2022-04-04",
          "2022-04-05",
          "2022-04-06",
          "2022-04-07",
          "2022-04-08",
          "2022-04-09",
          "2022-04-10",
          "2022-04-11",
          "2022-04-12",
          "2022-04-13",
          "2022-04-14",
          "2022-04-15",
          "2022-04-16",
          "2022-04-17",
          "2022-04-18",
          "2022-04-19",
          "2022-04-20",
          "2022-04-21",
          "2022-04-22",
          "2022-04-23",
          "2022-04-24",
          "2022-04-25",
          "2022-04-26",
          "2022-04-27",
          "2022-04-28",
          "2022-04-29",
          "2022-04-30",
          "2022-05-01",
          "2022-05-02",
          "2022-05-03",
          "2022-05-04",
          "2022-05-05",
          "2022-05-06",
          "2022-05-07",
          "2022-05-08",
          "2022-05-09",
          "2022-05-10",
          "2022-05-11",
          "2022-05-12",
          "2022-05-13",
          "2022-05-14",
          "2022-05-15",
          "2022-05-16",
          "2022-05-17",
          "2022-05-18",
          "2022-05-19",
          "2022-05-20",
          "2022-05-21",
          "2022-05-22",
          "2022-05-23",
          "2022-05-24",
          "2022-05-25",
          "2022-05-26",
          "2022-05-27",
          "2022-05-28",
          "2022-05-29",
          "2022-05-30",
          "2022-05-31",
          "2022-06-01",
          "2022-06-02",
          "2022-06-03",
          "2022-06-04",
          "2022-06-05",
          "2022-06-06",
          "2022-06-07",
          "2022-06-08",
          "2022-06-09",
          "2022-06-10",
          "2022-06-11",
          "2022-06-12",
          "2022-06-13",
          "2022-06-14",
          "2022-06-15",
          "2022-06-16",
          "2022-06-17",
          "2022-06-18",
          "2022-06-19",
          "2022-06-20",
          "2022-06-21",
          "2022-06-22",
          "2022-06-23",
          "2022-06-24",
          "2022-06-25",
          "2022-06-26",
          "2022-06-27",
          "2022-06-28",
          "2022-06-29",
          "2022-06-30",
          "2022-07-01",
          "2022-07-02",
          "2022-07-03",
          "2022-07-04",
          "2022-07-05",
          "2022-07-06",
          "2022-07-07",
          "2022-07-08",
          "2022-07-09",
          "2022-07-10",
          "2022-07-11",
          "2022-07-12",
          "2022-07-13",
          "2022-07-14",
          "2022-07-15",
          "2022-07-16",
          "2022-07-17",
          "2022-07-18",
          "2022-07-19",
          "2022-07-20",
          "2022-07-21",
          "2022-07-22",
          "2022-07-23",
          "2022-07-24",
          "2022-07-25",
          "2022-07-26",
          "2022-07-27",
          "2022-07-28",
          "2022-07-29",
          "2022-07-30",
          "2022-07-31",
          "2022-08-01",
          "2022-08-02",
          "2022-08-03",
          "2022-08-04",
          "2022-08-05",
          "2022-08-06",
          "2022-08-07",
          "2022-08-08",
          "2022-08-09",
          "2022-08-10",
          "2022-08-11",
          "2022-08-12",
          "2022-08-13",
          "2022-08-14",
          "2022-08-15",
          "2022-08-16",
          "2022-08-17",
          "2022-08-18",
          "2022-08-19",
          "2022-08-20",
          "2022-08-21",
          "2022-08-22",
          "2022-08-23",
          "2022-08-24",
          "2022-08-25",
          "2022-08-26",
          "2022-08-27",
          "2022-08-28",
          "2022-08-29",
          "2022-08-30",
          "2022-08-31",
          "2022-09-01",
          "2022-09-02",
          "2022-09-03",
          "2022-09-04",
          "2022-09-05",
          "2022-09-06",
          "2022-09-07",
          "2022-09-08",
          "2022-09-09",
          "2022-09-10",
          "2022-09-11",
          "2022-09-12",
          "2022-09-13",
          "2022-09-14",
          "2022-09-15",
          "2022-09-16",
          "2022-09-17",
          "2022-09-18",
          "2022-09-19",
          "2022-09-20",
          "2022-09-21",
          "2022-09-22",
          "2022-09-23",
          "2022-09-24",
          "2022-09-25",
          "2022-09-26",
          "2022-09-27",
          "2022-09-28",
          "2022-09-29",
          "2022-09-30",
          "2022-10-01",
          "2022-10-02",
          "2022-10-03",
          "2022-10-04",
          "2022-10-05",
          "2022-10-06",
          "2022-10-07",
          "2022-10-08",
          "2022-10-09",
          "2022-10-10",
          "2022-10-11",
          "2022-10-12",
          "2022-10-13",
          "2022-10-14",
          "2022-10-15",
          "2022-10-16",
          "2022-10-17",
          "2022-10-18",
          "2022-10-19",
          "2022-10-20",
          "2022-10-21",
          "2022-10-22",
          "2022-10-23",
          "2022-10-24",
          "2022-10-25",
          "2022-10-26",
          "2022-10-27",
          "2022-10-28",
          "2022-10-29",
          "2022-10-30",
          "2022-10-31",
          "2022-11-01",
          "2022-11-02",
          "2022-11-03",
          "2022-11-04",
          "2022-11-05",
          "2022-11-06",
          "2022-11-07",
          "2022-11-08",
          "2022-11-09",
          "2022-11-10",
          "2022-11-11",
          "2022-11-12",
          "2022-11-13",
          "2022-11-14",
          "2022-11-15",
          "2022-11-16",
          "2022-11-17",
          "2022-11-18",
          "2022-11-19",
          "2022-11-20",
          "2022-11-21",
          "2022-11-22",
          "2022-11-23",
          "2022-11-24",
          "2022-11-25",
          "2022-11-26",
          "2022-11-27",
          "2022-11-28",
          "2022-11-29",
          "2022-11-30",
          "2022-12-01",
          "2022-12-02",
          "2022-12-03",
          "2022-12-04",
          "2022-12-05",
          "2022-12-06",
          "2022-12-07",
          "2022-12-08",
          "2022-12-09",
          "2022-12-10",
          "2022-12-11",
          "2022-12-12",
          "2022-12-13",
          "2022-12-14",
          "2022-12-15",
          "2022-12-16",
          "2022-12-17",
          "2022-12-18",
          "2022-12-19",
          "2022-12-20",
          "2022-12-21",
          "2022-12-22",
          "2022-12-23",
          "2022-12-24",
          "2022-12-25",
          "2022-12-26",
          "2022-12-27",
          "2022-12-28",
          "2022-12-29",
          "2022-12-30",
          "2022-12-31",
          "2023-01-01",
          "2023-01-02",
          "2023-01-03",
          "2023-01-04",
          "2023-01-05",
          "2023-01-06",
          "2023-01-07",
          "2023-01-08",
          "2023-01-09",
          "2023-01-10",
          "2023-01-11",
          "2023-01-12",
          "2023-01-13",
          "2023-01-14",
          "2023-01-15",
          "2023-01-16",
          "2023-01-17",
          "2023-01-18",
          "2023-01-19",
          "2023-01-20",
          "2023-01-21",
          "2023-01-22",
          "2023-01-23",
          "2023-01-24",
          "2023-01-25",
          "2023-01-26",
          "2023-01-27",
          "2023-01-28",
          "2023-01-29",
          "2023-01-30",
          "2023-01-31",
          "2023-02-01",
          "2023-02-02",
          "2023-02-03",
          "2023-02-04",
          "2023-02-05",
          "2023-02-06",
          "2023-02-07",
          "2023-02-08",
          "2023-02-09",
          "2023-02-10",
          "2023-02-11",
          "2023-02-12",
          "2023-02-13",
          "2023-02-14",
          "2023-02-15",
          "2023-02-16",
          "2023-02-17",
          "2023-02-18",
          "2023-02-19",
          "2023-02-20",
          "2023-02-21",
          "2023-02-22",
          "2023-02-23",
          "2023-02-24",
          "2023-02-25",
          "2023-02-26",
          "2023-02-27",
          "2023-02-28",
          "2023-03-01",
          "2023-03-02",
          "2023-03-03",
          "2023-03-04",
          "2023-03-05",
          "2023-03-06",
          "2023-03-07",
          "2023-03-08",
          "2023-03-09",
          "2023-03-10",
          "2023-03-11",
          "2023-03-12",
          "2023-03-13",
          "2023-03-14",
          "2023-03-15",
          "2023-03-16",
          "2023-03-17",
          "2023-03-18",
          "2023-03-19",
          "2023-03-20",
          "2023-03-21",
          "2023-03-22",
          "2023-03-23",
          "2023-03-24",
          "2023-03-25",
          "2023-03-26",
          "2023-03-27",
          "2023-03-28",
          "2023-03-29",
          "2023-03-30",
          "2023-03-31",
          "2023-04-01",
          "2023-04-02",
          "2023-04-03",
          "2023-04-04",
          "2023-04-05",
          "2023-04-06",
          "2023-04-07",
          "2023-04-08",
          "2023-04-09",
          "2023-04-10",
          "2023-04-11",
          "2023-04-12",
          "2023-04-13",
          "2023-04-14",
          "2023-04-15",
          "2023-04-16",
          "2023-04-17",
          "2023-04-18",
          "2023-04-19",
          "2023-04-20",
          "2023-04-21",
          "2023-04-22",
          "2023-04-23",
          "2023-04-24",
          "2023-04-25",
          "2023-04-26",
          "2023-04-27",
          "2023-04-28",
          "2023-04-29",
          "2023-04-30",
          "2023-05-01",
          "2023-05-02",
          "2023-05-03",
          "2023-05-04",
          "2023-05-05",
          "2023-05-06",
          "2023-05-07",
          "2023-05-08",
          "2023-05-09",
          "2023-05-10",
          "2023-05-11",
          "2023-05-12",
          "2023-05-13",
          "2023-05-14",
          "2023-05-15",
          "2023-05-16",
          "2023-05-17",
          "2023-05-18",
          "2023-05-19",
          "2023-05-20",
          "2023-05-21",
          "2023-05-22",
          "2023-05-23",
          "2023-05-24",
          "2023-05-25",
          "2023-05-26",
          "2023-05-27",
          "2023-05-28",
          "2023-05-29",
          "2023-05-30",
          "2023-05-31",
          "2023-06-01",
          "2023-06-02",
          "2023-06-03",
          "2023-06-04",
          "2023-06-05",
          "2023-06-06",
          "2023-06-07",
          "2023-06-08",
          "2023-06-09",
          "2023-06-10",
          "2023-06-11",
          "2023-06-12",
          "2023-06-13",
          "2023-06-14",
          "2023-06-15",
          "2023-06-16",
          "2023-06-17",
          "2023-06-18",
          "2023-06-19",
          "2023-06-20",
          "2023-06-21",
          "2023-06-22",
          "2023-06-23",
          "2023-06-24",
          "2023-06-25",
          "2023-06-26",
          "2023-06-27",
          "2023-06-28"
         ],
         "y": [
          -7260.28,
          44989.3,
          8407.15,
          19769.99,
          22706.384253716482,
          12024.79,
          2471.28,
          21069.01,
          22241.23,
          66381.74,
          53369.3,
          -408.89,
          65827.66,
          84701.68,
          52832.53,
          35716.51,
          1709.38,
          31920.7,
          37600.48293795508,
          39089.46,
          58825.83,
          35608.97,
          103789,
          39394.48,
          7413.78,
          2033.2193296603928,
          61445.35,
          191540.03,
          153109.71,
          9437.03,
          272740.57,
          14603.39,
          -53884.60111840063,
          12356.24,
          17298.66,
          24712.56,
          33331.48,
          12356.26,
          62539.05,
          42143.74153159393,
          -4942.48,
          -7404.707439441008,
          4942.5,
          2284.7603746211244,
          -15377.802043543245,
          -40482.61997680803,
          -27654.041214994024,
          30670.3,
          102784.68,
          49425.06,
          99499.96,
          59310.02,
          38539.88,
          21261.300362640897,
          47744.99,
          165419.23478534966,
          171827.66,
          40219.28,
          516209.97,
          147953.7,
          -25373.04988537234,
          4942.49,
          16429.09,
          -1331.13,
          72113.3,
          39440.57,
          119304.61,
          75817.58529475518,
          24571.97,
          85180.22,
          36966.26,
          77374.84,
          119580.14,
          47340.97,
          12491.460209925159,
          21647.87,
          73564.34,
          216556.91,
          76973.8,
          -9872.12,
          -32433.759105135476,
          -9525.500801962256,
          4845.49,
          18874.04,
          109089.24,
          211675.77,
          580135.89,
          286927.07,
          66180.52444691578,
          -2471.25,
          -3196,
          6352.71,
          2093,
          -12012.59,
          2471.24,
          7813.457607309671,
          1835.8,
          -10067.883694655926,
          -21664.129783750013,
          4447.98,
          73394.59,
          153629.27,
          94609.8104782368,
          5422.48,
          5422.47,
          6789.874778786651,
          2711.26,
          2440.01,
          13556.23,
          31459.083641648656,
          37956.17,
          29822.5,
          61338.41,
          6506.12,
          29010.04,
          4879.98,
          -13944.851319105472,
          -13955.914865795407,
          4879.97,
          42568.31567703893,
          99109.11868962516,
          174502.3801963241,
          230009.2382959819,
          226890.83108744462,
          165147.3,
          67781.28,
          51513.8,
          50868.77,
          187315.48,
          24401.25,
          -27888.310931745084,
          2711.25,
          4592.062774224673,
          5422.94,
          27112.57,
          54122.74,
          159026.19,
          145902.4688919098,
          84048.73,
          67781.28,
          74787.06,
          233167.51,
          24401.26,
          80892.06,
          118585.47108975389,
          97492.77,
          51513.79,
          75915.31,
          414821.3,
          138405.01,
          32804.10568494853,
          171564.91197614957,
          15616.49,
          -304527.96,
          219394.14,
          97061.29,
          26008.01,
          13556.26,
          30586.721055457183,
          36868.9,
          21039.04,
          103677.24,
          61688.26,
          173293.0066436685,
          277173.82,
          157129.44949070615,
          31992.4,
          75545.73,
          48849.51,
          81770.24,
          111052.75,
          56393.83,
          34631.01148980048,
          39583.73,
          42078.05,
          55308.55,
          161698.59,
          197595.72,
          226334.28,
          196995.42613960488,
          110451.24394704054,
          40907.73,
          732.5539173090838,
          5422.51,
          48802.48,
          27112.49,
          76356.6728291788,
          117360.05,
          63338.25,
          43271.53,
          119762.6,
          23858.78,
          40234.73,
          76333.57162212984,
          113027.19,
          136432.26,
          58996.45,
          56827.86,
          85253.1,
          112895.88,
          111679.07809550621,
          126669.33,
          196387.44,
          214244.81,
          24292.74,
          130789.74,
          157611.52,
          80498.3908167829,
          83831.87,
          287065.65,
          358065.6769733593,
          241477.66987129414,
          77272.8218789081,
          5422.49,
          25926.97091484563,
          55646.07,
          26707.75,
          20593.23,
          17603.13,
          117948.72,
          100316.31,
          45973.116303806884,
          33594.39,
          84916.32,
          21455.99,
          17798.8,
          42728.96,
          114448.48,
          134738.2178106716,
          110103.52,
          89471.23,
          155985.95,
          21216.81,
          48694.05,
          102192.02,
          134515.58049236558,
          131022.67,
          106507.14,
          146229.96,
          34899.17,
          678530.48,
          113872.51,
          -212290.12456336673,
          -72739.29871355635,
          31173.44,
          15887.67961354031,
          15445.31,
          109549.27,
          25427.96,
          28401.55327135432,
          57067.48,
          25421.49,
          67448.45,
          15814.24,
          11725.39,
          5299.69,
          25087.720983528696,
          67672.66,
          98258.89,
          16309.16,
          29137.02,
          8133.74,
          78010.7,
          46438.44985645411,
          16267.51,
          84961.82,
          34812.29,
          50862.75,
          90229.47,
          77975.28,
          375794.668693488,
          574795.88,
          294020.54,
          84192.5970708469,
          20415.2932444877,
          2602.77,
          7808.31,
          -1560.871354654474,
          10519.51,
          58326.51,
          5305.74,
          2711.27,
          22505.86791615979,
          36547.01,
          26619.205149112968,
          31992.48,
          71922.67,
          41735.91,
          16150.83,
          18870.25,
          28195.07,
          79010.89991093849,
          120835.64,
          96398.08,
          21472.96,
          2617.58,
          76128.21,
          99477.07,
          58742.90856301956,
          29281.26,
          143407.27,
          518932.44,
          8025.24,
          -390667.4462057498,
          -471481.39119277,
          -282153.7231650139,
          -109114.51411951284,
          -102,
          44883.49102620871,
          43380.15,
          18627,
          5422.57,
          13023.764187583261,
          27112.54,
          35735.96,
          55851.31,
          85678.31847958102,
          124427.3346301654,
          165952.08992321102,
          173374.96445237228,
          140549.71,
          75555.78,
          26870.538986944182,
          2573.4424105421513,
          2664.5110296338135,
          22485.0485516603,
          34082.8772212684,
          32799.300745899265,
          18634.34,
          -3199,
          -1422.032860272062,
          13556.26,
          26113.9151719355,
          36250.938556780085,
          38089.30366193946,
          25751,
          -764.0145433346843,
          -41455.697853768215,
          -96324.06396939937,
          -125166.53494454952,
          -87780.53283354006,
          15833.58,
          135304.76,
          48802.61,
          118101.48,
          78968.45,
          232857.48,
          99745.18968666391,
          -32750.77,
          175027.05,
          361499.61,
          -7374.2,
          68922.04,
          115732.49,
          51564.75452628418,
          -2718.58,
          43129.21,
          42728.96,
          2602.78,
          31116.42,
          441031.5,
          278931.15537648136,
          189570.15,
          746759.21,
          491231.72685407323,
          -2690.66,
          -2417.76,
          -1129.1,
          14933.651142690796,
          53193.86256920341,
          59516.26,
          29823.68,
          10376.76,
          73335.03,
          56936.26,
          22456.239879431392,
          8133.76,
          32149.5,
          57201.98,
          32084.12,
          53791.19,
          147057.23,
          70215.23823520739,
          21581.56,
          154997.13,
          37052.88,
          47609.04,
          72364.51,
          121305.36,
          108890.9023666395,
          85132.36,
          87496.28,
          83614.77,
          692778.09,
          952050.265523992,
          677856.2125405855,
          238579.04536999605,
          2602.76,
          -30072.090748973806,
          34255.06,
          71250.78,
          5314.02,
          -489.32,
          -920.116644922359,
          5531.04,
          32317.98,
          47900.74,
          5422.49,
          115847.07,
          20198.11,
          -953.0554876292736,
          29606.71,
          29715.28,
          16267.53,
          62266.79,
          105087.76,
          137559.76,
          77120.59862159318,
          30149.23,
          93053.55,
          120022.00537414468,
          77324.28,
          24292.81,
          314904.83,
          666283.7388872948,
          771975.61,
          384130.33460972935,
          -5422.51,
          18870.27,
          15941.95,
          9184.171210441877,
          14084.17715399997,
          23908.89,
          36291,
          43817.07,
          42735.01,
          28724.43,
          55959.8,
          21630.57618966136,
          -2602.51,
          51633.22,
          59213.3,
          56719.3,
          50288.88,
          62260,
          31627.502685788837,
          13083.33,
          52816.57,
          55357.75,
          103044.2,
          58644.64,
          115630.01,
          395057.04643911886,
          571639.62,
          305794.4287506137,
          2602.81,
          10845.01,
          2602.74,
          -19018.79546498586,
          -36047.22346405803,
          -46.93,
          68797.48,
          26467.5,
          5205.5,
          45440.31,
          2548.48,
          -20522.95081779021,
          15941.99,
          95728.14,
          48802.44,
          36492.76,
          48157.46,
          50428.73,
          57930.808149491655,
          76970.72,
          104399.27,
          110002.56,
          119701.05,
          111105.74,
          204047.8,
          262889.00590459845,
          206186.28,
          36004.48,
          43380.07,
          12911.25,
          6746.779067274423,
          43309.44274961937,
          76167.23523948102,
          58888.08,
          10845.01,
          27004.03,
          17121.61,
          43380.02,
          5422.5,
          64169.677318590264,
          104992.35,
          21581.49,
          25934.72,
          27043.01,
          53357.11,
          16050.55,
          35243.65344346037,
          48824.53,
          2269.36,
          49144.73,
          34161.28,
          -466.76,
          15942,
          45485.16858792724,
          55249.2,
          33630.77,
          44246.8,
          31233.02,
          83940.3,
          102833.23,
          92453.9978497825,
          57020.1233312089,
          22688.655821173248,
          15616.52,
          25751.02,
          5205.63,
          10411.02,
          5113.14784628738,
          4216.24,
          20450.73,
          7443.16,
          31558.54,
          23671.72,
          19113.626759914576,
          23294.58308880036,
          17857.88,
          5088.78,
          14438.19,
          27365.8,
          4763.5,
          7808.3,
          13020.564479459928,
          40112.87,
          96617.16,
          88312.42,
          90468.4,
          114648.44,
          42042.93,
          100502.39559068542,
          243881.47,
          363330.22,
          338027.9357695746,
          177275.61988269258,
          57698.68,
          5205.57,
          -1380.2178415963836,
          7425.8,
          10411.06,
          29281.23,
          24292.78,
          138561.22,
          178617.38,
          77597.95085810761,
          4703.57,
          75144.49,
          21364.46,
          190752.03,
          74571.97,
          31873.02,
          57743.52479142142,
          71722.59,
          26401.82,
          26559.02,
          53465.64,
          113634.23,
          37295.5,
          16572.19638830084,
          55091.93,
          92181.24,
          16050.48,
          44250.97,
          33587.702428636956,
          -604.9,
          -11480.301098381282,
          -8389.67,
          -1637.42,
          12887.5,
          70965.54,
          67704,
          94253.39639104318,
          149529.94787407474,
          113618.56,
          33173.57,
          194222.65,
          73407.27,
          74410.15,
          55872.25,
          41674.15470085897,
          54544.26,
          80151.43,
          14238.97,
          84387.27,
          40190.54,
          272691.18,
          208257.04603818266,
          39050.16,
          39268.55,
          58803.47,
          160755.98,
          165357.91,
          702916.65,
          0,
          -371719.02172716876,
          -181097.08020264946,
          7553.44,
          100179.15280605621,
          106754.1793144543,
          87117.58,
          51242.79839254087,
          24954.75,
          34078.740826682915,
          34028.09,
          -255.94,
          25067.02,
          2756.03,
          -11073.591107676693,
          -5720.411876684474,
          3579.12,
          8267.96,
          5389,
          115999.64,
          5512,
          -17089.520574453854,
          10670.16,
          -246.82,
          11024.06,
          5512.02,
          38846.99,
          13779.96,
          -35195.42978576483,
          22851.3,
          250547.75,
          292691.18324149575,
          132456.06239298722,
          24081.75,
          -255.94,
          -1746.4145084640209,
          2627.99,
          5511.95,
          10538.91,
          40170.63,
          5526.11,
          2756.01,
          24889.407869811963,
          35947.49,
          10488.54,
          2756.02,
          79652.83,
          22048.02,
          30316.07,
          5592.316327274792,
          19034.09,
          60946.22,
          -276241.28,
          27443.31,
          36127.89,
          -8885.46012930718,
          -29086.29776268979,
          0,
          55415.99,
          15182.83,
          68154.01,
          103984.21,
          114936.30607876772,
          103985.65108809882,
          71132.32306663506,
          34604.01007046348,
          12628.40015567106,
          5205.48,
          10257.02,
          17636.11,
          39202.98786990535,
          62098.76,
          65991.67,
          16303.28,
          -59647.48,
          79630.79,
          38921.46,
          -2404.1426996554565,
          18986.5,
          85304.68,
          13556.25,
          16816.47,
          82493.27,
          -122.85,
          -63484.41223692817,
          -72918.14516733166,
          -37212.376183189735,
          -9098.434266609482,
          2635.57,
          33628.84,
          193562.95,
          45524.04,
          264791.26,
          189586.46534729336,
          14353.75,
          28592.85,
          13779.99,
          56535.25,
          31022.346037130374,
          19521.5,
          87144.58,
          25721.98,
          44006.78,
          40820.76,
          31463.55,
          73009.18352412505,
          118371.06,
          97966.62,
          11368.23,
          207830.79,
          79145.97,
          111665.96,
          84008.6020605005,
          25722.04,
          24881.71,
          70544.48,
          33889.65,
          73279.7,
          36682.21,
          18153.02168999154,
          55082.24,
          156572.26,
          262248.38,
          246690.53712080632,
          115721.70435072803,
          22929.74,
          -6087.2669607737525,
          17586.56,
          64942.48,
          43099.74,
          29389.51,
          68644.8,
          88865.20450456336,
          79381.88282446189,
          55408.46,
          36326.72,
          100692.02,
          119367.54,
          46910.24,
          85937.49,
          44484.27216846628,
          22582.74,
          125574.5,
          140935.02,
          31707.42,
          86835,
          65230.69,
          51158.69898902112,
          31356.35,
          66744.01,
          501191.77,
          189288.49,
          17586.52,
          -33022.00325701556,
          2025.0377073151467,
          102331.69804283376,
          145525.99173769742,
          111212.69,
          23605.99,
          11449,
          2950.75,
          1215.4338781249085,
          17350.43,
          45953.04,
          23606.02,
          25314.79,
          34384.02,
          126354.72201156293,
          277798.9961561256,
          264852.21,
          88167.56,
          2691.3,
          124910.31,
          56866.98,
          143288.18,
          102361.22884280774,
          51931.08,
          115236.74,
          24943.48,
          108269.24920169525,
          216959.72,
          184894.01,
          287259.8015139978,
          344800.87,
          180354.26,
          70935.98,
          11070.84,
          35409.02,
          32816.70443022199,
          -2462.5137406888343,
          17114.44,
          80534.78,
          47819.21,
          11501.26,
          127381.53,
          34625.21,
          -7892.619065473433,
          51056.64,
          147998.69,
          20065.21,
          93607.22,
          109792.96,
          102505.99040046167,
          88071.40168169815,
          69624.52,
          52928.75,
          65523.66,
          90945.52,
          113394.45,
          40117.02,
          86535.96064596408,
          235891.89,
          342269,
          2950.72,
          -64685.84556764091,
          23002.48,
          28783.62,
          34284.88103316478,
          108639.91,
          223500.66,
          2649,
          50955.02,
          60011.97,
          5665.5,
          -64786.791115322856,
          31375.38,
          312041.83,
          14497.82,
          17704.5,
          41686.44,
          79473.49,
          98826.76593245883,
          105677.41,
          104999.11,
          45386.364675844816,
          25664.95,
          107344.08,
          52255.32,
          37397.31326111923,
          43237.98,
          56641.49,
          227456.48,
          88888.28,
          367268.12,
          550111.6882820836,
          525635.1179329011,
          328735.2177812062,
          168797.56588487918,
          80719.62,
          54391.63,
          31146.71,
          19380.35,
          60281.5992986477,
          74739.55,
          -4396.24,
          -66172.04565848302,
          8616.26,
          224864.73,
          92873.3,
          28162.795044090028,
          37520.24,
          78136.27,
          257806.12,
          88253.77,
          91233.8,
          109115.3,
          56846.77479916327,
          40130.49,
          119735.06,
          51472.54,
          120453.14,
          146046.59,
          567017.79,
          2950.78,
          -249227.37330174405,
          -24303.237702402632,
          75651.4,
          5067.48,
          45612.25,
          -5124.37,
          -44577.28260773137,
          1753.21,
          140209.35,
          111410.44222178806,
          40130.49,
          80966.69,
          151095.5,
          222817.50048571662,
          182464.74,
          40536.64,
          319032.4,
          59487.72,
          24292.09,
          21792.41,
          69363.33738780463,
          105890.99,
          66722.42,
          28108.33,
          82548.82,
          125743.77,
          144492.29,
          74859.15585944023,
          121202.07,
          412166.39,
          426410.200699641,
          148032.3496946227,
          2950.78,
          31913.83,
          53483.625952003276,
          61073.95,
          70240.58,
          32402.74348470667,
          5665.52,
          37821.05,
          28327.52,
          18286.372064378695,
          15954.84,
          17350.47,
          8541.828707151924,
          -767.82,
          -1151.73,
          -5684.77,
          -1865.8026488608575,
          -1023.76,
          -12534.31,
          -9578.286153290177,
          -1500.4,
          1497.46,
          33325.28,
          171022.23862972323,
          229721.75,
          93397.12,
          248522.89
         ]
        }
       ],
       "layout": {
        "legend": {
         "bgcolor": "#F5F6F9",
         "font": {
          "color": "#4D5663"
         }
        },
        "paper_bgcolor": "#F5F6F9",
        "plot_bgcolor": "#F5F6F9",
        "template": {
         "data": {
          "bar": [
           {
            "error_x": {
             "color": "#2a3f5f"
            },
            "error_y": {
             "color": "#2a3f5f"
            },
            "marker": {
             "line": {
              "color": "#E5ECF6",
              "width": 0.5
             },
             "pattern": {
              "fillmode": "overlay",
              "size": 10,
              "solidity": 0.2
             }
            },
            "type": "bar"
           }
          ],
          "barpolar": [
           {
            "marker": {
             "line": {
              "color": "#E5ECF6",
              "width": 0.5
             },
             "pattern": {
              "fillmode": "overlay",
              "size": 10,
              "solidity": 0.2
             }
            },
            "type": "barpolar"
           }
          ],
          "carpet": [
           {
            "aaxis": {
             "endlinecolor": "#2a3f5f",
             "gridcolor": "white",
             "linecolor": "white",
             "minorgridcolor": "white",
             "startlinecolor": "#2a3f5f"
            },
            "baxis": {
             "endlinecolor": "#2a3f5f",
             "gridcolor": "white",
             "linecolor": "white",
             "minorgridcolor": "white",
             "startlinecolor": "#2a3f5f"
            },
            "type": "carpet"
           }
          ],
          "choropleth": [
           {
            "colorbar": {
             "outlinewidth": 0,
             "ticks": ""
            },
            "type": "choropleth"
           }
          ],
          "contour": [
           {
            "colorbar": {
             "outlinewidth": 0,
             "ticks": ""
            },
            "colorscale": [
             [
              0,
              "#0d0887"
             ],
             [
              0.1111111111111111,
              "#46039f"
             ],
             [
              0.2222222222222222,
              "#7201a8"
             ],
             [
              0.3333333333333333,
              "#9c179e"
             ],
             [
              0.4444444444444444,
              "#bd3786"
             ],
             [
              0.5555555555555556,
              "#d8576b"
             ],
             [
              0.6666666666666666,
              "#ed7953"
             ],
             [
              0.7777777777777778,
              "#fb9f3a"
             ],
             [
              0.8888888888888888,
              "#fdca26"
             ],
             [
              1,
              "#f0f921"
             ]
            ],
            "type": "contour"
           }
          ],
          "contourcarpet": [
           {
            "colorbar": {
             "outlinewidth": 0,
             "ticks": ""
            },
            "type": "contourcarpet"
           }
          ],
          "heatmap": [
           {
            "colorbar": {
             "outlinewidth": 0,
             "ticks": ""
            },
            "colorscale": [
             [
              0,
              "#0d0887"
             ],
             [
              0.1111111111111111,
              "#46039f"
             ],
             [
              0.2222222222222222,
              "#7201a8"
             ],
             [
              0.3333333333333333,
              "#9c179e"
             ],
             [
              0.4444444444444444,
              "#bd3786"
             ],
             [
              0.5555555555555556,
              "#d8576b"
             ],
             [
              0.6666666666666666,
              "#ed7953"
             ],
             [
              0.7777777777777778,
              "#fb9f3a"
             ],
             [
              0.8888888888888888,
              "#fdca26"
             ],
             [
              1,
              "#f0f921"
             ]
            ],
            "type": "heatmap"
           }
          ],
          "heatmapgl": [
           {
            "colorbar": {
             "outlinewidth": 0,
             "ticks": ""
            },
            "colorscale": [
             [
              0,
              "#0d0887"
             ],
             [
              0.1111111111111111,
              "#46039f"
             ],
             [
              0.2222222222222222,
              "#7201a8"
             ],
             [
              0.3333333333333333,
              "#9c179e"
             ],
             [
              0.4444444444444444,
              "#bd3786"
             ],
             [
              0.5555555555555556,
              "#d8576b"
             ],
             [
              0.6666666666666666,
              "#ed7953"
             ],
             [
              0.7777777777777778,
              "#fb9f3a"
             ],
             [
              0.8888888888888888,
              "#fdca26"
             ],
             [
              1,
              "#f0f921"
             ]
            ],
            "type": "heatmapgl"
           }
          ],
          "histogram": [
           {
            "marker": {
             "pattern": {
              "fillmode": "overlay",
              "size": 10,
              "solidity": 0.2
             }
            },
            "type": "histogram"
           }
          ],
          "histogram2d": [
           {
            "colorbar": {
             "outlinewidth": 0,
             "ticks": ""
            },
            "colorscale": [
             [
              0,
              "#0d0887"
             ],
             [
              0.1111111111111111,
              "#46039f"
             ],
             [
              0.2222222222222222,
              "#7201a8"
             ],
             [
              0.3333333333333333,
              "#9c179e"
             ],
             [
              0.4444444444444444,
              "#bd3786"
             ],
             [
              0.5555555555555556,
              "#d8576b"
             ],
             [
              0.6666666666666666,
              "#ed7953"
             ],
             [
              0.7777777777777778,
              "#fb9f3a"
             ],
             [
              0.8888888888888888,
              "#fdca26"
             ],
             [
              1,
              "#f0f921"
             ]
            ],
            "type": "histogram2d"
           }
          ],
          "histogram2dcontour": [
           {
            "colorbar": {
             "outlinewidth": 0,
             "ticks": ""
            },
            "colorscale": [
             [
              0,
              "#0d0887"
             ],
             [
              0.1111111111111111,
              "#46039f"
             ],
             [
              0.2222222222222222,
              "#7201a8"
             ],
             [
              0.3333333333333333,
              "#9c179e"
             ],
             [
              0.4444444444444444,
              "#bd3786"
             ],
             [
              0.5555555555555556,
              "#d8576b"
             ],
             [
              0.6666666666666666,
              "#ed7953"
             ],
             [
              0.7777777777777778,
              "#fb9f3a"
             ],
             [
              0.8888888888888888,
              "#fdca26"
             ],
             [
              1,
              "#f0f921"
             ]
            ],
            "type": "histogram2dcontour"
           }
          ],
          "mesh3d": [
           {
            "colorbar": {
             "outlinewidth": 0,
             "ticks": ""
            },
            "type": "mesh3d"
           }
          ],
          "parcoords": [
           {
            "line": {
             "colorbar": {
              "outlinewidth": 0,
              "ticks": ""
             }
            },
            "type": "parcoords"
           }
          ],
          "pie": [
           {
            "automargin": true,
            "type": "pie"
           }
          ],
          "scatter": [
           {
            "fillpattern": {
             "fillmode": "overlay",
             "size": 10,
             "solidity": 0.2
            },
            "type": "scatter"
           }
          ],
          "scatter3d": [
           {
            "line": {
             "colorbar": {
              "outlinewidth": 0,
              "ticks": ""
             }
            },
            "marker": {
             "colorbar": {
              "outlinewidth": 0,
              "ticks": ""
             }
            },
            "type": "scatter3d"
           }
          ],
          "scattercarpet": [
           {
            "marker": {
             "colorbar": {
              "outlinewidth": 0,
              "ticks": ""
             }
            },
            "type": "scattercarpet"
           }
          ],
          "scattergeo": [
           {
            "marker": {
             "colorbar": {
              "outlinewidth": 0,
              "ticks": ""
             }
            },
            "type": "scattergeo"
           }
          ],
          "scattergl": [
           {
            "marker": {
             "colorbar": {
              "outlinewidth": 0,
              "ticks": ""
             }
            },
            "type": "scattergl"
           }
          ],
          "scattermapbox": [
           {
            "marker": {
             "colorbar": {
              "outlinewidth": 0,
              "ticks": ""
             }
            },
            "type": "scattermapbox"
           }
          ],
          "scatterpolar": [
           {
            "marker": {
             "colorbar": {
              "outlinewidth": 0,
              "ticks": ""
             }
            },
            "type": "scatterpolar"
           }
          ],
          "scatterpolargl": [
           {
            "marker": {
             "colorbar": {
              "outlinewidth": 0,
              "ticks": ""
             }
            },
            "type": "scatterpolargl"
           }
          ],
          "scatterternary": [
           {
            "marker": {
             "colorbar": {
              "outlinewidth": 0,
              "ticks": ""
             }
            },
            "type": "scatterternary"
           }
          ],
          "surface": [
           {
            "colorbar": {
             "outlinewidth": 0,
             "ticks": ""
            },
            "colorscale": [
             [
              0,
              "#0d0887"
             ],
             [
              0.1111111111111111,
              "#46039f"
             ],
             [
              0.2222222222222222,
              "#7201a8"
             ],
             [
              0.3333333333333333,
              "#9c179e"
             ],
             [
              0.4444444444444444,
              "#bd3786"
             ],
             [
              0.5555555555555556,
              "#d8576b"
             ],
             [
              0.6666666666666666,
              "#ed7953"
             ],
             [
              0.7777777777777778,
              "#fb9f3a"
             ],
             [
              0.8888888888888888,
              "#fdca26"
             ],
             [
              1,
              "#f0f921"
             ]
            ],
            "type": "surface"
           }
          ],
          "table": [
           {
            "cells": {
             "fill": {
              "color": "#EBF0F8"
             },
             "line": {
              "color": "white"
             }
            },
            "header": {
             "fill": {
              "color": "#C8D4E3"
             },
             "line": {
              "color": "white"
             }
            },
            "type": "table"
           }
          ]
         },
         "layout": {
          "annotationdefaults": {
           "arrowcolor": "#2a3f5f",
           "arrowhead": 0,
           "arrowwidth": 1
          },
          "autotypenumbers": "strict",
          "coloraxis": {
           "colorbar": {
            "outlinewidth": 0,
            "ticks": ""
           }
          },
          "colorscale": {
           "diverging": [
            [
             0,
             "#8e0152"
            ],
            [
             0.1,
             "#c51b7d"
            ],
            [
             0.2,
             "#de77ae"
            ],
            [
             0.3,
             "#f1b6da"
            ],
            [
             0.4,
             "#fde0ef"
            ],
            [
             0.5,
             "#f7f7f7"
            ],
            [
             0.6,
             "#e6f5d0"
            ],
            [
             0.7,
             "#b8e186"
            ],
            [
             0.8,
             "#7fbc41"
            ],
            [
             0.9,
             "#4d9221"
            ],
            [
             1,
             "#276419"
            ]
           ],
           "sequential": [
            [
             0,
             "#0d0887"
            ],
            [
             0.1111111111111111,
             "#46039f"
            ],
            [
             0.2222222222222222,
             "#7201a8"
            ],
            [
             0.3333333333333333,
             "#9c179e"
            ],
            [
             0.4444444444444444,
             "#bd3786"
            ],
            [
             0.5555555555555556,
             "#d8576b"
            ],
            [
             0.6666666666666666,
             "#ed7953"
            ],
            [
             0.7777777777777778,
             "#fb9f3a"
            ],
            [
             0.8888888888888888,
             "#fdca26"
            ],
            [
             1,
             "#f0f921"
            ]
           ],
           "sequentialminus": [
            [
             0,
             "#0d0887"
            ],
            [
             0.1111111111111111,
             "#46039f"
            ],
            [
             0.2222222222222222,
             "#7201a8"
            ],
            [
             0.3333333333333333,
             "#9c179e"
            ],
            [
             0.4444444444444444,
             "#bd3786"
            ],
            [
             0.5555555555555556,
             "#d8576b"
            ],
            [
             0.6666666666666666,
             "#ed7953"
            ],
            [
             0.7777777777777778,
             "#fb9f3a"
            ],
            [
             0.8888888888888888,
             "#fdca26"
            ],
            [
             1,
             "#f0f921"
            ]
           ]
          },
          "colorway": [
           "#636efa",
           "#EF553B",
           "#00cc96",
           "#ab63fa",
           "#FFA15A",
           "#19d3f3",
           "#FF6692",
           "#B6E880",
           "#FF97FF",
           "#FECB52"
          ],
          "font": {
           "color": "#2a3f5f"
          },
          "geo": {
           "bgcolor": "white",
           "lakecolor": "white",
           "landcolor": "#E5ECF6",
           "showlakes": true,
           "showland": true,
           "subunitcolor": "white"
          },
          "hoverlabel": {
           "align": "left"
          },
          "hovermode": "closest",
          "mapbox": {
           "style": "light"
          },
          "paper_bgcolor": "white",
          "plot_bgcolor": "#E5ECF6",
          "polar": {
           "angularaxis": {
            "gridcolor": "white",
            "linecolor": "white",
            "ticks": ""
           },
           "bgcolor": "#E5ECF6",
           "radialaxis": {
            "gridcolor": "white",
            "linecolor": "white",
            "ticks": ""
           }
          },
          "scene": {
           "xaxis": {
            "backgroundcolor": "#E5ECF6",
            "gridcolor": "white",
            "gridwidth": 2,
            "linecolor": "white",
            "showbackground": true,
            "ticks": "",
            "zerolinecolor": "white"
           },
           "yaxis": {
            "backgroundcolor": "#E5ECF6",
            "gridcolor": "white",
            "gridwidth": 2,
            "linecolor": "white",
            "showbackground": true,
            "ticks": "",
            "zerolinecolor": "white"
           },
           "zaxis": {
            "backgroundcolor": "#E5ECF6",
            "gridcolor": "white",
            "gridwidth": 2,
            "linecolor": "white",
            "showbackground": true,
            "ticks": "",
            "zerolinecolor": "white"
           }
          },
          "shapedefaults": {
           "line": {
            "color": "#2a3f5f"
           }
          },
          "ternary": {
           "aaxis": {
            "gridcolor": "white",
            "linecolor": "white",
            "ticks": ""
           },
           "baxis": {
            "gridcolor": "white",
            "linecolor": "white",
            "ticks": ""
           },
           "bgcolor": "#E5ECF6",
           "caxis": {
            "gridcolor": "white",
            "linecolor": "white",
            "ticks": ""
           }
          },
          "title": {
           "x": 0.05
          },
          "xaxis": {
           "automargin": true,
           "gridcolor": "white",
           "linecolor": "white",
           "ticks": "",
           "title": {
            "standoff": 15
           },
           "zerolinecolor": "white",
           "zerolinewidth": 2
          },
          "yaxis": {
           "automargin": true,
           "gridcolor": "white",
           "linecolor": "white",
           "ticks": "",
           "title": {
            "standoff": 15
           },
           "zerolinecolor": "white",
           "zerolinewidth": 2
          }
         }
        },
        "title": {
         "font": {
          "color": "#4D5663"
         }
        },
        "xaxis": {
         "gridcolor": "#E1E5ED",
         "showgrid": true,
         "tickfont": {
          "color": "#4D5663"
         },
         "title": {
          "font": {
           "color": "#4D5663"
          },
          "text": ""
         },
         "zerolinecolor": "#E1E5ED"
        },
        "yaxis": {
         "gridcolor": "#E1E5ED",
         "showgrid": true,
         "tickfont": {
          "color": "#4D5663"
         },
         "title": {
          "font": {
           "color": "#4D5663"
          },
          "text": ""
         },
         "zerolinecolor": "#E1E5ED"
        }
       }
      },
      "text/html": [
       "<div>                            <div id=\"080e6e8b-f932-444b-ad11-ecbc7b5311e4\" class=\"plotly-graph-div\" style=\"height:525px; width:100%;\"></div>            <script type=\"text/javascript\">                require([\"plotly\"], function(Plotly) {                    window.PLOTLYENV=window.PLOTLYENV || {};\n",
       "                    window.PLOTLYENV.BASE_URL='https://plot.ly';                                    if (document.getElementById(\"080e6e8b-f932-444b-ad11-ecbc7b5311e4\")) {                    Plotly.newPlot(                        \"080e6e8b-f932-444b-ad11-ecbc7b5311e4\",                        [{\"line\":{\"color\":\"rgba(255, 153, 51, 1.0)\",\"dash\":\"solid\",\"shape\":\"linear\",\"width\":1.3},\"mode\":\"lines\",\"name\":\"Predictions\",\"text\":\"\",\"x\":[\"2020-12-02\",\"2020-12-03\",\"2020-12-04\",\"2020-12-05\",\"2020-12-06\",\"2020-12-07\",\"2020-12-08\",\"2020-12-09\",\"2020-12-10\",\"2020-12-11\",\"2020-12-12\",\"2020-12-13\",\"2020-12-14\",\"2020-12-15\",\"2020-12-16\",\"2020-12-17\",\"2020-12-18\",\"2020-12-19\",\"2020-12-20\",\"2020-12-21\",\"2020-12-22\",\"2020-12-23\",\"2020-12-24\",\"2020-12-25\",\"2020-12-26\",\"2020-12-27\",\"2020-12-28\",\"2020-12-29\",\"2020-12-30\",\"2020-12-31\",\"2021-01-01\",\"2021-01-02\",\"2021-01-03\",\"2021-01-04\",\"2021-01-05\",\"2021-01-06\",\"2021-01-07\",\"2021-01-08\",\"2021-01-09\",\"2021-01-10\",\"2021-01-11\",\"2021-01-12\",\"2021-01-13\",\"2021-01-14\",\"2021-01-15\",\"2021-01-16\",\"2021-01-17\",\"2021-01-18\",\"2021-01-19\",\"2021-01-20\",\"2021-01-21\",\"2021-01-22\",\"2021-01-23\",\"2021-01-24\",\"2021-01-25\",\"2021-01-26\",\"2021-01-27\",\"2021-01-28\",\"2021-01-29\",\"2021-01-30\",\"2021-01-31\",\"2021-02-01\",\"2021-02-02\",\"2021-02-03\",\"2021-02-04\",\"2021-02-05\",\"2021-02-06\",\"2021-02-07\",\"2021-02-08\",\"2021-02-09\",\"2021-02-10\",\"2021-02-11\",\"2021-02-12\",\"2021-02-13\",\"2021-02-14\",\"2021-02-15\",\"2021-02-16\",\"2021-02-17\",\"2021-02-18\",\"2021-02-19\",\"2021-02-20\",\"2021-02-21\",\"2021-02-22\",\"2021-02-23\",\"2021-02-24\",\"2021-02-25\",\"2021-02-26\",\"2021-02-27\",\"2021-02-28\",\"2021-03-01\",\"2021-03-02\",\"2021-03-03\",\"2021-03-04\",\"2021-03-05\",\"2021-03-06\",\"2021-03-07\",\"2021-03-08\",\"2021-03-09\",\"2021-03-10\",\"2021-03-11\",\"2021-03-12\",\"2021-03-13\",\"2021-03-14\",\"2021-03-15\",\"2021-03-16\",\"2021-03-17\",\"2021-03-18\",\"2021-03-19\",\"2021-03-20\",\"2021-03-21\",\"2021-03-22\",\"2021-03-23\",\"2021-03-24\",\"2021-03-25\",\"2021-03-26\",\"2021-03-27\",\"2021-03-28\",\"2021-03-29\",\"2021-03-30\",\"2021-03-31\",\"2021-04-01\",\"2021-04-02\",\"2021-04-03\",\"2021-04-04\",\"2021-04-05\",\"2021-04-06\",\"2021-04-07\",\"2021-04-08\",\"2021-04-09\",\"2021-04-10\",\"2021-04-11\",\"2021-04-12\",\"2021-04-13\",\"2021-04-14\",\"2021-04-15\",\"2021-04-16\",\"2021-04-17\",\"2021-04-18\",\"2021-04-19\",\"2021-04-20\",\"2021-04-21\",\"2021-04-22\",\"2021-04-23\",\"2021-04-24\",\"2021-04-25\",\"2021-04-26\",\"2021-04-27\",\"2021-04-28\",\"2021-04-29\",\"2021-04-30\",\"2021-05-01\",\"2021-05-02\",\"2021-05-03\",\"2021-05-04\",\"2021-05-05\",\"2021-05-06\",\"2021-05-07\",\"2021-05-08\",\"2021-05-09\",\"2021-05-10\",\"2021-05-11\",\"2021-05-12\",\"2021-05-13\",\"2021-05-14\",\"2021-05-15\",\"2021-05-16\",\"2021-05-17\",\"2021-05-18\",\"2021-05-19\",\"2021-05-20\",\"2021-05-21\",\"2021-05-22\",\"2021-05-23\",\"2021-05-24\",\"2021-05-25\",\"2021-05-26\",\"2021-05-27\",\"2021-05-28\",\"2021-05-29\",\"2021-05-30\",\"2021-05-31\",\"2021-06-01\",\"2021-06-02\",\"2021-06-03\",\"2021-06-04\",\"2021-06-05\",\"2021-06-06\",\"2021-06-07\",\"2021-06-08\",\"2021-06-09\",\"2021-06-10\",\"2021-06-11\",\"2021-06-12\",\"2021-06-13\",\"2021-06-14\",\"2021-06-15\",\"2021-06-16\",\"2021-06-17\",\"2021-06-18\",\"2021-06-19\",\"2021-06-20\",\"2021-06-21\",\"2021-06-22\",\"2021-06-23\",\"2021-06-24\",\"2021-06-25\",\"2021-06-26\",\"2021-06-27\",\"2021-06-28\",\"2021-06-29\",\"2021-06-30\",\"2021-07-01\",\"2021-07-02\",\"2021-07-03\",\"2021-07-04\",\"2021-07-05\",\"2021-07-06\",\"2021-07-07\",\"2021-07-08\",\"2021-07-09\",\"2021-07-10\",\"2021-07-11\",\"2021-07-12\",\"2021-07-13\",\"2021-07-14\",\"2021-07-15\",\"2021-07-16\",\"2021-07-17\",\"2021-07-18\",\"2021-07-19\",\"2021-07-20\",\"2021-07-21\",\"2021-07-22\",\"2021-07-23\",\"2021-07-24\",\"2021-07-25\",\"2021-07-26\",\"2021-07-27\",\"2021-07-28\",\"2021-07-29\",\"2021-07-30\",\"2021-07-31\",\"2021-08-01\",\"2021-08-02\",\"2021-08-03\",\"2021-08-04\",\"2021-08-05\",\"2021-08-06\",\"2021-08-07\",\"2021-08-08\",\"2021-08-09\",\"2021-08-10\",\"2021-08-11\",\"2021-08-12\",\"2021-08-13\",\"2021-08-14\",\"2021-08-15\",\"2021-08-16\",\"2021-08-17\",\"2021-08-18\",\"2021-08-19\",\"2021-08-20\",\"2021-08-21\",\"2021-08-22\",\"2021-08-23\",\"2021-08-24\",\"2021-08-25\",\"2021-08-26\",\"2021-08-27\",\"2021-08-28\",\"2021-08-29\",\"2021-08-30\",\"2021-08-31\",\"2021-09-01\",\"2021-09-02\",\"2021-09-03\",\"2021-09-04\",\"2021-09-05\",\"2021-09-06\",\"2021-09-07\",\"2021-09-08\",\"2021-09-09\",\"2021-09-10\",\"2021-09-11\",\"2021-09-12\",\"2021-09-13\",\"2021-09-14\",\"2021-09-15\",\"2021-09-16\",\"2021-09-17\",\"2021-09-18\",\"2021-09-19\",\"2021-09-20\",\"2021-09-21\",\"2021-09-22\",\"2021-09-23\",\"2021-09-24\",\"2021-09-25\",\"2021-09-26\",\"2021-09-27\",\"2021-09-28\",\"2021-09-29\",\"2021-09-30\",\"2021-10-01\",\"2021-10-02\",\"2021-10-03\",\"2021-10-04\",\"2021-10-05\",\"2021-10-06\",\"2021-10-07\",\"2021-10-08\",\"2021-10-09\",\"2021-10-10\",\"2021-10-11\",\"2021-10-12\",\"2021-10-13\",\"2021-10-14\",\"2021-10-15\",\"2021-10-16\",\"2021-10-17\",\"2021-10-18\",\"2021-10-19\",\"2021-10-20\",\"2021-10-21\",\"2021-10-22\",\"2021-10-23\",\"2021-10-24\",\"2021-10-25\",\"2021-10-26\",\"2021-10-27\",\"2021-10-28\",\"2021-10-29\",\"2021-10-30\",\"2021-10-31\",\"2021-11-01\",\"2021-11-02\",\"2021-11-03\",\"2021-11-04\",\"2021-11-05\",\"2021-11-06\",\"2021-11-07\",\"2021-11-08\",\"2021-11-09\",\"2021-11-10\",\"2021-11-11\",\"2021-11-12\",\"2021-11-13\",\"2021-11-14\",\"2021-11-15\",\"2021-11-16\",\"2021-11-17\",\"2021-11-18\",\"2021-11-19\",\"2021-11-20\",\"2021-11-21\",\"2021-11-22\",\"2021-11-23\",\"2021-11-24\",\"2021-11-25\",\"2021-11-26\",\"2021-11-27\",\"2021-11-28\",\"2021-11-29\",\"2021-11-30\",\"2021-12-01\",\"2021-12-02\",\"2021-12-03\",\"2021-12-04\",\"2021-12-05\",\"2021-12-06\",\"2021-12-07\",\"2021-12-08\",\"2021-12-09\",\"2021-12-10\",\"2021-12-11\",\"2021-12-12\",\"2021-12-13\",\"2021-12-14\",\"2021-12-15\",\"2021-12-16\",\"2021-12-17\",\"2021-12-18\",\"2021-12-19\",\"2021-12-20\",\"2021-12-21\",\"2021-12-22\",\"2021-12-23\",\"2021-12-24\",\"2021-12-25\",\"2021-12-26\",\"2021-12-27\",\"2021-12-28\",\"2021-12-29\",\"2021-12-30\",\"2021-12-31\",\"2022-01-01\",\"2022-01-02\",\"2022-01-03\",\"2022-01-04\",\"2022-01-05\",\"2022-01-06\",\"2022-01-07\",\"2022-01-08\",\"2022-01-09\",\"2022-01-10\",\"2022-01-11\",\"2022-01-12\",\"2022-01-13\",\"2022-01-14\",\"2022-01-15\",\"2022-01-16\",\"2022-01-17\",\"2022-01-18\",\"2022-01-19\",\"2022-01-20\",\"2022-01-21\",\"2022-01-22\",\"2022-01-23\",\"2022-01-24\",\"2022-01-25\",\"2022-01-26\",\"2022-01-27\",\"2022-01-28\",\"2022-01-29\",\"2022-01-30\",\"2022-01-31\",\"2022-02-01\",\"2022-02-02\",\"2022-02-03\",\"2022-02-04\",\"2022-02-05\",\"2022-02-06\",\"2022-02-07\",\"2022-02-08\",\"2022-02-09\",\"2022-02-10\",\"2022-02-11\",\"2022-02-12\",\"2022-02-13\",\"2022-02-14\",\"2022-02-15\",\"2022-02-16\",\"2022-02-17\",\"2022-02-18\",\"2022-02-19\",\"2022-02-20\",\"2022-02-21\",\"2022-02-22\",\"2022-02-23\",\"2022-02-24\",\"2022-02-25\",\"2022-02-26\",\"2022-02-27\",\"2022-02-28\",\"2022-03-01\",\"2022-03-02\",\"2022-03-03\",\"2022-03-04\",\"2022-03-05\",\"2022-03-06\",\"2022-03-07\",\"2022-03-08\",\"2022-03-09\",\"2022-03-10\",\"2022-03-11\",\"2022-03-12\",\"2022-03-13\",\"2022-03-14\",\"2022-03-15\",\"2022-03-16\",\"2022-03-17\",\"2022-03-18\",\"2022-03-19\",\"2022-03-20\",\"2022-03-21\",\"2022-03-22\",\"2022-03-23\",\"2022-03-24\",\"2022-03-25\",\"2022-03-26\",\"2022-03-27\",\"2022-03-28\",\"2022-03-29\",\"2022-03-30\",\"2022-03-31\",\"2022-04-01\",\"2022-04-02\",\"2022-04-03\",\"2022-04-04\",\"2022-04-05\",\"2022-04-06\",\"2022-04-07\",\"2022-04-08\",\"2022-04-09\",\"2022-04-10\",\"2022-04-11\",\"2022-04-12\",\"2022-04-13\",\"2022-04-14\",\"2022-04-15\",\"2022-04-16\",\"2022-04-17\",\"2022-04-18\",\"2022-04-19\",\"2022-04-20\",\"2022-04-21\",\"2022-04-22\",\"2022-04-23\",\"2022-04-24\",\"2022-04-25\",\"2022-04-26\",\"2022-04-27\",\"2022-04-28\",\"2022-04-29\",\"2022-04-30\",\"2022-05-01\",\"2022-05-02\",\"2022-05-03\",\"2022-05-04\",\"2022-05-05\",\"2022-05-06\",\"2022-05-07\",\"2022-05-08\",\"2022-05-09\",\"2022-05-10\",\"2022-05-11\",\"2022-05-12\",\"2022-05-13\",\"2022-05-14\",\"2022-05-15\",\"2022-05-16\",\"2022-05-17\",\"2022-05-18\",\"2022-05-19\",\"2022-05-20\",\"2022-05-21\",\"2022-05-22\",\"2022-05-23\",\"2022-05-24\",\"2022-05-25\",\"2022-05-26\",\"2022-05-27\",\"2022-05-28\",\"2022-05-29\",\"2022-05-30\",\"2022-05-31\",\"2022-06-01\",\"2022-06-02\",\"2022-06-03\",\"2022-06-04\",\"2022-06-05\",\"2022-06-06\",\"2022-06-07\",\"2022-06-08\",\"2022-06-09\",\"2022-06-10\",\"2022-06-11\",\"2022-06-12\",\"2022-06-13\",\"2022-06-14\",\"2022-06-15\",\"2022-06-16\",\"2022-06-17\",\"2022-06-18\",\"2022-06-19\",\"2022-06-20\",\"2022-06-21\",\"2022-06-22\",\"2022-06-23\",\"2022-06-24\",\"2022-06-25\",\"2022-06-26\",\"2022-06-27\",\"2022-06-28\",\"2022-06-29\",\"2022-06-30\",\"2022-07-01\",\"2022-07-02\",\"2022-07-03\",\"2022-07-04\",\"2022-07-05\",\"2022-07-06\",\"2022-07-07\",\"2022-07-08\",\"2022-07-09\",\"2022-07-10\",\"2022-07-11\",\"2022-07-12\",\"2022-07-13\",\"2022-07-14\",\"2022-07-15\",\"2022-07-16\",\"2022-07-17\",\"2022-07-18\",\"2022-07-19\",\"2022-07-20\",\"2022-07-21\",\"2022-07-22\",\"2022-07-23\",\"2022-07-24\",\"2022-07-25\",\"2022-07-26\",\"2022-07-27\",\"2022-07-28\",\"2022-07-29\",\"2022-07-30\",\"2022-07-31\",\"2022-08-01\",\"2022-08-02\",\"2022-08-03\",\"2022-08-04\",\"2022-08-05\",\"2022-08-06\",\"2022-08-07\",\"2022-08-08\",\"2022-08-09\",\"2022-08-10\",\"2022-08-11\",\"2022-08-12\",\"2022-08-13\",\"2022-08-14\",\"2022-08-15\",\"2022-08-16\",\"2022-08-17\",\"2022-08-18\",\"2022-08-19\",\"2022-08-20\",\"2022-08-21\",\"2022-08-22\",\"2022-08-23\",\"2022-08-24\",\"2022-08-25\",\"2022-08-26\",\"2022-08-27\",\"2022-08-28\",\"2022-08-29\",\"2022-08-30\",\"2022-08-31\",\"2022-09-01\",\"2022-09-02\",\"2022-09-03\",\"2022-09-04\",\"2022-09-05\",\"2022-09-06\",\"2022-09-07\",\"2022-09-08\",\"2022-09-09\",\"2022-09-10\",\"2022-09-11\",\"2022-09-12\",\"2022-09-13\",\"2022-09-14\",\"2022-09-15\",\"2022-09-16\",\"2022-09-17\",\"2022-09-18\",\"2022-09-19\",\"2022-09-20\",\"2022-09-21\",\"2022-09-22\",\"2022-09-23\",\"2022-09-24\",\"2022-09-25\",\"2022-09-26\",\"2022-09-27\",\"2022-09-28\",\"2022-09-29\",\"2022-09-30\",\"2022-10-01\",\"2022-10-02\",\"2022-10-03\",\"2022-10-04\",\"2022-10-05\",\"2022-10-06\",\"2022-10-07\",\"2022-10-08\",\"2022-10-09\",\"2022-10-10\",\"2022-10-11\",\"2022-10-12\",\"2022-10-13\",\"2022-10-14\",\"2022-10-15\",\"2022-10-16\",\"2022-10-17\",\"2022-10-18\",\"2022-10-19\",\"2022-10-20\",\"2022-10-21\",\"2022-10-22\",\"2022-10-23\",\"2022-10-24\",\"2022-10-25\",\"2022-10-26\",\"2022-10-27\",\"2022-10-28\",\"2022-10-29\",\"2022-10-30\",\"2022-10-31\",\"2022-11-01\",\"2022-11-02\",\"2022-11-03\",\"2022-11-04\",\"2022-11-05\",\"2022-11-06\",\"2022-11-07\",\"2022-11-08\",\"2022-11-09\",\"2022-11-10\",\"2022-11-11\",\"2022-11-12\",\"2022-11-13\",\"2022-11-14\",\"2022-11-15\",\"2022-11-16\",\"2022-11-17\",\"2022-11-18\",\"2022-11-19\",\"2022-11-20\",\"2022-11-21\",\"2022-11-22\",\"2022-11-23\",\"2022-11-24\",\"2022-11-25\",\"2022-11-26\",\"2022-11-27\",\"2022-11-28\",\"2022-11-29\",\"2022-11-30\",\"2022-12-01\",\"2022-12-02\",\"2022-12-03\",\"2022-12-04\",\"2022-12-05\",\"2022-12-06\",\"2022-12-07\",\"2022-12-08\",\"2022-12-09\",\"2022-12-10\",\"2022-12-11\",\"2022-12-12\",\"2022-12-13\",\"2022-12-14\",\"2022-12-15\",\"2022-12-16\",\"2022-12-17\",\"2022-12-18\",\"2022-12-19\",\"2022-12-20\",\"2022-12-21\",\"2022-12-22\",\"2022-12-23\",\"2022-12-24\",\"2022-12-25\",\"2022-12-26\",\"2022-12-27\",\"2022-12-28\",\"2022-12-29\",\"2022-12-30\",\"2022-12-31\",\"2023-01-01\",\"2023-01-02\",\"2023-01-03\",\"2023-01-04\",\"2023-01-05\",\"2023-01-06\",\"2023-01-07\",\"2023-01-08\",\"2023-01-09\",\"2023-01-10\",\"2023-01-11\",\"2023-01-12\",\"2023-01-13\",\"2023-01-14\",\"2023-01-15\",\"2023-01-16\",\"2023-01-17\",\"2023-01-18\",\"2023-01-19\",\"2023-01-20\",\"2023-01-21\",\"2023-01-22\",\"2023-01-23\",\"2023-01-24\",\"2023-01-25\",\"2023-01-26\",\"2023-01-27\",\"2023-01-28\",\"2023-01-29\",\"2023-01-30\",\"2023-01-31\",\"2023-02-01\",\"2023-02-02\",\"2023-02-03\",\"2023-02-04\",\"2023-02-05\",\"2023-02-06\",\"2023-02-07\",\"2023-02-08\",\"2023-02-09\",\"2023-02-10\",\"2023-02-11\",\"2023-02-12\",\"2023-02-13\",\"2023-02-14\",\"2023-02-15\",\"2023-02-16\",\"2023-02-17\",\"2023-02-18\",\"2023-02-19\",\"2023-02-20\",\"2023-02-21\",\"2023-02-22\",\"2023-02-23\",\"2023-02-24\",\"2023-02-25\",\"2023-02-26\",\"2023-02-27\",\"2023-02-28\",\"2023-03-01\",\"2023-03-02\",\"2023-03-03\",\"2023-03-04\",\"2023-03-05\",\"2023-03-06\",\"2023-03-07\",\"2023-03-08\",\"2023-03-09\",\"2023-03-10\",\"2023-03-11\",\"2023-03-12\",\"2023-03-13\",\"2023-03-14\",\"2023-03-15\",\"2023-03-16\",\"2023-03-17\",\"2023-03-18\",\"2023-03-19\",\"2023-03-20\",\"2023-03-21\",\"2023-03-22\",\"2023-03-23\",\"2023-03-24\",\"2023-03-25\",\"2023-03-26\",\"2023-03-27\",\"2023-03-28\",\"2023-03-29\",\"2023-03-30\",\"2023-03-31\",\"2023-04-01\",\"2023-04-02\",\"2023-04-03\",\"2023-04-04\",\"2023-04-05\",\"2023-04-06\",\"2023-04-07\",\"2023-04-08\",\"2023-04-09\",\"2023-04-10\",\"2023-04-11\",\"2023-04-12\",\"2023-04-13\",\"2023-04-14\",\"2023-04-15\",\"2023-04-16\",\"2023-04-17\",\"2023-04-18\",\"2023-04-19\",\"2023-04-20\",\"2023-04-21\",\"2023-04-22\",\"2023-04-23\",\"2023-04-24\",\"2023-04-25\",\"2023-04-26\",\"2023-04-27\",\"2023-04-28\",\"2023-04-29\",\"2023-04-30\",\"2023-05-01\",\"2023-05-02\",\"2023-05-03\",\"2023-05-04\",\"2023-05-05\",\"2023-05-06\",\"2023-05-07\",\"2023-05-08\",\"2023-05-09\",\"2023-05-10\",\"2023-05-11\",\"2023-05-12\",\"2023-05-13\",\"2023-05-14\",\"2023-05-15\",\"2023-05-16\",\"2023-05-17\",\"2023-05-18\",\"2023-05-19\",\"2023-05-20\",\"2023-05-21\",\"2023-05-22\",\"2023-05-23\",\"2023-05-24\",\"2023-05-25\",\"2023-05-26\",\"2023-05-27\",\"2023-05-28\",\"2023-05-29\",\"2023-05-30\",\"2023-05-31\",\"2023-06-01\",\"2023-06-02\",\"2023-06-03\",\"2023-06-04\",\"2023-06-05\",\"2023-06-06\",\"2023-06-07\",\"2023-06-08\",\"2023-06-09\",\"2023-06-10\",\"2023-06-11\",\"2023-06-12\",\"2023-06-13\",\"2023-06-14\",\"2023-06-15\",\"2023-06-16\",\"2023-06-17\",\"2023-06-18\",\"2023-06-19\",\"2023-06-20\",\"2023-06-21\",\"2023-06-22\",\"2023-06-23\",\"2023-06-24\",\"2023-06-25\",\"2023-06-26\",\"2023-06-27\",\"2023-06-28\"],\"y\":[0.0,-3921.6573007575316,30459.542262549603,-5712.989478897811,15975.246657426267,10893.714415829956,10921.525236397441,-7576.8947197099305,39922.761956529896,-2503.3411685969913,53782.389578124814,23712.59944396369,-6037.483626457557,45334.84665713081,40295.91998962176,40716.279290110586,27798.398762263663,8260.802298726092,18035.182453336216,42121.104337269484,30916.962184927317,35840.553289910546,30973.051373482478,68406.41374259173,21237.241128693902,4944.721703841766,24115.78882565711,58908.01320693827,112641.32955905455,95352.35693074287,-17881.339653806543,202962.35909678627,-61651.22111868461,19908.206628736443,55432.8125622182,17066.04631860496,32619.541694447747,68107.52819863768,-16164.35900595762,41520.425384870985,42405.39269879426,27146.659212642968,9517.779862849788,23762.095397469453,38779.05269116665,-13342.502897124745,-22197.945098368742,12831.102143376276,53956.01254393271,69314.34996998697,27524.556048043836,93889.52162358294,7894.911787610421,19841.075840594414,32362.477924190578,66747.74306359982,105611.39554110589,103330.55117995062,26145.700186268405,339165.8010877236,-31293.315337248914,23959.36535089631,52722.32788765883,25043.18888649353,13732.379460582182,135265.20764170127,-19074.75711734139,77292.07478505689,46168.176497557004,51761.58169801068,65061.26171010552,29762.500221973605,118588.60573188987,51477.01651590293,9421.030576605699,27978.91771043622,59725.26884026424,53217.85477275367,156089.5732115159,73446.55122552643,-18366.293292000293,-17856.092443714246,22966.50944850873,50610.104191465856,36887.54686889026,88929.32172452673,176822.91835844057,328691.82038807555,63454.568550695934,42851.72027762964,34748.12491374143,31550.845151988324,36570.22809265758,99579.55999355525,-24057.09450155648,6418.909906209832,20182.54799421812,41567.64004763627,20125.72506554655,16544.743985696194,91768.29784725148,32497.52317146091,86367.93398154863,46924.72631825614,30253.005430428755,30363.070281551074,29808.47559372926,85489.03730250982,-2590.7645965002303,11049.675044192598,30476.044959384868,55234.536902252265,35331.543319583136,61781.454476878265,69089.1329311703,18570.941640224184,-1446.7016414034297,6958.085747658228,28478.244847337897,30529.030072569305,48168.156104008856,132291.8692826427,89049.3929488586,119660.32640722595,118994.13505359052,103430.36171928616,44480.45079225197,53879.83257816433,103578.42211383425,120059.06527726134,-16585.61577196495,8395.36562540353,36011.03059677589,27001.09294306988,28803.231865261598,102078.19315268684,25617.23749299455,102575.86306185083,76143.00129480704,62920.99320635526,56858.165790429586,62942.95205714149,221325.9870899158,-30238.834780081932,79516.71693272181,68195.71838536306,75756.26848233938,42953.61097117176,80693.1705825197,326843.6590752932,6221.00624223362,38489.85572634898,121486.84477376551,367.9009554981167,-162655.90937001051,272303.23340582737,41023.8507756537,37148.615996823544,20534.089349959075,30832.781003818138,26642.98438909586,58734.984253129194,105449.33397125236,77507.72885141216,118956.94184030648,162360.12969933255,62932.16047848809,16798.539841107908,97408.5871095762,53249.819386363735,116700.54582078071,74874.97919299075,36221.374087844975,27025.37615467119,37692.96895066081,64935.192710823714,70859.18745313172,161999.61473846258,111128.44159793723,134016.20116741353,99028.78371094892,57836.59955758402,56843.229398763295,42805.603691335404,73025.98452779539,53716.770176673046,29569.73971504619,60098.32714330883,75680.77043529044,61299.43915355828,64782.86339941565,137285.94307253472,9186.507221759504,55952.29690631146,53665.47472636506,76097.86601211918,109093.34595910637,60686.500851653946,92785.21001780752,66432.06063686163,83490.66070154296,69600.35263150759,83742.61062315632,144780.23639043095,148088.21129060263,39328.14575487012,119789.8150468607,94708.08966921174,47673.98927835142,69764.76466552404,216374.80862216532,211248.83853433476,162212.62079382525,41617.38840730445,23376.90985034997,38678.729722924865,64490.691491068224,56235.613392666855,54038.68775769626,67871.92219862872,98604.20435428922,63627.34663746989,37555.56862329594,45468.170731726255,96022.5855388944,35711.4246000858,78112.87896225261,46915.80388505773,91795.06921248914,84607.15832631827,80926.45134665008,83495.3072613266,128013.16010015932,42807.13079948335,67184.56170843907,79653.55546240842,91422.02892882907,92481.3122259709,95193.71137610986,113832.92844889163,56107.56293588434,480261.75968389586,-65959.11120933414,-78657.55800616437,22161.479761104318,72704.8645424502,33800.55716979413,103697.55333737028,77957.76540014881,12006.15046228902,45917.35075950969,61661.92301217902,51147.34442594398,75197.52712768638,79491.32854038647,21942.801826021994,23728.401061705386,40565.35091530939,68973.45194708303,97477.45804402522,21876.906809766875,104099.77635399165,8703.48300695578,76885.15029952364,35700.68643810688,39485.3426723156,96310.79009643232,34052.25632134121,110671.29538101959,62889.094377298745,56333.61666945761,259883.43912417177,325898.4445644873,126692.26040474922,56835.566299463855,82816.79398614899,15377.857186272246,43457.627907881746,36153.55112291942,40192.34885951775,75238.41643356481,20099.760042334437,80388.22991128873,27355.78157866269,50894.49258764261,43636.2612242273,50793.44846005563,78117.88163598487,41873.80407561425,79420.23141568847,25382.523496916,45755.10684807025,79793.04493707597,96605.6272979207,76823.0011888544,27978.971979085065,73357.82268737734,64765.00676017388,80005.90646538186,56498.12316401071,45428.03176781858,124954.51464759756,337344.86963001866,-38817.34558248782,-198395.54943930445,-200194.0597155662,-67336.99939340103,2837.655403574783,66242.53083374439,37657.60413020983,75243.47470339842,8681.260075196566,29602.808883979742,39683.84316688836,51731.88553723428,64739.349198586504,48324.74219655073,103757.19560005708,72838.56132223216,113726.3779912091,114641.53920509414,98300.65757426474,73477.66159799512,27729.551790682308,59060.049384754835,14053.730032365478,45325.34724478744,50407.14078273857,50538.44482210362,51168.04177151262,13536.310186315959,58154.85880886416,19473.486546179643,43932.622418329214,50698.6742299726,52378.93460151261,52996.71175655467,13486.856699881278,30368.71975452487,-43091.36772087168,-32902.51855758321,-3152.84744554224,56713.77442795078,121715.76643521755,17533.963381759677,128960.62758720723,30102.969620213742,173285.58731564344,43777.23790201184,12281.30095258003,164046.44218098233,212753.97107696926,-25916.154593418847,93065.90792725448,72581.15305199727,45472.87673224468,35731.260283453215,80120.54558024398,25881.32337331759,51458.22172207662,37837.953981562445,308597.4015091393,105718.51526282598,139071.05715359628,501966.0938187353,164689.62302613223,-3658.7523634728495,53875.45744496898,15137.089984532504,45713.81148053537,98407.65592156071,72058.87373245938,14037.187165479776,57278.68113684686,71980.35811641368,44321.22652075762,39095.559579460736,60194.31205081061,62601.68298242247,37265.123427020575,64411.685418251385,56774.6241243404,108835.05075061914,44440.0505452794,66059.59470180565,141854.54674510745,-5935.051490584032,90650.84453359863,62888.624146142494,89824.58906496926,76169.10511658464,100200.08128712271,81572.74172518184,48525.14714074029,497271.7672057097,493172.3548743988,299971.7556319969,86289.96922308953,41295.21804858947,26961.5455090232,64089.11286437686,109981.43548527046,27143.735076572397,24301.699350199808,24336.887032657516,60777.233723509504,59793.02711159235,51744.299964360995,56478.7578902541,112314.29606360884,3956.3914548492266,32797.607137739404,73406.49711235458,52656.12641318312,31063.51029857877,105052.42786471047,84651.96523623605,91142.01742652497,51697.144477138165,65693.80458582866,95662.19217140393,85004.77856366427,94810.45106399884,38625.67686896508,226746.2240445181,389296.34815151326,431692.50502195006,154335.6798556642,-18445.05930851864,92129.46640117464,43572.34101497283,45798.49570459651,49738.116879230016,67369.10133340489,51478.99716830056,50034.6558002005,79968.0238266843,50547.78360538422,64132.06223207197,38154.30369861456,51135.92678179954,69529.03224179703,53238.18953295291,86720.64481519771,62580.341950731614,62606.1681579586,43408.52022096711,59484.76751654055,67091.66081496264,51785.03376875149,117243.12703247086,56203.57560039877,99791.02289291662,269039.1877286392,343834.28823251795,128021.88646504388,-2624.0362753879745,75930.3224184709,36200.91661969066,31998.546015552012,27350.872103603208,59604.60887683692,71274.38372215477,30957.255997865992,56909.74168166715,67835.88681848404,25780.83839372889,31784.0177600979,67358.09793510303,86546.34310865264,38696.669500207754,74904.5470599529,61152.26781241211,58325.88924335736,70702.49488911321,94208.08972601815,81860.04165942481,81067.20590342101,113153.42845305952,88784.23427673461,150705.27419406603,172461.57920578838,142048.34070557664,20823.641508109475,62584.49794355754,50038.579026879626,48561.04287214557,65792.12095107234,83763.37911155306,73375.15161725855,28396.640874009954,46076.32583730454,56285.690328352626,67787.28103867237,31543.661587327122,86842.71826370727,100909.8938826035,24333.947180528463,46405.09759565836,62624.239127497276,69462.21858401356,38205.523022641966,66776.70640256492,69348.93277679727,22527.408328308426,61956.06024390572,61125.06616759823,33073.76693237956,50749.39504379342,67392.03253680642,71415.01449119177,43003.52858987769,50543.42191369198,60813.42817355734,88187.26042712017,87342.79505279755,84651.59868518298,65599.96009390398,37489.07866309729,33117.257290697045,65468.04534201839,35800.139606385346,46553.72716990704,41068.2632421294,45269.20811698986,42048.919631589015,25508.552217928187,69349.27056941974,44168.2552528418,46898.00732412409,51210.48483750161,49663.56531026338,29002.814588579928,35031.34847725433,62029.52242957053,33392.618989817434,42814.60267735875,44908.100829543575,64949.85239404866,83155.57330316778,63154.87633663694,91623.83990986663,93800.72056635398,41703.28431816191,103541.41999079203,179855.81197893558,217886.3998259253,179673.35149191448,108138.01244388707,49382.6742611734,36393.78082238921,44901.37077178393,54817.33328848786,38714.76232106885,43518.70237414638,54624.778301863575,120403.1886516316,121291.69625588162,60968.23201415723,41464.25698685052,82827.87018343338,19993.686420205173,177913.8992977181,36088.1083239904,56453.95834961026,69539.64505941751,83600.01745023264,33014.026029732195,48917.01271220544,73107.9598968621,98494.65900471792,36299.543013398885,51405.29140818861,76808.72501514363,78590.1226224304,22646.152350101707,79471.39409794669,41678.837577716185,30885.951592774858,34411.34194979771,42689.646352360025,27321.46746996731,39563.33890814803,88332.31138781343,59214.97041985883,85347.65724435374,118179.1082726963,89409.66227082822,32744.88572733494,158956.1583105473,45109.91728093145,82610.26775148195,54981.478798789,60016.96064484747,70549.75555609238,76957.60278978734,21596.143439088075,104422.83656805073,35835.942283617056,214383.0794102433,109222.61646132628,43743.78660994303,55754.41481237247,60945.81111844638,138417.91778588918,115117.4554706827,473316.6811405491,-128878.67050475001,-138415.18900172913,-21720.593259801535,58888.259889460474,101935.7890476984,111691.9558307709,55004.43602101721,46380.89392675931,50907.55174904998,50774.908453899065,50739.546359266904,38796.92518596836,71547.18363261316,17130.14676495984,24557.459552336142,39559.22944479433,33578.80992555624,36939.15026213045,45975.502671612536,126126.1680516927,-3593.913379231927,27434.666717790664,47666.267853825724,26734.226561067022,40531.72177145154,47558.94250275547,71664.53150751174,20789.345726298216,5689.221489828403,62525.402113182085,186260.8165367422,165846.94996172359,83399.90917933939,47918.99293755784,18330.544172002563,28816.529985126443,49258.231623268715,36976.898980952305,36141.00842314356,67773.93871775993,38853.27621949977,23249.17938070522,43222.60820250956,60825.24877869586,31596.543231848722,32767.31846335413,93738.63405250084,38571.3434546619,41837.98844435418,23661.825272574937,55660.93595198678,65474.91536862023,-163201.13121530315,131987.57522837888,31872.060277533757,17161.923471358823,9330.568483858562,49292.10989221979,50835.87265887426,37261.9555433449,83116.78927911246,93615.60333485689,73670.74146794007,75612.71590371765,71755.09328619864,32599.170592400325,42372.60477436274,41103.98255196077,49793.76146097078,28054.49135399991,50378.67851036312,73402.25562954483,51794.67487563794,35460.91704970508,-1454.5936124743766,109545.20059564903,18791.17191322593,27200.703883556584,54011.09127634082,70709.6325955079,22585.097995612625,56657.45938976327,88455.87090452613,-786.8049142695836,-6852.940019710921,7124.738262337647,5809.386766276706,32311.239067513936,43578.96328029282,58429.29449804681,135473.78934033844,10301.492155450003,221713.52608705236,74497.42169977941,22029.442859972663,63792.82522801419,44205.50162799729,50048.52649862339,43244.073897340364,50096.94395516731,69036.07327125431,30592.76669115523,69084.96000983893,57956.46880331481,28304.030254762263,74812.81652963301,103747.65558487414,56013.61301050054,26402.212731680112,178837.13310567837,40428.7898986082,90249.34560688355,61540.68663025751,47728.733466166654,27210.409208896792,82984.12585043152,41231.083111085114,90661.85701417482,21287.138688588093,41731.4097786722,72632.89958385294,107039.90711718862,176143.39147766735,148411.31862686144,76624.1483290796,16752.109859205237,28398.098268078105,57007.66723280346,59370.700908540486,54678.469162614696,49640.19913840755,79965.18670039397,57202.829898746524,68770.90649926444,65880.67122692104,33970.735250795246,99255.17878110817,92756.72758392782,51192.64916811274,68038.62791313152,41502.214006389644,52983.10058799669,100230.8312528792,103132.28589509949,31868.04629144649,101120.2493460193,34382.8868235362,57805.65391044208,55676.532739465896,62322.8654830108,353009.1664477952,43428.2967945577,51338.30192678564,-11537.751133663682,41938.6602163989,107491.2250051658,112031.43349727953,77198.73328064068,33971.94200853609,45790.21749669908,13513.450558955079,34929.88283182247,56462.62767758229,59284.08714771179,36591.895695602136,49717.00326691228,54106.112080616105,91268.61247250416,186895.16400624719,161802.72064877342,46363.314545988615,27971.360275325627,118716.72556593842,46418.345909533,114947.98534825863,68147.7744751336,64136.115303946506,98155.36360194611,26336.627713273745,107845.35696707843,158546.43234228555,97961.86408209831,194503.10164100822,212820.34025422495,84685.67060531804,63687.94448395976,35473.897455813916,67495.66430248879,38996.22142680417,33814.360401059326,56464.623245422816,76463.8806992503,47467.37270208793,38933.06540952151,124579.73440815136,13480.76337100943,35547.50432118368,78540.96803305048,112421.15205783563,14553.433813188652,109250.00428918478,84410.56083706333,72423.8334393217,77393.66734396452,78171.57459060609,47412.3092294684,71694.18253324185,85743.56875490081,97535.0806271343,27802.99739594356,93090.90192181236,179828.2768104302,202052.08044456437,-27125.073782934094,21755.45165377429,59145.12657057725,35637.196887830265,62136.6170935017,116550.37713012527,141332.8621154634,-9800.475912670678,90454.23612635916,57287.08678857461,20313.553497466844,1761.4135031378537,90006.41977063252,207668.4275715514,-25133.6224816303,74456.73126586297,48965.951137942866,68139.216305343,91191.58718930517,113394.30132651859,59222.59304691949,50097.66250378886,50028.436980855775,103719.6413556344,32621.13038178376,65287.6093535946,78027.79506027326,41355.89549157986,176456.62590160643,46318.818873970195,276415.6346198848,295880.684304691,288924.4117275446,182838.11605564784,84841.67888240324,63194.07076521768,77508.68401898723,58136.90932171157,40779.28836054361,81340.04617123428,92069.82652119728,276.67250249489734,-2811.0855447290887,65358.98170420443,182485.6363064331,37751.023933406075,60054.69376756017,71404.1458524687,58500.625562337824,189245.34205723502,53315.18784694944,99089.83312349571,77967.26503524004,62338.92513004374,73869.42784835666,94932.0898082733,38027.10297014379,129418.60597568945,107345.31694045395,378367.42064701294,-87518.14595225174,-58018.49454764812,44539.34028441238,75432.71440544171,40570.95668570712,93276.29058508901,-3634.253839560546,13008.339024558663,66639.38938386655,109088.70473035054,72033.79476271909,63820.402798996765,97059.67102344516,98297.06106557502,155082.90035018243,136431.71046430524,18082.95234726605,243799.2779620592,11869.533892983774,83828.75658498038,24554.506239761016,84721.72671479578,107337.08836635729,56410.19552605337,34144.16679882758,103978.49022498315,111965.20491091126,94390.183745656,62644.95969562366,126089.34459030691,272239.5045596675,219128.6302929122,81173.69718497034,42731.291789357914,45221.28679301273,68186.5942755704,97054.93749022693,68127.91778884933,33976.31685370233,50789.5961055636,74075.6785643552,31133.69691897769,49431.615680359595,68417.0908033621,38068.66320490499,27868.22761208492,49273.899237073914,47322.50051154569,17403.00135590668,39616.26314357057,58565.82508173019,20573.21647199874,21422.113574271967,48999.59094192497,46957.90418655744,42215.39000055152,143342.209193419,169752.24850652978,47705.894246468604],\"type\":\"scatter\"},{\"line\":{\"color\":\"rgba(55, 128, 191, 1.0)\",\"dash\":\"solid\",\"shape\":\"linear\",\"width\":1.3},\"mode\":\"lines\",\"name\":\"Actual Values\",\"text\":\"\",\"x\":[\"2020-12-02\",\"2020-12-03\",\"2020-12-04\",\"2020-12-05\",\"2020-12-06\",\"2020-12-07\",\"2020-12-08\",\"2020-12-09\",\"2020-12-10\",\"2020-12-11\",\"2020-12-12\",\"2020-12-13\",\"2020-12-14\",\"2020-12-15\",\"2020-12-16\",\"2020-12-17\",\"2020-12-18\",\"2020-12-19\",\"2020-12-20\",\"2020-12-21\",\"2020-12-22\",\"2020-12-23\",\"2020-12-24\",\"2020-12-25\",\"2020-12-26\",\"2020-12-27\",\"2020-12-28\",\"2020-12-29\",\"2020-12-30\",\"2020-12-31\",\"2021-01-01\",\"2021-01-02\",\"2021-01-03\",\"2021-01-04\",\"2021-01-05\",\"2021-01-06\",\"2021-01-07\",\"2021-01-08\",\"2021-01-09\",\"2021-01-10\",\"2021-01-11\",\"2021-01-12\",\"2021-01-13\",\"2021-01-14\",\"2021-01-15\",\"2021-01-16\",\"2021-01-17\",\"2021-01-18\",\"2021-01-19\",\"2021-01-20\",\"2021-01-21\",\"2021-01-22\",\"2021-01-23\",\"2021-01-24\",\"2021-01-25\",\"2021-01-26\",\"2021-01-27\",\"2021-01-28\",\"2021-01-29\",\"2021-01-30\",\"2021-01-31\",\"2021-02-01\",\"2021-02-02\",\"2021-02-03\",\"2021-02-04\",\"2021-02-05\",\"2021-02-06\",\"2021-02-07\",\"2021-02-08\",\"2021-02-09\",\"2021-02-10\",\"2021-02-11\",\"2021-02-12\",\"2021-02-13\",\"2021-02-14\",\"2021-02-15\",\"2021-02-16\",\"2021-02-17\",\"2021-02-18\",\"2021-02-19\",\"2021-02-20\",\"2021-02-21\",\"2021-02-22\",\"2021-02-23\",\"2021-02-24\",\"2021-02-25\",\"2021-02-26\",\"2021-02-27\",\"2021-02-28\",\"2021-03-01\",\"2021-03-02\",\"2021-03-03\",\"2021-03-04\",\"2021-03-05\",\"2021-03-06\",\"2021-03-07\",\"2021-03-08\",\"2021-03-09\",\"2021-03-10\",\"2021-03-11\",\"2021-03-12\",\"2021-03-13\",\"2021-03-14\",\"2021-03-15\",\"2021-03-16\",\"2021-03-17\",\"2021-03-18\",\"2021-03-19\",\"2021-03-20\",\"2021-03-21\",\"2021-03-22\",\"2021-03-23\",\"2021-03-24\",\"2021-03-25\",\"2021-03-26\",\"2021-03-27\",\"2021-03-28\",\"2021-03-29\",\"2021-03-30\",\"2021-03-31\",\"2021-04-01\",\"2021-04-02\",\"2021-04-03\",\"2021-04-04\",\"2021-04-05\",\"2021-04-06\",\"2021-04-07\",\"2021-04-08\",\"2021-04-09\",\"2021-04-10\",\"2021-04-11\",\"2021-04-12\",\"2021-04-13\",\"2021-04-14\",\"2021-04-15\",\"2021-04-16\",\"2021-04-17\",\"2021-04-18\",\"2021-04-19\",\"2021-04-20\",\"2021-04-21\",\"2021-04-22\",\"2021-04-23\",\"2021-04-24\",\"2021-04-25\",\"2021-04-26\",\"2021-04-27\",\"2021-04-28\",\"2021-04-29\",\"2021-04-30\",\"2021-05-01\",\"2021-05-02\",\"2021-05-03\",\"2021-05-04\",\"2021-05-05\",\"2021-05-06\",\"2021-05-07\",\"2021-05-08\",\"2021-05-09\",\"2021-05-10\",\"2021-05-11\",\"2021-05-12\",\"2021-05-13\",\"2021-05-14\",\"2021-05-15\",\"2021-05-16\",\"2021-05-17\",\"2021-05-18\",\"2021-05-19\",\"2021-05-20\",\"2021-05-21\",\"2021-05-22\",\"2021-05-23\",\"2021-05-24\",\"2021-05-25\",\"2021-05-26\",\"2021-05-27\",\"2021-05-28\",\"2021-05-29\",\"2021-05-30\",\"2021-05-31\",\"2021-06-01\",\"2021-06-02\",\"2021-06-03\",\"2021-06-04\",\"2021-06-05\",\"2021-06-06\",\"2021-06-07\",\"2021-06-08\",\"2021-06-09\",\"2021-06-10\",\"2021-06-11\",\"2021-06-12\",\"2021-06-13\",\"2021-06-14\",\"2021-06-15\",\"2021-06-16\",\"2021-06-17\",\"2021-06-18\",\"2021-06-19\",\"2021-06-20\",\"2021-06-21\",\"2021-06-22\",\"2021-06-23\",\"2021-06-24\",\"2021-06-25\",\"2021-06-26\",\"2021-06-27\",\"2021-06-28\",\"2021-06-29\",\"2021-06-30\",\"2021-07-01\",\"2021-07-02\",\"2021-07-03\",\"2021-07-04\",\"2021-07-05\",\"2021-07-06\",\"2021-07-07\",\"2021-07-08\",\"2021-07-09\",\"2021-07-10\",\"2021-07-11\",\"2021-07-12\",\"2021-07-13\",\"2021-07-14\",\"2021-07-15\",\"2021-07-16\",\"2021-07-17\",\"2021-07-18\",\"2021-07-19\",\"2021-07-20\",\"2021-07-21\",\"2021-07-22\",\"2021-07-23\",\"2021-07-24\",\"2021-07-25\",\"2021-07-26\",\"2021-07-27\",\"2021-07-28\",\"2021-07-29\",\"2021-07-30\",\"2021-07-31\",\"2021-08-01\",\"2021-08-02\",\"2021-08-03\",\"2021-08-04\",\"2021-08-05\",\"2021-08-06\",\"2021-08-07\",\"2021-08-08\",\"2021-08-09\",\"2021-08-10\",\"2021-08-11\",\"2021-08-12\",\"2021-08-13\",\"2021-08-14\",\"2021-08-15\",\"2021-08-16\",\"2021-08-17\",\"2021-08-18\",\"2021-08-19\",\"2021-08-20\",\"2021-08-21\",\"2021-08-22\",\"2021-08-23\",\"2021-08-24\",\"2021-08-25\",\"2021-08-26\",\"2021-08-27\",\"2021-08-28\",\"2021-08-29\",\"2021-08-30\",\"2021-08-31\",\"2021-09-01\",\"2021-09-02\",\"2021-09-03\",\"2021-09-04\",\"2021-09-05\",\"2021-09-06\",\"2021-09-07\",\"2021-09-08\",\"2021-09-09\",\"2021-09-10\",\"2021-09-11\",\"2021-09-12\",\"2021-09-13\",\"2021-09-14\",\"2021-09-15\",\"2021-09-16\",\"2021-09-17\",\"2021-09-18\",\"2021-09-19\",\"2021-09-20\",\"2021-09-21\",\"2021-09-22\",\"2021-09-23\",\"2021-09-24\",\"2021-09-25\",\"2021-09-26\",\"2021-09-27\",\"2021-09-28\",\"2021-09-29\",\"2021-09-30\",\"2021-10-01\",\"2021-10-02\",\"2021-10-03\",\"2021-10-04\",\"2021-10-05\",\"2021-10-06\",\"2021-10-07\",\"2021-10-08\",\"2021-10-09\",\"2021-10-10\",\"2021-10-11\",\"2021-10-12\",\"2021-10-13\",\"2021-10-14\",\"2021-10-15\",\"2021-10-16\",\"2021-10-17\",\"2021-10-18\",\"2021-10-19\",\"2021-10-20\",\"2021-10-21\",\"2021-10-22\",\"2021-10-23\",\"2021-10-24\",\"2021-10-25\",\"2021-10-26\",\"2021-10-27\",\"2021-10-28\",\"2021-10-29\",\"2021-10-30\",\"2021-10-31\",\"2021-11-01\",\"2021-11-02\",\"2021-11-03\",\"2021-11-04\",\"2021-11-05\",\"2021-11-06\",\"2021-11-07\",\"2021-11-08\",\"2021-11-09\",\"2021-11-10\",\"2021-11-11\",\"2021-11-12\",\"2021-11-13\",\"2021-11-14\",\"2021-11-15\",\"2021-11-16\",\"2021-11-17\",\"2021-11-18\",\"2021-11-19\",\"2021-11-20\",\"2021-11-21\",\"2021-11-22\",\"2021-11-23\",\"2021-11-24\",\"2021-11-25\",\"2021-11-26\",\"2021-11-27\",\"2021-11-28\",\"2021-11-29\",\"2021-11-30\",\"2021-12-01\",\"2021-12-02\",\"2021-12-03\",\"2021-12-04\",\"2021-12-05\",\"2021-12-06\",\"2021-12-07\",\"2021-12-08\",\"2021-12-09\",\"2021-12-10\",\"2021-12-11\",\"2021-12-12\",\"2021-12-13\",\"2021-12-14\",\"2021-12-15\",\"2021-12-16\",\"2021-12-17\",\"2021-12-18\",\"2021-12-19\",\"2021-12-20\",\"2021-12-21\",\"2021-12-22\",\"2021-12-23\",\"2021-12-24\",\"2021-12-25\",\"2021-12-26\",\"2021-12-27\",\"2021-12-28\",\"2021-12-29\",\"2021-12-30\",\"2021-12-31\",\"2022-01-01\",\"2022-01-02\",\"2022-01-03\",\"2022-01-04\",\"2022-01-05\",\"2022-01-06\",\"2022-01-07\",\"2022-01-08\",\"2022-01-09\",\"2022-01-10\",\"2022-01-11\",\"2022-01-12\",\"2022-01-13\",\"2022-01-14\",\"2022-01-15\",\"2022-01-16\",\"2022-01-17\",\"2022-01-18\",\"2022-01-19\",\"2022-01-20\",\"2022-01-21\",\"2022-01-22\",\"2022-01-23\",\"2022-01-24\",\"2022-01-25\",\"2022-01-26\",\"2022-01-27\",\"2022-01-28\",\"2022-01-29\",\"2022-01-30\",\"2022-01-31\",\"2022-02-01\",\"2022-02-02\",\"2022-02-03\",\"2022-02-04\",\"2022-02-05\",\"2022-02-06\",\"2022-02-07\",\"2022-02-08\",\"2022-02-09\",\"2022-02-10\",\"2022-02-11\",\"2022-02-12\",\"2022-02-13\",\"2022-02-14\",\"2022-02-15\",\"2022-02-16\",\"2022-02-17\",\"2022-02-18\",\"2022-02-19\",\"2022-02-20\",\"2022-02-21\",\"2022-02-22\",\"2022-02-23\",\"2022-02-24\",\"2022-02-25\",\"2022-02-26\",\"2022-02-27\",\"2022-02-28\",\"2022-03-01\",\"2022-03-02\",\"2022-03-03\",\"2022-03-04\",\"2022-03-05\",\"2022-03-06\",\"2022-03-07\",\"2022-03-08\",\"2022-03-09\",\"2022-03-10\",\"2022-03-11\",\"2022-03-12\",\"2022-03-13\",\"2022-03-14\",\"2022-03-15\",\"2022-03-16\",\"2022-03-17\",\"2022-03-18\",\"2022-03-19\",\"2022-03-20\",\"2022-03-21\",\"2022-03-22\",\"2022-03-23\",\"2022-03-24\",\"2022-03-25\",\"2022-03-26\",\"2022-03-27\",\"2022-03-28\",\"2022-03-29\",\"2022-03-30\",\"2022-03-31\",\"2022-04-01\",\"2022-04-02\",\"2022-04-03\",\"2022-04-04\",\"2022-04-05\",\"2022-04-06\",\"2022-04-07\",\"2022-04-08\",\"2022-04-09\",\"2022-04-10\",\"2022-04-11\",\"2022-04-12\",\"2022-04-13\",\"2022-04-14\",\"2022-04-15\",\"2022-04-16\",\"2022-04-17\",\"2022-04-18\",\"2022-04-19\",\"2022-04-20\",\"2022-04-21\",\"2022-04-22\",\"2022-04-23\",\"2022-04-24\",\"2022-04-25\",\"2022-04-26\",\"2022-04-27\",\"2022-04-28\",\"2022-04-29\",\"2022-04-30\",\"2022-05-01\",\"2022-05-02\",\"2022-05-03\",\"2022-05-04\",\"2022-05-05\",\"2022-05-06\",\"2022-05-07\",\"2022-05-08\",\"2022-05-09\",\"2022-05-10\",\"2022-05-11\",\"2022-05-12\",\"2022-05-13\",\"2022-05-14\",\"2022-05-15\",\"2022-05-16\",\"2022-05-17\",\"2022-05-18\",\"2022-05-19\",\"2022-05-20\",\"2022-05-21\",\"2022-05-22\",\"2022-05-23\",\"2022-05-24\",\"2022-05-25\",\"2022-05-26\",\"2022-05-27\",\"2022-05-28\",\"2022-05-29\",\"2022-05-30\",\"2022-05-31\",\"2022-06-01\",\"2022-06-02\",\"2022-06-03\",\"2022-06-04\",\"2022-06-05\",\"2022-06-06\",\"2022-06-07\",\"2022-06-08\",\"2022-06-09\",\"2022-06-10\",\"2022-06-11\",\"2022-06-12\",\"2022-06-13\",\"2022-06-14\",\"2022-06-15\",\"2022-06-16\",\"2022-06-17\",\"2022-06-18\",\"2022-06-19\",\"2022-06-20\",\"2022-06-21\",\"2022-06-22\",\"2022-06-23\",\"2022-06-24\",\"2022-06-25\",\"2022-06-26\",\"2022-06-27\",\"2022-06-28\",\"2022-06-29\",\"2022-06-30\",\"2022-07-01\",\"2022-07-02\",\"2022-07-03\",\"2022-07-04\",\"2022-07-05\",\"2022-07-06\",\"2022-07-07\",\"2022-07-08\",\"2022-07-09\",\"2022-07-10\",\"2022-07-11\",\"2022-07-12\",\"2022-07-13\",\"2022-07-14\",\"2022-07-15\",\"2022-07-16\",\"2022-07-17\",\"2022-07-18\",\"2022-07-19\",\"2022-07-20\",\"2022-07-21\",\"2022-07-22\",\"2022-07-23\",\"2022-07-24\",\"2022-07-25\",\"2022-07-26\",\"2022-07-27\",\"2022-07-28\",\"2022-07-29\",\"2022-07-30\",\"2022-07-31\",\"2022-08-01\",\"2022-08-02\",\"2022-08-03\",\"2022-08-04\",\"2022-08-05\",\"2022-08-06\",\"2022-08-07\",\"2022-08-08\",\"2022-08-09\",\"2022-08-10\",\"2022-08-11\",\"2022-08-12\",\"2022-08-13\",\"2022-08-14\",\"2022-08-15\",\"2022-08-16\",\"2022-08-17\",\"2022-08-18\",\"2022-08-19\",\"2022-08-20\",\"2022-08-21\",\"2022-08-22\",\"2022-08-23\",\"2022-08-24\",\"2022-08-25\",\"2022-08-26\",\"2022-08-27\",\"2022-08-28\",\"2022-08-29\",\"2022-08-30\",\"2022-08-31\",\"2022-09-01\",\"2022-09-02\",\"2022-09-03\",\"2022-09-04\",\"2022-09-05\",\"2022-09-06\",\"2022-09-07\",\"2022-09-08\",\"2022-09-09\",\"2022-09-10\",\"2022-09-11\",\"2022-09-12\",\"2022-09-13\",\"2022-09-14\",\"2022-09-15\",\"2022-09-16\",\"2022-09-17\",\"2022-09-18\",\"2022-09-19\",\"2022-09-20\",\"2022-09-21\",\"2022-09-22\",\"2022-09-23\",\"2022-09-24\",\"2022-09-25\",\"2022-09-26\",\"2022-09-27\",\"2022-09-28\",\"2022-09-29\",\"2022-09-30\",\"2022-10-01\",\"2022-10-02\",\"2022-10-03\",\"2022-10-04\",\"2022-10-05\",\"2022-10-06\",\"2022-10-07\",\"2022-10-08\",\"2022-10-09\",\"2022-10-10\",\"2022-10-11\",\"2022-10-12\",\"2022-10-13\",\"2022-10-14\",\"2022-10-15\",\"2022-10-16\",\"2022-10-17\",\"2022-10-18\",\"2022-10-19\",\"2022-10-20\",\"2022-10-21\",\"2022-10-22\",\"2022-10-23\",\"2022-10-24\",\"2022-10-25\",\"2022-10-26\",\"2022-10-27\",\"2022-10-28\",\"2022-10-29\",\"2022-10-30\",\"2022-10-31\",\"2022-11-01\",\"2022-11-02\",\"2022-11-03\",\"2022-11-04\",\"2022-11-05\",\"2022-11-06\",\"2022-11-07\",\"2022-11-08\",\"2022-11-09\",\"2022-11-10\",\"2022-11-11\",\"2022-11-12\",\"2022-11-13\",\"2022-11-14\",\"2022-11-15\",\"2022-11-16\",\"2022-11-17\",\"2022-11-18\",\"2022-11-19\",\"2022-11-20\",\"2022-11-21\",\"2022-11-22\",\"2022-11-23\",\"2022-11-24\",\"2022-11-25\",\"2022-11-26\",\"2022-11-27\",\"2022-11-28\",\"2022-11-29\",\"2022-11-30\",\"2022-12-01\",\"2022-12-02\",\"2022-12-03\",\"2022-12-04\",\"2022-12-05\",\"2022-12-06\",\"2022-12-07\",\"2022-12-08\",\"2022-12-09\",\"2022-12-10\",\"2022-12-11\",\"2022-12-12\",\"2022-12-13\",\"2022-12-14\",\"2022-12-15\",\"2022-12-16\",\"2022-12-17\",\"2022-12-18\",\"2022-12-19\",\"2022-12-20\",\"2022-12-21\",\"2022-12-22\",\"2022-12-23\",\"2022-12-24\",\"2022-12-25\",\"2022-12-26\",\"2022-12-27\",\"2022-12-28\",\"2022-12-29\",\"2022-12-30\",\"2022-12-31\",\"2023-01-01\",\"2023-01-02\",\"2023-01-03\",\"2023-01-04\",\"2023-01-05\",\"2023-01-06\",\"2023-01-07\",\"2023-01-08\",\"2023-01-09\",\"2023-01-10\",\"2023-01-11\",\"2023-01-12\",\"2023-01-13\",\"2023-01-14\",\"2023-01-15\",\"2023-01-16\",\"2023-01-17\",\"2023-01-18\",\"2023-01-19\",\"2023-01-20\",\"2023-01-21\",\"2023-01-22\",\"2023-01-23\",\"2023-01-24\",\"2023-01-25\",\"2023-01-26\",\"2023-01-27\",\"2023-01-28\",\"2023-01-29\",\"2023-01-30\",\"2023-01-31\",\"2023-02-01\",\"2023-02-02\",\"2023-02-03\",\"2023-02-04\",\"2023-02-05\",\"2023-02-06\",\"2023-02-07\",\"2023-02-08\",\"2023-02-09\",\"2023-02-10\",\"2023-02-11\",\"2023-02-12\",\"2023-02-13\",\"2023-02-14\",\"2023-02-15\",\"2023-02-16\",\"2023-02-17\",\"2023-02-18\",\"2023-02-19\",\"2023-02-20\",\"2023-02-21\",\"2023-02-22\",\"2023-02-23\",\"2023-02-24\",\"2023-02-25\",\"2023-02-26\",\"2023-02-27\",\"2023-02-28\",\"2023-03-01\",\"2023-03-02\",\"2023-03-03\",\"2023-03-04\",\"2023-03-05\",\"2023-03-06\",\"2023-03-07\",\"2023-03-08\",\"2023-03-09\",\"2023-03-10\",\"2023-03-11\",\"2023-03-12\",\"2023-03-13\",\"2023-03-14\",\"2023-03-15\",\"2023-03-16\",\"2023-03-17\",\"2023-03-18\",\"2023-03-19\",\"2023-03-20\",\"2023-03-21\",\"2023-03-22\",\"2023-03-23\",\"2023-03-24\",\"2023-03-25\",\"2023-03-26\",\"2023-03-27\",\"2023-03-28\",\"2023-03-29\",\"2023-03-30\",\"2023-03-31\",\"2023-04-01\",\"2023-04-02\",\"2023-04-03\",\"2023-04-04\",\"2023-04-05\",\"2023-04-06\",\"2023-04-07\",\"2023-04-08\",\"2023-04-09\",\"2023-04-10\",\"2023-04-11\",\"2023-04-12\",\"2023-04-13\",\"2023-04-14\",\"2023-04-15\",\"2023-04-16\",\"2023-04-17\",\"2023-04-18\",\"2023-04-19\",\"2023-04-20\",\"2023-04-21\",\"2023-04-22\",\"2023-04-23\",\"2023-04-24\",\"2023-04-25\",\"2023-04-26\",\"2023-04-27\",\"2023-04-28\",\"2023-04-29\",\"2023-04-30\",\"2023-05-01\",\"2023-05-02\",\"2023-05-03\",\"2023-05-04\",\"2023-05-05\",\"2023-05-06\",\"2023-05-07\",\"2023-05-08\",\"2023-05-09\",\"2023-05-10\",\"2023-05-11\",\"2023-05-12\",\"2023-05-13\",\"2023-05-14\",\"2023-05-15\",\"2023-05-16\",\"2023-05-17\",\"2023-05-18\",\"2023-05-19\",\"2023-05-20\",\"2023-05-21\",\"2023-05-22\",\"2023-05-23\",\"2023-05-24\",\"2023-05-25\",\"2023-05-26\",\"2023-05-27\",\"2023-05-28\",\"2023-05-29\",\"2023-05-30\",\"2023-05-31\",\"2023-06-01\",\"2023-06-02\",\"2023-06-03\",\"2023-06-04\",\"2023-06-05\",\"2023-06-06\",\"2023-06-07\",\"2023-06-08\",\"2023-06-09\",\"2023-06-10\",\"2023-06-11\",\"2023-06-12\",\"2023-06-13\",\"2023-06-14\",\"2023-06-15\",\"2023-06-16\",\"2023-06-17\",\"2023-06-18\",\"2023-06-19\",\"2023-06-20\",\"2023-06-21\",\"2023-06-22\",\"2023-06-23\",\"2023-06-24\",\"2023-06-25\",\"2023-06-26\",\"2023-06-27\",\"2023-06-28\"],\"y\":[-7260.28,44989.3,8407.15,19769.99,22706.384253716482,12024.79,2471.28,21069.01,22241.23,66381.74,53369.3,-408.89,65827.66,84701.68,52832.53,35716.51,1709.38,31920.7,37600.48293795508,39089.46,58825.83,35608.97,103789.0,39394.48,7413.78,2033.2193296603928,61445.35,191540.03,153109.71,9437.03,272740.57,14603.39,-53884.60111840063,12356.24,17298.66,24712.56,33331.48,12356.26,62539.05,42143.74153159393,-4942.48,-7404.707439441008,4942.5,2284.7603746211244,-15377.802043543245,-40482.61997680803,-27654.041214994024,30670.3,102784.68,49425.06,99499.96,59310.02,38539.88,21261.300362640897,47744.99,165419.23478534966,171827.66,40219.28,516209.97,147953.7,-25373.04988537234,4942.49,16429.09,-1331.13,72113.3,39440.57,119304.61,75817.58529475518,24571.97,85180.22,36966.26,77374.84,119580.14,47340.97,12491.460209925159,21647.87,73564.34,216556.91,76973.8,-9872.12,-32433.759105135476,-9525.500801962256,4845.49,18874.04,109089.24,211675.77,580135.89,286927.07,66180.52444691578,-2471.25,-3196.0,6352.71,2093.0,-12012.59,2471.24,7813.457607309671,1835.8,-10067.883694655926,-21664.129783750013,4447.98,73394.59,153629.27,94609.8104782368,5422.48,5422.47,6789.874778786651,2711.26,2440.01,13556.23,31459.083641648656,37956.17,29822.5,61338.41,6506.12,29010.04,4879.98,-13944.851319105472,-13955.914865795407,4879.97,42568.31567703893,99109.11868962516,174502.3801963241,230009.2382959819,226890.83108744462,165147.3,67781.28,51513.8,50868.77,187315.48,24401.25,-27888.310931745084,2711.25,4592.062774224673,5422.94,27112.57,54122.74,159026.19,145902.4688919098,84048.73,67781.28,74787.06,233167.51,24401.26,80892.06,118585.47108975389,97492.77,51513.79,75915.31,414821.3,138405.01,32804.10568494853,171564.91197614957,15616.49,-304527.96,219394.14,97061.29,26008.01,13556.26,30586.721055457183,36868.9,21039.04,103677.24,61688.26,173293.0066436685,277173.82,157129.44949070615,31992.4,75545.73,48849.51,81770.24,111052.75,56393.83,34631.01148980048,39583.73,42078.05,55308.55,161698.59,197595.72,226334.28,196995.42613960488,110451.24394704054,40907.73,732.5539173090838,5422.51,48802.48,27112.49,76356.6728291788,117360.05,63338.25,43271.53,119762.6,23858.78,40234.73,76333.57162212984,113027.19,136432.26,58996.45,56827.86,85253.1,112895.88,111679.07809550621,126669.33,196387.44,214244.81,24292.74,130789.74,157611.52,80498.3908167829,83831.87,287065.65,358065.6769733593,241477.66987129414,77272.8218789081,5422.49,25926.97091484563,55646.07,26707.75,20593.23,17603.13,117948.72,100316.31,45973.116303806884,33594.39,84916.32,21455.99,17798.8,42728.96,114448.48,134738.2178106716,110103.52,89471.23,155985.95,21216.81,48694.05,102192.02,134515.58049236558,131022.67,106507.14,146229.96,34899.17,678530.48,113872.51,-212290.12456336673,-72739.29871355635,31173.44,15887.67961354031,15445.31,109549.27,25427.96,28401.55327135432,57067.48,25421.49,67448.45,15814.24,11725.39,5299.69,25087.720983528696,67672.66,98258.89,16309.16,29137.02,8133.74,78010.7,46438.44985645411,16267.51,84961.82,34812.29,50862.75,90229.47,77975.28,375794.668693488,574795.88,294020.54,84192.5970708469,20415.2932444877,2602.77,7808.31,-1560.871354654474,10519.51,58326.51,5305.74,2711.27,22505.86791615979,36547.01,26619.205149112968,31992.48,71922.67,41735.91,16150.83,18870.25,28195.07,79010.89991093849,120835.64,96398.08,21472.96,2617.58,76128.21,99477.07,58742.90856301956,29281.26,143407.27,518932.44,8025.24,-390667.4462057498,-471481.39119277,-282153.7231650139,-109114.51411951284,-102.0,44883.49102620871,43380.15,18627.0,5422.57,13023.764187583261,27112.54,35735.96,55851.31,85678.31847958102,124427.3346301654,165952.08992321102,173374.96445237228,140549.71,75555.78,26870.538986944182,2573.4424105421513,2664.5110296338135,22485.0485516603,34082.8772212684,32799.300745899265,18634.34,-3199.0,-1422.032860272062,13556.26,26113.9151719355,36250.938556780085,38089.30366193946,25751.0,-764.0145433346843,-41455.697853768215,-96324.06396939937,-125166.53494454952,-87780.53283354006,15833.58,135304.76,48802.61,118101.48,78968.45,232857.48,99745.18968666391,-32750.77,175027.05,361499.61,-7374.2,68922.04,115732.49,51564.75452628418,-2718.58,43129.21,42728.96,2602.78,31116.42,441031.5,278931.15537648136,189570.15,746759.21,491231.72685407323,-2690.66,-2417.76,-1129.1,14933.651142690796,53193.86256920341,59516.26,29823.68,10376.76,73335.03,56936.26,22456.239879431392,8133.76,32149.5,57201.98,32084.12,53791.19,147057.23,70215.23823520739,21581.56,154997.13,37052.88,47609.04,72364.51,121305.36,108890.9023666395,85132.36,87496.28,83614.77,692778.09,952050.265523992,677856.2125405855,238579.04536999605,2602.76,-30072.090748973806,34255.06,71250.78,5314.02,-489.32,-920.116644922359,5531.04,32317.98,47900.74,5422.49,115847.07,20198.11,-953.0554876292736,29606.71,29715.28,16267.53,62266.79,105087.76,137559.76,77120.59862159318,30149.23,93053.55,120022.00537414468,77324.28,24292.81,314904.83,666283.7388872948,771975.61,384130.33460972935,-5422.51,18870.27,15941.95,9184.171210441877,14084.17715399997,23908.89,36291.0,43817.07,42735.01,28724.43,55959.8,21630.57618966136,-2602.51,51633.22,59213.3,56719.3,50288.88,62260.0,31627.502685788837,13083.33,52816.57,55357.75,103044.2,58644.64,115630.01,395057.04643911886,571639.62,305794.4287506137,2602.81,10845.01,2602.74,-19018.79546498586,-36047.22346405803,-46.93,68797.48,26467.5,5205.5,45440.31,2548.48,-20522.95081779021,15941.99,95728.14,48802.44,36492.76,48157.46,50428.73,57930.808149491655,76970.72,104399.27,110002.56,119701.05,111105.74,204047.8,262889.00590459845,206186.28,36004.48,43380.07,12911.25,6746.779067274423,43309.44274961937,76167.23523948102,58888.08,10845.01,27004.03,17121.61,43380.02,5422.5,64169.677318590264,104992.35,21581.49,25934.72,27043.01,53357.11,16050.55,35243.65344346037,48824.53,2269.36,49144.73,34161.28,-466.76,15942.0,45485.16858792724,55249.2,33630.77,44246.8,31233.02,83940.3,102833.23,92453.9978497825,57020.1233312089,22688.655821173248,15616.52,25751.02,5205.63,10411.02,5113.14784628738,4216.24,20450.73,7443.16,31558.54,23671.72,19113.626759914576,23294.58308880036,17857.88,5088.78,14438.19,27365.8,4763.5,7808.3,13020.564479459928,40112.87,96617.16,88312.42,90468.4,114648.44,42042.93,100502.39559068542,243881.47,363330.22,338027.9357695746,177275.61988269258,57698.68,5205.57,-1380.2178415963836,7425.8,10411.06,29281.23,24292.78,138561.22,178617.38,77597.95085810761,4703.57,75144.49,21364.46,190752.03,74571.97,31873.02,57743.52479142142,71722.59,26401.82,26559.02,53465.64,113634.23,37295.5,16572.19638830084,55091.93,92181.24,16050.48,44250.97,33587.702428636956,-604.9,-11480.301098381282,-8389.67,-1637.42,12887.5,70965.54,67704.0,94253.39639104318,149529.94787407474,113618.56,33173.57,194222.65,73407.27,74410.15,55872.25,41674.15470085897,54544.26,80151.43,14238.97,84387.27,40190.54,272691.18,208257.04603818266,39050.16,39268.55,58803.47,160755.98,165357.91,702916.65,0.0,-371719.02172716876,-181097.08020264946,7553.44,100179.15280605621,106754.1793144543,87117.58,51242.79839254087,24954.75,34078.740826682915,34028.09,-255.94,25067.02,2756.03,-11073.591107676693,-5720.411876684474,3579.12,8267.96,5389.0,115999.64,5512.0,-17089.520574453854,10670.16,-246.82,11024.06,5512.02,38846.99,13779.96,-35195.42978576483,22851.3,250547.75,292691.18324149575,132456.06239298722,24081.75,-255.94,-1746.4145084640209,2627.99,5511.95,10538.91,40170.63,5526.11,2756.01,24889.407869811963,35947.49,10488.54,2756.02,79652.83,22048.02,30316.07,5592.316327274792,19034.09,60946.22,-276241.28,27443.31,36127.89,-8885.46012930718,-29086.29776268979,0.0,55415.99,15182.83,68154.01,103984.21,114936.30607876772,103985.65108809882,71132.32306663506,34604.01007046348,12628.40015567106,5205.48,10257.02,17636.11,39202.98786990535,62098.76,65991.67,16303.28,-59647.48,79630.79,38921.46,-2404.1426996554565,18986.5,85304.68,13556.25,16816.47,82493.27,-122.85,-63484.41223692817,-72918.14516733166,-37212.376183189735,-9098.434266609482,2635.57,33628.84,193562.95,45524.04,264791.26,189586.46534729336,14353.75,28592.85,13779.99,56535.25,31022.346037130374,19521.5,87144.58,25721.98,44006.78,40820.76,31463.55,73009.18352412505,118371.06,97966.62,11368.23,207830.79,79145.97,111665.96,84008.6020605005,25722.04,24881.71,70544.48,33889.65,73279.7,36682.21,18153.02168999154,55082.24,156572.26,262248.38,246690.53712080632,115721.70435072803,22929.74,-6087.2669607737525,17586.56,64942.48,43099.74,29389.51,68644.8,88865.20450456336,79381.88282446189,55408.46,36326.72,100692.02,119367.54,46910.24,85937.49,44484.27216846628,22582.74,125574.5,140935.02,31707.42,86835.0,65230.69,51158.69898902112,31356.35,66744.01,501191.77,189288.49,17586.52,-33022.00325701556,2025.0377073151467,102331.69804283376,145525.99173769742,111212.69,23605.99,11449.0,2950.75,1215.4338781249085,17350.43,45953.04,23606.02,25314.79,34384.02,126354.72201156293,277798.9961561256,264852.21,88167.56,2691.3,124910.31,56866.98,143288.18,102361.22884280774,51931.08,115236.74,24943.48,108269.24920169525,216959.72,184894.01,287259.8015139978,344800.87,180354.26,70935.98,11070.84,35409.02,32816.70443022199,-2462.5137406888343,17114.44,80534.78,47819.21,11501.26,127381.53,34625.21,-7892.619065473433,51056.64,147998.69,20065.21,93607.22,109792.96,102505.99040046167,88071.40168169815,69624.52,52928.75,65523.66,90945.52,113394.45,40117.02,86535.96064596408,235891.89,342269.0,2950.72,-64685.84556764091,23002.48,28783.62,34284.88103316478,108639.91,223500.66,2649.0,50955.02,60011.97,5665.5,-64786.791115322856,31375.38,312041.83,14497.82,17704.5,41686.44,79473.49,98826.76593245883,105677.41,104999.11,45386.364675844816,25664.95,107344.08,52255.32,37397.31326111923,43237.98,56641.49,227456.48,88888.28,367268.12,550111.6882820836,525635.1179329011,328735.2177812062,168797.56588487918,80719.62,54391.63,31146.71,19380.35,60281.5992986477,74739.55,-4396.24,-66172.04565848302,8616.26,224864.73,92873.3,28162.795044090028,37520.24,78136.27,257806.12,88253.77,91233.8,109115.3,56846.77479916327,40130.49,119735.06,51472.54,120453.14,146046.59,567017.79,2950.78,-249227.37330174405,-24303.237702402632,75651.4,5067.48,45612.25,-5124.37,-44577.28260773137,1753.21,140209.35,111410.44222178806,40130.49,80966.69,151095.5,222817.50048571662,182464.74,40536.64,319032.4,59487.72,24292.09,21792.41,69363.33738780463,105890.99,66722.42,28108.33,82548.82,125743.77,144492.29,74859.15585944023,121202.07,412166.39,426410.200699641,148032.3496946227,2950.78,31913.83,53483.625952003276,61073.95,70240.58,32402.74348470667,5665.52,37821.05,28327.52,18286.372064378695,15954.84,17350.47,8541.828707151924,-767.82,-1151.73,-5684.77,-1865.8026488608575,-1023.76,-12534.31,-9578.286153290177,-1500.4,1497.46,33325.28,171022.23862972323,229721.75,93397.12,248522.89],\"type\":\"scatter\"}],                        {\"legend\":{\"bgcolor\":\"#F5F6F9\",\"font\":{\"color\":\"#4D5663\"}},\"paper_bgcolor\":\"#F5F6F9\",\"plot_bgcolor\":\"#F5F6F9\",\"template\":{\"data\":{\"barpolar\":[{\"marker\":{\"line\":{\"color\":\"#E5ECF6\",\"width\":0.5},\"pattern\":{\"fillmode\":\"overlay\",\"size\":10,\"solidity\":0.2}},\"type\":\"barpolar\"}],\"bar\":[{\"error_x\":{\"color\":\"#2a3f5f\"},\"error_y\":{\"color\":\"#2a3f5f\"},\"marker\":{\"line\":{\"color\":\"#E5ECF6\",\"width\":0.5},\"pattern\":{\"fillmode\":\"overlay\",\"size\":10,\"solidity\":0.2}},\"type\":\"bar\"}],\"carpet\":[{\"aaxis\":{\"endlinecolor\":\"#2a3f5f\",\"gridcolor\":\"white\",\"linecolor\":\"white\",\"minorgridcolor\":\"white\",\"startlinecolor\":\"#2a3f5f\"},\"baxis\":{\"endlinecolor\":\"#2a3f5f\",\"gridcolor\":\"white\",\"linecolor\":\"white\",\"minorgridcolor\":\"white\",\"startlinecolor\":\"#2a3f5f\"},\"type\":\"carpet\"}],\"choropleth\":[{\"colorbar\":{\"outlinewidth\":0,\"ticks\":\"\"},\"type\":\"choropleth\"}],\"contourcarpet\":[{\"colorbar\":{\"outlinewidth\":0,\"ticks\":\"\"},\"type\":\"contourcarpet\"}],\"contour\":[{\"colorbar\":{\"outlinewidth\":0,\"ticks\":\"\"},\"colorscale\":[[0.0,\"#0d0887\"],[0.1111111111111111,\"#46039f\"],[0.2222222222222222,\"#7201a8\"],[0.3333333333333333,\"#9c179e\"],[0.4444444444444444,\"#bd3786\"],[0.5555555555555556,\"#d8576b\"],[0.6666666666666666,\"#ed7953\"],[0.7777777777777778,\"#fb9f3a\"],[0.8888888888888888,\"#fdca26\"],[1.0,\"#f0f921\"]],\"type\":\"contour\"}],\"heatmapgl\":[{\"colorbar\":{\"outlinewidth\":0,\"ticks\":\"\"},\"colorscale\":[[0.0,\"#0d0887\"],[0.1111111111111111,\"#46039f\"],[0.2222222222222222,\"#7201a8\"],[0.3333333333333333,\"#9c179e\"],[0.4444444444444444,\"#bd3786\"],[0.5555555555555556,\"#d8576b\"],[0.6666666666666666,\"#ed7953\"],[0.7777777777777778,\"#fb9f3a\"],[0.8888888888888888,\"#fdca26\"],[1.0,\"#f0f921\"]],\"type\":\"heatmapgl\"}],\"heatmap\":[{\"colorbar\":{\"outlinewidth\":0,\"ticks\":\"\"},\"colorscale\":[[0.0,\"#0d0887\"],[0.1111111111111111,\"#46039f\"],[0.2222222222222222,\"#7201a8\"],[0.3333333333333333,\"#9c179e\"],[0.4444444444444444,\"#bd3786\"],[0.5555555555555556,\"#d8576b\"],[0.6666666666666666,\"#ed7953\"],[0.7777777777777778,\"#fb9f3a\"],[0.8888888888888888,\"#fdca26\"],[1.0,\"#f0f921\"]],\"type\":\"heatmap\"}],\"histogram2dcontour\":[{\"colorbar\":{\"outlinewidth\":0,\"ticks\":\"\"},\"colorscale\":[[0.0,\"#0d0887\"],[0.1111111111111111,\"#46039f\"],[0.2222222222222222,\"#7201a8\"],[0.3333333333333333,\"#9c179e\"],[0.4444444444444444,\"#bd3786\"],[0.5555555555555556,\"#d8576b\"],[0.6666666666666666,\"#ed7953\"],[0.7777777777777778,\"#fb9f3a\"],[0.8888888888888888,\"#fdca26\"],[1.0,\"#f0f921\"]],\"type\":\"histogram2dcontour\"}],\"histogram2d\":[{\"colorbar\":{\"outlinewidth\":0,\"ticks\":\"\"},\"colorscale\":[[0.0,\"#0d0887\"],[0.1111111111111111,\"#46039f\"],[0.2222222222222222,\"#7201a8\"],[0.3333333333333333,\"#9c179e\"],[0.4444444444444444,\"#bd3786\"],[0.5555555555555556,\"#d8576b\"],[0.6666666666666666,\"#ed7953\"],[0.7777777777777778,\"#fb9f3a\"],[0.8888888888888888,\"#fdca26\"],[1.0,\"#f0f921\"]],\"type\":\"histogram2d\"}],\"histogram\":[{\"marker\":{\"pattern\":{\"fillmode\":\"overlay\",\"size\":10,\"solidity\":0.2}},\"type\":\"histogram\"}],\"mesh3d\":[{\"colorbar\":{\"outlinewidth\":0,\"ticks\":\"\"},\"type\":\"mesh3d\"}],\"parcoords\":[{\"line\":{\"colorbar\":{\"outlinewidth\":0,\"ticks\":\"\"}},\"type\":\"parcoords\"}],\"pie\":[{\"automargin\":true,\"type\":\"pie\"}],\"scatter3d\":[{\"line\":{\"colorbar\":{\"outlinewidth\":0,\"ticks\":\"\"}},\"marker\":{\"colorbar\":{\"outlinewidth\":0,\"ticks\":\"\"}},\"type\":\"scatter3d\"}],\"scattercarpet\":[{\"marker\":{\"colorbar\":{\"outlinewidth\":0,\"ticks\":\"\"}},\"type\":\"scattercarpet\"}],\"scattergeo\":[{\"marker\":{\"colorbar\":{\"outlinewidth\":0,\"ticks\":\"\"}},\"type\":\"scattergeo\"}],\"scattergl\":[{\"marker\":{\"colorbar\":{\"outlinewidth\":0,\"ticks\":\"\"}},\"type\":\"scattergl\"}],\"scattermapbox\":[{\"marker\":{\"colorbar\":{\"outlinewidth\":0,\"ticks\":\"\"}},\"type\":\"scattermapbox\"}],\"scatterpolargl\":[{\"marker\":{\"colorbar\":{\"outlinewidth\":0,\"ticks\":\"\"}},\"type\":\"scatterpolargl\"}],\"scatterpolar\":[{\"marker\":{\"colorbar\":{\"outlinewidth\":0,\"ticks\":\"\"}},\"type\":\"scatterpolar\"}],\"scatter\":[{\"fillpattern\":{\"fillmode\":\"overlay\",\"size\":10,\"solidity\":0.2},\"type\":\"scatter\"}],\"scatterternary\":[{\"marker\":{\"colorbar\":{\"outlinewidth\":0,\"ticks\":\"\"}},\"type\":\"scatterternary\"}],\"surface\":[{\"colorbar\":{\"outlinewidth\":0,\"ticks\":\"\"},\"colorscale\":[[0.0,\"#0d0887\"],[0.1111111111111111,\"#46039f\"],[0.2222222222222222,\"#7201a8\"],[0.3333333333333333,\"#9c179e\"],[0.4444444444444444,\"#bd3786\"],[0.5555555555555556,\"#d8576b\"],[0.6666666666666666,\"#ed7953\"],[0.7777777777777778,\"#fb9f3a\"],[0.8888888888888888,\"#fdca26\"],[1.0,\"#f0f921\"]],\"type\":\"surface\"}],\"table\":[{\"cells\":{\"fill\":{\"color\":\"#EBF0F8\"},\"line\":{\"color\":\"white\"}},\"header\":{\"fill\":{\"color\":\"#C8D4E3\"},\"line\":{\"color\":\"white\"}},\"type\":\"table\"}]},\"layout\":{\"annotationdefaults\":{\"arrowcolor\":\"#2a3f5f\",\"arrowhead\":0,\"arrowwidth\":1},\"autotypenumbers\":\"strict\",\"coloraxis\":{\"colorbar\":{\"outlinewidth\":0,\"ticks\":\"\"}},\"colorscale\":{\"diverging\":[[0,\"#8e0152\"],[0.1,\"#c51b7d\"],[0.2,\"#de77ae\"],[0.3,\"#f1b6da\"],[0.4,\"#fde0ef\"],[0.5,\"#f7f7f7\"],[0.6,\"#e6f5d0\"],[0.7,\"#b8e186\"],[0.8,\"#7fbc41\"],[0.9,\"#4d9221\"],[1,\"#276419\"]],\"sequential\":[[0.0,\"#0d0887\"],[0.1111111111111111,\"#46039f\"],[0.2222222222222222,\"#7201a8\"],[0.3333333333333333,\"#9c179e\"],[0.4444444444444444,\"#bd3786\"],[0.5555555555555556,\"#d8576b\"],[0.6666666666666666,\"#ed7953\"],[0.7777777777777778,\"#fb9f3a\"],[0.8888888888888888,\"#fdca26\"],[1.0,\"#f0f921\"]],\"sequentialminus\":[[0.0,\"#0d0887\"],[0.1111111111111111,\"#46039f\"],[0.2222222222222222,\"#7201a8\"],[0.3333333333333333,\"#9c179e\"],[0.4444444444444444,\"#bd3786\"],[0.5555555555555556,\"#d8576b\"],[0.6666666666666666,\"#ed7953\"],[0.7777777777777778,\"#fb9f3a\"],[0.8888888888888888,\"#fdca26\"],[1.0,\"#f0f921\"]]},\"colorway\":[\"#636efa\",\"#EF553B\",\"#00cc96\",\"#ab63fa\",\"#FFA15A\",\"#19d3f3\",\"#FF6692\",\"#B6E880\",\"#FF97FF\",\"#FECB52\"],\"font\":{\"color\":\"#2a3f5f\"},\"geo\":{\"bgcolor\":\"white\",\"lakecolor\":\"white\",\"landcolor\":\"#E5ECF6\",\"showlakes\":true,\"showland\":true,\"subunitcolor\":\"white\"},\"hoverlabel\":{\"align\":\"left\"},\"hovermode\":\"closest\",\"mapbox\":{\"style\":\"light\"},\"paper_bgcolor\":\"white\",\"plot_bgcolor\":\"#E5ECF6\",\"polar\":{\"angularaxis\":{\"gridcolor\":\"white\",\"linecolor\":\"white\",\"ticks\":\"\"},\"bgcolor\":\"#E5ECF6\",\"radialaxis\":{\"gridcolor\":\"white\",\"linecolor\":\"white\",\"ticks\":\"\"}},\"scene\":{\"xaxis\":{\"backgroundcolor\":\"#E5ECF6\",\"gridcolor\":\"white\",\"gridwidth\":2,\"linecolor\":\"white\",\"showbackground\":true,\"ticks\":\"\",\"zerolinecolor\":\"white\"},\"yaxis\":{\"backgroundcolor\":\"#E5ECF6\",\"gridcolor\":\"white\",\"gridwidth\":2,\"linecolor\":\"white\",\"showbackground\":true,\"ticks\":\"\",\"zerolinecolor\":\"white\"},\"zaxis\":{\"backgroundcolor\":\"#E5ECF6\",\"gridcolor\":\"white\",\"gridwidth\":2,\"linecolor\":\"white\",\"showbackground\":true,\"ticks\":\"\",\"zerolinecolor\":\"white\"}},\"shapedefaults\":{\"line\":{\"color\":\"#2a3f5f\"}},\"ternary\":{\"aaxis\":{\"gridcolor\":\"white\",\"linecolor\":\"white\",\"ticks\":\"\"},\"baxis\":{\"gridcolor\":\"white\",\"linecolor\":\"white\",\"ticks\":\"\"},\"bgcolor\":\"#E5ECF6\",\"caxis\":{\"gridcolor\":\"white\",\"linecolor\":\"white\",\"ticks\":\"\"}},\"title\":{\"x\":0.05},\"xaxis\":{\"automargin\":true,\"gridcolor\":\"white\",\"linecolor\":\"white\",\"ticks\":\"\",\"title\":{\"standoff\":15},\"zerolinecolor\":\"white\",\"zerolinewidth\":2},\"yaxis\":{\"automargin\":true,\"gridcolor\":\"white\",\"linecolor\":\"white\",\"ticks\":\"\",\"title\":{\"standoff\":15},\"zerolinecolor\":\"white\",\"zerolinewidth\":2}}},\"title\":{\"font\":{\"color\":\"#4D5663\"}},\"xaxis\":{\"gridcolor\":\"#E1E5ED\",\"showgrid\":true,\"tickfont\":{\"color\":\"#4D5663\"},\"title\":{\"font\":{\"color\":\"#4D5663\"},\"text\":\"\"},\"zerolinecolor\":\"#E1E5ED\"},\"yaxis\":{\"gridcolor\":\"#E1E5ED\",\"showgrid\":true,\"tickfont\":{\"color\":\"#4D5663\"},\"title\":{\"font\":{\"color\":\"#4D5663\"},\"text\":\"\"},\"zerolinecolor\":\"#E1E5ED\"}},                        {\"showLink\": true, \"linkText\": \"Export to plot.ly\", \"plotlyServerURL\": \"https://plot.ly\", \"responsive\": true}                    ).then(function(){\n",
       "                            \n",
       "var gd = document.getElementById('080e6e8b-f932-444b-ad11-ecbc7b5311e4');\n",
       "var x = new MutationObserver(function (mutations, observer) {{\n",
       "        var display = window.getComputedStyle(gd).display;\n",
       "        if (!display || display === 'none') {{\n",
       "            console.log([gd, 'removed!']);\n",
       "            Plotly.purge(gd);\n",
       "            observer.disconnect();\n",
       "        }}\n",
       "}});\n",
       "\n",
       "// Listen for the removal of the full notebook cells\n",
       "var notebookContainer = gd.closest('#notebook-container');\n",
       "if (notebookContainer) {{\n",
       "    x.observe(notebookContainer, {childList: true});\n",
       "}}\n",
       "\n",
       "// Listen for the clearing of the current output cell\n",
       "var outputEl = gd.closest('.output');\n",
       "if (outputEl) {{\n",
       "    x.observe(outputEl, {childList: true});\n",
       "}}\n",
       "\n",
       "                        })                };                });            </script>        </div>"
      ]
     },
     "metadata": {},
     "output_type": "display_data"
    }
   ],
   "source": [
    "data_iplot = pd.DataFrame({'Predictions':yhat, 'Actual Values': data['Sales_Value']})\n",
    "data_iplot.iplot()"
   ]
  },
  {
   "cell_type": "code",
   "execution_count": 41,
   "id": "251c4b0a",
   "metadata": {
    "scrolled": false
   },
   "outputs": [
    {
     "data": {
      "text/plain": [
       "<matplotlib.legend.Legend at 0x198376c37d0>"
      ]
     },
     "execution_count": 41,
     "metadata": {},
     "output_type": "execute_result"
    },
    {
     "data": {
      "image/png": "[encoded data removed]",
      "text/plain": [
       "<Figure size 1000x500 with 1 Axes>"
      ]
     },
     "metadata": {},
     "output_type": "display_data"
    }
   ],
   "source": [
    "plt.figure(figsize = (10,5))\n",
    "\n",
    "plt.plot(data_iplot['Predictions'], label = \"Predictions\", c = 'r', ls = '--')\n",
    "plt.plot(data_iplot['Actual Values'], label = 'Actual', alpha = 0.3, c='g')\n",
    "plt.legend()"
   ]
  },
  {
   "cell_type": "code",
   "execution_count": 42,
   "id": "8e18eeef",
   "metadata": {},
   "outputs": [],
   "source": [
    "data.to_csv('Sales Forecasting data.csv')"
   ]
  },
  {
   "cell_type": "code",
   "execution_count": 43,
   "id": "3222bf2d",
   "metadata": {},
   "outputs": [
    {
     "data": {
      "text/plain": [
       "96893.13917026628"
      ]
     },
     "execution_count": 43,
     "metadata": {},
     "output_type": "execute_result"
    }
   ],
   "source": [
    "from sklearn.metrics import mean_squared_error\n",
    "\n",
    "np.sqrt(mean_squared_error(data_iplot['Predictions'], data_iplot['Actual Values']))"
   ]
  },
  {
   "cell_type": "code",
   "execution_count": 44,
   "id": "dbfa3eb8",
   "metadata": {},
   "outputs": [
    {
     "data": {
      "text/plain": [
       "2023-06-29    181879.347946\n",
       "Freq: D, dtype: float64"
      ]
     },
     "execution_count": 44,
     "metadata": {},
     "output_type": "execute_result"
    }
   ],
   "source": [
    "model.forecast()"
   ]
  },
  {
   "cell_type": "code",
   "execution_count": null,
   "id": "437867c0",
   "metadata": {},
   "outputs": [],
   "source": []
  }
 ],
 "metadata": {
  "kernelspec": {
   "display_name": "Python 3 (ipykernel)",
   "language": "python",
   "name": "python3"
  },
  "language_info": {
   "codemirror_mode": {
    "name": "ipython",
    "version": 3
   },
   "file_extension": ".py",
   "mimetype": "text/x-python",
   "name": "python",
   "nbconvert_exporter": "python",
   "pygments_lexer": "ipython3",
   "version": "3.11.4"
  }
 },
 "nbformat": 4,
 "nbformat_minor": 5
}
