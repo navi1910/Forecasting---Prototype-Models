{
 "cells": [
  {
   "cell_type": "code",
   "execution_count": 1,
   "id": "7f85e3c1",
   "metadata": {},
   "outputs": [],
   "source": [
    "import pandas as pd\n",
    "import numpy as np\n",
    "\n",
    "from statsmodels.tsa.ar_model import AutoReg, ar_select_order"
   ]
  },
  {
   "cell_type": "code",
   "execution_count": 2,
   "id": "c1d0d926",
   "metadata": {},
   "outputs": [],
   "source": [
    "df = pd.read_csv('daily-min-temperatures.csv', header = 0, parse_dates=[0])"
   ]
  },
  {
   "cell_type": "code",
   "execution_count": 3,
   "id": "339e2dc6",
   "metadata": {},
   "outputs": [],
   "source": [
    "df['N'] = df['Temp'].shift(1)"
   ]
  },
  {
   "cell_type": "code",
   "execution_count": 4,
   "id": "ff6a7951",
   "metadata": {},
   "outputs": [],
   "source": [
    "df['Resid'] = df['Temp']-df['N']"
   ]
  },
  {
   "cell_type": "code",
   "execution_count": 5,
   "id": "d44ff78c",
   "metadata": {},
   "outputs": [
    {
     "data": {
      "text/html": [
       "<div>\n",
       "<style scoped>\n",
       "    .dataframe tbody tr th:only-of-type {\n",
       "        vertical-align: middle;\n",
       "    }\n",
       "\n",
       "    .dataframe tbody tr th {\n",
       "        vertical-align: top;\n",
       "    }\n",
       "\n",
       "    .dataframe thead th {\n",
       "        text-align: right;\n",
       "    }\n",
       "</style>\n",
       "<table border=\"1\" class=\"dataframe\">\n",
       "  <thead>\n",
       "    <tr style=\"text-align: right;\">\n",
       "      <th></th>\n",
       "      <th>Date</th>\n",
       "      <th>Temp</th>\n",
       "      <th>N</th>\n",
       "      <th>Resid</th>\n",
       "    </tr>\n",
       "  </thead>\n",
       "  <tbody>\n",
       "    <tr>\n",
       "      <th>0</th>\n",
       "      <td>1981-01-01</td>\n",
       "      <td>20.7</td>\n",
       "      <td>NaN</td>\n",
       "      <td>NaN</td>\n",
       "    </tr>\n",
       "    <tr>\n",
       "      <th>1</th>\n",
       "      <td>1981-01-02</td>\n",
       "      <td>17.9</td>\n",
       "      <td>20.7</td>\n",
       "      <td>-2.8</td>\n",
       "    </tr>\n",
       "    <tr>\n",
       "      <th>2</th>\n",
       "      <td>1981-01-03</td>\n",
       "      <td>18.8</td>\n",
       "      <td>17.9</td>\n",
       "      <td>0.9</td>\n",
       "    </tr>\n",
       "    <tr>\n",
       "      <th>3</th>\n",
       "      <td>1981-01-04</td>\n",
       "      <td>14.6</td>\n",
       "      <td>18.8</td>\n",
       "      <td>-4.2</td>\n",
       "    </tr>\n",
       "    <tr>\n",
       "      <th>4</th>\n",
       "      <td>1981-01-05</td>\n",
       "      <td>15.8</td>\n",
       "      <td>14.6</td>\n",
       "      <td>1.2</td>\n",
       "    </tr>\n",
       "  </tbody>\n",
       "</table>\n",
       "</div>"
      ],
      "text/plain": [
       "        Date  Temp     N  Resid\n",
       "0 1981-01-01  20.7   NaN    NaN\n",
       "1 1981-01-02  17.9  20.7   -2.8\n",
       "2 1981-01-03  18.8  17.9    0.9\n",
       "3 1981-01-04  14.6  18.8   -4.2\n",
       "4 1981-01-05  15.8  14.6    1.2"
      ]
     },
     "execution_count": 5,
     "metadata": {},
     "output_type": "execute_result"
    }
   ],
   "source": [
    "df.head()"
   ]
  },
  {
   "cell_type": "code",
   "execution_count": 6,
   "id": "e30a3c10",
   "metadata": {},
   "outputs": [],
   "source": [
    "train, test = df.iloc[1:df.shape[0]-7], df.iloc[df.shape[0]-7:]"
   ]
  },
  {
   "cell_type": "code",
   "execution_count": 7,
   "id": "22f908da",
   "metadata": {},
   "outputs": [],
   "source": [
    "lag_list = ar_select_order(df['Resid'].iloc[1:], maxlag=30).ar_lags"
   ]
  },
  {
   "cell_type": "code",
   "execution_count": 8,
   "id": "1f46f577",
   "metadata": {
    "scrolled": true
   },
   "outputs": [],
   "source": [
    "model = AutoReg(train['Resid'], lags = lag_list).fit()"
   ]
  },
  {
   "cell_type": "code",
   "execution_count": 13,
   "id": "a30043b0",
   "metadata": {},
   "outputs": [],
   "source": [
    "pred_res = model.predict(len(train), len(df)-1)[:-1]"
   ]
  },
  {
   "cell_type": "code",
   "execution_count": 24,
   "id": "94ca1a9c",
   "metadata": {},
   "outputs": [],
   "source": [
    "pred = test['N'] + pred_res"
   ]
  },
  {
   "cell_type": "code",
   "execution_count": 25,
   "id": "afc911f2",
   "metadata": {},
   "outputs": [
    {
     "data": {
      "text/plain": [
       "2.429992418290591"
      ]
     },
     "execution_count": 25,
     "metadata": {},
     "output_type": "execute_result"
    }
   ],
   "source": [
    "from sklearn.metrics import mean_squared_error\n",
    "\n",
    "mean_squared_error(pred, test['Temp'])"
   ]
  },
  {
   "cell_type": "code",
   "execution_count": 33,
   "id": "ad5f756f",
   "metadata": {},
   "outputs": [
    {
     "data": {
      "text/plain": [
       "[<matplotlib.lines.Line2D at 0x2e5ff155510>]"
      ]
     },
     "execution_count": 33,
     "metadata": {},
     "output_type": "execute_result"
    },
    {
     "data": {
      "image/png": "[encoded data removed]",
      "text/plain": [
       "<Figure size 640x480 with 1 Axes>"
      ]
     },
     "metadata": {},
     "output_type": "display_data"
    }
   ],
   "source": [
    "import matplotlib.pyplot as plt\n",
    "\n",
    "plt.plot(pred, marker = 'o')\n",
    "plt.plot(test['Temp'], marker = 'X')"
   ]
  },
  {
   "cell_type": "code",
   "execution_count": null,
   "id": "8f8e56b0",
   "metadata": {},
   "outputs": [],
   "source": []
  }
 ],
 "metadata": {
  "kernelspec": {
   "display_name": "Python 3 (ipykernel)",
   "language": "python",
   "name": "python3"
  },
  "language_info": {
   "codemirror_mode": {
    "name": "ipython",
    "version": 3
   },
   "file_extension": ".py",
   "mimetype": "text/x-python",
   "name": "python",
   "nbconvert_exporter": "python",
   "pygments_lexer": "ipython3",
   "version": "3.11.4"
  }
 },
 "nbformat": 4,
 "nbformat_minor": 5
}
