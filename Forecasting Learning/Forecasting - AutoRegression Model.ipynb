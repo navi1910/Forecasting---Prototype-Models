{
 "cells": [
  {
   "cell_type": "markdown",
   "id": "4f58cace",
   "metadata": {},
   "source": [
    "## To be used on Time Series without Trend and Seasonality.\n",
    "## Regression with the current observation and its previous observation."
   ]
  },
  {
   "cell_type": "code",
   "execution_count": 1,
   "id": "a62b81d8",
   "metadata": {},
   "outputs": [],
   "source": [
    "import pandas as pd\n",
    "from statsmodels.tsa.seasonal import seasonal_decompose"
   ]
  },
  {
   "cell_type": "code",
   "execution_count": 2,
   "id": "46d2a438",
   "metadata": {},
   "outputs": [],
   "source": [
    "df = pd.read_csv('daily-min-temperatures.csv', header = 0, parse_dates=[0])\n",
    "data = df"
   ]
  },
  {
   "cell_type": "code",
   "execution_count": 3,
   "id": "cdda5152",
   "metadata": {},
   "outputs": [
    {
     "data": {
      "text/html": [
       "<div>\n",
       "<style scoped>\n",
       "    .dataframe tbody tr th:only-of-type {\n",
       "        vertical-align: middle;\n",
       "    }\n",
       "\n",
       "    .dataframe tbody tr th {\n",
       "        vertical-align: top;\n",
       "    }\n",
       "\n",
       "    .dataframe thead th {\n",
       "        text-align: right;\n",
       "    }\n",
       "</style>\n",
       "<table border=\"1\" class=\"dataframe\">\n",
       "  <thead>\n",
       "    <tr style=\"text-align: right;\">\n",
       "      <th></th>\n",
       "      <th>Date</th>\n",
       "      <th>Temp</th>\n",
       "    </tr>\n",
       "  </thead>\n",
       "  <tbody>\n",
       "    <tr>\n",
       "      <th>0</th>\n",
       "      <td>1981-01-01</td>\n",
       "      <td>20.7</td>\n",
       "    </tr>\n",
       "    <tr>\n",
       "      <th>1</th>\n",
       "      <td>1981-01-02</td>\n",
       "      <td>17.9</td>\n",
       "    </tr>\n",
       "    <tr>\n",
       "      <th>2</th>\n",
       "      <td>1981-01-03</td>\n",
       "      <td>18.8</td>\n",
       "    </tr>\n",
       "    <tr>\n",
       "      <th>3</th>\n",
       "      <td>1981-01-04</td>\n",
       "      <td>14.6</td>\n",
       "    </tr>\n",
       "    <tr>\n",
       "      <th>4</th>\n",
       "      <td>1981-01-05</td>\n",
       "      <td>15.8</td>\n",
       "    </tr>\n",
       "  </tbody>\n",
       "</table>\n",
       "</div>"
      ],
      "text/plain": [
       "        Date  Temp\n",
       "0 1981-01-01  20.7\n",
       "1 1981-01-02  17.9\n",
       "2 1981-01-03  18.8\n",
       "3 1981-01-04  14.6\n",
       "4 1981-01-05  15.8"
      ]
     },
     "execution_count": 3,
     "metadata": {},
     "output_type": "execute_result"
    }
   ],
   "source": [
    "df.head()"
   ]
  },
  {
   "cell_type": "code",
   "execution_count": 4,
   "id": "3e897de8",
   "metadata": {},
   "outputs": [],
   "source": [
    "df['N'] = df['Temp'].shift(1)"
   ]
  },
  {
   "cell_type": "code",
   "execution_count": 5,
   "id": "dcd6c745",
   "metadata": {},
   "outputs": [
    {
     "data": {
      "text/plain": [
       "3643"
      ]
     },
     "execution_count": 5,
     "metadata": {},
     "output_type": "execute_result"
    }
   ],
   "source": [
    "train_size = int(df.shape[0]-7)\n",
    "train_size"
   ]
  },
  {
   "cell_type": "code",
   "execution_count": 6,
   "id": "82a92a0b",
   "metadata": {},
   "outputs": [],
   "source": [
    "train = df.iloc[:train_size]\n",
    "test = df.iloc[train_size:]"
   ]
  },
  {
   "cell_type": "code",
   "execution_count": 7,
   "id": "9510addf",
   "metadata": {
    "scrolled": false
   },
   "outputs": [
    {
     "data": {
      "text/html": [
       "<div>\n",
       "<style scoped>\n",
       "    .dataframe tbody tr th:only-of-type {\n",
       "        vertical-align: middle;\n",
       "    }\n",
       "\n",
       "    .dataframe tbody tr th {\n",
       "        vertical-align: top;\n",
       "    }\n",
       "\n",
       "    .dataframe thead th {\n",
       "        text-align: right;\n",
       "    }\n",
       "</style>\n",
       "<table border=\"1\" class=\"dataframe\">\n",
       "  <thead>\n",
       "    <tr style=\"text-align: right;\">\n",
       "      <th></th>\n",
       "      <th>Date</th>\n",
       "      <th>Temp</th>\n",
       "      <th>N</th>\n",
       "    </tr>\n",
       "  </thead>\n",
       "  <tbody>\n",
       "    <tr>\n",
       "      <th>0</th>\n",
       "      <td>1981-01-01</td>\n",
       "      <td>20.7</td>\n",
       "      <td>NaN</td>\n",
       "    </tr>\n",
       "    <tr>\n",
       "      <th>1</th>\n",
       "      <td>1981-01-02</td>\n",
       "      <td>17.9</td>\n",
       "      <td>20.7</td>\n",
       "    </tr>\n",
       "    <tr>\n",
       "      <th>2</th>\n",
       "      <td>1981-01-03</td>\n",
       "      <td>18.8</td>\n",
       "      <td>17.9</td>\n",
       "    </tr>\n",
       "    <tr>\n",
       "      <th>3</th>\n",
       "      <td>1981-01-04</td>\n",
       "      <td>14.6</td>\n",
       "      <td>18.8</td>\n",
       "    </tr>\n",
       "    <tr>\n",
       "      <th>4</th>\n",
       "      <td>1981-01-05</td>\n",
       "      <td>15.8</td>\n",
       "      <td>14.6</td>\n",
       "    </tr>\n",
       "    <tr>\n",
       "      <th>...</th>\n",
       "      <td>...</td>\n",
       "      <td>...</td>\n",
       "      <td>...</td>\n",
       "    </tr>\n",
       "    <tr>\n",
       "      <th>3638</th>\n",
       "      <td>1990-12-20</td>\n",
       "      <td>15.4</td>\n",
       "      <td>14.7</td>\n",
       "    </tr>\n",
       "    <tr>\n",
       "      <th>3639</th>\n",
       "      <td>1990-12-21</td>\n",
       "      <td>13.1</td>\n",
       "      <td>15.4</td>\n",
       "    </tr>\n",
       "    <tr>\n",
       "      <th>3640</th>\n",
       "      <td>1990-12-22</td>\n",
       "      <td>13.2</td>\n",
       "      <td>13.1</td>\n",
       "    </tr>\n",
       "    <tr>\n",
       "      <th>3641</th>\n",
       "      <td>1990-12-23</td>\n",
       "      <td>13.9</td>\n",
       "      <td>13.2</td>\n",
       "    </tr>\n",
       "    <tr>\n",
       "      <th>3642</th>\n",
       "      <td>1990-12-24</td>\n",
       "      <td>10.0</td>\n",
       "      <td>13.9</td>\n",
       "    </tr>\n",
       "  </tbody>\n",
       "</table>\n",
       "<p>3643 rows × 3 columns</p>\n",
       "</div>"
      ],
      "text/plain": [
       "           Date  Temp     N\n",
       "0    1981-01-01  20.7   NaN\n",
       "1    1981-01-02  17.9  20.7\n",
       "2    1981-01-03  18.8  17.9\n",
       "3    1981-01-04  14.6  18.8\n",
       "4    1981-01-05  15.8  14.6\n",
       "...         ...   ...   ...\n",
       "3638 1990-12-20  15.4  14.7\n",
       "3639 1990-12-21  13.1  15.4\n",
       "3640 1990-12-22  13.2  13.1\n",
       "3641 1990-12-23  13.9  13.2\n",
       "3642 1990-12-24  10.0  13.9\n",
       "\n",
       "[3643 rows x 3 columns]"
      ]
     },
     "execution_count": 7,
     "metadata": {},
     "output_type": "execute_result"
    }
   ],
   "source": [
    "train"
   ]
  },
  {
   "cell_type": "code",
   "execution_count": 8,
   "id": "6ced06dd",
   "metadata": {},
   "outputs": [
    {
     "data": {
      "text/html": [
       "<div>\n",
       "<style scoped>\n",
       "    .dataframe tbody tr th:only-of-type {\n",
       "        vertical-align: middle;\n",
       "    }\n",
       "\n",
       "    .dataframe tbody tr th {\n",
       "        vertical-align: top;\n",
       "    }\n",
       "\n",
       "    .dataframe thead th {\n",
       "        text-align: right;\n",
       "    }\n",
       "</style>\n",
       "<table border=\"1\" class=\"dataframe\">\n",
       "  <thead>\n",
       "    <tr style=\"text-align: right;\">\n",
       "      <th></th>\n",
       "      <th>Date</th>\n",
       "      <th>Temp</th>\n",
       "      <th>N</th>\n",
       "    </tr>\n",
       "  </thead>\n",
       "  <tbody>\n",
       "    <tr>\n",
       "      <th>3643</th>\n",
       "      <td>1990-12-25</td>\n",
       "      <td>12.9</td>\n",
       "      <td>10.0</td>\n",
       "    </tr>\n",
       "    <tr>\n",
       "      <th>3644</th>\n",
       "      <td>1990-12-26</td>\n",
       "      <td>14.6</td>\n",
       "      <td>12.9</td>\n",
       "    </tr>\n",
       "    <tr>\n",
       "      <th>3645</th>\n",
       "      <td>1990-12-27</td>\n",
       "      <td>14.0</td>\n",
       "      <td>14.6</td>\n",
       "    </tr>\n",
       "    <tr>\n",
       "      <th>3646</th>\n",
       "      <td>1990-12-28</td>\n",
       "      <td>13.6</td>\n",
       "      <td>14.0</td>\n",
       "    </tr>\n",
       "    <tr>\n",
       "      <th>3647</th>\n",
       "      <td>1990-12-29</td>\n",
       "      <td>13.5</td>\n",
       "      <td>13.6</td>\n",
       "    </tr>\n",
       "    <tr>\n",
       "      <th>3648</th>\n",
       "      <td>1990-12-30</td>\n",
       "      <td>15.7</td>\n",
       "      <td>13.5</td>\n",
       "    </tr>\n",
       "    <tr>\n",
       "      <th>3649</th>\n",
       "      <td>1990-12-31</td>\n",
       "      <td>13.0</td>\n",
       "      <td>15.7</td>\n",
       "    </tr>\n",
       "  </tbody>\n",
       "</table>\n",
       "</div>"
      ],
      "text/plain": [
       "           Date  Temp     N\n",
       "3643 1990-12-25  12.9  10.0\n",
       "3644 1990-12-26  14.6  12.9\n",
       "3645 1990-12-27  14.0  14.6\n",
       "3646 1990-12-28  13.6  14.0\n",
       "3647 1990-12-29  13.5  13.6\n",
       "3648 1990-12-30  15.7  13.5\n",
       "3649 1990-12-31  13.0  15.7"
      ]
     },
     "execution_count": 8,
     "metadata": {},
     "output_type": "execute_result"
    }
   ],
   "source": [
    "test"
   ]
  },
  {
   "cell_type": "code",
   "execution_count": 9,
   "id": "23eb42a7",
   "metadata": {},
   "outputs": [],
   "source": [
    "from sklearn.metrics import mean_squared_error"
   ]
  },
  {
   "cell_type": "code",
   "execution_count": 10,
   "id": "a381cf1a",
   "metadata": {},
   "outputs": [
    {
     "data": {
      "text/plain": [
       "3.4228571428571413"
      ]
     },
     "execution_count": 10,
     "metadata": {},
     "output_type": "execute_result"
    }
   ],
   "source": [
    "mean_squared_error(test['N'],test['Temp'])"
   ]
  },
  {
   "cell_type": "markdown",
   "id": "a54c35d5",
   "metadata": {},
   "source": [
    "# Auto Regression Model"
   ]
  },
  {
   "cell_type": "code",
   "execution_count": 11,
   "id": "45e78d6f",
   "metadata": {},
   "outputs": [],
   "source": [
    "from statsmodels.tsa.ar_model import AutoReg, ar_select_order\n",
    "\n",
    "from statsmodels.tsa.stattools import adfuller\n",
    "from statsmodels.graphics.tsaplots import plot_acf, plot_pacf"
   ]
  },
  {
   "cell_type": "code",
   "execution_count": 12,
   "id": "57cb0adc",
   "metadata": {},
   "outputs": [],
   "source": [
    "lag_ = ar_select_order(train['Temp'], maxlag=30)\n",
    "lag_list = lag_.ar_lags"
   ]
  },
  {
   "cell_type": "code",
   "execution_count": 13,
   "id": "259e329c",
   "metadata": {},
   "outputs": [],
   "source": [
    "model = AutoReg(train['Temp'], lags = lag_list).fit()"
   ]
  },
  {
   "cell_type": "code",
   "execution_count": 53,
   "id": "0043574c",
   "metadata": {
    "scrolled": false
   },
   "outputs": [
    {
     "data": {
      "text/html": [
       "<table class=\"simpletable\">\n",
       "<caption>AutoReg Model Results</caption>\n",
       "<tr>\n",
       "  <th>Dep. Variable:</th>         <td>y</td>        <th>  No. Observations:  </th>   <td>3649</td>   \n",
       "</tr>\n",
       "<tr>\n",
       "  <th>Model:</th>            <td>AutoReg(13)</td>   <th>  Log Likelihood     </th> <td>-8372.451</td>\n",
       "</tr>\n",
       "<tr>\n",
       "  <th>Method:</th>         <td>Conditional MLE</td> <th>  S.D. of innovations</th>   <td>2.420</td>  \n",
       "</tr>\n",
       "<tr>\n",
       "  <th>Date:</th>          <td>Sun, 20 Aug 2023</td> <th>  AIC                </th> <td>16774.902</td>\n",
       "</tr>\n",
       "<tr>\n",
       "  <th>Time:</th>              <td>13:40:33</td>     <th>  BIC                </th> <td>16867.882</td>\n",
       "</tr>\n",
       "<tr>\n",
       "  <th>Sample:</th>               <td>13</td>        <th>  HQIC               </th> <td>16808.021</td>\n",
       "</tr>\n",
       "<tr>\n",
       "  <th></th>                     <td>3649</td>       <th>                     </th>     <td> </td>    \n",
       "</tr>\n",
       "</table>\n",
       "<table class=\"simpletable\">\n",
       "<tr>\n",
       "    <td></td>       <th>coef</th>     <th>std err</th>      <th>z</th>      <th>P>|z|</th>  <th>[0.025</th>    <th>0.975]</th>  \n",
       "</tr>\n",
       "<tr>\n",
       "  <th>const</th> <td>    0.7862</td> <td>    0.143</td> <td>    5.482</td> <td> 0.000</td> <td>    0.505</td> <td>    1.067</td>\n",
       "</tr>\n",
       "<tr>\n",
       "  <th>y.L1</th>  <td>    0.6002</td> <td>    0.017</td> <td>   36.248</td> <td> 0.000</td> <td>    0.568</td> <td>    0.633</td>\n",
       "</tr>\n",
       "<tr>\n",
       "  <th>y.L2</th>  <td>   -0.0829</td> <td>    0.019</td> <td>   -4.292</td> <td> 0.000</td> <td>   -0.121</td> <td>   -0.045</td>\n",
       "</tr>\n",
       "<tr>\n",
       "  <th>y.L3</th>  <td>    0.0552</td> <td>    0.019</td> <td>    2.852</td> <td> 0.004</td> <td>    0.017</td> <td>    0.093</td>\n",
       "</tr>\n",
       "<tr>\n",
       "  <th>y.L4</th>  <td>    0.0448</td> <td>    0.019</td> <td>    2.310</td> <td> 0.021</td> <td>    0.007</td> <td>    0.083</td>\n",
       "</tr>\n",
       "<tr>\n",
       "  <th>y.L5</th>  <td>    0.0478</td> <td>    0.019</td> <td>    2.469</td> <td> 0.014</td> <td>    0.010</td> <td>    0.086</td>\n",
       "</tr>\n",
       "<tr>\n",
       "  <th>y.L6</th>  <td>    0.0335</td> <td>    0.019</td> <td>    1.723</td> <td> 0.085</td> <td>   -0.005</td> <td>    0.072</td>\n",
       "</tr>\n",
       "<tr>\n",
       "  <th>y.L7</th>  <td>    0.0536</td> <td>    0.019</td> <td>    2.756</td> <td> 0.006</td> <td>    0.015</td> <td>    0.092</td>\n",
       "</tr>\n",
       "<tr>\n",
       "  <th>y.L8</th>  <td>    0.0221</td> <td>    0.019</td> <td>    1.135</td> <td> 0.256</td> <td>   -0.016</td> <td>    0.060</td>\n",
       "</tr>\n",
       "<tr>\n",
       "  <th>y.L9</th>  <td>    0.0498</td> <td>    0.019</td> <td>    2.563</td> <td> 0.010</td> <td>    0.012</td> <td>    0.088</td>\n",
       "</tr>\n",
       "<tr>\n",
       "  <th>y.L10</th> <td>    0.0073</td> <td>    0.019</td> <td>    0.376</td> <td> 0.707</td> <td>   -0.031</td> <td>    0.045</td>\n",
       "</tr>\n",
       "<tr>\n",
       "  <th>y.L11</th> <td>    0.0176</td> <td>    0.019</td> <td>    0.907</td> <td> 0.365</td> <td>   -0.020</td> <td>    0.056</td>\n",
       "</tr>\n",
       "<tr>\n",
       "  <th>y.L12</th> <td>    0.0269</td> <td>    0.019</td> <td>    1.391</td> <td> 0.164</td> <td>   -0.011</td> <td>    0.065</td>\n",
       "</tr>\n",
       "<tr>\n",
       "  <th>y.L13</th> <td>    0.0534</td> <td>    0.017</td> <td>    3.223</td> <td> 0.001</td> <td>    0.021</td> <td>    0.086</td>\n",
       "</tr>\n",
       "</table>\n",
       "<table class=\"simpletable\">\n",
       "<caption>Roots</caption>\n",
       "<tr>\n",
       "    <td></td>    <th>            Real</th>  <th>         Imaginary</th> <th>         Modulus</th>  <th>        Frequency</th>\n",
       "</tr>\n",
       "<tr>\n",
       "  <th>AR.1</th>  <td>           1.0188</td> <td>          -0.0000j</td> <td>           1.0188</td> <td>          -0.0000</td>\n",
       "</tr>\n",
       "<tr>\n",
       "  <th>AR.2</th>  <td>           1.0623</td> <td>          -0.5777j</td> <td>           1.2092</td> <td>          -0.0793</td>\n",
       "</tr>\n",
       "<tr>\n",
       "  <th>AR.3</th>  <td>           1.0623</td> <td>          +0.5777j</td> <td>           1.2092</td> <td>           0.0793</td>\n",
       "</tr>\n",
       "<tr>\n",
       "  <th>AR.4</th>  <td>           0.7214</td> <td>          -0.9787j</td> <td>           1.2159</td> <td>          -0.1489</td>\n",
       "</tr>\n",
       "<tr>\n",
       "  <th>AR.5</th>  <td>           0.7214</td> <td>          +0.9787j</td> <td>           1.2159</td> <td>           0.1489</td>\n",
       "</tr>\n",
       "<tr>\n",
       "  <th>AR.6</th>  <td>           0.1847</td> <td>          -1.2249j</td> <td>           1.2387</td> <td>          -0.2262</td>\n",
       "</tr>\n",
       "<tr>\n",
       "  <th>AR.7</th>  <td>           0.1847</td> <td>          +1.2249j</td> <td>           1.2387</td> <td>           0.2262</td>\n",
       "</tr>\n",
       "<tr>\n",
       "  <th>AR.8</th>  <td>          -0.4412</td> <td>          -1.2151j</td> <td>           1.2927</td> <td>          -0.3054</td>\n",
       "</tr>\n",
       "<tr>\n",
       "  <th>AR.9</th>  <td>          -0.4412</td> <td>          +1.2151j</td> <td>           1.2927</td> <td>           0.3054</td>\n",
       "</tr>\n",
       "<tr>\n",
       "  <th>AR.10</th> <td>          -1.2802</td> <td>          -0.3661j</td> <td>           1.3316</td> <td>          -0.4557</td>\n",
       "</tr>\n",
       "<tr>\n",
       "  <th>AR.11</th> <td>          -1.2802</td> <td>          +0.3661j</td> <td>           1.3316</td> <td>           0.4557</td>\n",
       "</tr>\n",
       "<tr>\n",
       "  <th>AR.12</th> <td>          -1.0084</td> <td>          -0.9233j</td> <td>           1.3673</td> <td>          -0.3820</td>\n",
       "</tr>\n",
       "<tr>\n",
       "  <th>AR.13</th> <td>          -1.0084</td> <td>          +0.9233j</td> <td>           1.3673</td> <td>           0.3820</td>\n",
       "</tr>\n",
       "</table>"
      ],
      "text/latex": [
       "\\begin{center}\n",
       "\\begin{tabular}{lclc}\n",
       "\\toprule\n",
       "\\textbf{Dep. Variable:} &             y             & \\textbf{  No. Observations:  } &            3649            \\\\\n",
       "\\textbf{Model:}         &        AutoReg(13)        & \\textbf{  Log Likelihood     } &         -8372.451          \\\\\n",
       "\\textbf{Method:}        &      Conditional MLE      & \\textbf{  S.D. of innovations} &           2.420            \\\\\n",
       "\\textbf{Date:}          &      Sun, 20 Aug 2023     & \\textbf{  AIC                } &         16774.902          \\\\\n",
       "\\textbf{Time:}          &          13:40:33         & \\textbf{  BIC                } &         16867.882          \\\\\n",
       "\\textbf{Sample:}        &             13            & \\textbf{  HQIC               } &         16808.021          \\\\\n",
       "\\textbf{}               &            3649           & \\textbf{                     } &                            \\\\\n",
       "\\bottomrule\n",
       "\\end{tabular}\n",
       "\\begin{tabular}{lcccccc}\n",
       "               & \\textbf{coef} & \\textbf{std err} & \\textbf{z} & \\textbf{P$> |$z$|$} & \\textbf{[0.025} & \\textbf{0.975]}  \\\\\n",
       "\\midrule\n",
       "\\textbf{const} &       0.7862  &        0.143     &     5.482  &         0.000        &        0.505    &        1.067     \\\\\n",
       "\\textbf{y.L1}  &       0.6002  &        0.017     &    36.248  &         0.000        &        0.568    &        0.633     \\\\\n",
       "\\textbf{y.L2}  &      -0.0829  &        0.019     &    -4.292  &         0.000        &       -0.121    &       -0.045     \\\\\n",
       "\\textbf{y.L3}  &       0.0552  &        0.019     &     2.852  &         0.004        &        0.017    &        0.093     \\\\\n",
       "\\textbf{y.L4}  &       0.0448  &        0.019     &     2.310  &         0.021        &        0.007    &        0.083     \\\\\n",
       "\\textbf{y.L5}  &       0.0478  &        0.019     &     2.469  &         0.014        &        0.010    &        0.086     \\\\\n",
       "\\textbf{y.L6}  &       0.0335  &        0.019     &     1.723  &         0.085        &       -0.005    &        0.072     \\\\\n",
       "\\textbf{y.L7}  &       0.0536  &        0.019     &     2.756  &         0.006        &        0.015    &        0.092     \\\\\n",
       "\\textbf{y.L8}  &       0.0221  &        0.019     &     1.135  &         0.256        &       -0.016    &        0.060     \\\\\n",
       "\\textbf{y.L9}  &       0.0498  &        0.019     &     2.563  &         0.010        &        0.012    &        0.088     \\\\\n",
       "\\textbf{y.L10} &       0.0073  &        0.019     &     0.376  &         0.707        &       -0.031    &        0.045     \\\\\n",
       "\\textbf{y.L11} &       0.0176  &        0.019     &     0.907  &         0.365        &       -0.020    &        0.056     \\\\\n",
       "\\textbf{y.L12} &       0.0269  &        0.019     &     1.391  &         0.164        &       -0.011    &        0.065     \\\\\n",
       "\\textbf{y.L13} &       0.0534  &        0.017     &     3.223  &         0.001        &        0.021    &        0.086     \\\\\n",
       "\\bottomrule\n",
       "\\end{tabular}\n",
       "\\begin{tabular}{lcccc}\n",
       "               & \\textbf{            Real} & \\textbf{         Imaginary} & \\textbf{         Modulus} & \\textbf{        Frequency}  \\\\\n",
       "\\midrule\n",
       "\\textbf{AR.1}  &                1.0188     &                -0.0000j     &                1.0188     &               -0.0000       \\\\\n",
       "\\textbf{AR.2}  &                1.0623     &                -0.5777j     &                1.2092     &               -0.0793       \\\\\n",
       "\\textbf{AR.3}  &                1.0623     &                +0.5777j     &                1.2092     &                0.0793       \\\\\n",
       "\\textbf{AR.4}  &                0.7214     &                -0.9787j     &                1.2159     &               -0.1489       \\\\\n",
       "\\textbf{AR.5}  &                0.7214     &                +0.9787j     &                1.2159     &                0.1489       \\\\\n",
       "\\textbf{AR.6}  &                0.1847     &                -1.2249j     &                1.2387     &               -0.2262       \\\\\n",
       "\\textbf{AR.7}  &                0.1847     &                +1.2249j     &                1.2387     &                0.2262       \\\\\n",
       "\\textbf{AR.8}  &               -0.4412     &                -1.2151j     &                1.2927     &               -0.3054       \\\\\n",
       "\\textbf{AR.9}  &               -0.4412     &                +1.2151j     &                1.2927     &                0.3054       \\\\\n",
       "\\textbf{AR.10} &               -1.2802     &                -0.3661j     &                1.3316     &               -0.4557       \\\\\n",
       "\\textbf{AR.11} &               -1.2802     &                +0.3661j     &                1.3316     &                0.4557       \\\\\n",
       "\\textbf{AR.12} &               -1.0084     &                -0.9233j     &                1.3673     &               -0.3820       \\\\\n",
       "\\textbf{AR.13} &               -1.0084     &                +0.9233j     &                1.3673     &                0.3820       \\\\\n",
       "\\bottomrule\n",
       "\\end{tabular}\n",
       "%\\caption{AutoReg Model Results}\n",
       "\\end{center}"
      ],
      "text/plain": [
       "<class 'statsmodels.iolib.summary.Summary'>\n",
       "\"\"\"\n",
       "                            AutoReg Model Results                             \n",
       "==============================================================================\n",
       "Dep. Variable:                      y   No. Observations:                 3649\n",
       "Model:                    AutoReg(13)   Log Likelihood               -8372.451\n",
       "Method:               Conditional MLE   S.D. of innovations              2.420\n",
       "Date:                Sun, 20 Aug 2023   AIC                          16774.902\n",
       "Time:                        13:40:33   BIC                          16867.882\n",
       "Sample:                            13   HQIC                         16808.021\n",
       "                                 3649                                         \n",
       "==============================================================================\n",
       "                 coef    std err          z      P>|z|      [0.025      0.975]\n",
       "------------------------------------------------------------------------------\n",
       "const          0.7862      0.143      5.482      0.000       0.505       1.067\n",
       "y.L1           0.6002      0.017     36.248      0.000       0.568       0.633\n",
       "y.L2          -0.0829      0.019     -4.292      0.000      -0.121      -0.045\n",
       "y.L3           0.0552      0.019      2.852      0.004       0.017       0.093\n",
       "y.L4           0.0448      0.019      2.310      0.021       0.007       0.083\n",
       "y.L5           0.0478      0.019      2.469      0.014       0.010       0.086\n",
       "y.L6           0.0335      0.019      1.723      0.085      -0.005       0.072\n",
       "y.L7           0.0536      0.019      2.756      0.006       0.015       0.092\n",
       "y.L8           0.0221      0.019      1.135      0.256      -0.016       0.060\n",
       "y.L9           0.0498      0.019      2.563      0.010       0.012       0.088\n",
       "y.L10          0.0073      0.019      0.376      0.707      -0.031       0.045\n",
       "y.L11          0.0176      0.019      0.907      0.365      -0.020       0.056\n",
       "y.L12          0.0269      0.019      1.391      0.164      -0.011       0.065\n",
       "y.L13          0.0534      0.017      3.223      0.001       0.021       0.086\n",
       "                                    Roots                                     \n",
       "==============================================================================\n",
       "                   Real          Imaginary           Modulus         Frequency\n",
       "------------------------------------------------------------------------------\n",
       "AR.1             1.0188           -0.0000j            1.0188           -0.0000\n",
       "AR.2             1.0623           -0.5777j            1.2092           -0.0793\n",
       "AR.3             1.0623           +0.5777j            1.2092            0.0793\n",
       "AR.4             0.7214           -0.9787j            1.2159           -0.1489\n",
       "AR.5             0.7214           +0.9787j            1.2159            0.1489\n",
       "AR.6             0.1847           -1.2249j            1.2387           -0.2262\n",
       "AR.7             0.1847           +1.2249j            1.2387            0.2262\n",
       "AR.8            -0.4412           -1.2151j            1.2927           -0.3054\n",
       "AR.9            -0.4412           +1.2151j            1.2927            0.3054\n",
       "AR.10           -1.2802           -0.3661j            1.3316           -0.4557\n",
       "AR.11           -1.2802           +0.3661j            1.3316            0.4557\n",
       "AR.12           -1.0084           -0.9233j            1.3673           -0.3820\n",
       "AR.13           -1.0084           +0.9233j            1.3673            0.3820\n",
       "------------------------------------------------------------------------------\n",
       "\"\"\""
      ]
     },
     "execution_count": 53,
     "metadata": {},
     "output_type": "execute_result"
    }
   ],
   "source": [
    "model.summary()"
   ]
  },
  {
   "cell_type": "code",
   "execution_count": 15,
   "id": "f08118a4",
   "metadata": {},
   "outputs": [],
   "source": [
    "pred = model.predict(start = len(train), end = len(df)-1)"
   ]
  },
  {
   "cell_type": "code",
   "execution_count": 16,
   "id": "f6cebba7",
   "metadata": {},
   "outputs": [
    {
     "data": {
      "text/plain": [
       "3643    12.9\n",
       "3644    14.6\n",
       "3645    14.0\n",
       "3646    13.6\n",
       "3647    13.5\n",
       "3648    15.7\n",
       "3649    13.0\n",
       "Name: Temp, dtype: float64"
      ]
     },
     "execution_count": 16,
     "metadata": {},
     "output_type": "execute_result"
    }
   ],
   "source": [
    "test['Temp']"
   ]
  },
  {
   "cell_type": "code",
   "execution_count": 17,
   "id": "48de37de",
   "metadata": {
    "scrolled": false
   },
   "outputs": [
    {
     "data": {
      "text/plain": [
       "3643    11.435350\n",
       "3644    12.469879\n",
       "3645    12.926680\n",
       "3646    12.926168\n",
       "3647    12.887238\n",
       "3648    12.867195\n",
       "3649    12.896612\n",
       "dtype: float64"
      ]
     },
     "execution_count": 17,
     "metadata": {},
     "output_type": "execute_result"
    }
   ],
   "source": [
    "pred"
   ]
  },
  {
   "cell_type": "code",
   "execution_count": 18,
   "id": "d93023cd",
   "metadata": {},
   "outputs": [
    {
     "data": {
      "text/plain": [
       "2.3856618571001635"
      ]
     },
     "execution_count": 18,
     "metadata": {},
     "output_type": "execute_result"
    }
   ],
   "source": [
    "from sklearn.metrics import mean_squared_error\n",
    "\n",
    "mean_squared_error(pred, test['Temp'])"
   ]
  },
  {
   "cell_type": "code",
   "execution_count": 19,
   "id": "90a7b73b",
   "metadata": {
    "scrolled": false
   },
   "outputs": [
    {
     "data": {
      "text/plain": [
       "[<matplotlib.lines.Line2D at 0x21a59a98950>]"
      ]
     },
     "execution_count": 19,
     "metadata": {},
     "output_type": "execute_result"
    },
    {
     "data": {
      "image/png": "[encoded data removed]",
      "text/plain": [
       "<Figure size 640x480 with 1 Axes>"
      ]
     },
     "metadata": {},
     "output_type": "display_data"
    }
   ],
   "source": [
    "import matplotlib.pyplot as plt\n",
    "\n",
    "plt.plot(pred,c='r')\n",
    "plt.plot(test['Temp'])"
   ]
  },
  {
   "cell_type": "markdown",
   "id": "aad01308",
   "metadata": {},
   "source": [
    "# Walk Forward Validation"
   ]
  },
  {
   "cell_type": "code",
   "execution_count": 32,
   "id": "ec138a5b",
   "metadata": {},
   "outputs": [],
   "source": [
    "import numpy as np"
   ]
  },
  {
   "cell_type": "code",
   "execution_count": 33,
   "id": "01a40104",
   "metadata": {},
   "outputs": [],
   "source": [
    "df = pd.read_csv('daily-min-temperatures.csv', header = 0, parse_dates=[0])"
   ]
  },
  {
   "cell_type": "code",
   "execution_count": 34,
   "id": "e078460b",
   "metadata": {},
   "outputs": [],
   "source": [
    "train, test = df['Temp'].iloc[:len(df)-7], df['Temp'].iloc[len(df)-7:]"
   ]
  },
  {
   "cell_type": "code",
   "execution_count": 35,
   "id": "ee0e90ee",
   "metadata": {},
   "outputs": [
    {
     "data": {
      "text/plain": [
       "0       20.7\n",
       "1       17.9\n",
       "2       18.8\n",
       "3       14.6\n",
       "4       15.8\n",
       "        ... \n",
       "3638    15.4\n",
       "3639    13.1\n",
       "3640    13.2\n",
       "3641    13.9\n",
       "3642    10.0\n",
       "Name: Temp, Length: 3643, dtype: float64"
      ]
     },
     "execution_count": 35,
     "metadata": {},
     "output_type": "execute_result"
    }
   ],
   "source": [
    "train"
   ]
  },
  {
   "cell_type": "code",
   "execution_count": 48,
   "id": "91b6c163",
   "metadata": {},
   "outputs": [
    {
     "name": "stdout",
     "output_type": "stream",
     "text": [
      "11.435350111011703\n",
      "18.036240555075178\n",
      "15.408434700248431\n",
      "16.527039237629772\n",
      "14.1153526398735\n",
      "15.48902304777633\n",
      "15.340061651658903\n"
     ]
    }
   ],
   "source": [
    "data = train\n",
    "predictions = []\n",
    "\n",
    "for t in train:\n",
    "    if len(data)<=len(train)+len(test)-1:\n",
    "        model = AutoReg(data, lags = lag_list).fit()\n",
    "        pred = model.predict(start = len(data), end = len(train)+len(test)-1)\n",
    "        print(pred.values[0])\n",
    "        predictions.append(pred.values[0])\n",
    "        data = np.append(data, t)\n",
    "        data = pd.Series(data)\n",
    "    else:\n",
    "        break"
   ]
  },
  {
   "cell_type": "code",
   "execution_count": 61,
   "id": "0011377d",
   "metadata": {},
   "outputs": [
    {
     "name": "stdout",
     "output_type": "stream",
     "text": [
      "11.435350111011703\n",
      "13.351940991123461\n",
      "14.0845210911143\n",
      "13.475718168035453\n",
      "13.387993286468085\n",
      "13.402644828948207\n",
      "14.787667389638466\n"
     ]
    }
   ],
   "source": [
    "data = pd.Series(train)\n",
    "predicts = []\n",
    "\n",
    "for t in test:\n",
    "    model = AutoReg(data, lags = lag_list).fit()\n",
    "    pred = model.predict(start = len(data), end = len(train)+len(test)-1)\n",
    "    print(pred.values[0])\n",
    "    predicts.append(pred.values[0])\n",
    "    data = np.append(data, t)\n",
    "    data = pd.Series(data)"
   ]
  },
  {
   "cell_type": "code",
   "execution_count": 62,
   "id": "699ed6d3",
   "metadata": {},
   "outputs": [
    {
     "data": {
      "text/plain": [
       "3643    12.9\n",
       "3644    14.6\n",
       "3645    14.0\n",
       "3646    13.6\n",
       "3647    13.5\n",
       "3648    15.7\n",
       "3649    13.0\n",
       "Name: Temp, dtype: float64"
      ]
     },
     "execution_count": 62,
     "metadata": {},
     "output_type": "execute_result"
    }
   ],
   "source": [
    "test"
   ]
  },
  {
   "cell_type": "code",
   "execution_count": 49,
   "id": "274a3015",
   "metadata": {},
   "outputs": [
    {
     "data": {
      "text/plain": [
       "array([12.9, 14.6, 14. , 13.6, 13.5, 15.7, 13. ])"
      ]
     },
     "execution_count": 49,
     "metadata": {},
     "output_type": "execute_result"
    }
   ],
   "source": [
    "test.values"
   ]
  },
  {
   "cell_type": "code",
   "execution_count": 63,
   "id": "1cfb1273",
   "metadata": {
    "scrolled": false
   },
   "outputs": [
    {
     "data": {
      "text/plain": [
       "[<matplotlib.lines.Line2D at 0x21a70c8bd90>]"
      ]
     },
     "execution_count": 63,
     "metadata": {},
     "output_type": "execute_result"
    },
    {
     "data": {
      "image/png": "[encoded data removed]",
      "text/plain": [
       "<Figure size 640x480 with 1 Axes>"
      ]
     },
     "metadata": {},
     "output_type": "display_data"
    }
   ],
   "source": [
    "plt.plot(predicts, c = 'r')\n",
    "plt.plot(test.values, c = 'b')"
   ]
  },
  {
   "cell_type": "code",
   "execution_count": 65,
   "id": "75da7950",
   "metadata": {},
   "outputs": [
    {
     "data": {
      "text/plain": [
       "4.343322018925492"
      ]
     },
     "execution_count": 65,
     "metadata": {},
     "output_type": "execute_result"
    }
   ],
   "source": [
    "mean_squared_error(predictions, test.values)"
   ]
  },
  {
   "cell_type": "code",
   "execution_count": 66,
   "id": "db87119a",
   "metadata": {},
   "outputs": [
    {
     "data": {
      "text/plain": [
       "1.7445116224803392"
      ]
     },
     "execution_count": 66,
     "metadata": {},
     "output_type": "execute_result"
    }
   ],
   "source": [
    "mean_squared_error(predicts, test.values)"
   ]
  },
  {
   "cell_type": "code",
   "execution_count": null,
   "id": "75cd2176",
   "metadata": {},
   "outputs": [],
   "source": []
  }
 ],
 "metadata": {
  "kernelspec": {
   "display_name": "Python 3 (ipykernel)",
   "language": "python",
   "name": "python3"
  },
  "language_info": {
   "codemirror_mode": {
    "name": "ipython",
    "version": 3
   },
   "file_extension": ".py",
   "mimetype": "text/x-python",
   "name": "python",
   "nbconvert_exporter": "python",
   "pygments_lexer": "ipython3",
   "version": "3.11.4"
  }
 },
 "nbformat": 4,
 "nbformat_minor": 5
}
